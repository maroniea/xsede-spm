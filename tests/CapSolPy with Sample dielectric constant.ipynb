{
 "cells": [
  {
   "cell_type": "code",
   "execution_count": 1,
   "metadata": {},
   "outputs": [],
   "source": [
    "%load_ext autoreload\n",
    "%autoreload 2\n",
    "\n",
    "%matplotlib inline\n",
    "import numpy as np\n",
    "import capsol.capsol as cap\n",
    "from scipy import linalg\n",
    "from scipy import sparse\n",
    "from scipy.sparse import linalg as la\n",
    "import capsol.spherecheck as sp\n",
    "\n",
    "import matplotlib.pyplot as plt"
   ]
  },
  {
   "cell_type": "code",
   "execution_count": 2,
   "metadata": {},
   "outputs": [
    {
     "data": {
      "text/plain": [
       "<function capsol.capsol.epsilon_z(z, d, eps_r)>"
      ]
     },
     "execution_count": 2,
     "metadata": {},
     "output_type": "execute_result"
    }
   ],
   "source": [
    "cap.epsilon_z"
   ]
  },
  {
   "cell_type": "code",
   "execution_count": 3,
   "metadata": {},
   "outputs": [],
   "source": [
    "params = cap.ParamsSample(d=10.0, h0=0.5, hsam=10.0)"
   ]
  },
  {
   "cell_type": "code",
   "execution_count": 4,
   "metadata": {},
   "outputs": [],
   "source": [
    "def prefactor_y_new(Dy_minus, Dy_plus):\n",
    "    return 2/((Dy_plus+Dy_minus) * Dy_minus * Dy_plus)\n",
    "\n",
    "def prefactor_y_old(Dy_minus, Dy_plus):\n",
    "    return 4/((Dy_plus+Dy_minus)*(Dy_plus**2 + Dy_minus**2))"
   ]
  },
  {
   "cell_type": "code",
   "execution_count": 5,
   "metadata": {},
   "outputs": [
    {
     "data": {
      "text/plain": [
       "7.881385153440717"
      ]
     },
     "execution_count": 5,
     "metadata": {},
     "output_type": "execute_result"
    }
   ],
   "source": [
    "prefactor_y_new(0.5, 0.5*1.01)"
   ]
  },
  {
   "cell_type": "code",
   "execution_count": 6,
   "metadata": {},
   "outputs": [
    {
     "data": {
      "text/plain": [
       "7.880995005173135"
      ]
     },
     "execution_count": 6,
     "metadata": {},
     "output_type": "execute_result"
    }
   ],
   "source": [
    "prefactor_y_old(0.5, 0.5*1.01)"
   ]
  },
  {
   "cell_type": "code",
   "execution_count": 7,
   "metadata": {},
   "outputs": [],
   "source": [
    "r =np.arange(0, 2.25,0.5)\n",
    "z = np.arange(-2.0, 1.5, 0.5)\n",
    "eps_z = cap.epsilon_z(z, params.d, params.eps_r)\n",
    "\n",
    "A = cap.poisson_variable_spacing_radial_samp(r, z, eps_z)"
   ]
  },
  {
   "cell_type": "code",
   "execution_count": 8,
   "metadata": {},
   "outputs": [],
   "source": [
    "sim = cap.CapSolSample(params)"
   ]
  },
  {
   "cell_type": "code",
   "execution_count": 9,
   "metadata": {},
   "outputs": [
    {
     "data": {
      "text/plain": [
       "array([-20. , -19.5, -19. , -18.5, -18. , -17.5, -17. , -16.5, -16. ,\n",
       "       -15.5])"
      ]
     },
     "execution_count": 9,
     "metadata": {},
     "output_type": "execute_result"
    }
   ],
   "source": [
    "sim.z[:10]"
   ]
  },
  {
   "cell_type": "code",
   "execution_count": 10,
   "metadata": {},
   "outputs": [],
   "source": [
    "sim.setup_matrices()"
   ]
  },
  {
   "cell_type": "code",
   "execution_count": 11,
   "metadata": {},
   "outputs": [
    {
     "data": {
      "text/plain": [
       "1.0141700000000928"
      ]
     },
     "execution_count": 11,
     "metadata": {},
     "output_type": "execute_result"
    }
   ],
   "source": [
    "sim.r_ratio"
   ]
  },
  {
   "cell_type": "code",
   "execution_count": 12,
   "metadata": {},
   "outputs": [
    {
     "data": {
      "text/plain": [
       "1.0141700000000928"
      ]
     },
     "execution_count": 12,
     "metadata": {},
     "output_type": "execute_result"
    }
   ],
   "source": [
    "sim.z_ratio"
   ]
  },
  {
   "cell_type": "code",
   "execution_count": 13,
   "metadata": {},
   "outputs": [
    {
     "data": {
      "text/plain": [
       "3.04826003944298e-15"
      ]
     },
     "execution_count": 13,
     "metadata": {},
     "output_type": "execute_result"
    }
   ],
   "source": [
    "sim.solve()\n",
    "sim.process()"
   ]
  },
  {
   "cell_type": "code",
   "execution_count": 14,
   "metadata": {},
   "outputs": [
    {
     "name": "stdout",
     "output_type": "stream",
     "text": [
      "Grids:\n",
      "r_ratio = 1.014, z_ratio = 1.014\n",
      "Setting up matrices:\n",
      "Solving...\n",
      "C = 3.04715e-15 F\n",
      "Done!\n"
     ]
    }
   ],
   "source": [
    "p2 = cap.ParamsSample(d=10.0, h0=0.5, hsam=10.0, eps_r=1.0)\n",
    "sim2 = cap.CapSolSample(p2)\n",
    "sim2.run()"
   ]
  },
  {
   "cell_type": "code",
   "execution_count": 15,
   "metadata": {},
   "outputs": [
    {
     "name": "stdout",
     "output_type": "stream",
     "text": [
      "Grids:\n",
      "r_ratio = 1.014, z_ratio = 1.014\n",
      "Setting up matrices:\n",
      "Solving...\n",
      "C = 3.04715e-15 F\n",
      "Done!\n"
     ]
    }
   ],
   "source": [
    "sim3 = cap.CapSol(p2)\n",
    "sim3.run()"
   ]
  },
  {
   "cell_type": "code",
   "execution_count": 49,
   "metadata": {},
   "outputs": [
    {
     "name": "stdout",
     "output_type": "stream",
     "text": [
      "Grids:\n",
      "r_ratio = 1.014, z_ratio = 1.014\n",
      "Setting up matrices:\n",
      "Solving...\n",
      "C = 3.04715e-15 F\n",
      "Done!\n"
     ]
    }
   ],
   "source": [
    "sim4 = cap.CapSolSample(p2)\n",
    "sim4.run()"
   ]
  },
  {
   "cell_type": "code",
   "execution_count": 28,
   "metadata": {},
   "outputs": [
    {
     "name": "stdout",
     "output_type": "stream",
     "text": [
      "Grids:\n",
      "r_ratio = 1.014, z_ratio = 1.014\n",
      "Setting up matrices:\n",
      "Solving...\n",
      "C = 3.32900e-18 F\n",
      "Done!\n"
     ]
    }
   ],
   "source": []
  },
  {
   "cell_type": "code",
   "execution_count": 100,
   "metadata": {},
   "outputs": [
    {
     "name": "stdout",
     "output_type": "stream",
     "text": [
      "Grids:\n",
      "r_ratio = 1.012, z_ratio = 1.012\n",
      "Setting up matrices:\n",
      "Solving...\n",
      "C = 3.19768e-18 F\n",
      "Done!\n"
     ]
    }
   ],
   "source": [
    "params = cap.ParamsSample(d=10.0, h0=0.25, zMax=1e6, rhoMax=1e6,\n",
    "                          hsam=10.0, Nuni=100, Nr=1000, Nz_plus=1000)\n",
    "sim4 = cap.SphereTestSample(params)\n",
    "sim4.run()"
   ]
  },
  {
   "cell_type": "code",
   "execution_count": 98,
   "metadata": {},
   "outputs": [
    {
     "name": "stdout",
     "output_type": "stream",
     "text": [
      "Grids:\n",
      "r_ratio = 1.012, z_ratio = 1.012\n",
      "Setting up matrices:\n",
      "Solving...\n",
      "C = 2.95727e-18 F\n",
      "Done!\n"
     ]
    }
   ],
   "source": [
    "params5 = cap.ParamsSample(d=10.0, h0=0.25, zMax=1e6, rhoMax=1e6,\n",
    "                          hsam=10.0, Nuni=100, Nr=1000, Nz_plus=1000, eps_r=1)\n",
    "sim5 = cap.SphereTestSample(params5)\n",
    "sim5.run()"
   ]
  },
  {
   "cell_type": "code",
   "execution_count": null,
   "metadata": {},
   "outputs": [],
   "source": [
    "params5 = cap.ParamsSample(d=10.0, h0=0.25, zMax=1e6, rhoMax=1e6,\n",
    "                          hsam=10.0, Nuni=100, Nr=1000, Nz_plus=1000, eps_r=1)\n",
    "sim5 = cap.SphereTestSample(params5)\n",
    "sim5.run()"
   ]
  },
  {
   "cell_type": "markdown",
   "metadata": {},
   "source": [
    "\n",
    "1. Initial: 3.36807e-18 F\n",
    "\n",
    "2. Smoothed eps_z_grid: 3.36807e-18 F\n",
    "\n",
    "Smoothed eps_z_grid formulation (smoothly transitioning from 1 to the correct value inside the simulation boundary): e-18 F"
   ]
  },
  {
   "cell_type": "code",
   "execution_count": 32,
   "metadata": {},
   "outputs": [],
   "source": [
    "C_exact = sp.sphereCap(params.Rtip*1e-9, params.d*1e-9, params.eps_r, params.hsam*1e-9)"
   ]
  },
  {
   "cell_type": "code",
   "execution_count": 101,
   "metadata": {},
   "outputs": [
    {
     "data": {
      "text/plain": [
       "2.9841972419439168e-18"
      ]
     },
     "execution_count": 101,
     "metadata": {},
     "output_type": "execute_result"
    }
   ],
   "source": [
    "C_exact = sp.sphereCap(params5.Rtip*1e-9, params5.d*1e-9,\n",
    "                       params5.eps_r, params5.hsam*1e-9)\n",
    "C_exact"
   ]
  },
  {
   "cell_type": "code",
   "execution_count": 102,
   "metadata": {},
   "outputs": [
    {
     "data": {
      "text/plain": [
       "3.2228093607840695e-18"
      ]
     },
     "execution_count": 102,
     "metadata": {},
     "output_type": "execute_result"
    }
   ],
   "source": [
    "C_exact4 = sp.sphereCap(params.Rtip*1e-9, params.d*1e-9,\n",
    "                       params.eps_r, params.hsam*1e-9)\n",
    "C_exact4"
   ]
  },
  {
   "cell_type": "code",
   "execution_count": 23,
   "metadata": {},
   "outputs": [
    {
     "data": {
      "text/plain": [
       "ParamsSample(Rtip=20.0, theta_deg=15.0, Hcone=15000.0, Hcant=500.0, Rcant=15000.0, zMax=20000.0, rhoMax=20000.0, h0=0.5, d=10.0, Nuni=50, Nr=500, Nz_plus=500, hsam=10.0, eps_r=3.0, equally_spaced_sample=True)"
      ]
     },
     "execution_count": 23,
     "metadata": {},
     "output_type": "execute_result"
    }
   ],
   "source": [
    "params"
   ]
  },
  {
   "cell_type": "code",
   "execution_count": 26,
   "metadata": {},
   "outputs": [
    {
     "data": {
      "text/plain": [
       "array([-20. , -19.5, -19. , -18.5, -18. , -17.5, -17. , -16.5, -16. ,\n",
       "       -15.5, -15. , -14.5, -14. , -13.5, -13. , -12.5, -12. , -11.5,\n",
       "       -11. , -10.5, -10. ,  -9.5,  -9. ,  -8.5,  -8. ,  -7.5,  -7. ,\n",
       "        -6.5,  -6. ,  -5.5])"
      ]
     },
     "execution_count": 26,
     "metadata": {},
     "output_type": "execute_result"
    }
   ],
   "source": [
    "sim4.z[:30]"
   ]
  },
  {
   "cell_type": "code",
   "execution_count": 27,
   "metadata": {},
   "outputs": [
    {
     "data": {
      "text/plain": [
       "array([3., 3., 3., 3., 3., 3., 3., 3., 3., 3., 3., 3., 3., 3., 3., 3., 3.,\n",
       "       3., 3., 3., 1., 1., 1., 1., 1., 1., 1., 1., 1., 1., 1., 1., 1., 1.,\n",
       "       1., 1., 1., 1., 1., 1., 1., 1., 1., 1., 1., 1., 1., 1., 1., 1., 1.,\n",
       "       1., 1., 1., 1., 1., 1., 1., 1., 1., 1., 1., 1., 1., 1., 1., 1., 1.,\n",
       "       1., 1., 1., 1., 1., 1., 1., 1., 1., 1., 1., 1., 1., 1., 1., 1., 1.,\n",
       "       1., 1., 1., 1., 1., 1., 1., 1., 1., 1., 1., 1., 1., 1., 1., 1., 1.,\n",
       "       1., 1., 1., 1., 1., 1., 1., 1., 1., 1., 1., 1., 1., 1., 1., 1., 1.,\n",
       "       1., 1., 1., 1., 1., 1., 1., 1., 1., 1., 1., 1., 1., 1., 1., 1., 1.,\n",
       "       1., 1., 1., 1., 1., 1., 1., 1., 1., 1., 1., 1., 1., 1., 1., 1., 1.,\n",
       "       1., 1., 1., 1., 1., 1., 1., 1., 1., 1., 1., 1., 1., 1., 1., 1., 1.,\n",
       "       1., 1., 1., 1., 1., 1., 1., 1., 1., 1., 1., 1., 1., 1., 1., 1., 1.,\n",
       "       1., 1., 1., 1., 1., 1., 1., 1., 1., 1., 1., 1., 1., 1., 1., 1., 1.,\n",
       "       1., 1., 1., 1., 1., 1., 1., 1., 1., 1., 1., 1., 1., 1., 1., 1., 1.,\n",
       "       1., 1., 1., 1., 1., 1., 1., 1., 1., 1., 1., 1., 1., 1., 1., 1., 1.,\n",
       "       1., 1., 1., 1., 1., 1., 1., 1., 1., 1., 1., 1., 1., 1., 1., 1., 1.,\n",
       "       1., 1., 1., 1., 1., 1., 1., 1., 1., 1., 1., 1., 1., 1., 1., 1., 1.,\n",
       "       1., 1., 1., 1., 1., 1., 1., 1., 1., 1., 1., 1., 1., 1., 1., 1., 1.,\n",
       "       1., 1., 1., 1., 1., 1., 1., 1., 1., 1., 1., 1., 1., 1., 1., 1., 1.,\n",
       "       1., 1., 1., 1., 1., 1., 1., 1., 1., 1., 1., 1., 1., 1., 1., 1., 1.,\n",
       "       1., 1., 1., 1., 1., 1., 1., 1., 1., 1., 1., 1., 1., 1., 1., 1., 1.,\n",
       "       1., 1., 1., 1., 1., 1., 1., 1., 1., 1., 1., 1., 1., 1., 1., 1., 1.,\n",
       "       1., 1., 1., 1., 1., 1., 1., 1., 1., 1., 1., 1., 1., 1., 1., 1., 1.,\n",
       "       1., 1., 1., 1., 1., 1., 1., 1., 1., 1., 1., 1., 1., 1., 1., 1., 1.,\n",
       "       1., 1., 1., 1., 1., 1., 1., 1., 1., 1., 1., 1., 1., 1., 1., 1., 1.,\n",
       "       1., 1., 1., 1., 1., 1., 1., 1., 1., 1., 1., 1., 1., 1., 1., 1., 1.,\n",
       "       1., 1., 1., 1., 1., 1., 1., 1., 1., 1., 1., 1., 1., 1., 1., 1., 1.,\n",
       "       1., 1., 1., 1., 1., 1., 1., 1., 1., 1., 1., 1., 1., 1., 1., 1., 1.,\n",
       "       1., 1., 1., 1., 1., 1., 1., 1., 1., 1., 1., 1., 1., 1., 1., 1., 1.,\n",
       "       1., 1., 1., 1., 1., 1., 1., 1., 1., 1., 1., 1., 1., 1., 1., 1., 1.,\n",
       "       1., 1., 1., 1., 1., 1., 1., 1., 1., 1., 1., 1., 1., 1., 1., 1., 1.,\n",
       "       1., 1., 1., 1., 1., 1., 1., 1., 1., 1., 1., 1., 1., 1., 1., 1., 1.,\n",
       "       1., 1., 1., 1., 1., 1., 1., 1., 1., 1., 1., 1., 1.])"
      ]
     },
     "execution_count": 27,
     "metadata": {},
     "output_type": "execute_result"
    }
   ],
   "source": [
    "sim4.eps_z"
   ]
  },
  {
   "cell_type": "code",
   "execution_count": 50,
   "metadata": {},
   "outputs": [
    {
     "data": {
      "text/plain": [
       "<matplotlib.colorbar.Colorbar at 0x7f965af99350>"
      ]
     },
     "execution_count": 50,
     "metadata": {},
     "output_type": "execute_result"
    },
    {
     "data": {
      "image/png": "[encoded data removed]",
      "text/plain": [
       "<Figure size 432x288 with 2 Axes>"
      ]
     },
     "metadata": {
      "needs_background": "light"
     },
     "output_type": "display_data"
    }
   ],
   "source": [
    "plt.imshow(sim4.u[:200, :200][::-1, :])\n",
    "plt.colorbar()"
   ]
  },
  {
   "cell_type": "code",
   "execution_count": 104,
   "metadata": {},
   "outputs": [
    {
     "name": "stdout",
     "output_type": "stream",
     "text": [
      "Grids:\n",
      "r_ratio = 1.012, z_ratio = 1.012\n",
      "Setting up matrices:\n",
      "Solving...\n",
      "C = 2.95727e-18 F\n",
      "Done!\n"
     ]
    }
   ],
   "source": [
    "params6 = cap.ParamsSample(d=20.0, h0=0.25, zMax=1e6, rhoMax=1e6,\n",
    "                          hsam=0, Nuni=100, Nr=1000, Nz_plus=1000, eps_r=1)\n",
    "sim6 = cap.SphereTest(params)\n",
    "sim6.run()"
   ]
  },
  {
   "cell_type": "code",
   "execution_count": null,
   "metadata": {},
   "outputs": [],
   "source": [
    "params7 = cap.ParamsSamplemple()"
   ]
  },
  {
   "cell_type": "code",
   "execution_count": 108,
   "metadata": {},
   "outputs": [
    {
     "data": {
      "text/plain": [
       "<matplotlib.colorbar.Colorbar at 0x7f94c54a1a50>"
      ]
     },
     "execution_count": 108,
     "metadata": {},
     "output_type": "execute_result"
    },
    {
     "data": {
      "image/png": "[encoded data removed]",
      "text/plain": [
       "<Figure size 432x288 with 2 Axes>"
      ]
     },
     "metadata": {
      "needs_background": "light"
     },
     "output_type": "display_data"
    }
   ],
   "source": [
    "plt.contour(sim5.u[:200, :200], levels=20)\n",
    "plt.colorbar()"
   ]
  },
  {
   "cell_type": "code",
   "execution_count": 109,
   "metadata": {},
   "outputs": [
    {
     "data": {
      "text/plain": [
       "[<matplotlib.lines.Line2D at 0x7f94bb7748d0>]"
      ]
     },
     "execution_count": 109,
     "metadata": {},
     "output_type": "execute_result"
    },
    {
     "data": {
      "image/png": "[encoded data removed]",
      "text/plain": [
       "<Figure size 432x288 with 1 Axes>"
      ]
     },
     "metadata": {
      "needs_background": "light"
     },
     "output_type": "display_data"
    }
   ],
   "source": [
    "plt.plot(sim4.z[:200],sim4.u[:200,0])\n",
    "plt.plot(sim5.z[:200], sim5.u[:200, 0])\n",
    "plt.plot(sim6.z[:200], sim6.u[:200, 0])"
   ]
  },
  {
   "cell_type": "code",
   "execution_count": 110,
   "metadata": {},
   "outputs": [
    {
     "data": {
      "text/plain": [
       "[<matplotlib.lines.Line2D at 0x7f94bdbfcad0>]"
      ]
     },
     "execution_count": 110,
     "metadata": {},
     "output_type": "execute_result"
    },
    {
     "data": {
      "image/png": "[encoded data removed]",
      "text/plain": [
       "<Figure size 432x288 with 1 Axes>"
      ]
     },
     "metadata": {
      "needs_background": "light"
     },
     "output_type": "display_data"
    }
   ],
   "source": [
    "plt.plot(sim4.z[:200], sim4.eps_z[:200])\n",
    "plt.plot(sim5.z[:200], sim5.eps_z[:200])"
   ]
  },
  {
   "cell_type": "code",
   "execution_count": 70,
   "metadata": {},
   "outputs": [
    {
     "data": {
      "text/plain": [
       "<matplotlib.image.AxesImage at 0x7f961d699750>"
      ]
     },
     "execution_count": 70,
     "metadata": {},
     "output_type": "execute_result"
    },
    {
     "data": {
      "image/png": "[encoded data removed]",
      "text/plain": [
       "<Figure size 432x288 with 1 Axes>"
      ]
     },
     "metadata": {
      "needs_background": "light"
     },
     "output_type": "display_data"
    }
   ],
   "source": [
    "plt.imshow(sim4.boundary.reshape((sim4.z.size, sim4.r.size))[:200, :200][::-1])"
   ]
  },
  {
   "cell_type": "code",
   "execution_count": 131,
   "metadata": {},
   "outputs": [],
   "source": [
    "np.set_printoptions(precision=2)"
   ]
  },
  {
   "cell_type": "code",
   "execution_count": 132,
   "metadata": {},
   "outputs": [
    {
     "name": "stdout",
     "output_type": "stream",
     "text": [
      "[[ 96.   -32.     0.     0.     0.     0.     0.     0.     0.     0.  ]\n",
      " [ -8.    96.   -24.     0.     0.     0.     0.     0.     0.     0.  ]\n",
      " [  0.   -12.    96.   -20.     0.     0.     0.     0.     0.     0.  ]\n",
      " [  0.     0.   -13.33  96.   -18.67   0.     0.     0.     0.     0.  ]\n",
      " [  0.     0.     0.   -14.    96.   -18.     0.     0.     0.     0.  ]\n",
      " [  0.     0.     0.     0.   -14.4   96.   -17.6    0.     0.     0.  ]\n",
      " [  0.     0.     0.     0.     0.   -14.67  96.   -17.33   0.     0.  ]\n",
      " [  0.     0.     0.     0.     0.     0.   -14.86  96.   -17.14   0.  ]\n",
      " [  0.     0.     0.     0.     0.     0.     0.   -15.    96.   -17.  ]\n",
      " [  0.     0.     0.     0.     0.     0.     0.     0.   -15.11  96.  ]]\n"
     ]
    }
   ],
   "source": [
    "print(sim5.A[:10, :10].todense())"
   ]
  },
  {
   "cell_type": "code",
   "execution_count": 112,
   "metadata": {},
   "outputs": [
    {
     "name": "stdout",
     "output_type": "stream",
     "text": [
      "[[ 96.  -32.    0.    0.    0.    0.    0.    0.    0.    0. ]\n",
      " [ -8.   96.  -24.    0.    0.    0.    0.    0.    0.    0. ]\n",
      " [  0.  -12.   96.  -20.    0.    0.    0.    0.    0.    0. ]\n",
      " [  0.    0.  -13.3  96.  -18.7   0.    0.    0.    0.    0. ]\n",
      " [  0.    0.    0.  -14.   96.  -18.    0.    0.    0.    0. ]\n",
      " [  0.    0.    0.    0.  -14.4  96.  -17.6   0.    0.    0. ]\n",
      " [  0.    0.    0.    0.    0.  -14.7  96.  -17.3   0.    0. ]\n",
      " [  0.    0.    0.    0.    0.    0.  -14.9  96.  -17.1   0. ]\n",
      " [  0.    0.    0.    0.    0.    0.    0.  -15.   96.  -17. ]\n",
      " [  0.    0.    0.    0.    0.    0.    0.    0.  -15.1  96. ]]\n"
     ]
    }
   ],
   "source": [
    "print(sim6.A[:10, :10].todense())"
   ]
  },
  {
   "cell_type": "code",
   "execution_count": 5,
   "metadata": {},
   "outputs": [],
   "source": [
    "p10 = cap.ParamsSample(d=10.0, h0=0.2, zMax=20e6, rhoMax=20e6,\n",
    "                       hsam=10.0, Nuni=300, Nr=1400, Nz_plus=1400,\n",
    "                       eps_r=3)\n",
    "\n",
    "s10 = cap.SphereTestSample(p10)\n",
    "\n",
    "\n",
    "\n",
    "\n",
    "# s10.run()"
   ]
  },
  {
   "cell_type": "code",
   "execution_count": null,
   "metadata": {},
   "outputs": [
    {
     "name": "stdout",
     "output_type": "stream",
     "text": [
      "Grids:\n",
      "r_ratio = 1.013, z_ratio = 1.013\n",
      "Setting up matrices:\n",
      "Solving...\n"
     ]
    }
   ],
   "source": [
    "z_sample = np.arange(-p10.hsam-p10.d,\n",
    "                     -p10.d, p10.h0/p10.eps_r)\n",
    "new_z = np.r_[z_sample, s10.z[50:]]\n",
    "s10.z = new_z\n",
    "s10._setup_grid_and_boundary()\n",
    "s10.run()"
   ]
  },
  {
   "cell_type": "code",
   "execution_count": null,
   "metadata": {},
   "outputs": [],
   "source": [
    "C_exact = sp.sphereCapParams(p10)"
   ]
  },
  {
   "cell_type": "code",
   "execution_count": null,
   "metadata": {},
   "outputs": [],
   "source": [
    "100*(s10.c - C_exact)/C_exact"
   ]
  },
  {
   "cell_type": "markdown",
   "metadata": {},
   "source": [
    "- At 1300x1300 grids, roughly -0.5 percent error in C_exact\n",
    "- What about at 1500x1500? Still the same -0.5 percent error, roughly. - Does changing Nuni help more? Nope, still the same...\n",
    "- What about using data points more closely spaced in the sample (so that $\\Delta z_\\text{sample} \\approx h_0 / \\varepsilon_\\text{r}$\n",
    "- Probably needs to be faster..."
   ]
  },
  {
   "cell_type": "code",
   "execution_count": 122,
   "metadata": {},
   "outputs": [
    {
     "data": {
      "text/plain": [
       "CapSol(params=ParamsSample(Rtip=20.0, theta_deg=15.0, Hcone=15000.0, Hcant=500.0, Rcant=15000.0, zMax=30000000.0, rhoMax=30000000.0, h0=0.2, d=10.0, Nuni=200, Nr=1500, Nz_plus=1500, hsam=10.0, eps_r=3, equally_spaced_sample=True))"
      ]
     },
     "execution_count": 122,
     "metadata": {},
     "output_type": "execute_result"
    }
   ],
   "source": [
    "s10"
   ]
  },
  {
   "cell_type": "code",
   "execution_count": 123,
   "metadata": {},
   "outputs": [
    {
     "data": {
      "text/plain": [
       "3.207601409775207e-18"
      ]
     },
     "execution_count": 123,
     "metadata": {},
     "output_type": "execute_result"
    }
   ],
   "source": [
    "    s10.c"
   ]
  },
  {
   "cell_type": "code",
   "execution_count": null,
   "metadata": {},
   "outputs": [],
   "source": []
  }
 ],
 "metadata": {
  "kernelspec": {
   "display_name": "Python 3",
   "language": "python",
   "name": "python3"
  },
  "language_info": {
   "codemirror_mode": {
    "name": "ipython",
    "version": 3
   },
   "file_extension": ".py",
   "mimetype": "text/x-python",
   "name": "python",
   "nbconvert_exporter": "python",
   "pygments_lexer": "ipython3",
   "version": "3.7.4"
  }
 },
 "nbformat": 4,
 "nbformat_minor": 4
}
