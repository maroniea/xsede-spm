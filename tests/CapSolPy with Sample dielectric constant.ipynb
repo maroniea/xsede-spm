{
 "cells": [
  {
   "cell_type": "code",
   "execution_count": 1,
   "metadata": {},
   "outputs": [],
   "source": [
    "%load_ext autoreload\n",
    "%autoreload 2\n",
    "\n",
    "%matplotlib inline\n",
    "import numpy as np\n",
    "import capsol.capsol as cap\n",
    "from scipy import linalg\n",
    "from scipy import sparse\n",
    "from scipy.sparse import linalg as la\n",
    "import capsol.spherecheck as sp\n",
    "from copy import copy\n",
    "\n",
    "import matplotlib.pyplot as plt"
   ]
  },
  {
   "cell_type": "code",
   "execution_count": 2,
   "metadata": {},
   "outputs": [],
   "source": [
    "params = cap.ParamsSample(d=10.0, h0=0.5, hsam=10.0)"
   ]
  },
  {
   "cell_type": "code",
   "execution_count": 3,
   "metadata": {},
   "outputs": [],
   "source": [
    "def prefactor_y_new(Dy_minus, Dy_plus):\n",
    "    return 2/((Dy_plus+Dy_minus) * Dy_minus * Dy_plus)\n",
    "\n",
    "def prefactor_y_old(Dy_minus, Dy_plus):\n",
    "    return 4/((Dy_plus+Dy_minus)*(Dy_plus**2 + Dy_minus**2))"
   ]
  },
  {
   "cell_type": "code",
   "execution_count": 4,
   "metadata": {},
   "outputs": [
    {
     "data": {
      "text/plain": [
       "7.881385153440717"
      ]
     },
     "execution_count": 4,
     "metadata": {},
     "output_type": "execute_result"
    }
   ],
   "source": [
    "prefactor_y_new(0.5, 0.5*1.01)"
   ]
  },
  {
   "cell_type": "code",
   "execution_count": 5,
   "metadata": {},
   "outputs": [
    {
     "data": {
      "text/plain": [
       "7.880995005173135"
      ]
     },
     "execution_count": 5,
     "metadata": {},
     "output_type": "execute_result"
    }
   ],
   "source": [
    "prefactor_y_old(0.5, 0.5*1.01)"
   ]
  },
  {
   "cell_type": "code",
   "execution_count": 6,
   "metadata": {},
   "outputs": [],
   "source": [
    "r =np.arange(0, 2.25,0.5)\n",
    "z = np.arange(-2.0, 1.5, 0.5)\n",
    "eps_z = cap.epsilon_z(z, params.d, params.eps_r)\n",
    "\n",
    "A = cap.poisson_variable_spacing_radial_samp(r, z, eps_z)"
   ]
  },
  {
   "cell_type": "code",
   "execution_count": 7,
   "metadata": {},
   "outputs": [],
   "source": [
    "sim = cap.CapSolSample(params)\n",
    "simOld = cap.CapSol(params)"
   ]
  },
  {
   "cell_type": "code",
   "execution_count": 8,
   "metadata": {},
   "outputs": [
    {
     "name": "stdout",
     "output_type": "stream",
     "text": [
      "CPU times: user 2.11 s, sys: 87.2 ms, total: 2.2 s\n",
      "Wall time: 2.2 s\n"
     ]
    }
   ],
   "source": [
    "%time sim.setup_matrices()"
   ]
  },
  {
   "cell_type": "code",
   "execution_count": 9,
   "metadata": {},
   "outputs": [
    {
     "name": "stdout",
     "output_type": "stream",
     "text": [
      "CPU times: user 2.07 s, sys: 79 ms, total: 2.15 s\n",
      "Wall time: 2.15 s\n"
     ]
    }
   ],
   "source": [
    "%time A_fast = cap.poisson_var_rad_samp_fast(sim.r, sim.z, sim.eps_z)"
   ]
  },
  {
   "cell_type": "code",
   "execution_count": 10,
   "metadata": {},
   "outputs": [
    {
     "name": "stdout",
     "output_type": "stream",
     "text": [
      " "
     ]
    }
   ],
   "source": [
    "%prun sim.setup_matrices()"
   ]
  },
  {
   "cell_type": "code",
   "execution_count": 11,
   "metadata": {},
   "outputs": [
    {
     "name": "stdout",
     "output_type": "stream",
     "text": [
      " "
     ]
    }
   ],
   "source": [
    "%prun A2 = cap.poisson_variable_spacing_radial_faster(sim.r, sim.z)"
   ]
  },
  {
   "cell_type": "code",
   "execution_count": 12,
   "metadata": {},
   "outputs": [
    {
     "name": "stdout",
     "output_type": "stream",
     "text": [
      " "
     ]
    }
   ],
   "source": [
    "%prun A3 = cap.poisson_variable_spacing_radial(sim.r, sim.z)"
   ]
  },
  {
   "cell_type": "code",
   "execution_count": 13,
   "metadata": {},
   "outputs": [
    {
     "ename": "AttributeError",
     "evalue": "'CapSol' object has no attribute 'A'",
     "output_type": "error",
     "traceback": [
      "\u001b[0;31m---------------------------------------------------------------------------\u001b[0m",
      "\u001b[0;31mAttributeError\u001b[0m                            Traceback (most recent call last)",
      "\u001b[0;32m/var/folders/zn/x8ct2v5d1z714b45ycxv1hhc0000gn/T/ipykernel_51866/2127734040.py\u001b[0m in \u001b[0;36m<module>\u001b[0;34m\u001b[0m\n\u001b[0;32m----> 1\u001b[0;31m \u001b[0mdiff\u001b[0m \u001b[0;34m=\u001b[0m \u001b[0msimOld\u001b[0m\u001b[0;34m.\u001b[0m\u001b[0mA\u001b[0m \u001b[0;34m-\u001b[0m \u001b[0mA2\u001b[0m\u001b[0;34m\u001b[0m\u001b[0;34m\u001b[0m\u001b[0m\n\u001b[0m",
      "\u001b[0;31mAttributeError\u001b[0m: 'CapSol' object has no attribute 'A'"
     ]
    }
   ],
   "source": [
    "diff = simOld.A - A2"
   ]
  },
  {
   "cell_type": "code",
   "execution_count": null,
   "metadata": {},
   "outputs": [],
   "source": [
    "np.sum(np.abs(diff))"
   ]
  },
  {
   "cell_type": "code",
   "execution_count": null,
   "metadata": {},
   "outputs": [],
   "source": [
    "sim3 = cap.CapSol(p2)\n",
    "sim3.run()"
   ]
  },
  {
   "cell_type": "code",
   "execution_count": null,
   "metadata": {},
   "outputs": [],
   "source": [
    "a = cap.arrayBuilderInd()"
   ]
  },
  {
   "cell_type": "code",
   "execution_count": null,
   "metadata": {},
   "outputs": [],
   "source": [
    "a[2, 3] = 4"
   ]
  },
  {
   "cell_type": "code",
   "execution_count": null,
   "metadata": {},
   "outputs": [],
   "source": []
  },
  {
   "cell_type": "code",
   "execution_count": null,
   "metadata": {},
   "outputs": [],
   "source": [
    "sim4 = cap.CapSolSample(p2)\n",
    "sim4.run()"
   ]
  },
  {
   "cell_type": "code",
   "execution_count": null,
   "metadata": {},
   "outputs": [],
   "source": []
  },
  {
   "cell_type": "code",
   "execution_count": null,
   "metadata": {},
   "outputs": [],
   "source": [
    "params = cap.ParamsSample(d=10.0, h0=0.25, zMax=1e6, rhoMax=1e6,\n",
    "                          hsam=10.0, Nuni=100, Nr=1000, Nz_plus=1000)\n",
    "sim4 = cap.SphereTestSample(params)\n",
    "sim4.run()"
   ]
  },
  {
   "cell_type": "code",
   "execution_count": null,
   "metadata": {},
   "outputs": [],
   "source": [
    "params5 = cap.ParamsSample(d=10.0, h0=0.25, zMax=1e6, rhoMax=1e6,\n",
    "                          hsam=10.0, Nuni=100, Nr=1000, Nz_plus=1000, eps_r=1)\n",
    "sim5 = cap.SphereTestSample(params5)\n",
    "sim5.run()"
   ]
  },
  {
   "cell_type": "code",
   "execution_count": null,
   "metadata": {},
   "outputs": [],
   "source": [
    "params5 = cap.ParamsSample(d=10.0, h0=0.25, zMax=1e6, rhoMax=1e6,\n",
    "                          hsam=10.0, Nuni=100, Nr=1000, Nz_plus=1000, eps_r=1)\n",
    "sim5 = cap.SphereTestSample(params5)\n",
    "sim5.run()"
   ]
  },
  {
   "cell_type": "markdown",
   "metadata": {},
   "source": [
    "\n",
    "1. Initial: 3.36807e-18 F\n",
    "\n",
    "2. Smoothed eps_z_grid: 3.36807e-18 F\n",
    "\n",
    "Smoothed eps_z_grid formulation (smoothly transitioning from 1 to the correct value inside the simulation boundary): e-18 F"
   ]
  },
  {
   "cell_type": "markdown",
   "metadata": {},
   "source": [
    "Before switching to the faster matrix setup:\n",
    "\n",
    "```\n",
    "Grids:\n",
    "r_ratio = 1.012, z_ratio = 1.012\n",
    "Setting up matrices:\n",
    "Matrices set up in 0:00:38.046477\n",
    "Solving...\n",
    "Solved in 0:00:24.784337\n",
    "C = 2.95727e-18 F\n",
    "Done! Total time: 0:01:02.939736\n",
    "```"
   ]
  },
  {
   "cell_type": "code",
   "execution_count": null,
   "metadata": {},
   "outputs": [],
   "source": [
    "C_exact = sp.sphereCapParams(params5)"
   ]
  },
  {
   "cell_type": "code",
   "execution_count": null,
   "metadata": {},
   "outputs": [],
   "source": [
    "def pct_error(sim):\n",
    "    C_exact = sp.sphereCapParams(sim.params)\n",
    "    return 100*(sim.c - C_exact)/C_exact"
   ]
  },
  {
   "cell_type": "code",
   "execution_count": null,
   "metadata": {},
   "outputs": [],
   "source": [
    "pct_error(sim5)"
   ]
  },
  {
   "cell_type": "code",
   "execution_count": null,
   "metadata": {},
   "outputs": [],
   "source": [
    "C_exact = sp.sphereCap(params.Rtip*1e-9, params.d*1e-9, params.eps_r, params.hsam*1e-9)"
   ]
  },
  {
   "cell_type": "code",
   "execution_count": null,
   "metadata": {},
   "outputs": [],
   "source": [
    "C_exact = sp.sphereCap(params5.Rtip*1e-9, params5.d*1e-9,\n",
    "                       params5.eps_r, params5.hsam*1e-9)\n",
    "C_exact"
   ]
  },
  {
   "cell_type": "code",
   "execution_count": null,
   "metadata": {},
   "outputs": [],
   "source": [
    "C_exact4 = sp.sphereCap(params.Rtip*1e-9, params.d*1e-9,\n",
    "                       params.eps_r, params.hsam*1e-9)\n",
    "C_exact4"
   ]
  },
  {
   "cell_type": "code",
   "execution_count": null,
   "metadata": {},
   "outputs": [],
   "source": [
    "params"
   ]
  },
  {
   "cell_type": "code",
   "execution_count": null,
   "metadata": {},
   "outputs": [],
   "source": [
    "sim4.z[:30]"
   ]
  },
  {
   "cell_type": "code",
   "execution_count": null,
   "metadata": {},
   "outputs": [],
   "source": [
    "sim4.eps_z"
   ]
  },
  {
   "cell_type": "code",
   "execution_count": null,
   "metadata": {},
   "outputs": [],
   "source": [
    "plt.imshow(sim4.u[:200, :200][::-1, :])\n",
    "plt.colorbar()"
   ]
  },
  {
   "cell_type": "code",
   "execution_count": null,
   "metadata": {},
   "outputs": [],
   "source": [
    "params6 = cap.ParamsSample(d=20.0, h0=0.25, zMax=1e6, rhoMax=1e6,\n",
    "                          hsam=0, Nuni=100, Nr=1000, Nz_plus=1000, eps_r=1)\n",
    "sim6 = cap.SphereTest(params)\n",
    "sim6.run()"
   ]
  },
  {
   "cell_type": "code",
   "execution_count": null,
   "metadata": {},
   "outputs": [],
   "source": [
    "params7 = cap.ParamsSamplemple()"
   ]
  },
  {
   "cell_type": "code",
   "execution_count": null,
   "metadata": {},
   "outputs": [],
   "source": [
    "plt.contour(sim5.u[:200, :200], levels=20)\n",
    "plt.colorbar()"
   ]
  },
  {
   "cell_type": "code",
   "execution_count": null,
   "metadata": {},
   "outputs": [],
   "source": [
    "plt.plot(sim4.z[:200],sim4.u[:200,0])\n",
    "plt.plot(sim5.z[:200], sim5.u[:200, 0])\n",
    "plt.plot(sim6.z[:200], sim6.u[:200, 0])"
   ]
  },
  {
   "cell_type": "code",
   "execution_count": null,
   "metadata": {},
   "outputs": [],
   "source": [
    "plt.plot(sim4.z[:200], sim4.eps_z[:200])\n",
    "plt.plot(sim5.z[:200], sim5.eps_z[:200])"
   ]
  },
  {
   "cell_type": "code",
   "execution_count": null,
   "metadata": {},
   "outputs": [],
   "source": [
    "plt.imshow(sim4.boundary.reshape((sim4.z.size, sim4.r.size))[:200, :200][::-1])"
   ]
  },
  {
   "cell_type": "code",
   "execution_count": null,
   "metadata": {},
   "outputs": [],
   "source": [
    "np.set_printoptions(precision=2)"
   ]
  },
  {
   "cell_type": "code",
   "execution_count": null,
   "metadata": {},
   "outputs": [],
   "source": [
    "print(sim5.A[:10, :10].todense())"
   ]
  },
  {
   "cell_type": "code",
   "execution_count": null,
   "metadata": {},
   "outputs": [],
   "source": [
    "print(sim6.A[:10, :10].todense())"
   ]
  },
  {
   "cell_type": "code",
   "execution_count": 15,
   "metadata": {},
   "outputs": [],
   "source": [
    "p10 = cap.ParamsSample(d=10.0, h0=0.2, zMax=20e6, rhoMax=20e6,\n",
    "                       hsam=10.0, Nuni=300, Nr=1400, Nz_plus=1400,\n",
    "                       eps_r=3)\n",
    "\n",
    "s10 = cap.SphereTestSample(p10)\n",
    "\n",
    "\n",
    "\n",
    "\n",
    "# s10.run()"
   ]
  },
  {
   "cell_type": "code",
   "execution_count": 16,
   "metadata": {},
   "outputs": [
    {
     "name": "stdout",
     "output_type": "stream",
     "text": [
      "Grids:\n",
      "r_ratio = 1.0129, z_ratio = 1.0129\n",
      "Setting up matrices:\n",
      "Matrices set up in 0:00:19.235579\n",
      "Solving...\n"
     ]
    },
    {
     "ename": "KeyboardInterrupt",
     "evalue": "",
     "output_type": "error",
     "traceback": [
      "\u001b[0;31m---------------------------------------------------------------------------\u001b[0m",
      "\u001b[0;31mKeyboardInterrupt\u001b[0m                         Traceback (most recent call last)",
      "\u001b[0;32m/var/folders/zn/x8ct2v5d1z714b45ycxv1hhc0000gn/T/ipykernel_51866/2031805516.py\u001b[0m in \u001b[0;36m<module>\u001b[0;34m\u001b[0m\n\u001b[1;32m      4\u001b[0m \u001b[0ms10\u001b[0m\u001b[0;34m.\u001b[0m\u001b[0mz\u001b[0m \u001b[0;34m=\u001b[0m \u001b[0mnew_z\u001b[0m\u001b[0;34m\u001b[0m\u001b[0;34m\u001b[0m\u001b[0m\n\u001b[1;32m      5\u001b[0m \u001b[0ms10\u001b[0m\u001b[0;34m.\u001b[0m\u001b[0m_setup_grid_and_boundary\u001b[0m\u001b[0;34m(\u001b[0m\u001b[0;34m)\u001b[0m\u001b[0;34m\u001b[0m\u001b[0;34m\u001b[0m\u001b[0m\n\u001b[0;32m----> 6\u001b[0;31m \u001b[0ms10\u001b[0m\u001b[0;34m.\u001b[0m\u001b[0mrun\u001b[0m\u001b[0;34m(\u001b[0m\u001b[0;34m)\u001b[0m\u001b[0;34m\u001b[0m\u001b[0;34m\u001b[0m\u001b[0m\n\u001b[0m",
      "\u001b[0;32m~/Dropbox/dwyer-research/xsede-spm/capsol/capsol.py\u001b[0m in \u001b[0;36mrun\u001b[0;34m(self)\u001b[0m\n\u001b[1;32m   1210\u001b[0m         \u001b[0mprint\u001b[0m\u001b[0;34m(\u001b[0m\u001b[0;34mf\"Matrices set up in {now - start_time}\"\u001b[0m\u001b[0;34m)\u001b[0m\u001b[0;34m\u001b[0m\u001b[0;34m\u001b[0m\u001b[0m\n\u001b[1;32m   1211\u001b[0m         \u001b[0mprint\u001b[0m\u001b[0;34m(\u001b[0m\u001b[0;34m\"Solving...\"\u001b[0m\u001b[0;34m)\u001b[0m\u001b[0;34m\u001b[0m\u001b[0;34m\u001b[0m\u001b[0m\n\u001b[0;32m-> 1212\u001b[0;31m         \u001b[0mself\u001b[0m\u001b[0;34m.\u001b[0m\u001b[0msolve\u001b[0m\u001b[0;34m(\u001b[0m\u001b[0;34m)\u001b[0m\u001b[0;34m\u001b[0m\u001b[0;34m\u001b[0m\u001b[0m\n\u001b[0m\u001b[1;32m   1213\u001b[0m         \u001b[0mprint\u001b[0m\u001b[0;34m(\u001b[0m\u001b[0;34mf\"Solved in {dt.now() - now}\"\u001b[0m\u001b[0;34m)\u001b[0m\u001b[0;34m\u001b[0m\u001b[0;34m\u001b[0m\u001b[0m\n\u001b[1;32m   1214\u001b[0m         \u001b[0mself\u001b[0m\u001b[0;34m.\u001b[0m\u001b[0mprocess\u001b[0m\u001b[0;34m(\u001b[0m\u001b[0;34m)\u001b[0m\u001b[0;34m\u001b[0m\u001b[0;34m\u001b[0m\u001b[0m\n",
      "\u001b[0;32m~/Dropbox/dwyer-research/xsede-spm/capsol/capsol.py\u001b[0m in \u001b[0;36msolve\u001b[0;34m(self)\u001b[0m\n\u001b[1;32m   1184\u001b[0m \u001b[0;34m\u001b[0m\u001b[0m\n\u001b[1;32m   1185\u001b[0m     \u001b[0;32mdef\u001b[0m \u001b[0msolve\u001b[0m\u001b[0;34m(\u001b[0m\u001b[0mself\u001b[0m\u001b[0;34m)\u001b[0m\u001b[0;34m:\u001b[0m\u001b[0;34m\u001b[0m\u001b[0;34m\u001b[0m\u001b[0m\n\u001b[0;32m-> 1186\u001b[0;31m         \u001b[0mu_cut\u001b[0m \u001b[0;34m=\u001b[0m \u001b[0mla\u001b[0m\u001b[0;34m.\u001b[0m\u001b[0mspsolve\u001b[0m\u001b[0;34m(\u001b[0m\u001b[0mself\u001b[0m\u001b[0;34m.\u001b[0m\u001b[0mA_free\u001b[0m\u001b[0;34m,\u001b[0m \u001b[0mself\u001b[0m\u001b[0;34m.\u001b[0m\u001b[0mf_free\u001b[0m\u001b[0;34m)\u001b[0m\u001b[0;34m\u001b[0m\u001b[0;34m\u001b[0m\u001b[0m\n\u001b[0m\u001b[1;32m   1187\u001b[0m         \u001b[0mself\u001b[0m\u001b[0;34m.\u001b[0m\u001b[0mu\u001b[0m \u001b[0;34m=\u001b[0m \u001b[0mself\u001b[0m\u001b[0;34m.\u001b[0m\u001b[0mu\u001b[0m\u001b[0;34m.\u001b[0m\u001b[0mravel\u001b[0m\u001b[0;34m(\u001b[0m\u001b[0;34m)\u001b[0m\u001b[0;34m\u001b[0m\u001b[0;34m\u001b[0m\u001b[0m\n\u001b[1;32m   1188\u001b[0m         \u001b[0mself\u001b[0m\u001b[0;34m.\u001b[0m\u001b[0mu\u001b[0m\u001b[0;34m[\u001b[0m\u001b[0;34m~\u001b[0m\u001b[0mself\u001b[0m\u001b[0;34m.\u001b[0m\u001b[0mboundary\u001b[0m\u001b[0;34m]\u001b[0m \u001b[0;34m=\u001b[0m \u001b[0mu_cut\u001b[0m\u001b[0;34m\u001b[0m\u001b[0;34m\u001b[0m\u001b[0m\n",
      "\u001b[0;32m~/miniconda3/lib/python3.9/site-packages/scipy/sparse/linalg/dsolve/linsolve.py\u001b[0m in \u001b[0;36mspsolve\u001b[0;34m(A, b, permc_spec, use_umfpack)\u001b[0m\n\u001b[1;32m    201\u001b[0m \u001b[0;34m\u001b[0m\u001b[0m\n\u001b[1;32m    202\u001b[0m             \u001b[0moptions\u001b[0m \u001b[0;34m=\u001b[0m \u001b[0mdict\u001b[0m\u001b[0;34m(\u001b[0m\u001b[0mColPerm\u001b[0m\u001b[0;34m=\u001b[0m\u001b[0mpermc_spec\u001b[0m\u001b[0;34m)\u001b[0m\u001b[0;34m\u001b[0m\u001b[0;34m\u001b[0m\u001b[0m\n\u001b[0;32m--> 203\u001b[0;31m             x, info = _superlu.gssv(N, A.nnz, A.data, A.indices, A.indptr,\n\u001b[0m\u001b[1;32m    204\u001b[0m                                     b, flag, options=options)\n\u001b[1;32m    205\u001b[0m             \u001b[0;32mif\u001b[0m \u001b[0minfo\u001b[0m \u001b[0;34m!=\u001b[0m \u001b[0;36m0\u001b[0m\u001b[0;34m:\u001b[0m\u001b[0;34m\u001b[0m\u001b[0;34m\u001b[0m\u001b[0m\n",
      "\u001b[0;31mKeyboardInterrupt\u001b[0m: "
     ]
    }
   ],
   "source": [
    "z_sample = np.arange(-p10.hsam-p10.d,\n",
    "                     -p10.d, p10.h0/p10.eps_r)\n",
    "new_z = np.r_[z_sample, s10.z[50:]]\n",
    "s10.z = new_z\n",
    "s10._setup_grid_and_boundary()\n",
    "s10.run()"
   ]
  },
  {
   "cell_type": "code",
   "execution_count": null,
   "metadata": {},
   "outputs": [],
   "source": [
    "C_exact = sp.sphereCapParams(p10)"
   ]
  },
  {
   "cell_type": "code",
   "execution_count": null,
   "metadata": {},
   "outputs": [],
   "source": [
    "100*(s10.c - C_exact)/C_exact"
   ]
  },
  {
   "cell_type": "markdown",
   "metadata": {},
   "source": [
    "- At 1300x1300 grids, roughly -0.5 percent error in C_exact\n",
    "- What about at 1500x1500? Still the same -0.5 percent error, roughly. - Does changing Nuni help more? Nope, still the same...\n",
    "- What about using data points more closely spaced in the sample (so that $\\Delta z_\\text{sample} \\approx h_0 / \\varepsilon_\\text{r}$\n",
    "- Probably needs to be faster..."
   ]
  },
  {
   "cell_type": "code",
   "execution_count": null,
   "metadata": {},
   "outputs": [],
   "source": [
    "s10"
   ]
  },
  {
   "cell_type": "code",
   "execution_count": null,
   "metadata": {},
   "outputs": [],
   "source": [
    "    s10.c"
   ]
  },
  {
   "cell_type": "code",
   "execution_count": null,
   "metadata": {},
   "outputs": [],
   "source": [
    "s10 = cap.SphereTestSample(\n",
    "    cap.ParamsSample(d=10.0, h0=0.2, zMax=20e6, rhoMax=20e6,\n",
    "                       hsam=10.0, Nuni=300, Nr=1400, Nz_plus=1400,\n",
    "                       eps_r=3)\n",
    "                     )\n",
    "\n",
    "s10.run()"
   ]
  },
  {
   "cell_type": "code",
   "execution_count": null,
   "metadata": {},
   "outputs": [],
   "source": [
    "pct_error(s10)"
   ]
  },
  {
   "cell_type": "markdown",
   "metadata": {},
   "source": [
    "Times and error (before switching to better matrix builder)\n",
    "\n",
    "```\n",
    "Grids:\n",
    "r_ratio = 1.0129, z_ratio = 1.0129\n",
    "Setting up matrices:\n",
    "Matrices set up in 0:01:16.255465\n",
    "Solving...\n",
    "Solved in 0:01:09.616413\n",
    "C = 3.20760e-18 F\n",
    "Done! Total time: 0:02:26.069804\n",
    "\n",
    "pct_error(s10)\n",
    "-0.47197431862618383\n",
    "\n",
    "```\n",
    "\n",
    "After switching to better matrix builder:\n",
    "\n",
    "```\n",
    "Grids:\n",
    "r_ratio = 1.0129, z_ratio = 1.0129\n",
    "Setting up matrices:\n",
    "Matrices set up in 0:00:31.972010\n",
    "Solving...\n",
    "Solved in 0:01:11.690672\n",
    "C = 3.20760e-18 F\n",
    "Done! Total time: 0:01:43.858497\n",
    "\n",
    "pct_error(s10)\n",
    "-0.47197431862618383\n",
    "\n",
    "\n",
    "```\n",
    "\n",
    "Same error, roughly 30 percent faster.\n"
   ]
  },
  {
   "cell_type": "code",
   "execution_count": null,
   "metadata": {},
   "outputs": [],
   "source": [
    "from tqdm.notebook import tqdm\n",
    "from copy import copy"
   ]
  },
  {
   "cell_type": "code",
   "execution_count": null,
   "metadata": {},
   "outputs": [],
   "source": [
    "p0 = cap.ParamsSample(d=10.0, h0=0.2, zMax=20e6, rhoMax=20e6,\n",
    "                       hsam=10.0, Nuni=200, Nr=1300, Nz_plus=1300,\n",
    "                       eps_r=3)"
   ]
  },
  {
   "cell_type": "code",
   "execution_count": null,
   "metadata": {},
   "outputs": [],
   "source": [
    "dmax=20.0\n",
    "istep=2\n",
    "N = (dmax - p0.d)/(p0.h0*istep)+1\n",
    "ds = np.arange(N)*p0.h0 * istep + p0.d"
   ]
  },
  {
   "cell_type": "code",
   "execution_count": null,
   "metadata": {},
   "outputs": [],
   "source": [
    "caps = np.zeros_like(ds)\n",
    "for i, d in tqdm(enumerate(ds), total=N):\n",
    "    p = copy(p0)\n",
    "    p.d = d\n",
    "    sim = cap.SphereTestSample(p)\n",
    "    sim.run()\n",
    "    caps[i] = sim.c"
   ]
  },
  {
   "cell_type": "code",
   "execution_count": null,
   "metadata": {},
   "outputs": [],
   "source": [
    "s10"
   ]
  },
  {
   "cell_type": "code",
   "execution_count": null,
   "metadata": {},
   "outputs": [],
   "source": [
    "sim6.params"
   ]
  },
  {
   "cell_type": "code",
   "execution_count": null,
   "metadata": {},
   "outputs": [],
   "source": [
    "np.savetxt(\"Z-C-Spheretest-3.txt\", np.c_[ds, caps], header=\"d (nm), C (F)\",\n",
    "           footer=\"CapSol(params=ParamsSample(Rtip=20.0, theta_deg=15.0, Hcone=15000.0, Hcant=500.0, Rcant=15000.0, zMax=20000000.0, rhoMax=20000000.0, h0=0.2, d=10.0, Nuni=300, Nr=1400, Nz_plus=1400, hsam=10.0, eps_r=3, equally_spaced_sample=True))\")"
   ]
  },
  {
   "cell_type": "code",
   "execution_count": null,
   "metadata": {},
   "outputs": [],
   "source": [
    "!cat Z-C-Spheretest-3.txt"
   ]
  },
  {
   "cell_type": "code",
   "execution_count": null,
   "metadata": {},
   "outputs": [],
   "source": [
    "Cz = np.gradient(caps) / np.gradient(ds*1e-9)"
   ]
  },
  {
   "cell_type": "code",
   "execution_count": null,
   "metadata": {},
   "outputs": [],
   "source": [
    "Czz = np.gradient(Cz) / np.gradient(ds*1e-9)"
   ]
  },
  {
   "cell_type": "code",
   "execution_count": null,
   "metadata": {},
   "outputs": [],
   "source": [
    "d_close = np.linspace(10.0, 20.0, 101)\n",
    "Delta_d = 0.1e-9\n",
    "C_exact = np.array([sp.sphereCap(p0.Rtip*1e-9, d*1e-9, p0.eps_r, p0.hsam*1e-9) for d in d_close])\n",
    "Cz_exact = np.gradient(C_exact) / Delta_d\n",
    "Czz_exact = np.gradient(Cz_exact) / Delta_d"
   ]
  },
  {
   "cell_type": "code",
   "execution_count": null,
   "metadata": {},
   "outputs": [],
   "source": [
    "C_exact"
   ]
  },
  {
   "cell_type": "code",
   "execution_count": null,
   "metadata": {},
   "outputs": [],
   "source": [
    "plt.plot(ds, caps)\n",
    "plt.plot(d_close, C_exact)"
   ]
  },
  {
   "cell_type": "code",
   "execution_count": null,
   "metadata": {},
   "outputs": [],
   "source": [
    "m = slice(2,-2)\n",
    "plt.plot(ds[m], Cz[m], label=\"Simulation\")\n",
    "plt.plot(d_close[m], Cz_exact[m], label=\"Exact\")\n",
    "plt.legend()"
   ]
  },
  {
   "cell_type": "code",
   "execution_count": null,
   "metadata": {},
   "outputs": [],
   "source": [
    "m = slice(2,-2)\n",
    "plt.plot(ds[m], Czz[m], label=\"Simulation\")\n",
    "plt.plot(d_close[m], Czz_exact[m], label=\"Exact\")\n",
    "plt.legend()"
   ]
  },
  {
   "cell_type": "markdown",
   "metadata": {},
   "source": [
    "- Very good agreement with theory!"
   ]
  },
  {
   "cell_type": "markdown",
   "metadata": {},
   "source": [
    "# Faster solving...\n",
    "\n",
    "- Do everything together...\n",
    "\n",
    "1. Set up the solving matrix (A...)\n",
    "2. Before converting to csr format, save it so that we can just re-do the sample region (or add the extra gap point), rather than having to redo the whole matrix from scratch.\n",
    "3. Once we have the matrix, solve the first time.\n",
    "4. For subsequent solves, use the previous solution as an initial guess."
   ]
  },
  {
   "cell_type": "code",
   "execution_count": null,
   "metadata": {},
   "outputs": [],
   "source": [
    "ap = cap.AllParams(dmin=100.0, dmax=150.0, istep=4, h0=0.4, hsam=2.0,\n",
    "                   zMax=20e6, \n",
    "                    rhoMax=20e6,\n",
    "                      Nuni=300,\n",
    "                      Nr=1200,\n",
    "                    Nz_plus=1200,\n",
    "                  Rcant=20000.0,\n",
    "                  Hcone=15000.0,\n",
    "                  Hcant=1000.0)"
   ]
  },
  {
   "cell_type": "code",
   "execution_count": null,
   "metadata": {},
   "outputs": [],
   "source": [
    "sim = cap.CapSolAll(ap)"
   ]
  },
  {
   "cell_type": "code",
   "execution_count": null,
   "metadata": {},
   "outputs": [
    {
     "name": "stdout",
     "output_type": "stream",
     "text": [
      "Stepping from 100.0 to 150.0 by 1.6 nm\n",
      "Total simulations: 32\n",
      "1. d = 100.0 nm, tSetup = 0.53 m, tSolve = 1.27 m, C = 2.4030e-15 F\n",
      "2. d = 101.6 nm, tSetup = 0.55 m, tSolve = 0.18 m, C = 2.4028e-15 F\n",
      "3. d = 103.2 nm, tSetup = 0.52 m, tSolve = 0.20 m, C = 2.4027e-15 F\n",
      "4. d = 104.8 nm, tSetup = 0.50 m, tSolve = 0.20 m, C = 2.4025e-15 F\n",
      "5. d = 106.4 nm, tSetup = 0.57 m, tSolve = 0.22 m, C = 2.4023e-15 F\n",
      "6. d = 108.0 nm, tSetup = 0.50 m, tSolve = 0.30 m, C = 2.4022e-15 F\n",
      "7. d = 109.6 nm, tSetup = 0.65 m, tSolve = 0.25 m, C = 2.4020e-15 F\n",
      "8. d = 111.2 nm, tSetup = 0.52 m, tSolve = 0.22 m, C = 2.4019e-15 F\n",
      "9. d = 112.8 nm, tSetup = 0.57 m, tSolve = 0.25 m, C = 2.4017e-15 F\n",
      "10. d = 114.4 nm, tSetup = 0.65 m, tSolve = 0.43 m, C = 2.4015e-15 F\n",
      "11. d = 116.0 nm, tSetup = 0.85 m, tSolve = 0.12 m, C = 2.4014e-15 F\n"
     ]
    }
   ],
   "source": [
    "sim.run()"
   ]
  },
  {
   "cell_type": "markdown",
   "metadata": {},
   "source": [
    "What happens when we increase d?\n",
    "\n",
    "- Ny increases by istep...\n",
    "- Nr stays the same\n",
    "- $\\text{ind} = i \\, N_\\text{r} + j$\n",
    "- The sample points are exactly the same...\n",
    "- Then the extra gap points come in...\n",
    "- Just splice in a couple of new rows...\n",
    "- Add one new row...\n",
    "- Now i -> i + 1...\n",
    "- "
   ]
  },
  {
   "cell_type": "markdown",
   "metadata": {},
   "source": [
    "- Reverse the z array (and therefore reverse the rows in u...)\n",
    "- Count...Nz_plus + int(round(d/h0)) - 2 points # The part of the grid that will never change...."
   ]
  },
  {
   "cell_type": "code",
   "execution_count": null,
   "metadata": {},
   "outputs": [],
   "source": [
    "A_out = cap._poisson_var_rad_samp_fast(sim.r, sim.z, sim.eps_z)"
   ]
  },
  {
   "cell_type": "code",
   "execution_count": null,
   "metadata": {},
   "outputs": [],
   "source": [
    "A_out.rows"
   ]
  },
  {
   "cell_type": "code",
   "execution_count": null,
   "metadata": {},
   "outputs": [],
   "source": []
  },
  {
   "cell_type": "code",
   "execution_count": null,
   "metadata": {},
   "outputs": [],
   "source": [
    "# Create the grids (flipped in z...)\n",
    "# Make the initial A (A_old)\n",
    "# Convert output to csr format...\n",
    "# Finish set up matrices?\n",
    "# Solve initial...\n",
    "\n",
    "# Step!\n",
    "# Make next A using blank_(A_old)"
   ]
  },
  {
   "cell_type": "code",
   "execution_count": null,
   "metadata": {},
   "outputs": [],
   "source": [
    "%time sim.process()"
   ]
  },
  {
   "cell_type": "code",
   "execution_count": null,
   "metadata": {},
   "outputs": [],
   "source": [
    "sim.u_old = copy(sim.u)"
   ]
  },
  {
   "cell_type": "code",
   "execution_count": null,
   "metadata": {},
   "outputs": [],
   "source": [
    "sim.params.pt += 1"
   ]
  },
  {
   "cell_type": "code",
   "execution_count": null,
   "metadata": {},
   "outputs": [],
   "source": [
    "# Next iteration\n",
    "sim._setup_z_grid()\n",
    "sim._setup_grid_and_boundary()\n",
    "sim.setup_matrices_init()\n"
   ]
  },
  {
   "cell_type": "code",
   "execution_count": null,
   "metadata": {},
   "outputs": [],
   "source": [
    "guess = np.r_[sim.u[:4], sim.u_old] \n",
    "guess_rav = guess.ravel()[~sim.boundary]"
   ]
  },
  {
   "cell_type": "code",
   "execution_count": null,
   "metadata": {
    "scrolled": true
   },
   "outputs": [],
   "source": [
    "%time sim.solve_new(guess_rav)"
   ]
  },
  {
   "cell_type": "code",
   "execution_count": null,
   "metadata": {},
   "outputs": [],
   "source": [
    "%time sim.solve_new(guess_rav, solver=la.bicgstab)"
   ]
  },
  {
   "cell_type": "code",
   "execution_count": null,
   "metadata": {},
   "outputs": [],
   "source": [
    "%time sim.solve_new(guess_rav, solver=la.lgmres)"
   ]
  },
  {
   "cell_type": "code",
   "execution_count": null,
   "metadata": {},
   "outputs": [],
   "source": [
    "%time sim.solve_new(guess_rav, solver=la.qmr)"
   ]
  },
  {
   "cell_type": "code",
   "execution_count": null,
   "metadata": {},
   "outputs": [],
   "source": [
    "%time sim.solve_new(guess_rav, solver=la.gcrotmk) "
   ]
  },
  {
   "cell_type": "markdown",
   "metadata": {},
   "source": [
    "- 5.2 initially vs 4.2 seconds for the next iteration..."
   ]
  },
  {
   "cell_type": "code",
   "execution_count": null,
   "metadata": {},
   "outputs": [],
   "source": [
    "sim.f_free.size"
   ]
  },
  {
   "cell_type": "code",
   "execution_count": null,
   "metadata": {},
   "outputs": [],
   "source": [
    "# Added two more points (at the beginning...) of the z-array..."
   ]
  },
  {
   "cell_type": "code",
   "execution_count": null,
   "metadata": {},
   "outputs": [],
   "source": [
    "sim.u.shape"
   ]
  },
  {
   "cell_type": "code",
   "execution_count": null,
   "metadata": {},
   "outputs": [],
   "source": [
    "guess.shape"
   ]
  },
  {
   "cell_type": "code",
   "execution_count": null,
   "metadata": {},
   "outputs": [],
   "source": [
    "plt.imshow(guess[::-1])"
   ]
  }
 ],
 "metadata": {
  "kernelspec": {
   "display_name": "Python 3 (ipykernel)",
   "language": "python",
   "name": "python3"
  },
  "language_info": {
   "codemirror_mode": {
    "name": "ipython",
    "version": 3
   },
   "file_extension": ".py",
   "mimetype": "text/x-python",
   "name": "python",
   "nbconvert_exporter": "python",
   "pygments_lexer": "ipython3",
   "version": "3.9.7"
  }
 },
 "nbformat": 4,
 "nbformat_minor": 4
}
