{
 "cells": [
  {
   "cell_type": "code",
   "execution_count": 1,
   "id": "ece193ea",
   "metadata": {},
   "outputs": [],
   "source": [
    "import numpy as np"
   ]
  },
  {
   "cell_type": "code",
   "execution_count": 2,
   "id": "3b2bf1e7",
   "metadata": {},
   "outputs": [],
   "source": [
    "import capsol"
   ]
  },
  {
   "cell_type": "code",
   "execution_count": 3,
   "id": "7c6202fc",
   "metadata": {},
   "outputs": [],
   "source": [
    "import newanalyzecapsol as nac"
   ]
  },
  {
   "cell_type": "code",
   "execution_count": 4,
   "id": "cdf4e2f8",
   "metadata": {},
   "outputs": [],
   "source": [
    "gp=nac.get_gridparameters(r\"C:\\Users\\emaro\\OneDrive - University of Mount Union\\XSEDE Summer 2021\\xsede-spm\\capsol-fortran\\capsol.in\")"
   ]
  },
  {
   "cell_type": "code",
   "execution_count": 5,
   "id": "2f274f3e",
   "metadata": {},
   "outputs": [],
   "source": [
    "params=capsol.Params(Rtip=gp[\"Rtip\"], theta_deg=gp[\"half-angle\"],Hcone=gp[\"HCone\"], Hcant=gp[\"thickness_Cantilever\"], Rcant=gp[\"RCantilever\"], zMax=gp[\"z_max\"],rhoMax=gp[\"rho_max\"], h0=gp[\"h0\"], d=gp[\"min\"], Nuni=gp[\"Nuni\"], Nr=gp[\"n\"], Nz_plus=gp[\"m+\"],hsam=gp[\"Thickness_sample\"])"
   ]
  },
  {
   "cell_type": "code",
   "execution_count": 6,
   "id": "52efd5f6",
   "metadata": {},
   "outputs": [
    {
     "data": {
      "text/plain": [
       "500"
      ]
     },
     "execution_count": 6,
     "metadata": {},
     "output_type": "execute_result"
    }
   ],
   "source": [
    "params.Nz_plus"
   ]
  },
  {
   "cell_type": "code",
   "execution_count": null,
   "id": "c312516d",
   "metadata": {},
   "outputs": [
    {
     "name": "stderr",
     "output_type": "stream",
     "text": [
      " 56%|█████████████████████████████████████████████▌                                    | 10/18 [01:31<01:20, 10.04s/it]"
     ]
    }
   ],
   "source": [
    "capsol.Totalsim(params, gp[\"min\"], gp[\"max\"], gp[\"istep\"], \"D-C.dat\")"
   ]
  },
  {
   "cell_type": "code",
   "execution_count": null,
   "id": "9af31101",
   "metadata": {},
   "outputs": [],
   "source": [
    "capsol.Totalsim"
   ]
  },
  {
   "cell_type": "code",
   "execution_count": null,
   "id": "09e127a1",
   "metadata": {},
   "outputs": [],
   "source": [
    "gridparams"
   ]
  },
  {
   "cell_type": "code",
   "execution_count": null,
   "id": "8812791c",
   "metadata": {},
   "outputs": [],
   "source": []
  }
 ],
 "metadata": {
  "kernelspec": {
   "display_name": "Python 3",
   "language": "python",
   "name": "python3"
  },
  "language_info": {
   "codemirror_mode": {
    "name": "ipython",
    "version": 3
   },
   "file_extension": ".py",
   "mimetype": "text/x-python",
   "name": "python",
   "nbconvert_exporter": "python",
   "pygments_lexer": "ipython3",
   "version": "3.8.8"
  }
 },
 "nbformat": 4,
 "nbformat_minor": 5
}
