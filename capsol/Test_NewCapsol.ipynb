{
 "cells": [
  {
   "cell_type": "code",
   "execution_count": 1,
   "id": "7ca597bd",
   "metadata": {},
   "outputs": [],
   "source": [
    "import numpy as np"
   ]
  },
  {
   "cell_type": "code",
   "execution_count": 2,
   "id": "78796203",
   "metadata": {},
   "outputs": [],
   "source": [
    "import capsol"
   ]
  },
  {
   "cell_type": "code",
   "execution_count": 3,
   "id": "2f0c9683",
   "metadata": {},
   "outputs": [],
   "source": [
    "import newanalyzecapsol as nac"
   ]
  },
  {
   "cell_type": "code",
   "execution_count": 4,
   "id": "4e3a445d",
   "metadata": {},
   "outputs": [],
   "source": [
    "gp=nac.get_gridparameters(r\"C:\\Users\\emaro\\OneDrive - University of Mount Union\\XSEDE Summer 2021\\xsede-spm\\capsol-fortran\\capsol.in\")"
   ]
  },
  {
   "cell_type": "code",
   "execution_count": 5,
   "id": "0898cc70",
   "metadata": {},
   "outputs": [],
   "source": [
    "params=capsol.Params(Rtip=gp[\"Rtip\"], theta_deg=gp[\"half-angle\"],Hcone=gp[\"HCone\"], Hcant=gp[\"thickness_Cantilever\"], Rcant=gp[\"RCantilever\"], zMax=gp[\"z_max\"],rhoMax=gp[\"rho_max\"], h0=gp[\"h0\"], d=gp[\"min\"], Nuni=gp[\"Nuni\"], Nr=gp[\"n\"], Nz_plus=gp[\"m+\"],hsam=gp[\"Thickness_sample\"])"
   ]
  },
  {
   "cell_type": "code",
   "execution_count": 6,
   "id": "686d1bd9",
   "metadata": {},
   "outputs": [
    {
     "data": {
      "text/plain": [
       "500"
      ]
     },
     "execution_count": 6,
     "metadata": {},
     "output_type": "execute_result"
    }
   ],
   "source": [
    "params.Nz_plus"
   ]
  },
  {
   "cell_type": "code",
   "execution_count": 7,
   "id": "0fe6f2c4",
   "metadata": {},
   "outputs": [],
   "source": [
    "# capsol.Totalsim(params, gp[\"min\"], gp[\"max\"], gp[\"istep\"], \"D-C.dat\")"
   ]
  },
  {
   "cell_type": "code",
   "execution_count": 8,
   "id": "aef54b0b",
   "metadata": {},
   "outputs": [
    {
     "data": {
      "text/plain": [
       "<function capsol.Totalsim(params, dmin, dmax, istep, fname)>"
      ]
     },
     "execution_count": 8,
     "metadata": {},
     "output_type": "execute_result"
    }
   ],
   "source": [
    "capsol.Totalsim"
   ]
  },
  {
   "cell_type": "code",
   "execution_count": null,
   "id": "8674dd67",
   "metadata": {},
   "outputs": [],
   "source": []
  },
  {
   "cell_type": "code",
   "execution_count": 9,
   "id": "a137cdb5",
   "metadata": {},
   "outputs": [],
   "source": [
    "def runnewcapsol(input_fname= \"capsol.in\", output_fname=\"C-Z.dat\"):\n",
    "    import capsol\n",
    "    import newanalyzecapsol as nac\n",
    "    gp=nac.get_gridparameters(input_fname)\n",
    "    params=capsol.Params(Rtip=gp[\"Rtip\"], theta_deg=gp[\"half-angle\"],Hcone=gp[\"HCone\"], Hcant=gp[\"thickness_Cantilever\"], Rcant=gp[\"RCantilever\"], zMax=gp[\"z_max\"],rhoMax=gp[\"rho_max\"], h0=gp[\"h0\"], d=gp[\"min\"], Nuni=gp[\"Nuni\"], Nr=gp[\"n\"], Nz_plus=gp[\"m+\"],hsam=gp[\"Thickness_sample\"])\n",
    "    Totalsim=capsol.Totalsim(params, gp[\"min\"], gp[\"max\"], gp[\"istep\"], output_fname)\n",
    "    return Totalsim"
   ]
  },
  {
   "cell_type": "code",
   "execution_count": 10,
   "id": "d9545ad4",
   "metadata": {},
   "outputs": [],
   "source": [
    "# runnewcapsol(r\"C:\\Users\\emaro\\OneDrive - University of Mount Union\\XSEDE Summer 2021\\xsede-spm\\capsol-fortran\\capsol.in\", )"
   ]
  },
  {
   "cell_type": "code",
   "execution_count": null,
   "id": "b7f26400",
   "metadata": {},
   "outputs": [
    {
     "name": "stderr",
     "output_type": "stream",
     "text": [
      " 50%|█████████████████████████████████████████▌                                         | 9/18 [01:18<01:17,  8.59s/it]"
     ]
    }
   ],
   "source": [
    "capsol.runnewcapsol(r\"C:\\Users\\emaro\\OneDrive - University of Mount Union\\XSEDE Summer 2021\\xsede-spm\\capsol-fortran\\capsol.in\")"
   ]
  },
  {
   "cell_type": "code",
   "execution_count": null,
   "id": "b16a9b94",
   "metadata": {},
   "outputs": [],
   "source": []
  }
 ],
 "metadata": {
  "kernelspec": {
   "display_name": "Python 3",
   "language": "python",
   "name": "python3"
  },
  "language_info": {
   "codemirror_mode": {
    "name": "ipython",
    "version": 3
   },
   "file_extension": ".py",
   "mimetype": "text/x-python",
   "name": "python",
   "nbconvert_exporter": "python",
   "pygments_lexer": "ipython3",
   "version": "3.8.8"
  }
 },
 "nbformat": 4,
 "nbformat_minor": 5
}
