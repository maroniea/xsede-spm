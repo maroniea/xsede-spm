{
 "cells": [
  {
   "cell_type": "code",
   "execution_count": 1,
   "id": "e0ac15b5",
   "metadata": {},
   "outputs": [],
   "source": [
    "import numpy as np"
   ]
  },
  {
   "cell_type": "code",
   "execution_count": 2,
   "id": "f477cdd3",
   "metadata": {},
   "outputs": [],
   "source": [
    "import capsol"
   ]
  },
  {
   "cell_type": "code",
   "execution_count": 3,
   "id": "be6d7e03",
   "metadata": {},
   "outputs": [],
   "source": [
    "import newanalyzecapsol as nac"
   ]
  },
  {
   "cell_type": "code",
   "execution_count": 4,
   "id": "2bba5f97",
   "metadata": {},
   "outputs": [],
   "source": [
    "gp=nac.get_gridparameters(r\"C:\\Users\\emaro\\OneDrive - University of Mount Union\\XSEDE Summer 2021\\xsede-spm\\capsol-fortran\\capsol.in\")"
   ]
  },
  {
   "cell_type": "code",
   "execution_count": 5,
   "id": "b867701f",
   "metadata": {},
   "outputs": [],
   "source": [
    "params=capsol.Params(Rtip=gp[\"Rtip\"], theta_deg=gp[\"half-angle\"],Hcone=gp[\"HCone\"], Hcant=gp[\"thickness_Cantilever\"], Rcant=gp[\"RCantilever\"], zMax=gp[\"z_max\"],rhoMax=gp[\"rho_max\"], h0=gp[\"h0\"], d=gp[\"min\"], Nuni=gp[\"Nuni\"], Nr=gp[\"n\"], Nz_plus=gp[\"m+\"],hsam=gp[\"Thickness_sample\"])"
   ]
  },
  {
   "cell_type": "code",
   "execution_count": 6,
   "id": "250d9fc8",
   "metadata": {},
   "outputs": [
    {
     "data": {
      "text/plain": [
       "500"
      ]
     },
     "execution_count": 6,
     "metadata": {},
     "output_type": "execute_result"
    }
   ],
   "source": [
    "params.Nz_plus"
   ]
  },
  {
   "cell_type": "code",
   "execution_count": 7,
   "id": "cbb0b6d4",
   "metadata": {},
   "outputs": [],
   "source": [
    "# capsol.Totalsim(params, gp[\"min\"], gp[\"max\"], gp[\"istep\"], \"D-C.dat\")"
   ]
  },
  {
   "cell_type": "code",
   "execution_count": 8,
   "id": "c1483e6f",
   "metadata": {},
   "outputs": [
    {
     "data": {
      "text/plain": [
       "<function capsol.Totalsim(params, dmin, dmax, istep, fname)>"
      ]
     },
     "execution_count": 8,
     "metadata": {},
     "output_type": "execute_result"
    }
   ],
   "source": [
    "capsol.Totalsim"
   ]
  },
  {
   "cell_type": "code",
   "execution_count": null,
   "id": "8e6fd9fe",
   "metadata": {},
   "outputs": [],
   "source": []
  },
  {
   "cell_type": "code",
   "execution_count": 9,
   "id": "6344277f",
   "metadata": {},
   "outputs": [],
   "source": [
    "def runnewcapsol(input_fname= \"capsol.in\", output_fname=\"C-Z.dat\"):\n",
    "    import capsol\n",
    "    import newanalyzecapsol as nac\n",
    "    gp=nac.get_gridparameters(input_fname)\n",
    "    params=capsol.Params(Rtip=gp[\"Rtip\"], theta_deg=gp[\"half-angle\"],Hcone=gp[\"HCone\"], Hcant=gp[\"thickness_Cantilever\"], Rcant=gp[\"RCantilever\"], zMax=gp[\"z_max\"],rhoMax=gp[\"rho_max\"], h0=gp[\"h0\"], d=gp[\"min\"], Nuni=gp[\"Nuni\"], Nr=gp[\"n\"], Nz_plus=gp[\"m+\"],hsam=gp[\"Thickness_sample\"])\n",
    "    Totalsim=capsol.Totalsim(params, gp[\"min\"], gp[\"max\"], gp[\"istep\"], output_fname)\n",
    "    return Totalsim"
   ]
  },
  {
   "cell_type": "code",
   "execution_count": 10,
   "id": "b668cfe4",
   "metadata": {},
   "outputs": [],
   "source": [
    "# runnewcapsol(r\"C:\\Users\\emaro\\OneDrive - University of Mount Union\\XSEDE Summer 2021\\xsede-spm\\capsol-fortran\\capsol.in\", )"
   ]
  },
  {
   "cell_type": "code",
   "execution_count": 11,
   "id": "fe5413df",
   "metadata": {},
   "outputs": [
    {
     "name": "stderr",
     "output_type": "stream",
     "text": [
      "100%|██████████████████████████████████████████████████████████████████████████████████| 18/18 [02:48<00:00,  9.38s/it]\n"
     ]
    },
    {
     "data": {
      "text/plain": [
       "(array([ 2.,  3.,  4.,  5.,  6.,  7.,  8.,  9., 10., 11., 12., 13., 14.,\n",
       "        15., 16., 17., 18., 19.]),\n",
       " [1.2147870038951294e-14,\n",
       "  1.2146685945348355e-14,\n",
       "  1.2145658002120444e-14,\n",
       "  1.2144725439997312e-14,\n",
       "  1.2143857138935168e-14,\n",
       "  1.2143035068452459e-14,\n",
       "  1.2142247865144014e-14,\n",
       "  1.214148791453273e-14,\n",
       "  1.2140749869688367e-14,\n",
       "  1.2140029834487289e-14,\n",
       "  1.2139324883496214e-14,\n",
       "  1.2138632764866837e-14,\n",
       "  1.2137951708571802e-14,\n",
       "  1.2137280298196758e-14,\n",
       "  1.2136617382622809e-14,\n",
       "  1.213596201360315e-14,\n",
       "  1.2135313400643818e-14,\n",
       "  1.2134670877745026e-14])"
      ]
     },
     "execution_count": 11,
     "metadata": {},
     "output_type": "execute_result"
    }
   ],
   "source": [
    "capsol.runnewcapsol(r\"C:\\Users\\emaro\\OneDrive - University of Mount Union\\XSEDE Summer 2021\\xsede-spm\\capsol-fortran\\capsol.in\")"
   ]
  },
  {
   "cell_type": "code",
   "execution_count": null,
   "id": "7d40522e",
   "metadata": {},
   "outputs": [],
   "source": []
  }
 ],
 "metadata": {
  "kernelspec": {
   "display_name": "Python 3",
   "language": "python",
   "name": "python3"
  },
  "language_info": {
   "codemirror_mode": {
    "name": "ipython",
    "version": 3
   },
   "file_extension": ".py",
   "mimetype": "text/x-python",
   "name": "python",
   "nbconvert_exporter": "python",
   "pygments_lexer": "ipython3",
   "version": "3.8.8"
  }
 },
 "nbformat": 4,
 "nbformat_minor": 5
}
