{
 "cells": [
  {
   "cell_type": "markdown",
   "metadata": {},
   "source": [
    "# Finite Differences CapSol Example\n",
    "\n",
    "Minimal example of using capsol python code to compute the voltage between a SPM tip (sphere, cone, and cantilever body disk) and a metal surface."
   ]
  },
  {
   "cell_type": "code",
   "execution_count": 1,
   "metadata": {},
   "outputs": [],
   "source": [
    " %load_ext autoreload\n",
    "%autoreload 2"
   ]
  },
  {
   "cell_type": "code",
   "execution_count": 2,
   "metadata": {},
   "outputs": [],
   "source": [
    "%matplotlib inline"
   ]
  },
  {
   "cell_type": "code",
   "execution_count": 11,
   "metadata": {},
   "outputs": [],
   "source": [
    "\n",
    "import numpy as np\n",
    "from scipy import linalg\n",
    "from scipy import sparse\n",
    "from scipy.sparse import linalg as la\n",
    "import capsol\n",
    "import matplotlib.pyplot as plt\n",
    "from tqdm.notebook import tqdm"
   ]
  },
  {
   "cell_type": "code",
   "execution_count": 12,
   "metadata": {},
   "outputs": [],
   "source": [
    "params= capsol.Params(Nr=900, Nz_plus=900, rhoMax=20*20000.0, zMax=20*20000.0)"
   ]
  },
  {
   "cell_type": "code",
   "execution_count": 13,
   "metadata": {},
   "outputs": [],
   "source": [
    "sim = capsol.CapSol(params)"
   ]
  },
  {
   "cell_type": "code",
   "execution_count": 14,
   "metadata": {},
   "outputs": [
    {
     "data": {
      "text/plain": [
       "Params(Rtip=20.0, theta_deg=15.0, Hcone=15000.0, Hcant=500.0, Rcant=15000.0, zMax=400000.0, rhoMax=400000.0, h0=0.4, d=20.0, Nuni=50, Nr=900, Nz_plus=900, hsam=0.0, theta=0.2617993877991494)"
      ]
     },
     "execution_count": 14,
     "metadata": {},
     "output_type": "execute_result"
    }
   ],
   "source": [
    "params"
   ]
  },
  {
   "cell_type": "code",
   "execution_count": 29,
   "metadata": {},
   "outputs": [],
   "source": [
    "def Totalsim(params, dmin, dmax, istep, fname):\n",
    "    capacitances=[]\n",
    "    distances=np.arange(dmin, dmax, istep*params.h0)\n",
    "    for d in tqdm(distances):\n",
    "        params.d= d\n",
    "        sim = capsol.CapSol(params)\n",
    "        sim.setup_matrices()\n",
    "        sim.solve()\n",
    "        sim.process()\n",
    "        capacitances.append(sim.c)\n",
    "    np.savetxt(fname, np.c_[distances, capacitances], header='distance (nm) Capacitances(F)', footer=f'Totalsim(params={params}, dmin={dmin}, dmax={dmax}, istep={istep}, fname={fname})')\n",
    "    return distances, capacitances"
   ]
  },
  {
   "cell_type": "code",
   "execution_count": 30,
   "metadata": {},
   "outputs": [],
   "source": [
    "dmin=10\n",
    "dmax=20\n",
    "istep=4"
   ]
  },
  {
   "cell_type": "code",
   "execution_count": 32,
   "metadata": {},
   "outputs": [
    {
     "data": {
      "application/vnd.jupyter.widget-view+json": {
       "model_id": "6ab1ddb40df746cb9b19ed8dd5da0cbb",
       "version_major": 2,
       "version_minor": 0
      },
      "text/plain": [
       "  0%|          | 0/7 [00:00<?, ?it/s]"
      ]
     },
     "metadata": {},
     "output_type": "display_data"
    },
    {
     "data": {
      "text/plain": [
       "(array([10. , 11.6, 13.2, 14.8, 16.4, 18. , 19.6]),\n",
       " [3.417254055824126e-15,\n",
       "  3.4166697736241165e-15,\n",
       "  3.416123749962859e-15,\n",
       "  3.415607438975718e-15,\n",
       "  3.4151149343880347e-15,\n",
       "  3.4146419831005703e-15,\n",
       "  3.414185419702169e-15])"
      ]
     },
     "execution_count": 32,
     "metadata": {},
     "output_type": "execute_result"
    }
   ],
   "source": [
    "Totalsim(params, dmin, dmax, istep, 'D-C.dat')"
   ]
  },
  {
   "cell_type": "code",
   "execution_count": 18,
   "metadata": {
    "scrolled": true
   },
   "outputs": [
    {
     "data": {
      "application/vnd.jupyter.widget-view+json": {
       "model_id": "ae6b299560de44aeb68def09f2b75251",
       "version_major": 2,
       "version_minor": 0
      },
      "text/plain": [
       "  0%|          | 0/7 [00:00<?, ?it/s]"
      ]
     },
     "metadata": {},
     "output_type": "display_data"
    }
   ],
   "source": [
    "capacitances=[]\n",
    "for d in tqdm(distances):\n",
    "    params.d= d\n",
    "    sim = capsol.CapSol(params)\n",
    "    sim.setup_matrices()\n",
    "    sim.solve()\n",
    "    sim.process()\n",
    "    capacitances.append(sim.c)"
   ]
  },
  {
   "cell_type": "code",
   "execution_count": 10,
   "metadata": {},
   "outputs": [],
   "source": [
    "from tqdm.notebook import tqdm"
   ]
  },
  {
   "cell_type": "code",
   "execution_count": null,
   "metadata": {},
   "outputs": [],
   "source": [
    "plt.imshow(sim.spm_tip[::-1, :])\n"
   ]
  },
  {
   "cell_type": "code",
   "execution_count": 19,
   "metadata": {},
   "outputs": [
    {
     "data": {
      "text/plain": [
       "[3.417254055824126e-15,\n",
       " 3.4166697736241165e-15,\n",
       " 3.416123749962859e-15,\n",
       " 3.415607438975718e-15,\n",
       " 3.4151149343880347e-15,\n",
       " 3.4146419831005703e-15,\n",
       " 3.414185419702169e-15]"
      ]
     },
     "execution_count": 19,
     "metadata": {},
     "output_type": "execute_result"
    }
   ],
   "source": [
    "capacitances"
   ]
  },
  {
   "cell_type": "code",
   "execution_count": 27,
   "metadata": {},
   "outputs": [],
   "source": [
    "np.savetxt(r'C:\\Users\\emaro\\OneDrive - University of Mount Union\\XSEDE Summer 2021\\xsede-spm\\capsol\\D-C.dat', np.c_[distances, capacitances], header='distance (nm) Capacitances(F)', footer='', )"
   ]
  },
  {
   "cell_type": "code",
   "execution_count": 23,
   "metadata": {},
   "outputs": [
    {
     "name": "stdout",
     "output_type": "stream",
     "text": [
      "C:\\Users\\emaro\n"
     ]
    }
   ],
   "source": [
    "cd"
   ]
  },
  {
   "cell_type": "code",
   "execution_count": null,
   "metadata": {},
   "outputs": [],
   "source": [
    "full_boundary = sim.boundary\n",
    "A_cut = sim.A[~full_boundary].T[~full_boundary].T # \n",
    "f_cut = f[~full_boundary]"
   ]
  },
  {
   "cell_type": "code",
   "execution_count": null,
   "metadata": {},
   "outputs": [],
   "source": [
    "1/A_cut.diagonal()"
   ]
  },
  {
   "cell_type": "code",
   "execution_count": null,
   "metadata": {},
   "outputs": [],
   "source": [
    "%time u_cut = la.spsolve(A_cut, f_cut)"
   ]
  },
  {
   "cell_type": "code",
   "execution_count": null,
   "metadata": {},
   "outputs": [],
   "source": [
    "u = sim.u.ravel()\n",
    "u[~full_boundary] = u_cut"
   ]
  },
  {
   "cell_type": "code",
   "execution_count": null,
   "metadata": {},
   "outputs": [],
   "source": [
    "fig, ax = plt.subplots()\n",
    "s = np.s_[:, :]\n",
    "plt.contourf(sim.R[s], sim.Z[s], u.reshape((sim.Nz, sim.Nr))[s], levels=20)\n",
    "plt.colorbar()\n",
    "ax.set_aspect('equal')"
   ]
  },
  {
   "cell_type": "code",
   "execution_count": null,
   "metadata": {},
   "outputs": [],
   "source": [
    "dV = capsol.grid_area(sim.r, sim.z)"
   ]
  },
  {
   "cell_type": "code",
   "execution_count": null,
   "metadata": {},
   "outputs": [],
   "source": [
    "energy = 0.5 * np.sum(dV * abs(capsol.E_field(u, sim.r, sim.z))**2) * 1e-9 * 8.854e-12"
   ]
  },
  {
   "cell_type": "code",
   "execution_count": null,
   "metadata": {},
   "outputs": [],
   "source": [
    "energy"
   ]
  },
  {
   "cell_type": "code",
   "execution_count": null,
   "metadata": {},
   "outputs": [],
   "source": [
    "energy_z = 0.5 * np.sum(dV * capsol.E_field(u, sim.r, sim.z).imag**2) * 1e-9 * 8.854e-12"
   ]
  },
  {
   "cell_type": "code",
   "execution_count": null,
   "metadata": {},
   "outputs": [],
   "source": [
    "energy_z"
   ]
  },
  {
   "cell_type": "code",
   "execution_count": null,
   "metadata": {},
   "outputs": [],
   "source": [
    "# All the energy related to the radial field is not helpful / useful..."
   ]
  },
  {
   "cell_type": "code",
   "execution_count": null,
   "metadata": {},
   "outputs": [],
   "source": [
    "E_J = energy * 1e-9 * 8.854e-12\n",
    "E_J"
   ]
  },
  {
   "cell_type": "code",
   "execution_count": null,
   "metadata": {},
   "outputs": [],
   "source": [
    "sim.energy"
   ]
  },
  {
   "cell_type": "code",
   "execution_count": null,
   "metadata": {},
   "outputs": [],
   "source": []
  },
  {
   "cell_type": "code",
   "execution_count": null,
   "metadata": {},
   "outputs": [],
   "source": [
    "# E-field is V/m, here V/nm...\n",
    "# dV = nm^3\n",
    "# Units are V^2 * nm..."
   ]
  }
 ],
 "metadata": {
  "kernelspec": {
   "display_name": "Python 3",
   "language": "python",
   "name": "python3"
  },
  "language_info": {
   "codemirror_mode": {
    "name": "ipython",
    "version": 3
   },
   "file_extension": ".py",
   "mimetype": "text/x-python",
   "name": "python",
   "nbconvert_exporter": "python",
   "pygments_lexer": "ipython3",
   "version": "3.8.8"
  }
 },
 "nbformat": 4,
 "nbformat_minor": 4
}
