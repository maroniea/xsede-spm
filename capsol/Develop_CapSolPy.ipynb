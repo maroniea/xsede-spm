{
 "cells": [
  {
   "cell_type": "code",
   "execution_count": 1,
   "metadata": {},
   "outputs": [],
   "source": [
    "import numpy as np\n",
    "from scipy import optimize\n",
    "from capsolpy import defcapsol as cs\n",
    "# reload(capsolpy)"
   ]
  },
  {
   "cell_type": "markdown",
   "metadata": {},
   "source": [
    "# Develop CapSolPy\n",
    "\n",
    "- `cs.generategrid` currently works\n",
    "- `cs.setupprobe` does not (seg faults on MAC OS X, even though it works in fortran)\n",
    "- `cs.setupprobe` is relatively simple - we could translate that code to python"
   ]
  },
  {
   "cell_type": "code",
   "execution_count": 2,
   "metadata": {},
   "outputs": [],
   "source": [
    "# Parameters\n",
    "nuni = 1\n",
    "n = 500\n",
    "m = 500\n",
    "h0 = 0.5\n",
    "rho_max = 1e6\n",
    "z_max = 1e6\n",
    "z = 10.0\n",
    "l_js = 20\n",
    "l = l_js + int(np.round(z/h0))\n",
    "verbose=0\n",
    "hsam = 10.0\n",
    "rtip = 20.0\n",
    "theta = 15 * 180 / np.pi \n",
    "hcone = 15000.0\n",
    "rcant = 500.0\n",
    "dcant = 15000.0\n",
    "eps_r = 3.0\n",
    "\n",
    "\n",
    "r, hn, hm, zm = cs.generategrid(nuni, h0, rho_max,z_max,z,hsam,n,m,l,verbose)"
   ]
  },
  {
   "cell_type": "code",
   "execution_count": 3,
   "metadata": {},
   "outputs": [
    {
     "name": "stdout",
     "output_type": "stream",
     "text": [
      "r,hn,hm,zm = generategrid(nuni,h0,rho_max,z_max,z,hsam,n,m,l,verbose)\n",
      "\n",
      "Wrapper for ``generategrid``.\n",
      "\n",
      "Parameters\n",
      "----------\n",
      "nuni : input int\n",
      "h0 : input float\n",
      "rho_max : input float\n",
      "z_max : input float\n",
      "z : input float\n",
      "hsam : input float\n",
      "n : input int\n",
      "m : input int\n",
      "l : input int\n",
      "verbose : input int\n",
      "\n",
      "Returns\n",
      "-------\n",
      "r : rank-1 array('f') with bounds (n + 1)\n",
      "hn : rank-1 array('f') with bounds (n + 1)\n",
      "hm : rank-1 array('f') with bounds (m+l+1)\n",
      "zm : rank-1 array('f') with bounds (m+l+1)\n",
      "\n"
     ]
    }
   ],
   "source": [
    "print(cs.generategrid.__doc__)"
   ]
  },
  {
   "cell_type": "code",
   "execution_count": null,
   "metadata": {},
   "outputs": [],
   "source": [
    "def geometric_sum(r, a1, n):\n",
    "    return sum(np.array([a1 * r ** i for i in range(n)]))\n",
    "\n",
    "def find_ratio(total, h0, terms):\n",
    "    r = 1.001\n",
    "    s = 0\n",
    "    while s < total:\n",
    "        s = geometric_sum(r, h0, terms)\n",
    "        r += 0.001\n",
    "    return r\n",
    "\n",
    "def radial_grid(nuni, n, h0, rho_max):\n",
    "    r = np.zeros(n+1)\n",
    "    dr = np.zeros(n) # Could also use n+1\n",
    "    dr[:nuni] = h0\n",
    "    r[1:nuni+1] = np.cumsum(dr[:nuni])\n",
    "    r_left = rho_max - r[nuni+1] \n",
    "    return r, dr"
   ]
  },
  {
   "cell_type": "code",
   "execution_count": null,
   "metadata": {},
   "outputs": [],
   "source": [
    "def approx_poly(n, s, a):\n",
    "    return np.roots([((-2 + n)*(-1 + n)*n)/6., ((-1.0 + n)*n)/2., n-s/a])"
   ]
  },
  {
   "cell_type": "markdown",
   "metadata": {},
   "source": [
    "- `r` is the radii (`n` + 1 points spaced from 0 to `rho_max`)\n",
    "- `hn` is the spacing between radii"
   ]
  },
  {
   "cell_type": "code",
   "execution_count": null,
   "metadata": {},
   "outputs": [],
   "source": []
  }
 ],
 "metadata": {
  "kernelspec": {
   "display_name": "Python 3",
   "language": "python",
   "name": "python3"
  },
  "language_info": {
   "codemirror_mode": {
    "name": "ipython",
    "version": 3
   },
   "file_extension": ".py",
   "mimetype": "text/x-python",
   "name": "python",
   "nbconvert_exporter": "python",
   "pygments_lexer": "ipython3",
   "version": "3.7.4"
  }
 },
 "nbformat": 4,
 "nbformat_minor": 4
}
