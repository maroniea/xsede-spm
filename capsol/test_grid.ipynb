{
 "cells": [
  {
   "cell_type": "code",
   "execution_count": 47,
   "metadata": {},
   "outputs": [],
   "source": [
    "%matplotlib inline\n",
    "import matplotlib.pyplot as plt\n",
    "import numpy as np\n",
    "from mpl_toolkits import mplot3d\n",
    "import capsol as cs\n",
    "import scifi\n"
   ]
  },
  {
   "cell_type": "code",
   "execution_count": 48,
   "metadata": {},
   "outputs": [],
   "source": [
    "# %pip install mayavi  "
   ]
  },
  {
   "cell_type": "code",
   "execution_count": 49,
   "metadata": {},
   "outputs": [],
   "source": [
    "r = np.r_[np.arange(0, 50), np.arange(52.5, 150, 5)]"
   ]
  },
  {
   "cell_type": "code",
   "execution_count": 50,
   "metadata": {},
   "outputs": [],
   "source": [
    "z = np.r_[np.arange(0, 50), np.arange(52.5, 200, 5)]"
   ]
  },
  {
   "cell_type": "code",
   "execution_count": 51,
   "metadata": {},
   "outputs": [],
   "source": [
    "\n",
    "Rtip = 20.0\n",
    "rcant = 500.0\n",
    "hcone = 100.0\n",
    "dcant = 10.0\n",
    "theta = np.pi/180*15.0\n",
    "\n",
    "ang = np.arange(10) * np.pi*2/10\n",
    "\n",
    "R, Z, A = np.meshgrid(r, z, ang)\n",
    "X = R * np.cos(A)\n",
    "Y = R*np.sin(A)"
   ]
  },
  {
   "cell_type": "code",
   "execution_count": 52,
   "metadata": {},
   "outputs": [],
   "source": [
    "sphere = cs.sphere(R, Z, Rtip)"
   ]
  },
  {
   "cell_type": "code",
   "execution_count": 53,
   "metadata": {},
   "outputs": [],
   "source": [
    "def XYZ(X, Y, Z, tip):\n",
    "    xt, yt, zt = X[tip], Y[tip], Z[tip]\n",
    "    xyz = np.c_[xt.ravel(), yt.ravel(), zt.ravel()]\n",
    "    xyz_u = np.unique(xyz, axis=0)\n",
    "    return scifi.XYZFile(['H' for x in range(len(xyz_u))], xyz_u)"
   ]
  },
  {
   "cell_type": "code",
   "execution_count": 54,
   "metadata": {},
   "outputs": [],
   "source": [
    "scifi.write_file('sphere.xyz', XYZ(X, Y, Z, sphere).write_str())"
   ]
  },
  {
   "cell_type": "code",
   "execution_count": 55,
   "metadata": {},
   "outputs": [],
   "source": [
    "cone =  cs.cone(R, Z, Rtip, theta, hcone)\n",
    "scifi.write_file('cone.xyz', XYZ(X, Y, Z, cone).write_str())"
   ]
  },
  {
   "cell_type": "code",
   "execution_count": 56,
   "metadata": {},
   "outputs": [],
   "source": [
    "disk = cs.body(R, Z, hcone, dcant, rcant)\n",
    "scifi.write_file('disk.xyz', XYZ(X, Y, Z, disk).write_str())"
   ]
  },
  {
   "cell_type": "code",
   "execution_count": 57,
   "metadata": {},
   "outputs": [],
   "source": [
    "spm_tip = np.logical_or(np.logical_or(sphere, cone), disk)"
   ]
  },
  {
   "cell_type": "code",
   "execution_count": 58,
   "metadata": {},
   "outputs": [],
   "source": [
    "\n",
    "scifi.write_file('spm_tip.xyz', XYZ(X, Y, Z, spm_tip).write_str())"
   ]
  },
  {
   "cell_type": "markdown",
   "metadata": {},
   "source": [
    "# Normal grid"
   ]
  },
  {
   "cell_type": "markdown",
   "metadata": {},
   "source": [
    "- Below, we try this for a normal (large) grid as used in the simulation!"
   ]
  },
  {
   "cell_type": "code",
   "execution_count": 59,
   "metadata": {},
   "outputs": [],
   "source": [
    "nuni = 50 #number of uniformly spaced grid points\n",
    "n = 500 # number of radial grid points\n",
    "m = 500 # number of z+ grid points\n",
    "h0 = 0.5 # initial grid spacing\n",
    "rho_max = 1e6 # maximum radial size\n",
    "z_max = 1e6 # maximum height size\n",
    "z = 10.0 # tip-sample separation\n",
    "l_js = 20  #m-, grid points in sample\n",
    "l = l_js + int(np.round(z/h0)) # actual number of negative z points\n",
    "verbose=0 \n",
    "hsam = 15.0 #sample thickness\n",
    "rtip = 20.0 #tip radius\n",
    "theta = 15 * np.pi/180 #hallf angle of tip\n",
    "hcone = 15000.0 # height of cone\n",
    "rcant = 15000.0 # cantilever radius\n",
    "dcant = 3000.0 #cantilever thickness\n",
    "eps_r = 3.0 #dielec tric constant "
   ]
  },
  {
   "cell_type": "code",
   "execution_count": 60,
   "metadata": {},
   "outputs": [],
   "source": [
    "r,dr=cs.guni_grid(nuni, n, h0, rho_max)\n",
    "z_plus, dz_plus= cs.guni_grid(nuni, m, h0, z_max)"
   ]
  },
  {
   "cell_type": "code",
   "execution_count": 61,
   "metadata": {},
   "outputs": [],
   "source": [
    "z_minus=cs.generate_gapsam_grid(h0, hsam, z)\n",
    "z_grid=np.r_[z_minus, z_plus]\n",
    "# dz_minus=np.arange(N)*h0 \n",
    "R, Z=np.meshgrid(r, z_grid)\n",
    "# X = R * np.cos(A)\n",
    "# Y = R*np.sin(A)"
   ]
  },
  {
   "cell_type": "code",
   "execution_count": 62,
   "metadata": {},
   "outputs": [],
   "source": [
    "spm_tip = cs.cone(R, Z, Rtip, theta, hcone) + cs.sphere(R, Z, Rtip) + cs.body(R, Z, hcone, dcant, rcant)"
   ]
  },
  {
   "cell_type": "code",
   "execution_count": 63,
   "metadata": {},
   "outputs": [
    {
     "name": "stdout",
     "output_type": "stream",
     "text": [
      "501\n"
     ]
    }
   ],
   "source": [
    "first_z = np.ones_like(r, dtype=int)*-1\n",
    "print(len(first_z))\n",
    "for i, row in enumerate(spm_tip.T):\n",
    "    if any(row):\n",
    "        first_z[i] = np.argmax(row)"
   ]
  },
  {
   "cell_type": "code",
   "execution_count": 64,
   "metadata": {},
   "outputs": [],
   "source": [
    "surf = []\n",
    "for fz, r_ in zip(first_z, r):\n",
    "    if fz >= 0:\n",
    "        surf.append([r_, z_grid[fz]])"
   ]
  },
  {
   "cell_type": "code",
   "execution_count": 65,
   "metadata": {},
   "outputs": [],
   "source": [
    "surf_ang = []\n",
    "for row in surf:\n",
    "    for angle in np.linspace(0, 2*np.pi, 12)[:-1]:\n",
    "        surf_ang.append([row[0] * np.cos(angle), row[0] * np.sin(angle), row[1]])\n",
    "surf_ang = np.array(surf_ang)"
   ]
  },
  {
   "cell_type": "code",
   "execution_count": 66,
   "metadata": {},
   "outputs": [],
   "source": [
    "# scifi.write_file('spm_tip2.xyz', XYZ(X, Y, Z, spm_tip).write_str())"
   ]
  },
  {
   "cell_type": "code",
   "execution_count": 67,
   "metadata": {},
   "outputs": [],
   "source": [
    "# R < np.sin(theta) * (Z-Rtip) + Rtip"
   ]
  },
  {
   "cell_type": "code",
   "execution_count": 68,
   "metadata": {},
   "outputs": [],
   "source": [
    "# mm = (Rtip < Z) & (Z < hcone)\n",
    "# mcone = R < np.sin(theta) * (Z-Rtip) + Rtip"
   ]
  },
  {
   "cell_type": "code",
   "execution_count": 69,
   "metadata": {},
   "outputs": [],
   "source": [
    "# mmcone = mm * mcone"
   ]
  },
  {
   "cell_type": "code",
   "execution_count": 70,
   "metadata": {},
   "outputs": [],
   "source": [
    "# scifi.write_file('spm_tip2.xyz', XYZ(X, Y, Z, mmcone).write_str())"
   ]
  },
  {
   "cell_type": "code",
   "execution_count": null,
   "metadata": {},
   "outputs": [],
   "source": []
  },
  {
   "cell_type": "code",
   "execution_count": 74,
   "metadata": {},
   "outputs": [],
   "source": [
    "%gui qt\n",
    "from mayavi import mlab"
   ]
  },
  {
   "cell_type": "code",
   "execution_count": null,
   "metadata": {},
   "outputs": [
    {
     "name": "stderr",
     "output_type": "stream",
     "text": [
      "qt.qpa.window: <QNSWindow: 0x7ff3bbebb6f0; contentView=<QNSView: 0x7ff3bbebbaa0; QCocoaWindow(0x7ff3bbec79c0, window=QWidgetWindow(0x7ff3bbed6630, name=\"QMainWindowClassWindow\"))>> has active key-value observers (KVO)! These will stop working now that the window is recreated, and will result in exceptions when the observers are removed. Break in QCocoaWindow::recreateWindowIfNeeded to debug.\n"
     ]
    }
   ],
   "source": [
    "mlab.figure(1, fgcolor=(0, 0, 0), bgcolor=(1, 1, 1))\n",
    "\n",
    "# Visualize the points\n",
    "pts = mlab.points3d(*surf_ang.T, surf_ang.T[2])\n",
    "\n",
    "# Create and visualize the mesh\n",
    "mesh = mlab.pipeline.delaunay2d(pts)\n",
    "surf_ = mlab.pipeline.surface(mesh)\n",
    "\n",
    "# mlab.view(47, 57, 8.2, (0.1, 0.15, 0.14))\n",
    "mlab.show()"
   ]
  },
  {
   "cell_type": "code",
   "execution_count": 73,
   "metadata": {},
   "outputs": [
    {
     "data": {
      "text/plain": [
       "376"
      ]
     },
     "execution_count": 73,
     "metadata": {},
     "output_type": "execute_result"
    }
   ],
   "source": [
    "np.argmax((z_grid < 15500) * (z_grid > 15000))"
   ]
  },
  {
   "cell_type": "code",
   "execution_count": 46,
   "metadata": {},
   "outputs": [
    {
     "data": {
      "text/plain": [
       "array([14543.27093066, 14895.41556261, 15256.08913753, 15625.49822645])"
      ]
     },
     "execution_count": 46,
     "metadata": {},
     "output_type": "execute_result"
    }
   ],
   "source": [
    "z_grid[374:378]"
   ]
  },
  {
   "cell_type": "code",
   "execution_count": null,
   "metadata": {},
   "outputs": [],
   "source": []
  }
 ],
 "metadata": {
  "kernelspec": {
   "display_name": "xsede",
   "language": "python",
   "name": "xsede"
  },
  "language_info": {
   "codemirror_mode": {
    "name": "ipython",
    "version": 3
   },
   "file_extension": ".py",
   "mimetype": "text/x-python",
   "name": "python",
   "nbconvert_exporter": "python",
   "pygments_lexer": "ipython3",
   "version": "3.9.6"
  }
 },
 "nbformat": 4,
 "nbformat_minor": 4
}
