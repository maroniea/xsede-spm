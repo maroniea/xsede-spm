{
 "cells": [
  {
   "cell_type": "markdown",
   "metadata": {},
   "source": [
    "# Finite Differences CapSol Example\n",
    "\n",
    "Minimal example of using capsol python code to compute the voltage between a SPM tip (sphere, cone, and cantilever body disk) and a metal surface."
   ]
  },
  {
   "cell_type": "code",
   "execution_count": 36,
   "metadata": {},
   "outputs": [
    {
     "name": "stdout",
     "output_type": "stream",
     "text": [
      "The autoreload extension is already loaded. To reload it, use:\n",
      "  %reload_ext autoreload\n"
     ]
    }
   ],
   "source": [
    " %load_ext autoreload\n",
    "%autoreload 2"
   ]
  },
  {
   "cell_type": "code",
   "execution_count": 37,
   "metadata": {},
   "outputs": [],
   "source": [
    "%matplotlib inline"
   ]
  },
  {
   "cell_type": "code",
   "execution_count": 38,
   "metadata": {},
   "outputs": [],
   "source": [
    "\n",
    "import numpy as np\n",
    "from scipy import linalg\n",
    "from scipy import sparse\n",
    "from scipy.sparse import linalg as la\n",
    "import capsol\n",
    "import matplotlib.pyplot as plt\n"
   ]
  },
  {
   "cell_type": "code",
   "execution_count": 43,
   "metadata": {},
   "outputs": [],
   "source": [
    "params= capsol.Params(Nr=950, Nz_plus=950, rhoMax=20*40000.0, zMax=20*40000.0, d=200.0)"
   ]
  },
  {
   "cell_type": "code",
   "execution_count": 44,
   "metadata": {},
   "outputs": [],
   "source": [
    "sim = capsol.CapSol(params)"
   ]
  },
  {
   "cell_type": "code",
   "execution_count": 45,
   "metadata": {},
   "outputs": [
    {
     "name": "stdout",
     "output_type": "stream",
     "text": [
      "CPU times: user 31.9 s, sys: 537 ms, total: 32.4 s\n",
      "Wall time: 32.6 s\n"
     ]
    }
   ],
   "source": [
    "%time sim.setup_matrices()"
   ]
  },
  {
   "cell_type": "code",
   "execution_count": 46,
   "metadata": {},
   "outputs": [
    {
     "name": "stdout",
     "output_type": "stream",
     "text": [
      "CPU times: user 9min 18s, sys: 28.1 s, total: 9min 46s\n",
      "Wall time: 58 s\n"
     ]
    }
   ],
   "source": [
    "%time sim.solve()"
   ]
  },
  {
   "cell_type": "code",
   "execution_count": 47,
   "metadata": {},
   "outputs": [
    {
     "name": "stdout",
     "output_type": "stream",
     "text": [
      "CPU times: user 82.8 ms, sys: 32.1 ms, total: 115 ms\n",
      "Wall time: 114 ms\n"
     ]
    },
    {
     "data": {
      "text/plain": [
       "1.67862637267536e-15"
      ]
     },
     "execution_count": 47,
     "metadata": {},
     "output_type": "execute_result"
    }
   ],
   "source": [
    "%time sim.process()"
   ]
  },
  {
   "cell_type": "code",
   "execution_count": 50,
   "metadata": {},
   "outputs": [
    {
     "data": {
      "text/plain": [
       "9.913820198394922e-16"
      ]
     },
     "execution_count": 50,
     "metadata": {},
     "output_type": "execute_result"
    }
   ],
   "source": [
    "sim.energy_z"
   ]
  },
  {
   "cell_type": "code",
   "execution_count": 51,
   "metadata": {},
   "outputs": [
    {
     "data": {
      "text/plain": [
       "1.0111900000000733"
      ]
     },
     "execution_count": 51,
     "metadata": {},
     "output_type": "execute_result"
    }
   ],
   "source": [
    "sim.r_ratio"
   ]
  },
  {
   "cell_type": "code",
   "execution_count": 52,
   "metadata": {},
   "outputs": [
    {
     "data": {
      "text/plain": [
       "<matplotlib.image.AxesImage at 0x179b6f6d0>"
      ]
     },
     "execution_count": 52,
     "metadata": {},
     "output_type": "execute_result"
    },
    {
     "data": {
      "image/png": "[encoded data removed]",
      "text/plain": [
       "<Figure size 432x288 with 1 Axes>"
      ]
     },
     "metadata": {
      "needs_background": "light"
     },
     "output_type": "display_data"
    }
   ],
   "source": [
    "plt.imshow(sim.spm_tip[::-1, :])\n",
    "\n"
   ]
  },
  {
   "cell_type": "code",
   "execution_count": 57,
   "metadata": {},
   "outputs": [
    {
     "data": {
      "text/plain": [
       "(-200.0, 1000.0)"
      ]
     },
     "execution_count": 57,
     "metadata": {},
     "output_type": "execute_result"
    },
    {
     "data": {
      "image/png": "[encoded data removed]",
      "text/plain": [
       "<Figure size 432x288 with 2 Axes>"
      ]
     },
     "metadata": {
      "needs_background": "light"
     },
     "output_type": "display_data"
    }
   ],
   "source": [
    "fig, ax = plt.subplots()\n",
    "s = np.s_[:, :]\n",
    "plt.contourf(sim.R[s], sim.Z[s], sim.u.reshape((sim.Nz, sim.Nr))[s], levels=20)\n",
    "plt.colorbar()\n",
    "ax.set_aspect('equal')\n",
    "plt.xlim(0, 1000)\n",
    "plt.ylim(-200, 1000)"
   ]
  },
  {
   "cell_type": "code",
   "execution_count": 60,
   "metadata": {},
   "outputs": [
    {
     "data": {
      "text/plain": [
       "1.6785653446964872e-15"
      ]
     },
     "execution_count": 60,
     "metadata": {},
     "output_type": "execute_result"
    }
   ],
   "source": [
    "params2 = capsol.Params(Nr=950, Nz_plus=950, rhoMax=20*40000.0, zMax=20*40000.0, d=200.0+0.4*2)\n",
    "sim2 = capsol.CapSol(params2)\n",
    "sim2.setup_matrices()\n",
    "sim2.solve()\n",
    "sim2.process()"
   ]
  },
  {
   "cell_type": "code",
   "execution_count": 64,
   "metadata": {},
   "outputs": [
    {
     "data": {
      "text/plain": [
       "1.6786874543611163e-15"
      ]
     },
     "execution_count": 64,
     "metadata": {},
     "output_type": "execute_result"
    }
   ],
   "source": [
    "params3 = capsol.Params(Nr=950, Nz_plus=950, rhoMax=20*40000.0, zMax=20*40000.0, d=200.0-0.4*2)\n",
    "sim3 = capsol.CapSol(params3)\n",
    "sim3.setup_matrices()\n",
    "sim3.solve()\n",
    "sim3.process()"
   ]
  },
  {
   "cell_type": "code",
   "execution_count": 73,
   "metadata": {},
   "outputs": [],
   "source": [
    "C = sim.energy # 1 V applied, so E(J) = C(F)"
   ]
  },
  {
   "cell_type": "code",
   "execution_count": 72,
   "metadata": {},
   "outputs": [],
   "source": [
    "C_z = (sim3.energy - sim2.energy ) / ((sim3.params.d - sim2.params.d)*1e-9)"
   ]
  },
  {
   "cell_type": "code",
   "execution_count": 71,
   "metadata": {},
   "outputs": [],
   "source": [
    "C_zz = (sim3.energy + sim2.energy - 2*sim.energy ) / (((sim3.params.d - sim2.params.d)**2)*1e-18)"
   ]
  },
  {
   "cell_type": "code",
   "execution_count": 74,
   "metadata": {},
   "outputs": [
    {
     "data": {
      "text/plain": [
       "0.3307852070845099"
      ]
     },
     "execution_count": 74,
     "metadata": {},
     "output_type": "execute_result"
    }
   ],
   "source": [
    "2*C_z**2 / (C_zz * C)"
   ]
  },
  {
   "cell_type": "code",
   "execution_count": 66,
   "metadata": {},
   "outputs": [
    {
     "data": {
      "text/plain": [
       "(9.914234186716788e-16, 9.913820198394922e-16, 9.91340648842072e-16)"
      ]
     },
     "execution_count": 66,
     "metadata": {},
     "output_type": "execute_result"
    }
   ],
   "source": [
    "(sim3.energy_z, sim.energy_z, sim2.energy_z)"
   ]
  },
  {
   "cell_type": "code",
   "execution_count": 22,
   "metadata": {},
   "outputs": [],
   "source": [
    "energy_z = 0.5 * np.sum(dV * capsol.E_field(u, sim.r, sim.z).imag**2) * 1e-9 * 8.854e-12"
   ]
  },
  {
   "cell_type": "code",
   "execution_count": 23,
   "metadata": {},
   "outputs": [
    {
     "data": {
      "text/plain": [
       "9.986787027377295e-16"
      ]
     },
     "execution_count": 23,
     "metadata": {},
     "output_type": "execute_result"
    }
   ],
   "source": [
    "energy_z"
   ]
  },
  {
   "cell_type": "code",
   "execution_count": 24,
   "metadata": {},
   "outputs": [],
   "source": [
    "# All the energy related to the radial field is not helpful / useful..."
   ]
  },
  {
   "cell_type": "code",
   "execution_count": 25,
   "metadata": {},
   "outputs": [
    {
     "data": {
      "text/plain": [
       "1.4968089451750901e-35"
      ]
     },
     "execution_count": 25,
     "metadata": {},
     "output_type": "execute_result"
    }
   ],
   "source": [
    "E_J = energy * 1e-9 * 8.854e-12\n",
    "E_J"
   ]
  },
  {
   "cell_type": "code",
   "execution_count": 26,
   "metadata": {},
   "outputs": [
    {
     "data": {
      "text/plain": [
       "CapSol(params=Params(Rtip=20.0, theta_deg=15.0, Hcone=15000.0, Hcant=500.0, Rcant=15000.0, zMax=400000.0, rhoMax=400000.0, h0=0.4, d=200.0, Nuni=50, Nr=900, Nz_plus=900, hsam=0.0, theta=0.2617993877991494))"
      ]
     },
     "execution_count": 26,
     "metadata": {},
     "output_type": "execute_result"
    }
   ],
   "source": [
    "sim"
   ]
  },
  {
   "cell_type": "code",
   "execution_count": 27,
   "metadata": {},
   "outputs": [],
   "source": [
    "# E-field is V/m, here V/nm...\n",
    "# dV = nm^3\n",
    "# Units are V^2 * nm..."
   ]
  },
  {
   "cell_type": "code",
   "execution_count": 33,
   "metadata": {},
   "outputs": [],
   "source": [
    "class arrayBuilder:\n",
    "    def __init__(self, estimated_size=None):\n",
    "        self.rows = []\n",
    "        self.cols = []\n",
    "        self.data = []\n",
    "    \n",
    "    def __call__(self, row, col, data):\n",
    "        self.rows.append(row)\n",
    "        self.cols.append(col)\n",
    "        self.data.append(data)"
   ]
  },
  {
   "cell_type": "code",
   "execution_count": 34,
   "metadata": {},
   "outputs": [],
   "source": [
    "def poisson_variable_spacing_radial(x, y):\n",
    "    Nx = len(x)\n",
    "    Ny = len(y)\n",
    "    hx = np.diff(x)\n",
    "    hy = np.diff(y)\n",
    "    rows = []\n",
    "    cols = []\n",
    "    data = []\n",
    "    ab = arrayBuilder()\n",
    "    for i in range(Ny):\n",
    "        for j in range(Nx): # Radial\n",
    "            ind = i * Nx + j # This point\n",
    "            ixp = ind + 1    # +x \n",
    "            ixn = ind - 1    # -x\n",
    "            iyp = (i+1)*Nx + j  # +y\n",
    "            iyn = (i-1)*Nx + j  # -y\n",
    "            \n",
    "            \n",
    "            Dx_plus = hx[j] if j < (Nx-1) else 0.0\n",
    "            Dx_minus = hx[j-1] if j > 0 else hx[j]\n",
    "            x0 = x[j]\n",
    "            Dy_plus = hy[i] if i < (Ny-1) else 0.0\n",
    "            Dy_minus = hy[i-1] if i > 0 else 0.0\n",
    "            \n",
    "            prefactor_x = 4/((Dx_plus+Dx_minus)*(Dx_plus**2 + Dx_minus**2))\n",
    "            \n",
    "            prefactor_y = 4/((Dy_plus+Dy_minus)*(Dy_plus**2 + Dy_minus**2))\n",
    "\n",
    "            \n",
    "\n",
    "            diag_ind = (Dx_plus+Dx_minus) * prefactor_x + (Dy_plus+Dy_minus) * prefactor_y\n",
    "            if j == 0:\n",
    "                ab(ind, ixp, -2 * Dx_minus * prefactor_x) # That's it, no radial derivative here...\n",
    "            elif j < (Nx - 1):\n",
    "                ab(ind, ixp, -1 * Dx_minus * prefactor_x + -1 / (x0 * (Dx_plus+Dx_minus)))\n",
    "            \n",
    "                \n",
    "            \n",
    "            if j > 0:\n",
    "                ab(ind, ixn, -1 * Dx_plus * prefactor_x + 1 / (x0 * (Dx_plus+Dx_minus)))\n",
    "            \n",
    "            if j == (Nx - 1):\n",
    "                diag_ind += -1 / (x0 * (Dx_plus+Dx_minus)) # 1st order difference uses the grid point here...\n",
    "            \n",
    "            ab(ind, ind, diag_ind)\n",
    "            \n",
    "            if i > 0:\n",
    "                ab(ind, iyn,  -1 * Dy_plus * prefactor_y)\n",
    "            if i < (Ny-1):\n",
    "                ab(ind, iyp, -1 * Dy_minus * prefactor_y)\n",
    "    \n",
    "    return sparse.csr_matrix(sparse.coo_matrix((ab.data, (ab.rows, ab.cols)), shape=(Nx*Ny, Nx*Ny))) # Convert to better"
   ]
  },
  {
   "cell_type": "code",
   "execution_count": 41,
   "metadata": {},
   "outputs": [
    {
     "name": "stdout",
     "output_type": "stream",
     "text": [
      "CPU times: user 30.1 s, sys: 612 ms, total: 30.7 s\n",
      "Wall time: 31.1 s\n"
     ]
    },
    {
     "data": {
      "text/plain": [
       "<1262301x1262301 sparse matrix of type '<class 'numpy.float64'>'\n",
       "\twith 6305099 stored elements in Compressed Sparse Row format>"
      ]
     },
     "execution_count": 41,
     "metadata": {},
     "output_type": "execute_result"
    }
   ],
   "source": [
    "%time capsol.poisson_variable_spacing_radial(sim.r, sim.z)"
   ]
  },
  {
   "cell_type": "code",
   "execution_count": 42,
   "metadata": {},
   "outputs": [
    {
     "name": "stdout",
     "output_type": "stream",
     "text": [
      "CPU times: user 13.2 s, sys: 400 ms, total: 13.6 s\n",
      "Wall time: 13.7 s\n"
     ]
    },
    {
     "data": {
      "text/plain": [
       "<1262301x1262301 sparse matrix of type '<class 'numpy.float64'>'\n",
       "\twith 6306901 stored elements in Compressed Sparse Row format>"
      ]
     },
     "execution_count": 42,
     "metadata": {},
     "output_type": "execute_result"
    }
   ],
   "source": [
    "%time capsol.poisson_variable_spacing_radial_faster(sim.r, sim.z)"
   ]
  },
  {
   "cell_type": "code",
   "execution_count": null,
   "metadata": {},
   "outputs": [],
   "source": [
    "sim."
   ]
  },
  {
   "cell_type": "code",
   "execution_count": null,
   "metadata": {},
   "outputs": [],
   "source": [
    "sparse.coo_matrix()"
   ]
  }
 ],
 "metadata": {
  "kernelspec": {
   "display_name": "fenics",
   "language": "python",
   "name": "fenics"
  },
  "language_info": {
   "codemirror_mode": {
    "name": "ipython",
    "version": 3
   },
   "file_extension": ".py",
   "mimetype": "text/x-python",
   "name": "python",
   "nbconvert_exporter": "python",
   "pygments_lexer": "ipython3",
   "version": "3.9.6"
  }
 },
 "nbformat": 4,
 "nbformat_minor": 4
}
