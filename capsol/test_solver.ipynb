{
 "cells": [
  {
   "cell_type": "code",
   "execution_count": 1,
   "metadata": {},
   "outputs": [],
   "source": [
    "import numpy as np\n",
    "import capsol"
   ]
  },
  {
   "cell_type": "code",
   "execution_count": 27,
   "metadata": {},
   "outputs": [],
   "source": [
    "r = np.array([ 0. ,  0.5,  1.1 ,  1.8,  2.5 ,  3.3 , 4. ,  4.5,  5. ,\n",
    "        5.5,  6. ,  6.5,  7. ,  7.5,  8. ,  8.5,  9. ,  9.5, 10. ])\n",
    "z = np.linspace(-5, 10, 31) # Example z grid"
   ]
  },
  {
   "cell_type": "code",
   "execution_count": 28,
   "metadata": {},
   "outputs": [
    {
     "data": {
      "text/plain": [
       "array([ 0. ,  0.5,  1.1,  1.8,  2.5,  3.3,  4. ,  4.5,  5. ,  5.5,  6. ,\n",
       "        6.5,  7. ,  7.5,  8. ,  8.5,  9. ,  9.5, 10. ])"
      ]
     },
     "execution_count": 28,
     "metadata": {},
     "output_type": "execute_result"
    }
   ],
   "source": [
    "r"
   ]
  },
  {
   "cell_type": "code",
   "execution_count": 29,
   "metadata": {},
   "outputs": [],
   "source": [
    "dr = np.diff(r)\n",
    "dz = np.diff(z)\n",
    "\n",
    "dR, dZ = np.meshgrid(dr, dz)"
   ]
  },
  {
   "cell_type": "code",
   "execution_count": 30,
   "metadata": {},
   "outputs": [],
   "source": [
    "R, Z = np.meshgrid(r, z)"
   ]
  },
  {
   "cell_type": "code",
   "execution_count": 31,
   "metadata": {},
   "outputs": [],
   "source": [
    "params = dict(hcone=5, dcant=1.0, rcant=5.0)\n",
    "spm_tip = capsol.body(R, Z, hcone=5, dcant=1.0, rcant=5.0)"
   ]
  },
  {
   "cell_type": "code",
   "execution_count": 32,
   "metadata": {},
   "outputs": [
    {
     "data": {
      "text/plain": [
       "array([0. , 0.5, 1.1, 1.8, 2.5, 3.3, 4. , 4.5, 5. , 0. , 0.5, 1.1, 1.8,\n",
       "       2.5, 3.3, 4. , 4.5, 5. ])"
      ]
     },
     "execution_count": 32,
     "metadata": {},
     "output_type": "execute_result"
    }
   ],
   "source": [
    "R[spm_tip]"
   ]
  },
  {
   "cell_type": "code",
   "execution_count": 33,
   "metadata": {},
   "outputs": [
    {
     "data": {
      "text/plain": [
       "array([5. , 5. , 5. , 5. , 5. , 5. , 5. , 5. , 5. , 5.5, 5.5, 5.5, 5.5,\n",
       "       5.5, 5.5, 5.5, 5.5, 5.5])"
      ]
     },
     "execution_count": 33,
     "metadata": {},
     "output_type": "execute_result"
    }
   ],
   "source": [
    "Z[spm_tip]"
   ]
  },
  {
   "cell_type": "code",
   "execution_count": 34,
   "metadata": {},
   "outputs": [],
   "source": [
    "b = np.ones_like(R) # set the boundaries\n",
    "\n",
    "# Specify boundaries\n",
    "b[0, :] = 0.0 # Potential fixed to zero at the boundaries...\n",
    "b[-1, :] = 0.0\n",
    "b[:, -1] = 0.0 \n",
    "\n",
    "u = np.zeros_like(R)\n",
    "u[spm_tip] = 1.0 # Potential is 1 V on the cantilever...\n",
    "\n",
    "n_sample = 2"
   ]
  },
  {
   "cell_type": "code",
   "execution_count": 35,
   "metadata": {},
   "outputs": [],
   "source": [
    "# samp = capsol.sample(Z, n_sample)"
   ]
  },
  {
   "cell_type": "code",
   "execution_count": 36,
   "metadata": {},
   "outputs": [],
   "source": [
    "Vn = np.pi * (R[:-1, 1:] + R[:-1, :-1]) * dR * dZ"
   ]
  },
  {
   "cell_type": "code",
   "execution_count": 47,
   "metadata": {},
   "outputs": [
    {
     "data": {
      "text/plain": [
       "array([[0., 0., 0., 0., 0., 0., 0., 0., 0., 0., 0., 0., 0., 0., 0., 0.,\n",
       "        0., 0., 0.],\n",
       "       [0., 0., 0., 0., 0., 0., 0., 0., 0., 0., 0., 0., 0., 0., 0., 0.,\n",
       "        0., 0., 0.],\n",
       "       [0., 0., 0., 0., 0., 0., 0., 0., 0., 0., 0., 0., 0., 0., 0., 0.,\n",
       "        0., 0., 0.],\n",
       "       [0., 0., 0., 0., 0., 0., 0., 0., 0., 0., 0., 0., 0., 0., 0., 0.,\n",
       "        0., 0., 0.],\n",
       "       [0., 0., 0., 0., 0., 0., 0., 0., 0., 0., 0., 0., 0., 0., 0., 0.,\n",
       "        0., 0., 0.],\n",
       "       [0., 0., 0., 0., 0., 0., 0., 0., 0., 0., 0., 0., 0., 0., 0., 0.,\n",
       "        0., 0., 0.],\n",
       "       [0., 0., 0., 0., 0., 0., 0., 0., 0., 0., 0., 0., 0., 0., 0., 0.,\n",
       "        0., 0., 0.],\n",
       "       [0., 0., 0., 0., 0., 0., 0., 0., 0., 0., 0., 0., 0., 0., 0., 0.,\n",
       "        0., 0., 0.],\n",
       "       [0., 0., 0., 0., 0., 0., 0., 0., 0., 0., 0., 0., 0., 0., 0., 0.,\n",
       "        0., 0., 0.],\n",
       "       [0., 0., 0., 0., 0., 0., 0., 0., 0., 0., 0., 0., 0., 0., 0., 0.,\n",
       "        0., 0., 0.],\n",
       "       [0., 0., 0., 0., 0., 0., 0., 0., 0., 0., 0., 0., 0., 0., 0., 0.,\n",
       "        0., 0., 0.],\n",
       "       [0., 0., 0., 0., 0., 0., 0., 0., 0., 0., 0., 0., 0., 0., 0., 0.,\n",
       "        0., 0., 0.],\n",
       "       [0., 0., 0., 0., 0., 0., 0., 0., 0., 0., 0., 0., 0., 0., 0., 0.,\n",
       "        0., 0., 0.],\n",
       "       [0., 0., 0., 0., 0., 0., 0., 0., 0., 0., 0., 0., 0., 0., 0., 0.,\n",
       "        0., 0., 0.],\n",
       "       [0., 0., 0., 0., 0., 0., 0., 0., 0., 0., 0., 0., 0., 0., 0., 0.,\n",
       "        0., 0., 0.],\n",
       "       [0., 0., 0., 0., 0., 0., 0., 0., 0., 0., 0., 0., 0., 0., 0., 0.,\n",
       "        0., 0., 0.],\n",
       "       [0., 0., 0., 0., 0., 0., 0., 0., 0., 0., 0., 0., 0., 0., 0., 0.,\n",
       "        0., 0., 0.],\n",
       "       [0., 0., 0., 0., 0., 0., 0., 0., 0., 0., 0., 0., 0., 0., 0., 0.,\n",
       "        0., 0., 0.],\n",
       "       [0., 0., 0., 0., 0., 0., 0., 0., 0., 0., 0., 0., 0., 0., 0., 0.,\n",
       "        0., 0., 0.],\n",
       "       [0., 0., 0., 0., 0., 0., 0., 0., 0., 0., 0., 0., 0., 0., 0., 0.,\n",
       "        0., 0., 0.],\n",
       "       [1., 1., 1., 1., 1., 1., 1., 1., 1., 0., 0., 0., 0., 0., 0., 0.,\n",
       "        0., 0., 0.],\n",
       "       [1., 1., 1., 1., 1., 1., 1., 1., 1., 0., 0., 0., 0., 0., 0., 0.,\n",
       "        0., 0., 0.],\n",
       "       [0., 0., 0., 0., 0., 0., 0., 0., 0., 0., 0., 0., 0., 0., 0., 0.,\n",
       "        0., 0., 0.],\n",
       "       [0., 0., 0., 0., 0., 0., 0., 0., 0., 0., 0., 0., 0., 0., 0., 0.,\n",
       "        0., 0., 0.],\n",
       "       [0., 0., 0., 0., 0., 0., 0., 0., 0., 0., 0., 0., 0., 0., 0., 0.,\n",
       "        0., 0., 0.],\n",
       "       [0., 0., 0., 0., 0., 0., 0., 0., 0., 0., 0., 0., 0., 0., 0., 0.,\n",
       "        0., 0., 0.],\n",
       "       [0., 0., 0., 0., 0., 0., 0., 0., 0., 0., 0., 0., 0., 0., 0., 0.,\n",
       "        0., 0., 0.],\n",
       "       [0., 0., 0., 0., 0., 0., 0., 0., 0., 0., 0., 0., 0., 0., 0., 0.,\n",
       "        0., 0., 0.],\n",
       "       [0., 0., 0., 0., 0., 0., 0., 0., 0., 0., 0., 0., 0., 0., 0., 0.,\n",
       "        0., 0., 0.],\n",
       "       [0., 0., 0., 0., 0., 0., 0., 0., 0., 0., 0., 0., 0., 0., 0., 0.,\n",
       "        0., 0., 0.],\n",
       "       [0., 0., 0., 0., 0., 0., 0., 0., 0., 0., 0., 0., 0., 0., 0., 0.,\n",
       "        0., 0., 0.]])"
      ]
     },
     "execution_count": 47,
     "metadata": {},
     "output_type": "execute_result"
    }
   ],
   "source": [
    "# Determine the phi that minimizes the functional, given the constraints...\n"
   ]
  },
  {
   "cell_type": "code",
   "execution_count": 57,
   "metadata": {},
   "outputs": [],
   "source": [
    "du_dz = np.diff(u[:, :-1], axis=0) / dZ\n",
    "du_dr = np.diff(u[:-1, :], axis=1) / dR"
   ]
  },
  {
   "cell_type": "code",
   "execution_count": 65,
   "metadata": {},
   "outputs": [
    {
     "data": {
      "text/plain": [
       "223.0530784048753"
      ]
     },
     "execution_count": 65,
     "metadata": {},
     "output_type": "execute_result"
    }
   ],
   "source": [
    "np.sum((du_dz**2 + du_dr**2) * 0.5 * 1 * Vn)"
   ]
  },
  {
   "cell_type": "code",
   "execution_count": 68,
   "metadata": {},
   "outputs": [
    {
     "data": {
      "text/plain": [
       "(540,)"
      ]
     },
     "execution_count": 68,
     "metadata": {},
     "output_type": "execute_result"
    }
   ],
   "source": [
    "du_dz.ravel().shape # Ravel the arrays to get a constant pt..."
   ]
  },
  {
   "cell_type": "code",
   "execution_count": 45,
   "metadata": {},
   "outputs": [
    {
     "data": {
      "text/plain": [
       "540"
      ]
     },
     "execution_count": 45,
     "metadata": {},
     "output_type": "execute_result"
    }
   ],
   "source": [
    "Vn.ravel().size"
   ]
  },
  {
   "cell_type": "code",
   "execution_count": 38,
   "metadata": {},
   "outputs": [
    {
     "data": {
      "text/plain": [
       "(0.5, 1.1)"
      ]
     },
     "execution_count": 38,
     "metadata": {},
     "output_type": "execute_result"
    }
   ],
   "source": [
    "R[0, 1], R[0, 2]"
   ]
  },
  {
   "cell_type": "code",
   "execution_count": 40,
   "metadata": {},
   "outputs": [
    {
     "data": {
      "text/plain": [
       "1.507964473723101"
      ]
     },
     "execution_count": 40,
     "metadata": {},
     "output_type": "execute_result"
    }
   ],
   "source": [
    "(1.1**2 - 0.5**2) * np.pi * 0.5"
   ]
  },
  {
   "cell_type": "code",
   "execution_count": 69,
   "metadata": {},
   "outputs": [],
   "source": [
    "# Quadradic functional...\n"
   ]
  },
  {
   "cell_type": "code",
   "execution_count": 70,
   "metadata": {},
   "outputs": [],
   "source": [
    "# gradient_phi_n is linear..."
   ]
  },
  {
   "cell_type": "code",
   "execution_count": 74,
   "metadata": {},
   "outputs": [],
   "source": [
    "n, m = u.shape"
   ]
  },
  {
   "cell_type": "code",
   "execution_count": 97,
   "metadata": {},
   "outputs": [],
   "source": [
    "n, m = 5, 5"
   ]
  },
  {
   "cell_type": "code",
   "execution_count": 98,
   "metadata": {},
   "outputs": [],
   "source": [
    "# 8 rows\n",
    "# 7 columns\n",
    "\n",
    "u = np.zeros(shape=(n, m))\n",
    "\n",
    "u[2,2] = 1.0"
   ]
  },
  {
   "cell_type": "code",
   "execution_count": 163,
   "metadata": {},
   "outputs": [
    {
     "ename": "IndexError",
     "evalue": "index 16 is out of bounds for axis 0 with size 16",
     "output_type": "error",
     "traceback": [
      "\u001b[0;31m---------------------------------------------------------------------------\u001b[0m",
      "\u001b[0;31mIndexError\u001b[0m                                Traceback (most recent call last)",
      "\u001b[0;32m/var/folders/zn/x8ct2v5d1z714b45ycxv1hhc0000gn/T/ipykernel_33482/1805505302.py\u001b[0m in \u001b[0;36m<module>\u001b[0;34m\u001b[0m\n\u001b[1;32m     11\u001b[0m             \u001b[0mabove\u001b[0m \u001b[0;34m=\u001b[0m \u001b[0;34m(\u001b[0m\u001b[0mi\u001b[0m\u001b[0;34m+\u001b[0m\u001b[0;36m1\u001b[0m\u001b[0;34m)\u001b[0m\u001b[0;34m*\u001b[0m\u001b[0mm\u001b[0m\u001b[0;34m+\u001b[0m\u001b[0mj\u001b[0m\u001b[0;34m\u001b[0m\u001b[0;34m\u001b[0m\u001b[0m\n\u001b[1;32m     12\u001b[0m             \u001b[0mdrows\u001b[0m\u001b[0;34m[\u001b[0m\u001b[0mij\u001b[0m\u001b[0;34m,\u001b[0m \u001b[0mabove\u001b[0m\u001b[0;34m]\u001b[0m \u001b[0;34m=\u001b[0m \u001b[0;34m-\u001b[0m\u001b[0;36m1.0\u001b[0m\u001b[0;34m\u001b[0m\u001b[0;34m\u001b[0m\u001b[0m\n\u001b[0;32m---> 13\u001b[0;31m             \u001b[0mu_node\u001b[0m\u001b[0;34m[\u001b[0m\u001b[0mij\u001b[0m\u001b[0;34m,\u001b[0m \u001b[0mabove\u001b[0m\u001b[0;34m]\u001b[0m \u001b[0;34m=\u001b[0m \u001b[0;36m1.0\u001b[0m\u001b[0;34m\u001b[0m\u001b[0;34m\u001b[0m\u001b[0m\n\u001b[0m\u001b[1;32m     14\u001b[0m         \u001b[0;32mif\u001b[0m \u001b[0mi\u001b[0m \u001b[0;34m>\u001b[0m \u001b[0;36m0\u001b[0m\u001b[0;34m:\u001b[0m\u001b[0;34m\u001b[0m\u001b[0;34m\u001b[0m\u001b[0m\n\u001b[1;32m     15\u001b[0m             \u001b[0mbelow\u001b[0m \u001b[0;34m=\u001b[0m \u001b[0;34m(\u001b[0m\u001b[0mi\u001b[0m\u001b[0;34m-\u001b[0m\u001b[0;36m1\u001b[0m\u001b[0;34m)\u001b[0m\u001b[0;34m*\u001b[0m\u001b[0mm\u001b[0m \u001b[0;34m+\u001b[0m \u001b[0mj\u001b[0m\u001b[0;34m\u001b[0m\u001b[0;34m\u001b[0m\u001b[0m\n",
      "\u001b[0;31mIndexError\u001b[0m: index 16 is out of bounds for axis 0 with size 16"
     ]
    }
   ],
   "source": [
    "u_node = np.zeros(shape=((n-1)*(m-1), n*m))\n",
    "\n",
    "drows = np.zeros(shape=(n*m, n*m))\n",
    "tot = n*m\n",
    "for i in range(n): # Iterate over rows\n",
    "    for j in range(m): # Iterate over columns...\n",
    "        ij = i*m+j # current row...\n",
    "        if i < (n-1):\n",
    "        # My neighbors are one row above and below...\n",
    "        # Eest = u_row_minus_1 - u_row_plus_1 (those are the only non-zero elements)\n",
    "            above = (i+1)*m+j\n",
    "            drows[ij, above] = -1.0\n",
    "            u_node[ij, above] = 1.0\n",
    "        if i > 0:\n",
    "            below = (i-1)*m + j\n",
    "            drows[ij, below] = 1.0\n",
    "            u_node[ij, below] = 1.0\n",
    "\n",
    "dcols = np.zeros(shape=(n*m, n*m))\n",
    "for i in range(n): # Iterate over rows\n",
    "    for j in range(m): # Iterate over columns...\n",
    "        ij = i*m+j # current row...\n",
    "        # My neighbors are one row above and below...\n",
    "        # Eest = u_row_minus_1 - u_row_plus_1 (those are the only non-zero elements)\n",
    "        if j < (m-1):\n",
    "            right = (i)*m+j+1\n",
    "            dcols[ij, right] = -1.0\n",
    "            u_node[ij, right] = 1.0\n",
    "        if j > 0:\n",
    "            left = (i)*m + j-1\n",
    "            dcols[ij, left] = 1.0\n",
    "            u_node[ij, left] = 1.0\n"
   ]
  },
  {
   "cell_type": "code",
   "execution_count": 162,
   "metadata": {},
   "outputs": [],
   "source": [
    "u_node = u_node / u_node.sum(axis=1)"
   ]
  },
  {
   "cell_type": "code",
   "execution_count": null,
   "metadata": {},
   "outputs": [],
   "source": [
    "u_node"
   ]
  },
  {
   "cell_type": "markdown",
   "metadata": {},
   "source": [
    "$$(D_c \\, u)^T (D_c \\, u) \\\\\n",
    "\\frac{1}{2}  u^T (D_c^T D_c + D_z^T D_z) (v \\epsilon u) - (\\rho (v_ u)\n",
    "$$"
   ]
  },
  {
   "cell_type": "markdown",
   "metadata": {},
   "source": [
    "$ (D_c \\, u) ^2$"
   ]
  },
  {
   "cell_type": "code",
   "execution_count": 153,
   "metadata": {},
   "outputs": [
    {
     "data": {
      "text/plain": [
       "array([0., 0., 0., 0., 0., 0., 0., 0., 0., 0., 0., 1., 0., 1., 0., 0., 0.,\n",
       "       0., 0., 0., 0., 0., 0., 0., 0.])"
      ]
     },
     "execution_count": 153,
     "metadata": {},
     "output_type": "execute_result"
    }
   ],
   "source": [
    "(dcols @ ur)**2"
   ]
  },
  {
   "cell_type": "code",
   "execution_count": 124,
   "metadata": {},
   "outputs": [
    {
     "data": {
      "text/plain": [
       "2.0"
      ]
     },
     "execution_count": 124,
     "metadata": {},
     "output_type": "execute_result"
    }
   ],
   "source": [
    "u.ravel().T @ dcols.T @ dcols @ u.ravel()"
   ]
  },
  {
   "cell_type": "code",
   "execution_count": 127,
   "metadata": {},
   "outputs": [],
   "source": [
    "def check_symmetric(a, tol=1e-8):\n",
    "    return np.all(np.abs(a-a.T) < tol)"
   ]
  },
  {
   "cell_type": "code",
   "execution_count": 128,
   "metadata": {},
   "outputs": [],
   "source": [
    "H = (dcols.T @ dcols + drows.T @ drows) / 4.0"
   ]
  },
  {
   "cell_type": "code",
   "execution_count": 132,
   "metadata": {},
   "outputs": [],
   "source": [
    "from scipy import linalg"
   ]
  },
  {
   "cell_type": "code",
   "execution_count": 133,
   "metadata": {},
   "outputs": [
    {
     "data": {
      "text/plain": [
       "19.8997487421324"
      ]
     },
     "execution_count": 133,
     "metadata": {},
     "output_type": "execute_result"
    }
   ],
   "source": [
    "linalg.norm(H)"
   ]
  },
  {
   "cell_type": "code",
   "execution_count": 119,
   "metadata": {},
   "outputs": [
    {
     "data": {
      "text/plain": [
       "2.0"
      ]
     },
     "execution_count": 119,
     "metadata": {},
     "output_type": "execute_result"
    }
   ],
   "source": [
    "(dcols @ u.ravel()).T @ (dcols @ u.ravel())"
   ]
  },
  {
   "cell_type": "code",
   "execution_count": 100,
   "metadata": {},
   "outputs": [
    {
     "data": {
      "text/plain": [
       "array([ 0.,  0.,  1.,  0.,  0.,  0.,  0.,  0.,  0.,  0.,  0.,  0., -2.,\n",
       "        0.,  0.,  0.,  0.,  0.,  0.,  0.,  0.,  0.,  1.,  0.,  0.])"
      ]
     },
     "execution_count": 100,
     "metadata": {},
     "output_type": "execute_result"
    }
   ],
   "source": [
    "drows @ u.ravel() @ drows.T"
   ]
  },
  {
   "cell_type": "code",
   "execution_count": 112,
   "metadata": {},
   "outputs": [
    {
     "data": {
      "text/plain": [
       "2.0"
      ]
     },
     "execution_count": 112,
     "metadata": {},
     "output_type": "execute_result"
    }
   ],
   "source": [
    "np.dot(drows @ u.ravel(), drows @ u.ravel())"
   ]
  },
  {
   "cell_type": "code",
   "execution_count": 104,
   "metadata": {},
   "outputs": [],
   "source": [
    "b = np.ones_like(u)\n",
    "b[0, :] = 0\n",
    "b[-1, :] = 0\n",
    "b[:, 0] = 0\n",
    "b[:, -1] = 0"
   ]
  },
  {
   "cell_type": "code",
   "execution_count": 134,
   "metadata": {},
   "outputs": [],
   "source": [
    "ur = u.ravel()"
   ]
  },
  {
   "cell_type": "code",
   "execution_count": 140,
   "metadata": {},
   "outputs": [
    {
     "data": {
      "text/plain": [
       "4.0"
      ]
     },
     "execution_count": 140,
     "metadata": {},
     "output_type": "execute_result"
    }
   ],
   "source": [
    "ur.T @ H @ ur\n"
   ]
  },
  {
   "cell_type": "code",
   "execution_count": 146,
   "metadata": {},
   "outputs": [
    {
     "data": {
      "text/plain": [
       "array([[0., 0., 0., 0., 0.],\n",
       "       [0., 1., 1., 1., 0.],\n",
       "       [0., 1., 1., 1., 0.],\n",
       "       [0., 1., 1., 1., 0.],\n",
       "       [0., 0., 0., 0., 0.]])"
      ]
     },
     "execution_count": 146,
     "metadata": {},
     "output_type": "execute_result"
    }
   ],
   "source": [
    "b"
   ]
  },
  {
   "cell_type": "code",
   "execution_count": 142,
   "metadata": {},
   "outputs": [
    {
     "data": {
      "text/plain": [
       "array([1.57880435, 0.47368421, 1.625     , 0.57894737, 1.4673913 ,\n",
       "       0.42105263, 1.24456522, 0.63157895, 1.25543478, 0.47368421,\n",
       "       1.5326087 , 0.84210526, 1.82880435, 0.84210526, 1.5326087 ,\n",
       "       0.47368421, 1.25543478, 0.63157895, 1.24456522, 0.42105263,\n",
       "       1.4673913 , 0.57894737, 1.625     , 0.47368421, 1.57880435])"
      ]
     },
     "execution_count": 142,
     "metadata": {},
     "output_type": "execute_result"
    }
   ],
   "source": [
    "linalg.solve(H, b.ravel())"
   ]
  },
  {
   "cell_type": "code",
   "execution_count": 147,
   "metadata": {},
   "outputs": [
    {
     "data": {
      "text/plain": [
       "array([ 0.,  0., -1.,  0.,  0.,  0.,  0.,  0.,  0.,  0., -1.,  0.,  4.,\n",
       "        0., -1.,  0.,  0.,  0.,  0.,  0.,  0.,  0., -1.,  0.,  0.])"
      ]
     },
     "execution_count": 147,
     "metadata": {},
     "output_type": "execute_result"
    }
   ],
   "source": [
    "H @ ur"
   ]
  },
  {
   "cell_type": "code",
   "execution_count": 189,
   "metadata": {},
   "outputs": [],
   "source": [
    "uu = np.array([\n",
    "    [0, 0.2, 0.5],\n",
    "    [0, 1.0, 0.5],\n",
    "    [-0.1, 0.2, 0.3],\n",
    "    [-0.1, 0.0, 0.1]\n",
    "])"
   ]
  },
  {
   "cell_type": "code",
   "execution_count": 209,
   "metadata": {},
   "outputs": [
    {
     "data": {
      "text/plain": [
       "array([ 0. ,  0.2,  0.5,  0. ,  1. ,  0.5, -0.1,  0.2,  0.3, -0.1,  0. ,\n",
       "        0.1])"
      ]
     },
     "execution_count": 209,
     "metadata": {},
     "output_type": "execute_result"
    }
   ],
   "source": [
    "uu.ravel()"
   ]
  },
  {
   "cell_type": "code",
   "execution_count": 194,
   "metadata": {},
   "outputs": [],
   "source": [
    "n, m = uu.shape\n",
    "N_out = (n-1)*(m-1)\n",
    "N_in = n*m"
   ]
  },
  {
   "cell_type": "code",
   "execution_count": 205,
   "metadata": {},
   "outputs": [],
   "source": [
    "uu1 = np.zeros(shape=(N_out, N_in))"
   ]
  },
  {
   "cell_type": "code",
   "execution_count": 253,
   "metadata": {},
   "outputs": [],
   "source": [
    "def Au_func(A_u, i_out, n, m):\n",
    "    # i_out is what mesh we are in output space.\n",
    "    # i_col is what node we are in input space.\n",
    "    out_row = int(i_out / (m-1)) # Rows change slowly\n",
    "    out_col = i_out - out_row * (m-1)\n",
    "    inds = [out_row*m+out_col, out_row*m+out_col+1, (out_row+1)*m+out_col, (out_row+1)*m+out_col+1] \n",
    "    for ind in inds:\n",
    "        A_u[i_out, ind] = 0.25"
   ]
  },
  {
   "cell_type": "code",
   "execution_count": 349,
   "metadata": {},
   "outputs": [],
   "source": [
    "def E_row_func(A_u, i_out, n, m):\n",
    "    # i_out is what mesh we are in output space.\n",
    "    # i_col is what node we are in input space.\n",
    "    out_row = int(i_out / (m-1)) # Rows change slowly\n",
    "    out_col = i_out - out_row * (m-1)\n",
    "    A_u[i_out, out_row*m+out_col] = 1/2\n",
    "    A_u[i_out, out_row*m+out_col+1] = 1/2\n",
    "    A_u[i_out, (out_row+1)*m+out_col] = -1/2\n",
    "    A_u[i_out, (out_row+1)*m+out_col+1] = -1/2\n",
    "    \n",
    "def E_col_func(A_u, i_out, n, m):\n",
    "    # i_out is what mesh we are in output space.\n",
    "    # i_col is what node we are in input space.\n",
    "    out_row = int(i_out / (m-1)) # Rows change slowly\n",
    "    out_col = i_out - out_row * (m-1)\n",
    "    A_u[i_out, out_row*m+out_col+1] = -1/2\n",
    "    A_u[i_out, (out_row+1)*m+out_col+1] = -1/2\n",
    "    A_u[i_out, (out_row+1)*m+out_col] = 1/2\n",
    "    A_u[i_out, out_row*m+out_col] = 1/2\n",
    "\n",
    "    \n",
    "\n",
    "def make_A(func, n, m):\n",
    "    N_out = (n-1)*(m-1)\n",
    "    N_in = n*m\n",
    "    A_u = np.zeros(shape=(N_out, N_in))\n",
    "    for i_out in range(N_out):\n",
    "        func(A_u, i_out, n, m)\n",
    "    return A_u"
   ]
  },
  {
   "cell_type": "code",
   "execution_count": 350,
   "metadata": {},
   "outputs": [],
   "source": [
    "A_u = make_A(Au_func, n, m)\n",
    "E_ru = make_A(E_row_func, n, m)\n",
    "E_cu = make_A(E_col_func, n, m)\n"
   ]
  },
  {
   "cell_type": "code",
   "execution_count": 351,
   "metadata": {},
   "outputs": [
    {
     "ename": "ValueError",
     "evalue": "matmul: Input operand 1 has a mismatch in its core dimension 0, with gufunc signature (n?,k),(k,m?)->(n?,m?) (size 12 is different from 20)",
     "output_type": "error",
     "traceback": [
      "\u001b[0;31m---------------------------------------------------------------------------\u001b[0m",
      "\u001b[0;31mValueError\u001b[0m                                Traceback (most recent call last)",
      "\u001b[0;32m/var/folders/zn/x8ct2v5d1z714b45ycxv1hhc0000gn/T/ipykernel_33482/4110197777.py\u001b[0m in \u001b[0;36m<module>\u001b[0;34m\u001b[0m\n\u001b[0;32m----> 1\u001b[0;31m \u001b[0mu_node\u001b[0m \u001b[0;34m=\u001b[0m \u001b[0;34m(\u001b[0m\u001b[0mA_u\u001b[0m \u001b[0;34m@\u001b[0m \u001b[0muu\u001b[0m\u001b[0;34m.\u001b[0m\u001b[0mravel\u001b[0m\u001b[0;34m(\u001b[0m\u001b[0;34m)\u001b[0m\u001b[0;34m)\u001b[0m\u001b[0;34m.\u001b[0m\u001b[0mreshape\u001b[0m\u001b[0;34m(\u001b[0m\u001b[0;34m(\u001b[0m\u001b[0mn\u001b[0m\u001b[0;34m-\u001b[0m\u001b[0;36m1\u001b[0m\u001b[0;34m,\u001b[0m \u001b[0;34m-\u001b[0m\u001b[0;36m1\u001b[0m\u001b[0;34m)\u001b[0m\u001b[0;34m)\u001b[0m\u001b[0;34m\u001b[0m\u001b[0;34m\u001b[0m\u001b[0m\n\u001b[0m\u001b[1;32m      2\u001b[0m \u001b[0mu_node\u001b[0m\u001b[0;34m\u001b[0m\u001b[0;34m\u001b[0m\u001b[0m\n",
      "\u001b[0;31mValueError\u001b[0m: matmul: Input operand 1 has a mismatch in its core dimension 0, with gufunc signature (n?,k),(k,m?)->(n?,m?) (size 12 is different from 20)"
     ]
    }
   ],
   "source": [
    "u_node = (A_u @ uu.ravel()).reshape((n-1, -1))\n",
    "u_node"
   ]
  },
  {
   "cell_type": "code",
   "execution_count": 352,
   "metadata": {},
   "outputs": [
    {
     "ename": "ValueError",
     "evalue": "matmul: Input operand 1 has a mismatch in its core dimension 0, with gufunc signature (n?,k),(k,m?)->(n?,m?) (size 12 is different from 20)",
     "output_type": "error",
     "traceback": [
      "\u001b[0;31m---------------------------------------------------------------------------\u001b[0m",
      "\u001b[0;31mValueError\u001b[0m                                Traceback (most recent call last)",
      "\u001b[0;32m/var/folders/zn/x8ct2v5d1z714b45ycxv1hhc0000gn/T/ipykernel_33482/1376165811.py\u001b[0m in \u001b[0;36m<module>\u001b[0;34m\u001b[0m\n\u001b[0;32m----> 1\u001b[0;31m \u001b[0mE_r_node\u001b[0m \u001b[0;34m=\u001b[0m \u001b[0;34m(\u001b[0m\u001b[0mE_ru\u001b[0m \u001b[0;34m@\u001b[0m \u001b[0muu\u001b[0m\u001b[0;34m.\u001b[0m\u001b[0mravel\u001b[0m\u001b[0;34m(\u001b[0m\u001b[0;34m)\u001b[0m\u001b[0;34m)\u001b[0m\u001b[0;34m.\u001b[0m\u001b[0mreshape\u001b[0m\u001b[0;34m(\u001b[0m\u001b[0;34m(\u001b[0m\u001b[0mn\u001b[0m\u001b[0;34m-\u001b[0m\u001b[0;36m1\u001b[0m\u001b[0;34m,\u001b[0m \u001b[0;34m-\u001b[0m\u001b[0;36m1\u001b[0m\u001b[0;34m)\u001b[0m\u001b[0;34m)\u001b[0m\u001b[0;34m\u001b[0m\u001b[0;34m\u001b[0m\u001b[0m\n\u001b[0m\u001b[1;32m      2\u001b[0m \u001b[0mE_c_node\u001b[0m \u001b[0;34m=\u001b[0m \u001b[0;34m(\u001b[0m\u001b[0mE_cu\u001b[0m \u001b[0;34m@\u001b[0m \u001b[0muu\u001b[0m\u001b[0;34m.\u001b[0m\u001b[0mravel\u001b[0m\u001b[0;34m(\u001b[0m\u001b[0;34m)\u001b[0m\u001b[0;34m)\u001b[0m\u001b[0;34m.\u001b[0m\u001b[0mreshape\u001b[0m\u001b[0;34m(\u001b[0m\u001b[0;34m(\u001b[0m\u001b[0mn\u001b[0m\u001b[0;34m-\u001b[0m\u001b[0;36m1\u001b[0m\u001b[0;34m,\u001b[0m \u001b[0;34m-\u001b[0m\u001b[0;36m1\u001b[0m\u001b[0;34m)\u001b[0m\u001b[0;34m)\u001b[0m\u001b[0;34m\u001b[0m\u001b[0;34m\u001b[0m\u001b[0m\n",
      "\u001b[0;31mValueError\u001b[0m: matmul: Input operand 1 has a mismatch in its core dimension 0, with gufunc signature (n?,k),(k,m?)->(n?,m?) (size 12 is different from 20)"
     ]
    }
   ],
   "source": [
    "E_r_node = (E_ru @ uu.ravel()).reshape((n-1, -1))\n",
    "E_c_node = (E_cu @ uu.ravel()).reshape((n-1, -1))"
   ]
  },
  {
   "cell_type": "markdown",
   "metadata": {},
   "source": [
    "$$  \n",
    "I[u] = \\frac{1}{2} u^T E_c^T \\, D_{\\varepsilon} D_{v}  \\, E_c u +\n",
    "\\frac{1}{2}  u^T E_r^T \\,D_{\\varepsilon} D_{v}   \\, E_r u -  u^T D_{v}\\rho \\\\\n",
    "\\frac{d I}{d u} = E_c^T \\, D_{\\varepsilon} D_{v} E_c u +\n",
    " E_r^T \\,D_{\\varepsilon} D_{v} E_r u -  D_{v}\\rho = 0 \\\\\n",
    " D_{v} \\rho = (E_c^T \\, D_{\\varepsilon} D_{v} E_c +\n",
    " E_r^T \\,D_{\\varepsilon} D_{v} E_r) u\n",
    "$$\n",
    "so that we have the vector\n",
    "$$ b =  D_{v} \\rho \\\\\n",
    "   A = E_c^T \\, D_{\\varepsilon} D_{v} E_c +\n",
    " E_r^T \\,D_{\\varepsilon} D_{v} E_r\n",
    "$$"
   ]
  },
  {
   "cell_type": "code",
   "execution_count": 353,
   "metadata": {},
   "outputs": [],
   "source": [
    "A_tot = E_ru.T @ E_ru + E_cu.T @ E_cu"
   ]
  },
  {
   "cell_type": "code",
   "execution_count": 354,
   "metadata": {},
   "outputs": [
    {
     "ename": "ValueError",
     "evalue": "matmul: Input operand 1 has a mismatch in its core dimension 0, with gufunc signature (n?,k),(k,m?)->(n?,m?) (size 12 is different from 20)",
     "output_type": "error",
     "traceback": [
      "\u001b[0;31m---------------------------------------------------------------------------\u001b[0m",
      "\u001b[0;31mValueError\u001b[0m                                Traceback (most recent call last)",
      "\u001b[0;32m/var/folders/zn/x8ct2v5d1z714b45ycxv1hhc0000gn/T/ipykernel_33482/1437157177.py\u001b[0m in \u001b[0;36m<module>\u001b[0;34m\u001b[0m\n\u001b[0;32m----> 1\u001b[0;31m \u001b[0mE_ru\u001b[0m\u001b[0;34m.\u001b[0m\u001b[0mT\u001b[0m \u001b[0;34m@\u001b[0m \u001b[0mE_ru\u001b[0m \u001b[0;34m@\u001b[0m \u001b[0muu\u001b[0m\u001b[0;34m.\u001b[0m\u001b[0mravel\u001b[0m\u001b[0;34m(\u001b[0m\u001b[0;34m)\u001b[0m\u001b[0;34m\u001b[0m\u001b[0;34m\u001b[0m\u001b[0m\n\u001b[0m",
      "\u001b[0;31mValueError\u001b[0m: matmul: Input operand 1 has a mismatch in its core dimension 0, with gufunc signature (n?,k),(k,m?)->(n?,m?) (size 12 is different from 20)"
     ]
    }
   ],
   "source": [
    "E_ru.T @ E_ru @ uu.ravel()"
   ]
  },
  {
   "cell_type": "code",
   "execution_count": 519,
   "metadata": {},
   "outputs": [
    {
     "ename": "NameError",
     "evalue": "name 'symmetric' is not defined",
     "output_type": "error",
     "traceback": [
      "\u001b[0;31m---------------------------------------------------------------------------\u001b[0m",
      "\u001b[0;31mNameError\u001b[0m                                 Traceback (most recent call last)",
      "\u001b[0;32m/var/folders/zn/x8ct2v5d1z714b45ycxv1hhc0000gn/T/ipykernel_33482/3646176323.py\u001b[0m in \u001b[0;36m<module>\u001b[0;34m\u001b[0m\n\u001b[0;32m----> 1\u001b[0;31m \u001b[0msymmetric\u001b[0m\u001b[0;34m\u001b[0m\u001b[0;34m\u001b[0m\u001b[0m\n\u001b[0m",
      "\u001b[0;31mNameError\u001b[0m: name 'symmetric' is not defined"
     ]
    }
   ],
   "source": [
    "symmetric"
   ]
  },
  {
   "cell_type": "code",
   "execution_count": 500,
   "metadata": {},
   "outputs": [
    {
     "name": "stdout",
     "output_type": "stream",
     "text": [
      "[ 0  1  2  3  4  5  9 10 14 15 19 20 21 22 23 24]\n"
     ]
    }
   ],
   "source": [
    "uu2 = np.array([\n",
    "    [3.0, 3.0, 3.0, 3.0, 3.0],\n",
    "    [2.5, 0.0, 0, 0, 2.5],\n",
    "    [2, 0.0, 0, 0, 2],\n",
    "    [1.5, 0.0, 0, 0, 1.5],\n",
    "    [1, 1, 1, 1, 1],\n",
    "])\n",
    "\n",
    "nz = np.nonzero(uu2.ravel())[0]\n",
    "\n",
    "\n",
    "print(nz)\n",
    "\n",
    "N_in = len(uu2.ravel())\n",
    "\n",
    "zeros = np.array([x for x in np.arange(N_in) if x not in nz])\n",
    "\n",
    "perm_mat = np.zeros((N_in, N_in))\n",
    "\n",
    "for i in range(N_in):\n",
    "    if i < len(nz):\n",
    "        perm_mat[i, nz[i]] = 1\n",
    "    else:\n",
    "        perm_mat[i, zeros[i-len(nz)]] = 1\n",
    "\n",
    "\n",
    "n, m = uu2.shape\n",
    "A_u = make_A(Au_func, n, m)\n",
    "E_ru = make_A(E_row_func, n, m)\n",
    "E_cu = make_A(E_col_func, n, m)\n",
    "A_tot = E_ru.T @ E_ru + E_cu.T @ E_cu\n",
    "b1 = -A_tot @ uu2.ravel()\n",
    "A_free = np.copy(A_tot)"
   ]
  },
  {
   "cell_type": "code",
   "execution_count": 501,
   "metadata": {},
   "outputs": [],
   "source": [
    "A_varying = (A_tot @ perm_mat)[len(nz):, len(nz):]"
   ]
  },
  {
   "cell_type": "code",
   "execution_count": 502,
   "metadata": {},
   "outputs": [],
   "source": [
    "b_varying = (perm_mat @ b1)[len(nz):]"
   ]
  },
  {
   "cell_type": "code",
   "execution_count": 503,
   "metadata": {},
   "outputs": [],
   "source": [
    "U, s, vh = linalg.svd(A_varying)\n",
    "mask = s < 1e-15\n",
    "si = 1/s\n",
    "si[mask] = 0"
   ]
  },
  {
   "cell_type": "code",
   "execution_count": 512,
   "metadata": {},
   "outputs": [
    {
     "data": {
      "text/plain": [
       "array([[-0.5,  0. ,  0. , -0.5,  0. , -0.5,  0. ,  0. ,  0. ],\n",
       "       [ 0. , -0.5,  0. ,  0. , -0.5,  0. , -0.5,  0. ,  0. ],\n",
       "       [-0.5,  0. , -0.5,  0. ,  0. , -0.5,  0. , -0.5,  0. ],\n",
       "       [ 0. , -0.5,  0. ,  0. ,  0. ,  0. , -0.5,  0. ,  0. ],\n",
       "       [ 0. ,  0. ,  0. ,  0. ,  0. ,  0. ,  0. ,  0. ,  0. ],\n",
       "       [ 0. ,  0. ,  0. ,  0. ,  0. ,  0. ,  0. ,  0. , -0.5],\n",
       "       [ 1. ,  0. ,  0. ,  0. ,  0. ,  0. ,  0. ,  0. ,  0. ],\n",
       "       [ 0. ,  1. ,  0. ,  0. ,  0. ,  0. ,  0. ,  0. ,  0. ],\n",
       "       [ 0. ,  0. ,  0.5,  0. ,  0. ,  0. ,  0. ,  0. ,  0. ]])"
      ]
     },
     "execution_count": 512,
     "metadata": {},
     "output_type": "execute_result"
    }
   ],
   "source": [
    "A_varying"
   ]
  },
  {
   "cell_type": "code",
   "execution_count": 518,
   "metadata": {},
   "outputs": [
    {
     "data": {
      "text/plain": [
       "array([[ 0.5,  0. ,  0. ,  0. ,  0. ,  0. , -0.5,  0. ,  0. ,  0. ,  0. ,\n",
       "         0. ,  0. ,  0. ,  0. ,  0. ,  0. ,  0. ,  0. ,  0. ,  0. ,  0. ,\n",
       "         0. ,  0. ,  0. ],\n",
       "       [ 0. ,  1. ,  0. ,  0. ,  0. , -0.5,  0. , -0.5,  0. ,  0. ,  0. ,\n",
       "         0. ,  0. ,  0. ,  0. ,  0. ,  0. ,  0. ,  0. ,  0. ,  0. ,  0. ,\n",
       "         0. ,  0. ,  0. ],\n",
       "       [ 0. ,  0. ,  1. ,  0. ,  0. ,  0. , -0.5,  0. , -0.5,  0. ,  0. ,\n",
       "         0. ,  0. ,  0. ,  0. ,  0. ,  0. ,  0. ,  0. ,  0. ,  0. ,  0. ,\n",
       "         0. ,  0. ,  0. ],\n",
       "       [ 0. ,  0. ,  0. ,  1. ,  0. ,  0. ,  0. , -0.5,  0. , -0.5,  0. ,\n",
       "         0. ,  0. ,  0. ,  0. ,  0. ,  0. ,  0. ,  0. ,  0. ,  0. ,  0. ,\n",
       "         0. ,  0. ,  0. ],\n",
       "       [ 0. ,  0. ,  0. ,  0. ,  0.5,  0. ,  0. ,  0. , -0.5,  0. ,  0. ,\n",
       "         0. ,  0. ,  0. ,  0. ,  0. ,  0. ,  0. ,  0. ,  0. ,  0. ,  0. ,\n",
       "         0. ,  0. ,  0. ],\n",
       "       [ 0. , -0.5,  0. ,  0. ,  0. ,  1. ,  0. ,  0. ,  0. ,  0. ,  0. ,\n",
       "        -0.5,  0. ,  0. ,  0. ,  0. ,  0. ,  0. ,  0. ,  0. ,  0. ,  0. ,\n",
       "         0. ,  0. ,  0. ],\n",
       "       [-0.5,  0. , -0.5,  0. ,  0. ,  0. ,  2. ,  0. ,  0. ,  0. , -0.5,\n",
       "         0. , -0.5,  0. ,  0. ,  0. ,  0. ,  0. ,  0. ,  0. ,  0. ,  0. ,\n",
       "         0. ,  0. ,  0. ],\n",
       "       [ 0. , -0.5,  0. , -0.5,  0. ,  0. ,  0. ,  2. ,  0. ,  0. ,  0. ,\n",
       "        -0.5,  0. , -0.5,  0. ,  0. ,  0. ,  0. ,  0. ,  0. ,  0. ,  0. ,\n",
       "         0. ,  0. ,  0. ],\n",
       "       [ 0. ,  0. , -0.5,  0. , -0.5,  0. ,  0. ,  0. ,  2. ,  0. ,  0. ,\n",
       "         0. , -0.5,  0. , -0.5,  0. ,  0. ,  0. ,  0. ,  0. ,  0. ,  0. ,\n",
       "         0. ,  0. ,  0. ],\n",
       "       [ 0. ,  0. ,  0. , -0.5,  0. ,  0. ,  0. ,  0. ,  0. ,  1. ,  0. ,\n",
       "         0. ,  0. , -0.5,  0. ,  0. ,  0. ,  0. ,  0. ,  0. ,  0. ,  0. ,\n",
       "         0. ,  0. ,  0. ],\n",
       "       [ 0. ,  0. ,  0. ,  0. ,  0. ,  0. , -0.5,  0. ,  0. ,  0. ,  1. ,\n",
       "         0. ,  0. ,  0. ,  0. ,  0. , -0.5,  0. ,  0. ,  0. ,  0. ,  0. ,\n",
       "         0. ,  0. ,  0. ],\n",
       "       [ 0. ,  0. ,  0. ,  0. ,  0. , -0.5,  0. , -0.5,  0. ,  0. ,  0. ,\n",
       "         2. ,  0. ,  0. ,  0. , -0.5,  0. , -0.5,  0. ,  0. ,  0. ,  0. ,\n",
       "         0. ,  0. ,  0. ],\n",
       "       [ 0. ,  0. ,  0. ,  0. ,  0. ,  0. , -0.5,  0. , -0.5,  0. ,  0. ,\n",
       "         0. ,  2. ,  0. ,  0. ,  0. , -0.5,  0. , -0.5,  0. ,  0. ,  0. ,\n",
       "         0. ,  0. ,  0. ],\n",
       "       [ 0. ,  0. ,  0. ,  0. ,  0. ,  0. ,  0. , -0.5,  0. , -0.5,  0. ,\n",
       "         0. ,  0. ,  2. ,  0. ,  0. ,  0. , -0.5,  0. , -0.5,  0. ,  0. ,\n",
       "         0. ,  0. ,  0. ],\n",
       "       [ 0. ,  0. ,  0. ,  0. ,  0. ,  0. ,  0. ,  0. , -0.5,  0. ,  0. ,\n",
       "         0. ,  0. ,  0. ,  1. ,  0. ,  0. ,  0. , -0.5,  0. ,  0. ,  0. ,\n",
       "         0. ,  0. ,  0. ],\n",
       "       [ 0. ,  0. ,  0. ,  0. ,  0. ,  0. ,  0. ,  0. ,  0. ,  0. ,  0. ,\n",
       "        -0.5,  0. ,  0. ,  0. ,  1. ,  0. ,  0. ,  0. ,  0. ,  0. , -0.5,\n",
       "         0. ,  0. ,  0. ],\n",
       "       [ 0. ,  0. ,  0. ,  0. ,  0. ,  0. ,  0. ,  0. ,  0. ,  0. , -0.5,\n",
       "         0. , -0.5,  0. ,  0. ,  0. ,  2. ,  0. ,  0. ,  0. , -0.5,  0. ,\n",
       "        -0.5,  0. ,  0. ],\n",
       "       [ 0. ,  0. ,  0. ,  0. ,  0. ,  0. ,  0. ,  0. ,  0. ,  0. ,  0. ,\n",
       "        -0.5,  0. , -0.5,  0. ,  0. ,  0. ,  2. ,  0. ,  0. ,  0. , -0.5,\n",
       "         0. , -0.5,  0. ],\n",
       "       [ 0. ,  0. ,  0. ,  0. ,  0. ,  0. ,  0. ,  0. ,  0. ,  0. ,  0. ,\n",
       "         0. , -0.5,  0. , -0.5,  0. ,  0. ,  0. ,  2. ,  0. ,  0. ,  0. ,\n",
       "        -0.5,  0. , -0.5],\n",
       "       [ 0. ,  0. ,  0. ,  0. ,  0. ,  0. ,  0. ,  0. ,  0. ,  0. ,  0. ,\n",
       "         0. ,  0. , -0.5,  0. ,  0. ,  0. ,  0. ,  0. ,  1. ,  0. ,  0. ,\n",
       "         0. , -0.5,  0. ],\n",
       "       [ 0. ,  0. ,  0. ,  0. ,  0. ,  0. ,  0. ,  0. ,  0. ,  0. ,  0. ,\n",
       "         0. ,  0. ,  0. ,  0. ,  0. , -0.5,  0. ,  0. ,  0. ,  0.5,  0. ,\n",
       "         0. ,  0. ,  0. ],\n",
       "       [ 0. ,  0. ,  0. ,  0. ,  0. ,  0. ,  0. ,  0. ,  0. ,  0. ,  0. ,\n",
       "         0. ,  0. ,  0. ,  0. , -0.5,  0. , -0.5,  0. ,  0. ,  0. ,  1. ,\n",
       "         0. ,  0. ,  0. ],\n",
       "       [ 0. ,  0. ,  0. ,  0. ,  0. ,  0. ,  0. ,  0. ,  0. ,  0. ,  0. ,\n",
       "         0. ,  0. ,  0. ,  0. ,  0. , -0.5,  0. , -0.5,  0. ,  0. ,  0. ,\n",
       "         1. ,  0. ,  0. ],\n",
       "       [ 0. ,  0. ,  0. ,  0. ,  0. ,  0. ,  0. ,  0. ,  0. ,  0. ,  0. ,\n",
       "         0. ,  0. ,  0. ,  0. ,  0. ,  0. , -0.5,  0. , -0.5,  0. ,  0. ,\n",
       "         0. ,  1. ,  0. ],\n",
       "       [ 0. ,  0. ,  0. ,  0. ,  0. ,  0. ,  0. ,  0. ,  0. ,  0. ,  0. ,\n",
       "         0. ,  0. ,  0. ,  0. ,  0. ,  0. ,  0. , -0.5,  0. ,  0. ,  0. ,\n",
       "         0. ,  0. ,  0.5]])"
      ]
     },
     "execution_count": 518,
     "metadata": {},
     "output_type": "execute_result"
    }
   ],
   "source": [
    "symm A_tot"
   ]
  },
  {
   "cell_type": "code",
   "execution_count": 517,
   "metadata": {},
   "outputs": [
    {
     "data": {
      "text/plain": [
       "23"
      ]
     },
     "execution_count": 517,
     "metadata": {},
     "output_type": "execute_result"
    }
   ],
   "source": [
    "np.linalg.matrix_rank(A_tot)"
   ]
  },
  {
   "cell_type": "code",
   "execution_count": 505,
   "metadata": {},
   "outputs": [],
   "source": [
    "x_solve = vh @ np.diag(si) @ U.T @ b_varying"
   ]
  },
  {
   "cell_type": "code",
   "execution_count": 506,
   "metadata": {},
   "outputs": [
    {
     "data": {
      "text/plain": [
       "array([-7.56129295e-01,  6.86327763e-02, -4.26986719e+00, -2.12312075e+00,\n",
       "        1.13750413e+00, -6.03147963e-15,  7.12307009e-01, -1.04315172e+01,\n",
       "       -6.00552267e+00])"
      ]
     },
     "execution_count": 506,
     "metadata": {},
     "output_type": "execute_result"
    }
   ],
   "source": [
    "x_solve"
   ]
  },
  {
   "cell_type": "code",
   "execution_count": 507,
   "metadata": {},
   "outputs": [],
   "source": [
    "uu_solved = perm_mat.T @ np.r_[(perm_mat @ uu2.ravel() )[:len(nz)], x_solve]"
   ]
  },
  {
   "cell_type": "code",
   "execution_count": 508,
   "metadata": {},
   "outputs": [
    {
     "data": {
      "text/plain": [
       "array([[ 1.93596768,  1.32812587,  0.4496914 ,  1.0575332 ],\n",
       "       [ 0.40518749, -0.41827829, -0.76593257,  0.0575332 ],\n",
       "       [ 0.52229656, -2.6762067 , -3.82488393, -0.62638067],\n",
       "       [ 1.05307675, -1.92980255, -3.60925997, -0.62638067]])"
      ]
     },
     "execution_count": 508,
     "metadata": {},
     "output_type": "execute_result"
    }
   ],
   "source": [
    "(A_u @ uu_solved).reshape((4, -1))"
   ]
  },
  {
   "cell_type": "code",
   "execution_count": 509,
   "metadata": {},
   "outputs": [
    {
     "data": {
      "text/plain": [
       "(16, 25)"
      ]
     },
     "execution_count": 509,
     "metadata": {},
     "output_type": "execute_result"
    }
   ],
   "source": [
    "A_u.shape"
   ]
  },
  {
   "cell_type": "code",
   "execution_count": 510,
   "metadata": {},
   "outputs": [],
   "source": [
    "from scipy import linalg"
   ]
  },
  {
   "cell_type": "code",
   "execution_count": 511,
   "metadata": {},
   "outputs": [],
   "source": [
    "out = linalg.solve(A_free[4:, 4:], b1[4:])"
   ]
  },
  {
   "cell_type": "code",
   "execution_count": 385,
   "metadata": {},
   "outputs": [
    {
     "ename": "AttributeError",
     "evalue": "module 'scipy.linalg' has no attribute 'perm'",
     "output_type": "error",
     "traceback": [
      "\u001b[0;31m---------------------------------------------------------------------------\u001b[0m",
      "\u001b[0;31mAttributeError\u001b[0m                            Traceback (most recent call last)",
      "\u001b[0;32m/var/folders/zn/x8ct2v5d1z714b45ycxv1hhc0000gn/T/ipykernel_33482/1704815879.py\u001b[0m in \u001b[0;36m<module>\u001b[0;34m\u001b[0m\n\u001b[0;32m----> 1\u001b[0;31m \u001b[0mlinalg\u001b[0m\u001b[0;34m.\u001b[0m\u001b[0mperm\u001b[0m\u001b[0;34m\u001b[0m\u001b[0;34m\u001b[0m\u001b[0m\n\u001b[0m",
      "\u001b[0;31mAttributeError\u001b[0m: module 'scipy.linalg' has no attribute 'perm'"
     ]
    }
   ],
   "source": [
    "linalg.perm"
   ]
  },
  {
   "cell_type": "code",
   "execution_count": 386,
   "metadata": {},
   "outputs": [],
   "source": [
    "out = np.zeros(n*m)\n",
    "out[0:4] = 1.0"
   ]
  },
  {
   "cell_type": "code",
   "execution_count": 440,
   "metadata": {},
   "outputs": [
    {
     "data": {
      "text/plain": [
       "array([-0.5, -1. , -1. , -1. , -0.5,  0.5,  1. ,  1. ,  1. ,  0.5,  0. ,\n",
       "        0. ,  0. ,  0. ,  0. ])"
      ]
     },
     "execution_count": 440,
     "metadata": {},
     "output_type": "execute_result"
    }
   ],
   "source": [
    "b_varying"
   ]
  },
  {
   "cell_type": "code",
   "execution_count": 388,
   "metadata": {},
   "outputs": [
    {
     "name": "stderr",
     "output_type": "stream",
     "text": [
      "/var/folders/zn/x8ct2v5d1z714b45ycxv1hhc0000gn/T/ipykernel_33482/4231187275.py:1: LinAlgWarning: Ill-conditioned matrix (rcond=5.55112e-18): result may not be accurate.\n",
      "  linalg.solve(A_tot,out).reshape()\n"
     ]
    },
    {
     "ename": "TypeError",
     "evalue": "reshape() takes exactly 1 argument (0 given)",
     "output_type": "error",
     "traceback": [
      "\u001b[0;31m---------------------------------------------------------------------------\u001b[0m",
      "\u001b[0;31mTypeError\u001b[0m                                 Traceback (most recent call last)",
      "\u001b[0;32m/var/folders/zn/x8ct2v5d1z714b45ycxv1hhc0000gn/T/ipykernel_33482/4231187275.py\u001b[0m in \u001b[0;36m<module>\u001b[0;34m\u001b[0m\n\u001b[0;32m----> 1\u001b[0;31m \u001b[0mlinalg\u001b[0m\u001b[0;34m.\u001b[0m\u001b[0msolve\u001b[0m\u001b[0;34m(\u001b[0m\u001b[0mA_tot\u001b[0m\u001b[0;34m,\u001b[0m\u001b[0mout\u001b[0m\u001b[0;34m)\u001b[0m\u001b[0;34m.\u001b[0m\u001b[0mreshape\u001b[0m\u001b[0;34m(\u001b[0m\u001b[0;34m)\u001b[0m\u001b[0;34m\u001b[0m\u001b[0;34m\u001b[0m\u001b[0m\n\u001b[0m",
      "\u001b[0;31mTypeError\u001b[0m: reshape() takes exactly 1 argument (0 given)"
     ]
    }
   ],
   "source": [
    " linalg.solve(A_tot,out).reshape()"
   ]
  },
  {
   "cell_type": "code",
   "execution_count": 390,
   "metadata": {},
   "outputs": [],
   "source": [
    "b0 = A_tot @ uu2.ravel()"
   ]
  },
  {
   "cell_type": "code",
   "execution_count": 391,
   "metadata": {},
   "outputs": [
    {
     "data": {
      "text/plain": [
       "array([[ 0.5,  0. ,  0. ,  0. ,  0. ],\n",
       "       [ 0. ,  1. ,  0. ,  0. , -0.5],\n",
       "       [ 0. ,  0. ,  1. ,  0. ,  0. ],\n",
       "       [ 0. ,  0. ,  0. ,  0.5,  0. ],\n",
       "       [ 0. , -0.5,  0. ,  0. ,  1. ]])"
      ]
     },
     "execution_count": 391,
     "metadata": {},
     "output_type": "execute_result"
    }
   ],
   "source": [
    "A_tot[:5, :5]"
   ]
  },
  {
   "cell_type": "code",
   "execution_count": 392,
   "metadata": {},
   "outputs": [
    {
     "data": {
      "text/plain": [
       "array([ 0.5,  0. ,  1. ,  0.5,  0. , -1. , -0.5, -0.5,  0. ,  0. ,  0. ,\n",
       "        0. ,  0. ,  0. ,  0. ,  0. ,  0. ,  0. ,  0. ,  0. ])"
      ]
     },
     "execution_count": 392,
     "metadata": {},
     "output_type": "execute_result"
    }
   ],
   "source": [
    "b0"
   ]
  },
  {
   "cell_type": "code",
   "execution_count": 393,
   "metadata": {},
   "outputs": [
    {
     "name": "stderr",
     "output_type": "stream",
     "text": [
      "/var/folders/zn/x8ct2v5d1z714b45ycxv1hhc0000gn/T/ipykernel_33482/4129082772.py:1: LinAlgWarning: Ill-conditioned matrix (rcond=5.55112e-18): result may not be accurate.\n",
      "  linalg.solve(A_tot, b0)\n"
     ]
    },
    {
     "data": {
      "text/plain": [
       "array([ 1.,  0.,  1.,  1.,  0.,  0.,  0.,  0.,  0.,  0.,  0.,  0.,  0.,\n",
       "        0.,  0.,  0., -0.,  0., -0.,  0.])"
      ]
     },
     "execution_count": 393,
     "metadata": {},
     "output_type": "execute_result"
    }
   ],
   "source": [
    "linalg.solve(A_tot, b0)"
   ]
  },
  {
   "cell_type": "code",
   "execution_count": 366,
   "metadata": {},
   "outputs": [
    {
     "data": {
      "text/plain": [
       "array([[ 1.,  0.,  0.,  0.,  0., -1.,  0.,  0.,  0.,  0.],\n",
       "       [ 0.,  2.,  0.,  0., -1.,  0., -1.,  0.,  0.,  0.],\n",
       "       [ 0.,  0.,  2.,  0.,  0., -1.,  0., -1.,  0.,  0.],\n",
       "       [ 0.,  0.,  0.,  1.,  0.,  0., -1.,  0.,  0.,  0.],\n",
       "       [ 0., -1.,  0.,  0.,  2.,  0.,  0.,  0.,  0., -1.],\n",
       "       [-1.,  0., -1.,  0.,  0.,  4.,  0.,  0., -1.,  0.],\n",
       "       [ 0., -1.,  0., -1.,  0.,  0.,  4.,  0.,  0., -1.],\n",
       "       [ 0.,  0., -1.,  0.,  0.,  0.,  0.,  2.,  0.,  0.],\n",
       "       [ 0.,  0.,  0.,  0.,  0., -1.,  0.,  0.,  2.,  0.],\n",
       "       [ 0.,  0.,  0.,  0., -1.,  0., -1.,  0.,  0.,  4.]])"
      ]
     },
     "execution_count": 366,
     "metadata": {},
     "output_type": "execute_result"
    }
   ],
   "source": [
    "A_tot[:10, :10]*2"
   ]
  },
  {
   "cell_type": "code",
   "execution_count": 332,
   "metadata": {},
   "outputs": [
    {
     "data": {
      "text/plain": [
       "array([[0.5, 1. , 0.5],\n",
       "       [1. , 0.5, 1. ],\n",
       "       [0.5, 1. , 0.5],\n",
       "       [1. , 0.5, 1. ]])"
      ]
     },
     "execution_count": 332,
     "metadata": {},
     "output_type": "execute_result"
    }
   ],
   "source": [
    "np.r_[uu2.ravel()[:3], out].reshape((n, m))"
   ]
  },
  {
   "cell_type": "code",
   "execution_count": 188,
   "metadata": {},
   "outputs": [
    {
     "data": {
      "text/plain": [
       "array([[ 0,  1,  2,  3],\n",
       "       [10, 11, 12, 13],\n",
       "       [20, 21, 22, 23],\n",
       "       [30, 31, 32, 33]])"
      ]
     },
     "execution_count": 188,
     "metadata": {},
     "output_type": "execute_result"
    }
   ],
   "source": [
    "inds_grid = np.array([[i*10 + j for j in range(4)] for i in range(4)])\n",
    "inds_grid"
   ]
  },
  {
   "cell_type": "code",
   "execution_count": 181,
   "metadata": {},
   "outputs": [
    {
     "data": {
      "text/plain": [
       "array([ 0,  1,  2,  3, 10, 11, 12, 13, 20, 21, 22, 23, 30, 31, 32, 33])"
      ]
     },
     "execution_count": 181,
     "metadata": {},
     "output_type": "execute_result"
    }
   ],
   "source": [
    "inds.ravel()"
   ]
  },
  {
   "cell_type": "code",
   "execution_count": 176,
   "metadata": {},
   "outputs": [
    {
     "data": {
      "text/plain": [
       "(5, 5)"
      ]
     },
     "execution_count": 176,
     "metadata": {},
     "output_type": "execute_result"
    }
   ],
   "source": [
    "u.shape"
   ]
  },
  {
   "cell_type": "code",
   "execution_count": 175,
   "metadata": {},
   "outputs": [
    {
     "data": {
      "text/plain": [
       "(30, 18)"
      ]
     },
     "execution_count": 175,
     "metadata": {},
     "output_type": "execute_result"
    }
   ],
   "source": [
    "Vn.shape"
   ]
  },
  {
   "cell_type": "code",
   "execution_count": null,
   "metadata": {},
   "outputs": [],
   "source": [
    "np.diag()"
   ]
  },
  {
   "cell_type": "code",
   "execution_count": 171,
   "metadata": {},
   "outputs": [
    {
     "data": {
      "text/plain": [
       "3"
      ]
     },
     "execution_count": 171,
     "metadata": {},
     "output_type": "execute_result"
    }
   ],
   "source": [
    "n1 = n-1\n",
    "m1 = m -1\n",
    "u_node = np.zeros(shape=((n-1)*(m-1), n*m))\n",
    "\n",
    "drows = np.zeros(shape=((n-1)*(m-1), n*m))\n",
    "for i in range(n-1): # Iterate over rows\n",
    "    for j in range(m-1): # Iterate over columns...\n",
    "        ij = i*m+j # current row...\n",
    "        # My neighbors are one row above and below...\n",
    "        # Eest = u_row_minus_1 - u_row_plus_1 (those are the only non-zero elements)\n",
    "        above = (i+1)*m+j\n",
    "        drows[ij, above] = -1.0\n",
    "        u_node[ij, above] = 1.0\n",
    "        below = (i-1)*m + j\n",
    "        drows[ij, below] = 1.0\n",
    "        u_node[ij, below] = 1.0\n",
    "\n",
    "dcols = np.zeros(shape=(n*m, n*m))\n",
    "for i in range(n): # Iterate over rows\n",
    "    for j in range(m): # Iterate over columns...\n",
    "        ij = i*m+j # current row...\n",
    "        # My neighbors are one row above and below...\n",
    "        # Eest = u_row_minus_1 - u_row_plus_1 (those are the only non-zero elements)\n",
    "        if j < (m-1):\n",
    "            right = (i)*m+j+1\n",
    "            dcols[ij, right] = -1.0\n",
    "            u_node[ij, right] = 1.0\n",
    "        if j > 0:\n",
    "            left = (i)*m + j-1\n",
    "            dcols[ij, left] = 1.0\n",
    "            u_node[ij, left] = 1.0\n",
    "\n"
   ]
  },
  {
   "cell_type": "markdown",
   "metadata": {},
   "source": [
    "$ A x = b_0$ (for now, this is 0)... \n",
    "Then take $x = x_1 + y$. Then we have\n",
    "$$A y = b_0 - A x_1$$\n",
    "But $y$ cannot "
   ]
  },
  {
   "cell_type": "code",
   "execution_count": null,
   "metadata": {},
   "outputs": [],
   "source": []
  }
 ],
 "metadata": {
  "kernelspec": {
   "display_name": "xsede",
   "language": "python",
   "name": "xsede"
  },
  "language_info": {
   "codemirror_mode": {
    "name": "ipython",
    "version": 3
   },
   "file_extension": ".py",
   "mimetype": "text/x-python",
   "name": "python",
   "nbconvert_exporter": "python",
   "pygments_lexer": "ipython3",
   "version": "3.9.6"
  }
 },
 "nbformat": 4,
 "nbformat_minor": 4
}
