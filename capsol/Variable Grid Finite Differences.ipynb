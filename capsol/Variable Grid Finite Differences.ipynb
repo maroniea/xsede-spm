{
 "cells": [
  {
   "cell_type": "markdown",
   "metadata": {},
   "source": [
    "# Test Finite Differences Poisson"
   ]
  },
  {
   "cell_type": "code",
   "execution_count": 1,
   "metadata": {},
   "outputs": [],
   "source": [
    "%matplotlib inline\n",
    "import numpy as np\n",
    "from scipy import linalg\n",
    "from scipy import sparse\n",
    "from scipy.sparse import linalg as la\n",
    "import matplotlib.pyplot as plt"
   ]
  },
  {
   "cell_type": "markdown",
   "metadata": {},
   "source": [
    "# Normal Finite Differences kernel on a 2D grid...\n",
    "\n",
    "1. "
   ]
  },
  {
   "cell_type": "code",
   "execution_count": 2,
   "metadata": {},
   "outputs": [],
   "source": [
    "Nx = 201\n",
    "Ny = 201\n",
    "x = np.linspace(0, 1, Nx)\n",
    "y = np.linspace(0, 1, Ny)\n",
    "X, Y = np.meshgrid(x, y)\n",
    "dX = np.diff(X, axis=1) # Columns\n",
    "dY = np.diff(Y, axis=0) # Rows\n",
    "hx = dX.mean()\n",
    "hy = dY.mean()"
   ]
  },
  {
   "cell_type": "code",
   "execution_count": 3,
   "metadata": {},
   "outputs": [
    {
     "data": {
      "text/plain": [
       "array([0.   , 0.005, 0.01 , ..., 0.99 , 0.995, 1.   ])"
      ]
     },
     "execution_count": 3,
     "metadata": {},
     "output_type": "execute_result"
    }
   ],
   "source": [
    "X.ravel() # Fast changing index...\n"
   ]
  },
  {
   "cell_type": "code",
   "execution_count": 4,
   "metadata": {},
   "outputs": [
    {
     "data": {
      "text/plain": [
       "0.005000000000000001"
      ]
     },
     "execution_count": 4,
     "metadata": {},
     "output_type": "execute_result"
    }
   ],
   "source": [
    "hy"
   ]
  },
  {
   "cell_type": "code",
   "execution_count": 5,
   "metadata": {},
   "outputs": [
    {
     "data": {
      "text/plain": [
       "array([[0.005, 0.005, 0.005, ..., 0.005, 0.005, 0.005],\n",
       "       [0.005, 0.005, 0.005, ..., 0.005, 0.005, 0.005],\n",
       "       [0.005, 0.005, 0.005, ..., 0.005, 0.005, 0.005],\n",
       "       ...,\n",
       "       [0.005, 0.005, 0.005, ..., 0.005, 0.005, 0.005],\n",
       "       [0.005, 0.005, 0.005, ..., 0.005, 0.005, 0.005],\n",
       "       [0.005, 0.005, 0.005, ..., 0.005, 0.005, 0.005]])"
      ]
     },
     "execution_count": 5,
     "metadata": {},
     "output_type": "execute_result"
    }
   ],
   "source": [
    "dY"
   ]
  },
  {
   "cell_type": "code",
   "execution_count": 6,
   "metadata": {},
   "outputs": [],
   "source": [
    "Phi_exact = X**3 + 2 * Y**3\n",
    "source = -6 * X + -12 * Y\n",
    "f0 = source.ravel()"
   ]
  },
  {
   "cell_type": "code",
   "execution_count": 7,
   "metadata": {},
   "outputs": [],
   "source": []
  },
  {
   "cell_type": "code",
   "execution_count": 8,
   "metadata": {},
   "outputs": [],
   "source": []
  },
  {
   "cell_type": "code",
   "execution_count": 276,
   "metadata": {},
   "outputs": [],
   "source": [
    "def boundary(Nx, Ny):\n",
    "    bc = np.zeros(Nx*Ny,dtype=bool)\n",
    "    for i in range(Ny):\n",
    "        for j in range(Nx):\n",
    "            if i == 0 or j == 0 or i == (Ny-1) or j == (Nx-1):\n",
    "                ind = i * Nx + j # This point\n",
    "                bc[ind] = True\n",
    "    return bc\n",
    "\n",
    "def boundary_radial(Nx, Ny):\n",
    "    bc = np.zeros(Nx*Ny,dtype=bool)\n",
    "    for i in range(Ny):\n",
    "        for j in range(Nx):\n",
    "            if i == 0 or i == (Ny-1) or j == (Nx-1):\n",
    "                ind = i * Nx + j # This point\n",
    "                bc[ind] = True\n",
    "    return bc"
   ]
  },
  {
   "cell_type": "code",
   "execution_count": 10,
   "metadata": {},
   "outputs": [],
   "source": [
    "def poisson_equally_spaced(Nx, Ny, hx, hy):\n",
    "    A = sparse.lil_matrix((Nx*Ny, Nx*Ny))\n",
    "    for i in range(Ny):\n",
    "        for j in range(Nx):\n",
    "            ind = i * Nx + j # This point\n",
    "            ixp = ind + 1    # +x \n",
    "            ixn = ind - 1    # -x\n",
    "            iyp = (i+1)*Nx + j  # +y\n",
    "            iyn = (i-1)*Nx + j  # -y\n",
    "\n",
    "            A[ind, ind] = 2 / hx**2 + 2 / hy**2\n",
    "            if j < (Nx - 1):\n",
    "                A[ind, ixp] = -1 / hx**2\n",
    "            if j > 0:\n",
    "                A[ind, ixn] = -1 / hx**2\n",
    "\n",
    "            if i > 0:\n",
    "                A[ind, iyn] = -1 / hy**2\n",
    "            if i < (Ny-1):\n",
    "                A[ind, iyp] = -1 / hy**2\n",
    "    \n",
    "    return sparse.csr_matrix(A) # Convert to better format for usage\n",
    "        "
   ]
  },
  {
   "cell_type": "code",
   "execution_count": 527,
   "metadata": {},
   "outputs": [],
   "source": [
    "def poisson_variable_spacing(x, y):\n",
    "    Nx = len(x)\n",
    "    Ny = len(y)\n",
    "    hx = np.diff(x)\n",
    "    hy = np.diff(y)\n",
    "    A = sparse.lil_matrix((Nx*Ny, Nx*Ny))\n",
    "    for i in range(Ny):\n",
    "        for j in range(Nx):\n",
    "            ind = i * Nx + j # This point\n",
    "            ixp = ind + 1    # +x \n",
    "            ixn = ind - 1    # -x\n",
    "            iyp = (i+1)*Nx + j  # +y\n",
    "            iyn = (i-1)*Nx + j  # -y\n",
    "            \n",
    "            \n",
    "            Dx_plus = hx[j] if j < (Nx-1) else 0.0\n",
    "            Dx_minus = hx[j-1] if j > 0 else 0.0\n",
    "            Dy_plus = hy[i] if i < (Ny-1) else 0.0\n",
    "            Dy_minus = hy[i-1] if i > 0 else 0.0\n",
    "            \n",
    "            prefactor_x = 4/((Dx_plus+Dx_minus)*(Dx_plus**2 + Dx_minus**2))\n",
    "            \n",
    "            prefactor_y = 4/((Dy_plus+Dy_minus)*(Dy_plus**2 + Dy_minus**2))\n",
    "\n",
    "            \n",
    "            A[ind, ind] = (Dx_plus+Dx_minus) * prefactor_x + (Dy_plus+Dy_minus) * prefactor_y\n",
    "            if j < (Nx - 1):\n",
    "                A[ind, ixp] = -1 * Dx_minus * prefactor_x\n",
    "            if j > 0:\n",
    "                A[ind, ixn] = -1 * Dx_plus * prefactor_x\n",
    "\n",
    "            if i > 0:\n",
    "                A[ind, iyn] = -1 * Dy_plus * prefactor_y\n",
    "            if i < (Ny-1):\n",
    "                A[ind, iyp] = -1 * Dy_minus * prefactor_y\n",
    "    \n",
    "    return sparse.csr_matrix(A) # Convert to better format for usage\n",
    "\n",
    "\n",
    "def poisson_variable_spacing_radial(x, y):\n",
    "    Nx = len(x)\n",
    "    Ny = len(y)\n",
    "    hx = np.diff(x)\n",
    "    hy = np.diff(y)\n",
    "    A = sparse.lil_matrix((Nx*Ny, Nx*Ny))\n",
    "    for i in range(Ny):\n",
    "        for j in range(Nx): # Radial\n",
    "            ind = i * Nx + j # This point\n",
    "            ixp = ind + 1    # +x \n",
    "            ixn = ind - 1    # -x\n",
    "            iyp = (i+1)*Nx + j  # +y\n",
    "            iyn = (i-1)*Nx + j  # -y\n",
    "            \n",
    "            \n",
    "            Dx_plus = hx[j] if j < (Nx-1) else 0.0\n",
    "            Dx_minus = hx[j-1] if j > 0 else hx[j]\n",
    "            x0 = x[j]\n",
    "            Dy_plus = hy[i] if i < (Ny-1) else 0.0\n",
    "            Dy_minus = hy[i-1] if i > 0 else 0.0\n",
    "            \n",
    "            prefactor_x = 4/((Dx_plus+Dx_minus)*(Dx_plus**2 + Dx_minus**2))\n",
    "            \n",
    "            prefactor_y = 4/((Dy_plus+Dy_minus)*(Dy_plus**2 + Dy_minus**2))\n",
    "\n",
    "            \n",
    "            A[ind, ind] = (Dx_plus+Dx_minus) * prefactor_x + (Dy_plus+Dy_minus) * prefactor_y\n",
    "            if j == 0:\n",
    "                A[ind, ixp] = -2 * Dx_minus * prefactor_x # That's it, no radial derivative here...\n",
    "            elif j < (Nx - 1):\n",
    "                A[ind, ixp] = -1 * Dx_minus * prefactor_x + -1 / (x0 * (Dx_plus+Dx_minus))\n",
    "            \n",
    "                \n",
    "            \n",
    "            if j > 0:\n",
    "                A[ind, ixn] = -1 * Dx_plus * prefactor_x + 1 / (x0 * (Dx_plus+Dx_minus))\n",
    "            \n",
    "            if j == (Nx - 1):\n",
    "                A[ind, ind] += -1 / (x0 * (Dx_plus+Dx_minus)) # 1st order difference uses the grid point here...\n",
    "\n",
    "            if i > 0:\n",
    "                A[ind, iyn] = -1 * Dy_plus * prefactor_y\n",
    "            if i < (Ny-1):\n",
    "                A[ind, iyp] = -1 * Dy_minus * prefactor_y\n",
    "    \n",
    "    return sparse.csr_matrix(A) # Convert to better format for usage\n",
    "\n",
    "\n",
    "def grid_area(r, z):\n",
    "    # Area of each grid element is 2 * np.pi * \n",
    "    dr2 = np.diff(r**2)\n",
    "    return 2 * np.pi *  np.diff(z).reshape((-1, 1)) @ dr2.reshape((1, -1))"
   ]
  },
  {
   "cell_type": "code",
   "execution_count": 490,
   "metadata": {},
   "outputs": [],
   "source": [
    "A = poisson_equally_spaced(Nx, Ny, hx, hy)\n",
    "bc = boundary(Nx, Ny)"
   ]
  },
  {
   "cell_type": "code",
   "execution_count": 491,
   "metadata": {},
   "outputs": [
    {
     "data": {
      "text/plain": [
       "array([[ True,  True,  True, ...,  True,  True,  True],\n",
       "       [ True, False, False, ..., False, False,  True],\n",
       "       [ True, False, False, ..., False, False,  True],\n",
       "       ...,\n",
       "       [ True, False, False, ..., False, False,  True],\n",
       "       [ True, False, False, ..., False, False,  True],\n",
       "       [ True,  True,  True, ...,  True,  True,  True]])"
      ]
     },
     "execution_count": 491,
     "metadata": {},
     "output_type": "execute_result"
    }
   ],
   "source": [
    "bc.reshape((Ny, Nx))"
   ]
  },
  {
   "cell_type": "code",
   "execution_count": 412,
   "metadata": {},
   "outputs": [],
   "source": [
    "u = np.zeros(Nx*Ny)\n",
    "u[bc] = Phi_exact.ravel()[bc]"
   ]
  },
  {
   "cell_type": "code",
   "execution_count": 413,
   "metadata": {},
   "outputs": [
    {
     "data": {
      "text/plain": [
       "array([[1.90519501e-03, 1.31509372e-02, 4.09719333e-02, ...,\n",
       "        1.21201918e+01, 1.22955469e+01, 1.24641166e+01],\n",
       "       [2.97929661e-03, 0.00000000e+00, 0.00000000e+00, ...,\n",
       "        0.00000000e+00, 0.00000000e+00, 1.24651907e+01],\n",
       "       [5.77083608e-03, 0.00000000e+00, 0.00000000e+00, ...,\n",
       "        0.00000000e+00, 0.00000000e+00, 1.24679823e+01],\n",
       "       ...,\n",
       "       [5.65709473e+00, 0.00000000e+00, 0.00000000e+00, ...,\n",
       "        0.00000000e+00, 0.00000000e+00, 1.81193062e+01],\n",
       "       [5.79318402e+00, 0.00000000e+00, 0.00000000e+00, ...,\n",
       "        0.00000000e+00, 0.00000000e+00, 1.82553955e+01],\n",
       "       [5.92830690e+00, 5.93955265e+00, 5.96737364e+00, ...,\n",
       "        1.80465935e+01, 1.82219486e+01, 1.83905183e+01]])"
      ]
     },
     "execution_count": 413,
     "metadata": {},
     "output_type": "execute_result"
    }
   ],
   "source": [
    "u.reshape((Ny, Nx))"
   ]
  },
  {
   "cell_type": "code",
   "execution_count": 414,
   "metadata": {},
   "outputs": [
    {
     "ename": "ValueError",
     "evalue": "operands could not be broadcast together with shapes (391251,) (3111,) ",
     "output_type": "error",
     "traceback": [
      "\u001b[0;31m---------------------------------------------------------------------------\u001b[0m",
      "\u001b[0;31mValueError\u001b[0m                                Traceback (most recent call last)",
      "\u001b[0;32m/var/folders/zn/x8ct2v5d1z714b45ycxv1hhc0000gn/T/ipykernel_11890/2898261905.py\u001b[0m in \u001b[0;36m<module>\u001b[0;34m\u001b[0m\n\u001b[0;32m----> 1\u001b[0;31m \u001b[0mf\u001b[0m \u001b[0;34m=\u001b[0m \u001b[0mf0\u001b[0m \u001b[0;34m-\u001b[0m \u001b[0mA\u001b[0m \u001b[0;34m@\u001b[0m \u001b[0mu\u001b[0m\u001b[0;34m\u001b[0m\u001b[0;34m\u001b[0m\u001b[0m\n\u001b[0m\u001b[1;32m      2\u001b[0m \u001b[0mA_cut\u001b[0m \u001b[0;34m=\u001b[0m \u001b[0mA\u001b[0m\u001b[0;34m[\u001b[0m\u001b[0;34m~\u001b[0m\u001b[0mbc\u001b[0m\u001b[0;34m]\u001b[0m\u001b[0;34m.\u001b[0m\u001b[0mT\u001b[0m\u001b[0;34m[\u001b[0m\u001b[0;34m~\u001b[0m\u001b[0mbc\u001b[0m\u001b[0;34m]\u001b[0m\u001b[0;34m.\u001b[0m\u001b[0mT\u001b[0m \u001b[0;31m#\u001b[0m\u001b[0;34m\u001b[0m\u001b[0;34m\u001b[0m\u001b[0m\n\u001b[1;32m      3\u001b[0m \u001b[0mf_cut\u001b[0m \u001b[0;34m=\u001b[0m \u001b[0mf\u001b[0m\u001b[0;34m[\u001b[0m\u001b[0;34m~\u001b[0m\u001b[0mbc\u001b[0m\u001b[0;34m]\u001b[0m\u001b[0;34m\u001b[0m\u001b[0;34m\u001b[0m\u001b[0m\n",
      "\u001b[0;31mValueError\u001b[0m: operands could not be broadcast together with shapes (391251,) (3111,) "
     ]
    }
   ],
   "source": [
    "f = f0 - A @ u\n",
    "A_cut = A[~bc].T[~bc].T # \n",
    "f_cut = f[~bc]"
   ]
  },
  {
   "cell_type": "code",
   "execution_count": 415,
   "metadata": {},
   "outputs": [
    {
     "ename": "ValueError",
     "evalue": "NumPy boolean array indexing assignment cannot assign 385430 input values to the 2891 output values where the mask is true",
     "output_type": "error",
     "traceback": [
      "\u001b[0;31m---------------------------------------------------------------------------\u001b[0m",
      "\u001b[0;31mValueError\u001b[0m                                Traceback (most recent call last)",
      "\u001b[0;32m/var/folders/zn/x8ct2v5d1z714b45ycxv1hhc0000gn/T/ipykernel_11890/1483723200.py\u001b[0m in \u001b[0;36m<module>\u001b[0;34m\u001b[0m\n\u001b[1;32m      1\u001b[0m \u001b[0mu_cut\u001b[0m \u001b[0;34m=\u001b[0m \u001b[0mla\u001b[0m\u001b[0;34m.\u001b[0m\u001b[0mspsolve\u001b[0m\u001b[0;34m(\u001b[0m\u001b[0mA_cut\u001b[0m\u001b[0;34m,\u001b[0m \u001b[0mf_cut\u001b[0m\u001b[0;34m)\u001b[0m\u001b[0;34m\u001b[0m\u001b[0;34m\u001b[0m\u001b[0m\n\u001b[0;32m----> 2\u001b[0;31m \u001b[0mu\u001b[0m\u001b[0;34m[\u001b[0m\u001b[0;34m~\u001b[0m\u001b[0mbc\u001b[0m\u001b[0;34m]\u001b[0m \u001b[0;34m=\u001b[0m \u001b[0mu_cut\u001b[0m\u001b[0;34m\u001b[0m\u001b[0;34m\u001b[0m\u001b[0m\n\u001b[0m",
      "\u001b[0;31mValueError\u001b[0m: NumPy boolean array indexing assignment cannot assign 385430 input values to the 2891 output values where the mask is true"
     ]
    }
   ],
   "source": [
    "u_cut = la.spsolve(A_cut, f_cut)\n",
    "u[~bc] = u_cut"
   ]
  },
  {
   "cell_type": "code",
   "execution_count": null,
   "metadata": {},
   "outputs": [],
   "source": [
    "%time la.spsolve(A_cut, f_cut)"
   ]
  },
  {
   "cell_type": "code",
   "execution_count": null,
   "metadata": {},
   "outputs": [],
   "source": [
    "u.reshape((Ny, Nx))"
   ]
  },
  {
   "cell_type": "code",
   "execution_count": null,
   "metadata": {},
   "outputs": [],
   "source": [
    "Phi_exact"
   ]
  },
  {
   "cell_type": "code",
   "execution_count": null,
   "metadata": {},
   "outputs": [],
   "source": [
    "abs(u.reshape((Ny, Nx)) - Phi_exact).mean()"
   ]
  },
  {
   "cell_type": "markdown",
   "metadata": {},
   "source": [
    "# \n",
    "\n",
    "- For a 101x101 matrix, it takes 1.0 s system time (6.73 s wall time)\n",
    "- Using sparse matrices, it takes 79 ms wall time (\n",
    "- Using a 201x201 matrix, it takes only 379 ms wall time (just over 4x the time...)"
   ]
  },
  {
   "cell_type": "markdown",
   "metadata": {},
   "source": [
    "# Variable grid test"
   ]
  },
  {
   "cell_type": "code",
   "execution_count": null,
   "metadata": {},
   "outputs": [],
   "source": [
    "ddx = list(reversed([0.0105 * 1.05**i for i in range(51)]))\n",
    "x = np.cumsum(ddx)\n",
    "ddy = list(reversed([0.011 * 1.023**i for i in range(61)]))\n",
    "ddy\n",
    "y = np.cumsum(ddy)"
   ]
  },
  {
   "cell_type": "code",
   "execution_count": null,
   "metadata": {},
   "outputs": [],
   "source": [
    "y"
   ]
  },
  {
   "cell_type": "code",
   "execution_count": null,
   "metadata": {},
   "outputs": [],
   "source": [
    "\n",
    "Nx, Ny = len(x), len(y)"
   ]
  },
  {
   "cell_type": "code",
   "execution_count": null,
   "metadata": {},
   "outputs": [],
   "source": [
    "X, Y = np.meshgrid(x, y)\n",
    "dX = np.diff(X, axis=1) # Columns\n",
    "dY = np.diff(Y, axis=0) # Rows\n",
    "hx = dX.mean()\n",
    "hy = dY.mean()\n",
    "Phi_exact = X**3 + 2 * Y**3\n",
    "Ex_exact = 3*(x[1:]*0.5+x[:-1]*0.5)**2\n",
    "source = -6 * X + -12 * Y\n",
    "f0 = source.ravel()"
   ]
  },
  {
   "cell_type": "code",
   "execution_count": null,
   "metadata": {},
   "outputs": [],
   "source": [
    "A = poisson_variable_spacing(x, y)\n",
    "bc = boundary(len(x), len(y))"
   ]
  },
  {
   "cell_type": "code",
   "execution_count": null,
   "metadata": {},
   "outputs": [],
   "source": [
    "u = np.zeros(Nx*Ny)\n",
    "u[bc] = Phi_exact.ravel()[bc]"
   ]
  },
  {
   "cell_type": "code",
   "execution_count": null,
   "metadata": {},
   "outputs": [],
   "source": [
    "# Add some functions to do this...\n",
    "f = f0 - A @ u\n",
    "A_cut = A[~bc].T[~bc].T # \n",
    "f_cut = f[~bc]"
   ]
  },
  {
   "cell_type": "code",
   "execution_count": null,
   "metadata": {},
   "outputs": [],
   "source": [
    "u_cut = la.spsolve(A_cut, f_cut)\n",
    "u[~bc] = u_cut"
   ]
  },
  {
   "cell_type": "code",
   "execution_count": null,
   "metadata": {},
   "outputs": [],
   "source": [
    "abs(u.reshape((Ny, Nx)) - Phi_exact).mean()"
   ]
  },
  {
   "cell_type": "markdown",
   "metadata": {},
   "source": [
    "# Seems to be a working variable grid solver!\n",
    "\n",
    "(Note: Only works for constant $\\varepsilon_r = 1$...)"
   ]
  },
  {
   "cell_type": "code",
   "execution_count": null,
   "metadata": {},
   "outputs": [],
   "source": [
    "A[0:6, 0:6].toarray()"
   ]
  },
  {
   "cell_type": "code",
   "execution_count": null,
   "metadata": {},
   "outputs": [],
   "source": [
    "f_cut[:32]"
   ]
  },
  {
   "cell_type": "code",
   "execution_count": 537,
   "metadata": {},
   "outputs": [],
   "source": [
    "def E_field(u, r, z):\n",
    "    \"\"\"Works for r, z (cylindrical coordinates), or x, y (Cartesian coordinates).\"\"\"\n",
    "    Ny = len(z)\n",
    "    Nx = len(r)\n",
    "    Ey1 = np.diff(u.reshape((Ny, Nx)), axis=0) / np.diff(z).reshape((-1, 1))\n",
    "    Ex1 = np.diff(u.reshape((Ny, Nx)), axis=1) / np.diff(r).reshape((1, -1))\n",
    "    Ex = 0.5 * (Ex1[:-1, :] + Ex1[1:, :])\n",
    "    Ey = 0.5 * (Ey1[:, :-1] + Ey1[:, 1:])\n",
    "    return Ex + 1j*Ey"
   ]
  },
  {
   "cell_type": "code",
   "execution_count": null,
   "metadata": {},
   "outputs": [],
   "source": [
    "Ey1 = np.diff(u.reshape((Ny, Nx)), axis=0) / np.diff(y).reshape((-1, 1))\n",
    "Ex1 = np.diff(u.reshape((Ny, Nx)), axis=1) / np.diff(x).reshape((1, -1))"
   ]
  },
  {
   "cell_type": "code",
   "execution_count": null,
   "metadata": {},
   "outputs": [],
   "source": [
    "Ex = 0.5 * (Ex1[:-1, :] + Ex1[1:, :])\n",
    "Ey = 0.5 * (Ey1[:, :-1] + Ey1[:, 1:])\n",
    "E = Ex + 1j*Ey"
   ]
  },
  {
   "cell_type": "code",
   "execution_count": null,
   "metadata": {},
   "outputs": [],
   "source": [
    "V = u.reshape((Ny, Nx))\n",
    "V_midpt = (V[:-1, :-1] + V[1:, :-1] + V[1:, 1:] + V[:-1, 1:])*0.25"
   ]
  },
  {
   "cell_type": "code",
   "execution_count": null,
   "metadata": {},
   "outputs": [],
   "source": [
    "abs(E)**2"
   ]
  },
  {
   "cell_type": "code",
   "execution_count": null,
   "metadata": {},
   "outputs": [],
   "source": [
    "dV = np.diff(y).reshape((-1, 1)) @ np.diff(x).reshape((1, -1))"
   ]
  },
  {
   "cell_type": "code",
   "execution_count": null,
   "metadata": {},
   "outputs": [],
   "source": [
    "dV.shape"
   ]
  },
  {
   "cell_type": "code",
   "execution_count": null,
   "metadata": {},
   "outputs": [],
   "source": [
    "abs(Ex_exact - Ex).mean()"
   ]
  },
  {
   "cell_type": "code",
   "execution_count": null,
   "metadata": {},
   "outputs": [],
   "source": [
    "(abs(Ex_exact - Ex)/Ex).mean() * 100.0"
   ]
  },
  {
   "cell_type": "code",
   "execution_count": null,
   "metadata": {},
   "outputs": [],
   "source": [
    "np.sum(abs(E)**2 * dV)"
   ]
  },
  {
   "cell_type": "code",
   "execution_count": null,
   "metadata": {},
   "outputs": [],
   "source": [
    "def E_stored_exact(x, y):\n",
    "    xi = x[0]\n",
    "    xf = x[-1]\n",
    "    yi = y[0]\n",
    "    yf = y[-1]\n",
    "    return 9/5 * ((xf**5 - xi**5) * (yf - yi) + 4 * (xf - xi) * (yf**5 - yi**5))"
   ]
  },
  {
   "cell_type": "code",
   "execution_count": null,
   "metadata": {},
   "outputs": [],
   "source": [
    "E_stored(x, y)"
   ]
  },
  {
   "cell_type": "code",
   "execution_count": null,
   "metadata": {},
   "outputs": [],
   "source": [
    "1500*1500*8/(1024**2)"
   ]
  },
  {
   "cell_type": "markdown",
   "metadata": {},
   "source": [
    "# To Do\n",
    "\n",
    "- Use the r, z grids...\n",
    "- Need to use the correct volume of each mesh when switching to a radial grid (\n",
    "\n",
    "- Sphere over a metal plane example"
   ]
  },
  {
   "cell_type": "code",
   "execution_count": 606,
   "metadata": {},
   "outputs": [],
   "source": [
    "Rtip = 20.0\n",
    "Zmax = 12\n",
    "Rmax = 12\n",
    "d_R = 1\n",
    "z = np.linspace(-Rtip*d_R, Rtip*Zmax, (Zmax+d_R)*100+1)\n",
    "r = np.linspace(0, Rmax*Rtip, Rmax*100+1)"
   ]
  },
  {
   "cell_type": "code",
   "execution_count": 607,
   "metadata": {},
   "outputs": [],
   "source": [
    "R, Z = np.meshgrid(r, z)"
   ]
  },
  {
   "cell_type": "code",
   "execution_count": 608,
   "metadata": {},
   "outputs": [],
   "source": [
    "import capsol"
   ]
  },
  {
   "cell_type": "code",
   "execution_count": 609,
   "metadata": {},
   "outputs": [],
   "source": [
    "sphere = capsol.sphere(R, Z, Rtip) # Returns whether a point is on the sphere..."
   ]
  },
  {
   "cell_type": "code",
   "execution_count": 610,
   "metadata": {},
   "outputs": [],
   "source": [
    "u = np.zeros_like(R)\n",
    "u[sphere] = 1.0"
   ]
  },
  {
   "cell_type": "code",
   "execution_count": 611,
   "metadata": {},
   "outputs": [],
   "source": [
    "outer_boundary = boundary_radial(len(r), len(z))"
   ]
  },
  {
   "cell_type": "code",
   "execution_count": 612,
   "metadata": {},
   "outputs": [
    {
     "data": {
      "text/plain": [
       "array([0.000e+00, 2.000e-01, 4.000e-01, ..., 2.396e+02, 2.398e+02,\n",
       "       2.400e+02])"
      ]
     },
     "execution_count": 612,
     "metadata": {},
     "output_type": "execute_result"
    }
   ],
   "source": [
    "R.ravel()[outer_boundary]"
   ]
  },
  {
   "cell_type": "code",
   "execution_count": 613,
   "metadata": {},
   "outputs": [],
   "source": [
    "full_boundary = sphere.ravel() + outer_boundary"
   ]
  },
  {
   "cell_type": "code",
   "execution_count": 614,
   "metadata": {},
   "outputs": [],
   "source": [
    "A = poisson_variable_spacing_radial(r, z)"
   ]
  },
  {
   "cell_type": "code",
   "execution_count": 615,
   "metadata": {},
   "outputs": [],
   "source": [
    "f0 = np.zeros_like(u.ravel())"
   ]
  },
  {
   "cell_type": "code",
   "execution_count": 616,
   "metadata": {},
   "outputs": [],
   "source": [
    "f = f0 - A @ u.ravel()"
   ]
  },
  {
   "cell_type": "code",
   "execution_count": 617,
   "metadata": {},
   "outputs": [],
   "source": [
    "A_cut = A[~full_boundary].T[~full_boundary].T # \n",
    "f_cut = f[~full_boundary]"
   ]
  },
  {
   "cell_type": "code",
   "execution_count": 618,
   "metadata": {},
   "outputs": [
    {
     "name": "stdout",
     "output_type": "stream",
     "text": [
      "CPU times: user 10min 42s, sys: 12.2 s, total: 10min 54s\n",
      "Wall time: 58.5 s\n"
     ]
    }
   ],
   "source": [
    "%time u_cut = la.spsolve(A_cut, f_cut)"
   ]
  },
  {
   "cell_type": "code",
   "execution_count": 619,
   "metadata": {},
   "outputs": [],
   "source": [
    "u = u.ravel()\n",
    "u[~full_boundary] = u_cut"
   ]
  },
  {
   "cell_type": "code",
   "execution_count": 620,
   "metadata": {},
   "outputs": [],
   "source": [
    "#%time uc_cg = la.cg(A_cut, f_cut)"
   ]
  },
  {
   "cell_type": "code",
   "execution_count": 621,
   "metadata": {},
   "outputs": [],
   "source": [
    "# abs(uc_cg[0] - u_cut).max()"
   ]
  },
  {
   "cell_type": "code",
   "execution_count": 622,
   "metadata": {},
   "outputs": [
    {
     "data": {
      "image/png": "[encoded data removed]",
      "text/plain": [
       "<Figure size 432x288 with 2 Axes>"
      ]
     },
     "metadata": {
      "needs_background": "light"
     },
     "output_type": "display_data"
    }
   ],
   "source": [
    "fig, ax = plt.subplots()\n",
    "s = np.s_[:350, :300]\n",
    "plt.contourf(R[s], Z[s], u.reshape((len(z), len(r)))[s])\n",
    "plt.colorbar()\n",
    "ax.set_aspect('equal')"
   ]
  },
  {
   "cell_type": "code",
   "execution_count": 627,
   "metadata": {},
   "outputs": [
    {
     "data": {
      "text/plain": [
       "101"
      ]
     },
     "execution_count": 627,
     "metadata": {},
     "output_type": "execute_result"
    }
   ],
   "source": []
  },
  {
   "cell_type": "code",
   "execution_count": 623,
   "metadata": {},
   "outputs": [
    {
     "data": {
      "image/png": "[encoded data removed]",
      "text/plain": [
       "<Figure size 432x288 with 2 Axes>"
      ]
     },
     "metadata": {
      "needs_background": "light"
     },
     "output_type": "display_data"
    }
   ],
   "source": [
    "fig, ax = plt.subplots()\n",
    "s = np.s_[:600, :650]\n",
    "plt.contourf(R[s], Z[s], u.reshape((len(z), len(r)))[s])\n",
    "plt.colorbar()\n",
    "ax.set_aspect('equal')"
   ]
  },
  {
   "cell_type": "code",
   "execution_count": 624,
   "metadata": {},
   "outputs": [
    {
     "data": {
      "text/plain": [
       "672.2217718096504"
      ]
     },
     "execution_count": 624,
     "metadata": {},
     "output_type": "execute_result"
    }
   ],
   "source": [
    "dV = grid_area(r, z)\n",
    "E_rz = E_field(u, r, z)\n",
    "dEng = dV * abs(E_rz)**2\n",
    "np.sum(dEng)"
   ]
  },
  {
   "cell_type": "code",
   "execution_count": 635,
   "metadata": {},
   "outputs": [
    {
     "data": {
      "text/plain": [
       "[<matplotlib.lines.Line2D at 0x18a2f1be0>]"
      ]
     },
     "execution_count": 635,
     "metadata": {},
     "output_type": "execute_result"
    },
    {
     "data": {
      "image/png": "[encoded data removed]",
      "text/plain": [
       "<Figure size 432x288 with 1 Axes>"
      ]
     },
     "metadata": {
      "needs_background": "light"
     },
     "output_type": "display_data"
    }
   ],
   "source": [
    "iZmax = np.argmax(z>0)\n",
    "s_ = np.s_[:iZmax]\n",
    "plt.plot(z[:iZmax], E_rz[:iZmax, 0].imag)"
   ]
  },
  {
   "cell_type": "code",
   "execution_count": 637,
   "metadata": {},
   "outputs": [
    {
     "data": {
      "text/plain": [
       "[<matplotlib.lines.Line2D at 0x189f1c670>]"
      ]
     },
     "execution_count": 637,
     "metadata": {},
     "output_type": "execute_result"
    },
    {
     "data": {
      "image/png": "[encoded data removed]",
      "text/plain": [
       "<Figure size 432x288 with 1 Axes>"
      ]
     },
     "metadata": {
      "needs_background": "light"
     },
     "output_type": "display_data"
    }
   ],
   "source": [
    "iZmax = np.argmax(z>10)\n",
    "s_ = np.s_[:iZmax]\n",
    "plt.plot(z[:iZmax], E_rz[:iZmax, 50].imag)"
   ]
  },
  {
   "cell_type": "code",
   "execution_count": 625,
   "metadata": {},
   "outputs": [
    {
     "data": {
      "image/png": "[encoded data removed]",
      "text/plain": [
       "<Figure size 432x288 with 2 Axes>"
      ]
     },
     "metadata": {
      "needs_background": "light"
     },
     "output_type": "display_data"
    }
   ],
   "source": [
    "fig, ax = plt.subplots()\n",
    "s = np.s_[:180, :100]\n",
    "plt.contourf(R[s], Z[s], (abs(E_rz)**2)[s])\n",
    "plt.colorbar()\n",
    "ax.set_aspect('equal')"
   ]
  },
  {
   "cell_type": "code",
   "execution_count": null,
   "metadata": {},
   "outputs": [],
   "source": []
  },
  {
   "cell_type": "code",
   "execution_count": 626,
   "metadata": {},
   "outputs": [
    {
     "data": {
      "image/png": "[encoded data removed]",
      "text/plain": [
       "<Figure size 432x288 with 1 Axes>"
      ]
     },
     "metadata": {
      "needs_background": "light"
     },
     "output_type": "display_data"
    }
   ],
   "source": [
    "dEng_dr = dEng.sum(axis=0)\n",
    "plt.plot(r[:-1], np.cumsum(dEng_dr)/sum(dEng_dr))\n",
    "plt.axhline(0.8)\n",
    "plt.grid()"
   ]
  },
  {
   "cell_type": "code",
   "execution_count": 573,
   "metadata": {},
   "outputs": [
    {
     "data": {
      "text/plain": [
       "601"
      ]
     },
     "execution_count": 573,
     "metadata": {},
     "output_type": "execute_result"
    }
   ],
   "source": [
    "len(r)"
   ]
  },
  {
   "cell_type": "markdown",
   "metadata": {},
   "source": [
    "- This looks correct!"
   ]
  },
  {
   "cell_type": "code",
   "execution_count": null,
   "metadata": {},
   "outputs": [],
   "source": [
    "dV = grid_area(r, z)\n",
    "E_rz = E_field(u, r, z)\n",
    "dV * abs(E_rz)**2"
   ]
  },
  {
   "cell_type": "code",
   "execution_count": 366,
   "metadata": {},
   "outputs": [],
   "source": [
    "rr = R[outer_boundary.reshape((len(z), len(r)))]\n",
    "zz = Z[outer_boundary.reshape((len(z), len(r)))]"
   ]
  },
  {
   "cell_type": "code",
   "execution_count": 367,
   "metadata": {},
   "outputs": [
    {
     "data": {
      "text/plain": [
       "601"
      ]
     },
     "execution_count": 367,
     "metadata": {},
     "output_type": "execute_result"
    }
   ],
   "source": [
    "sum(zz == -20.0)"
   ]
  },
  {
   "cell_type": "code",
   "execution_count": 368,
   "metadata": {},
   "outputs": [
    {
     "data": {
      "text/plain": [
       "101"
      ]
     },
     "execution_count": 368,
     "metadata": {},
     "output_type": "execute_result"
    }
   ],
   "source": [
    "sum(R[sphere] == 0.0)"
   ]
  },
  {
   "cell_type": "code",
   "execution_count": 369,
   "metadata": {},
   "outputs": [
    {
     "data": {
      "text/plain": [
       "array([ True,  True,  True, ...,  True,  True,  True])"
      ]
     },
     "execution_count": 369,
     "metadata": {},
     "output_type": "execute_result"
    }
   ],
   "source": [
    "full_boundary"
   ]
  },
  {
   "cell_type": "code",
   "execution_count": 370,
   "metadata": {},
   "outputs": [
    {
     "data": {
      "text/plain": [
       "array([False, False, False, ..., False, False, False])"
      ]
     },
     "execution_count": 370,
     "metadata": {},
     "output_type": "execute_result"
    }
   ],
   "source": [
    "sphere.ravel()"
   ]
  },
  {
   "cell_type": "code",
   "execution_count": 371,
   "metadata": {},
   "outputs": [
    {
     "data": {
      "text/plain": [
       "(-20.0, 50.0)"
      ]
     },
     "execution_count": 371,
     "metadata": {},
     "output_type": "execute_result"
    },
    {
     "data": {
      "image/png": "[encoded data removed]",
      "text/plain": [
       "<Figure size 432x288 with 1 Axes>"
      ]
     },
     "metadata": {
      "needs_background": "light"
     },
     "output_type": "display_data"
    }
   ],
   "source": [
    "plt.scatter(R.ravel()[full_boundary], Z.ravel()[full_boundary])\n",
    "plt.xlim(0, 40)\n",
    "plt.ylim(-20, 50)"
   ]
  },
  {
   "cell_type": "markdown",
   "metadata": {},
   "source": [
    "# Check using normal solver"
   ]
  },
  {
   "cell_type": "code",
   "execution_count": 533,
   "metadata": {},
   "outputs": [],
   "source": [
    "Rtip = 20.0\n",
    "Zmax = 12\n",
    "Rmax = 12\n",
    "d_R = 1\n",
    "z = np.linspace(-Rtip*d_R, Rtip*Zmax, (Zmax+d_R)*50+1)\n",
    "r = np.linspace(-Rmax*Rtip, Rmax*Rtip, Rmax*100+1)\n",
    "R, Z = np.meshgrid(r, z)\n",
    "sphere = capsol.sphere(R, Z, Rtip) # Returns whether a point is on the sphere...\n",
    "u = np.zeros_like(R)\n",
    "u[sphere] = 1.0\n",
    "outer_boundary = boundary(len(r), len(z))\n",
    "full_boundary = sphere.ravel() + outer_boundary\n",
    "A = poisson_variable_spacing(r, z)\n",
    "f0 = np.zeros_like(u.ravel())\n",
    "f = f0 - A @ u.ravel()\n",
    "A_cut = A[~full_boundary].T[~full_boundary].T # \n",
    "f_cut = f[~full_boundary]"
   ]
  },
  {
   "cell_type": "code",
   "execution_count": 534,
   "metadata": {},
   "outputs": [
    {
     "name": "stdout",
     "output_type": "stream",
     "text": [
      "CPU times: user 4min 34s, sys: 12.2 s, total: 4min 46s\n",
      "Wall time: 27.5 s\n"
     ]
    }
   ],
   "source": [
    "%time u_cut = la.spsolve(A_cut, f_cut)"
   ]
  },
  {
   "cell_type": "code",
   "execution_count": 535,
   "metadata": {},
   "outputs": [],
   "source": [
    "u = u.ravel()\n",
    "u[~full_boundary] = u_cut"
   ]
  },
  {
   "cell_type": "code",
   "execution_count": 435,
   "metadata": {},
   "outputs": [],
   "source": [
    "m = (abs(R) < 50.0) * (abs(Z) < 80.0)"
   ]
  },
  {
   "cell_type": "code",
   "execution_count": 443,
   "metadata": {},
   "outputs": [],
   "source": [
    "iRmin = np.argmax(R > -50.0)\n",
    "iRmax = np.argmax(R > 50.0)\n",
    "iZmax = np.argmax(Z > 80.0)"
   ]
  },
  {
   "cell_type": "code",
   "execution_count": 438,
   "metadata": {},
   "outputs": [
    {
     "data": {
      "text/plain": [
       "(651, 1201)"
      ]
     },
     "execution_count": 438,
     "metadata": {},
     "output_type": "execute_result"
    }
   ],
   "source": [
    "Z.shape"
   ]
  },
  {
   "cell_type": "code",
   "execution_count": 440,
   "metadata": {},
   "outputs": [
    {
     "data": {
      "text/plain": [
       "array([-20. , -20. , -20. , ...,  79.6,  79.6,  79.6])"
      ]
     },
     "execution_count": 440,
     "metadata": {},
     "output_type": "execute_result"
    }
   ],
   "source": [
    "Z[m]"
   ]
  },
  {
   "cell_type": "code",
   "execution_count": 444,
   "metadata": {},
   "outputs": [
    {
     "data": {
      "text/plain": [
       "<matplotlib.colorbar.Colorbar at 0x18ebbf370>"
      ]
     },
     "execution_count": 444,
     "metadata": {},
     "output_type": "execute_result"
    },
    {
     "data": {
      "image/png": "[encoded data removed]",
      "text/plain": [
       "<Figure size 432x288 with 2 Axes>"
      ]
     },
     "metadata": {
      "needs_background": "light"
     },
     "output_type": "display_data"
    }
   ],
   "source": [
    "plt.contourf(R[:iZmax, iRmin:iRmax], Z[:iZmax, iRmin:iRmax], u.reshape((len(z), len(r)))[:iZmax, iRmin:iRmax])\n",
    "plt.colorbar()"
   ]
  },
  {
   "cell_type": "code",
   "execution_count": 666,
   "metadata": {},
   "outputs": [],
   "source": [
    "from dataclasses import dataclass\n",
    "\n",
    "@dataclass\n",
    "class Vq:\n",
    "    r0 : float\n",
    "    z0 : float\n",
    "    q : float\n",
    "    \n",
    "    def __call__(self, r, z):\n",
    "        dist = np.sqrt((r - self.r0)**2 + (z-self.z0)**2)\n",
    "        return self.q * 1 / dist"
   ]
  },
  {
   "cell_type": "code",
   "execution_count": 659,
   "metadata": {},
   "outputs": [],
   "source": [
    "q0 = Vq(0, 20.0, 20.0)\n",
    "q1 = Vq(0, -60, -20.0)"
   ]
  },
  {
   "cell_type": "code",
   "execution_count": 660,
   "metadata": {},
   "outputs": [
    {
     "data": {
      "text/plain": [
       "0.6666666666666667"
      ]
     },
     "execution_count": 660,
     "metadata": {},
     "output_type": "execute_result"
    }
   ],
   "source": [
    "q0(0.0, 0) + q1(0, 0)"
   ]
  },
  {
   "cell_type": "code",
   "execution_count": 661,
   "metadata": {},
   "outputs": [
    {
     "data": {
      "text/plain": [
       "0.0"
      ]
     },
     "execution_count": 661,
     "metadata": {},
     "output_type": "execute_result"
    }
   ],
   "source": [
    "q0(0.0, -20) + q1(0, -20)"
   ]
  },
  {
   "cell_type": "code",
   "execution_count": 663,
   "metadata": {},
   "outputs": [
    {
     "data": {
      "text/plain": [
       "0.7484980969143948"
      ]
     },
     "execution_count": 663,
     "metadata": {},
     "output_type": "execute_result"
    }
   ],
   "source": [
    "q0(5, 20-np.sqrt(20**2 - 5**2)) + q1(5, np.sqrt(20**2 - 5**2))"
   ]
  },
  {
   "cell_type": "code",
   "execution_count": 664,
   "metadata": {},
   "outputs": [
    {
     "data": {
      "text/plain": [
       "(1300, 1200)"
      ]
     },
     "execution_count": 664,
     "metadata": {},
     "output_type": "execute_result"
    }
   ],
   "source": [
    "E_rz.shape"
   ]
  },
  {
   "cell_type": "code",
   "execution_count": 665,
   "metadata": {},
   "outputs": [
    {
     "data": {
      "text/plain": [
       "3.9681187850686666"
      ]
     },
     "execution_count": 665,
     "metadata": {},
     "output_type": "execute_result"
    }
   ],
   "source": [
    "q0(5, np.sqrt(20**2 - 5**2))"
   ]
  },
  {
   "cell_type": "code",
   "execution_count": null,
   "metadata": {},
   "outputs": [],
   "source": []
  }
 ],
 "metadata": {
  "kernelspec": {
   "display_name": "fenics",
   "language": "python",
   "name": "fenics"
  },
  "language_info": {
   "codemirror_mode": {
    "name": "ipython",
    "version": 3
   },
   "file_extension": ".py",
   "mimetype": "text/x-python",
   "name": "python",
   "nbconvert_exporter": "python",
   "pygments_lexer": "ipython3",
   "version": "3.9.6"
  }
 },
 "nbformat": 4,
 "nbformat_minor": 4
}
