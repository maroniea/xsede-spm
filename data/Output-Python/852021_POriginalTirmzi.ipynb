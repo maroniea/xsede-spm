{
 "cells": [
  {
   "cell_type": "markdown",
   "id": "7909fa0a",
   "metadata": {},
   "source": [
    "##Tirmzi Analysis\n",
    "n=1000 m+=1000 nm-=120 istep= 4 min=150 max=700"
   ]
  },
  {
   "cell_type": "code",
   "execution_count": 1,
   "id": "63afb62c",
   "metadata": {},
   "outputs": [],
   "source": [
    "import sys\n",
    "sys.path\n",
    "import matplotlib.pyplot as plt\n",
    "import numpy as np\n",
    "import os\n",
    "from scipy import signal"
   ]
  },
  {
   "cell_type": "code",
   "execution_count": 2,
   "id": "8bec0f1d",
   "metadata": {
    "scrolled": true
   },
   "outputs": [
    {
     "name": "stdout",
     "output_type": "stream",
     "text": [
      " Volume in drive C is Local Disk\n",
      " Volume Serial Number is AA1B-997A\n",
      "\n",
      " Directory of C:\\Users\\emaro\\OneDrive - University of Mount Union\\XSEDE Summer 2021\\xsede-spm\\data\n",
      "\n",
      "08/05/2021  10:39 AM    <DIR>          .\n",
      "08/05/2021  10:39 AM    <DIR>          ..\n",
      "08/05/2021  10:37 AM    <DIR>          .ipynb_checkpoints\n",
      "08/02/2021  02:01 PM    <DIR>          0309-VariedNuni_8_2_2021-0000\n",
      "08/02/2021  02:15 PM    <DIR>          8_2_2021\n",
      "08/02/2021  03:39 PM           161,361 8_2_2021_FortranErequals1.ipynb\n",
      "08/03/2021  01:17 PM           130,779 8_2_2021_PythonErequals1.ipynb\n",
      "08/02/2021  02:58 PM           130,726 8_2_2021_PythonVariedNuni.ipynb\n",
      "08/04/2021  02:42 PM           130,779 8_2_2021_PythonVariedNuni-Copy3.ipynb\n",
      "08/02/2021  02:52 PM    <DIR>          8_2_2021P\n",
      "08/03/2021  03:01 PM           225,696 8_3_2021_SphereTest_Python.ipynb\n",
      "08/05/2021  10:30 AM            93,725 852021_FDefaultCapsol.ipynb\n",
      "08/05/2021  10:34 AM            17,002 852021_FOriginalTirmzi.ipynb\n",
      "08/05/2021  10:33 AM            89,554 852021_PDefaultCapsol.ipynb\n",
      "08/05/2021  10:33 AM            89,554 852021_POriginalTirmzi.ipynb\n",
      "08/05/2021  10:31 AM            13,709 Alpha v. Z for varying sample thickness, 06-28-2021.png\n",
      "08/05/2021  10:38 AM             6,163 C' v. Z for 1nm thick sample 06-28-2021.png\n",
      "08/02/2021  02:15 PM             6,179 C' v. Z for varying sample thickness, 06-28-2021.png\n",
      "08/05/2021  10:38 AM             5,568 Cz v. Z for varying sample thickness, 06-28-2021.png\n",
      "08/05/2021  10:38 AM             5,676 Czz v. Z for varying sample thickness, 06-28-2021.png\n",
      "08/02/2021  03:35 PM    <DIR>          erequals1_F\n",
      "08/03/2021  01:05 PM    <DIR>          erequals1_P\n",
      "08/05/2021  10:29 AM    <DIR>          Fortran\n",
      "08/03/2021  01:22 PM           153,589 Fortran m_minus.ipynb\n",
      "08/03/2021  01:20 PM           148,540 Fortran Sphere Test.ipynb\n",
      "08/02/2021  03:35 PM    <DIR>          FortranOutputTest\n",
      "08/03/2021  01:14 PM    <DIR>          m_minue_P\n",
      "08/03/2021  01:16 PM    <DIR>          m_minus_F\n",
      "08/05/2021  10:11 AM    <DIR>          Original Tirmzi\n",
      "08/05/2021  10:11 AM    <DIR>          Original Tirmzi F\n",
      "08/05/2021  10:30 AM    <DIR>          Python\n",
      "08/03/2021  01:05 PM    <DIR>          PythonOutputTest\n",
      "08/03/2021  01:13 PM    <DIR>          SphereTest_F\n",
      "08/03/2021  01:13 PM    <DIR>          SphereTest_P\n",
      "08/05/2021  10:10 AM    <DIR>          SSN Tirmzi\n",
      "08/05/2021  10:11 AM    <DIR>          SSN Tirmzi F\n",
      "07/28/2021  11:49 AM            57,907 Tirmzi_istep4.ipynb\n",
      "07/28/2021  11:43 AM           113,265 Tirmzi_istep4-Copy2.ipynb\n",
      "              18 File(s)      1,579,772 bytes\n",
      "              20 Dir(s)  146,362,925,056 bytes free\n"
     ]
    }
   ],
   "source": [
    "ls"
   ]
  },
  {
   "cell_type": "code",
   "execution_count": 3,
   "id": "b2bdd91e",
   "metadata": {},
   "outputs": [],
   "source": [
    "import capsol.newanalyzecapsol as ac"
   ]
  },
  {
   "cell_type": "code",
   "execution_count": 4,
   "id": "74d01467",
   "metadata": {},
   "outputs": [
    {
     "data": {
      "text/plain": [
       "<function capsol.newanalyzecapsol.get_gridparameters(f_name)>"
      ]
     },
     "execution_count": 4,
     "metadata": {},
     "output_type": "execute_result"
    }
   ],
   "source": [
    "ac.get_gridparameters"
   ]
  },
  {
   "cell_type": "code",
   "execution_count": 5,
   "id": "234f74d8",
   "metadata": {},
   "outputs": [],
   "source": [
    "import glob"
   ]
  },
  {
   "cell_type": "code",
   "execution_count": 6,
   "id": "5766fac7",
   "metadata": {},
   "outputs": [
    {
     "data": {
      "text/plain": [
       "['Original Tirmzi\\\\0336-RR_originalTirmzi-0002\\\\',\n",
       " 'Original Tirmzi\\\\0338-RR_originalTirmzi-0001\\\\',\n",
       " 'Original Tirmzi\\\\0340-RR_originalTirmzi-0003\\\\',\n",
       " 'Original Tirmzi\\\\0342-RR_originalTirmzi-0000\\\\']"
      ]
     },
     "execution_count": 6,
     "metadata": {},
     "output_type": "execute_result"
    }
   ],
   "source": [
    "folders = glob.glob(\"Original Tirmzi/*/\")\n",
    "folders\n"
   ]
  },
  {
   "cell_type": "code",
   "execution_count": 7,
   "id": "0f240774",
   "metadata": {
    "scrolled": false
   },
   "outputs": [],
   "source": [
    "all_data= dict() \n",
    "for folder in folders:\n",
    "    params = ac.get_gridparameters(folder + 'capsol.in')\n",
    "    data = ac.np.loadtxt(folder + 'C-Z.dat')\n",
    "    process_data = ac.process_data(params, data, smoothing=False, std=5*10**-9, fortran=False)\n",
    "    all_data[folder]= (process_data)\n",
    "all_params= dict()\n",
    "for folder in folders:\n",
    "    params=ac.get_gridparameters(folder + 'capsol.in')\n",
    "    all_params[folder]= (params)"
   ]
  },
  {
   "cell_type": "code",
   "execution_count": 8,
   "id": "a27efec2",
   "metadata": {},
   "outputs": [
    {
     "data": {
      "text/plain": [
       "{'Original Tirmzi\\\\0336-RR_originalTirmzi-0002\\\\': {'z': array([150., 152., 154., 156., 158., 160., 162., 164., 166., 168., 170.,\n",
       "         172., 174., 176., 178., 180., 182., 184., 186., 188., 190., 192.,\n",
       "         194., 196., 198., 200., 202., 204., 206., 208., 210., 212., 214.,\n",
       "         216., 218., 220., 222., 224., 226., 228., 230., 232., 234., 236.,\n",
       "         238., 240., 242., 244., 246., 248.]),\n",
       "  'c': array([1.54338638e-15, 1.54322577e-15, 1.54306575e-15, 1.54290629e-15,\n",
       "         1.54274740e-15, 1.54258906e-15, 1.54243127e-15, 1.54227400e-15,\n",
       "         1.54211726e-15, 1.54196103e-15, 1.54180532e-15, 1.54165009e-15,\n",
       "         1.54149536e-15, 1.54134111e-15, 1.54118734e-15, 1.54103404e-15,\n",
       "         1.54088119e-15, 1.54072880e-15, 1.54057686e-15, 1.54042535e-15,\n",
       "         1.54027429e-15, 1.54012365e-15, 1.53997343e-15, 1.53982363e-15,\n",
       "         1.53967424e-15, 1.53952525e-15, 1.53937667e-15, 1.53922848e-15,\n",
       "         1.53908068e-15, 1.53893326e-15, 1.53878622e-15, 1.53863956e-15,\n",
       "         1.53849327e-15, 1.53834734e-15, 1.53820178e-15, 1.53805657e-15,\n",
       "         1.53791172e-15, 1.53776722e-15, 1.53762306e-15, 1.53747924e-15,\n",
       "         1.53733575e-15, 1.53719260e-15, 1.53704978e-15, 1.53690729e-15,\n",
       "         1.53676512e-15, 1.53662326e-15, 1.53648173e-15, 1.53634050e-15,\n",
       "         1.53619959e-15, 1.53605897e-15]),\n",
       "  'cz': array([-8.03031472e-11, -8.01575430e-11, -7.98689948e-11, -7.95856775e-11,\n",
       "         -7.93074160e-11, -7.90340437e-11, -7.87654016e-11, -7.85013380e-11,\n",
       "         -7.82417080e-11, -7.79863735e-11, -7.77352020e-11, -7.74880672e-11,\n",
       "         -7.72448480e-11, -7.70054285e-11, -7.67696977e-11, -7.65375493e-11,\n",
       "         -7.63088810e-11, -7.60835950e-11, -7.58615973e-11, -7.56427976e-11,\n",
       "         -7.54271091e-11, -7.52144483e-11, -7.50047352e-11, -7.47978923e-11,\n",
       "         -7.45938456e-11, -7.43925233e-11, -7.41938565e-11, -7.39977788e-11,\n",
       "         -7.38042260e-11, -7.36131364e-11, -7.34244503e-11, -7.32381102e-11,\n",
       "         -7.30540603e-11, -7.28722471e-11, -7.26926185e-11, -7.25151244e-11,\n",
       "         -7.23397163e-11, -7.21663473e-11, -7.19949718e-11, -7.18255459e-11,\n",
       "         -7.16580271e-11, -7.14923740e-11, -7.13285468e-11, -7.11665066e-11,\n",
       "         -7.10062161e-11, -7.08476386e-11, -7.06907390e-11, -7.05354829e-11,\n",
       "         -7.03818371e-11, -7.03054127e-11]),\n",
       "  'czz': array([7.28021071e-05, 1.08538102e-04, 1.42966383e-04, 1.40394699e-04,\n",
       "         1.37908441e-04, 1.35503608e-04, 1.33176438e-04, 1.30923391e-04,\n",
       "         1.28741130e-04, 1.26626512e-04, 1.24576570e-04, 1.22588504e-04,\n",
       "         1.20659667e-04, 1.18787559e-04, 1.16969812e-04, 1.15204187e-04,\n",
       "         1.13488560e-04, 1.11820920e-04, 1.10199358e-04, 1.08622063e-04,\n",
       "         1.07087314e-04, 1.05593477e-04, 1.04138998e-04, 1.02722397e-04,\n",
       "         1.01342268e-04, 9.99972700e-05, 9.86861258e-05, 9.74076183e-05,\n",
       "         9.61605859e-05, 9.49439197e-05, 9.37565620e-05, 9.25975022e-05,\n",
       "         9.14657740e-05, 9.03604537e-05, 8.92806580e-05, 8.82255410e-05,\n",
       "         8.71942939e-05, 8.61861415e-05, 8.52003405e-05, 8.42361791e-05,\n",
       "         8.32929743e-05, 8.23700711e-05, 8.14668410e-05, 8.05826804e-05,\n",
       "         7.97170097e-05, 7.88692718e-05, 7.80389310e-05, 7.72254734e-05,\n",
       "         5.75175580e-05, 3.82122135e-05]),\n",
       "  'alpha': array([0.11478272, 0.07671974, 0.05783198, 0.0584803 , 0.0591251 ,\n",
       "         0.05976643, 0.06040429, 0.06103871, 0.06166971, 0.06229733,\n",
       "         0.06292157, 0.06354247, 0.06416005, 0.06477433, 0.06538535,\n",
       "         0.06599311, 0.06659765, 0.067199  , 0.06779716, 0.06839218,\n",
       "         0.06898407, 0.06957286, 0.07015857, 0.07074123, 0.07132085,\n",
       "         0.07189747, 0.07247111, 0.07304178, 0.07360952, 0.07417434,\n",
       "         0.07473627, 0.07529534, 0.07585156, 0.07640495, 0.07695555,\n",
       "         0.07750336, 0.07804842, 0.07859075, 0.07913036, 0.07966727,\n",
       "         0.08020152, 0.08073311, 0.08126208, 0.08178844, 0.08231221,\n",
       "         0.08283341, 0.08335206, 0.08386818, 0.11212517, 0.16842146])},\n",
       " 'Original Tirmzi\\\\0338-RR_originalTirmzi-0001\\\\': {'z': array([150., 152., 154., 156., 158., 160., 162., 164., 166., 168., 170.,\n",
       "         172., 174., 176., 178., 180., 182., 184., 186., 188., 190., 192.,\n",
       "         194., 196., 198., 200., 202., 204., 206., 208., 210., 212., 214.,\n",
       "         216., 218., 220., 222., 224., 226., 228., 230., 232., 234., 236.,\n",
       "         238., 240., 242., 244., 246., 248.]),\n",
       "  'c': array([3.59928831e-15, 3.59897608e-15, 3.59866440e-15, 3.59835328e-15,\n",
       "         3.59804271e-15, 3.59773266e-15, 3.59742315e-15, 3.59711415e-15,\n",
       "         3.59680566e-15, 3.59649767e-15, 3.59619018e-15, 3.59588318e-15,\n",
       "         3.59557666e-15, 3.59527062e-15, 3.59496505e-15, 3.59465994e-15,\n",
       "         3.59435528e-15, 3.59405108e-15, 3.59374732e-15, 3.59344400e-15,\n",
       "         3.59314112e-15, 3.59283867e-15, 3.59253664e-15, 3.59223502e-15,\n",
       "         3.59193383e-15, 3.59163304e-15, 3.59133266e-15, 3.59103267e-15,\n",
       "         3.59073309e-15, 3.59043389e-15, 3.59013508e-15, 3.58983665e-15,\n",
       "         3.58953861e-15, 3.58924093e-15, 3.58894363e-15, 3.58864670e-15,\n",
       "         3.58835013e-15, 3.58805392e-15, 3.58775806e-15, 3.58746256e-15,\n",
       "         3.58716741e-15, 3.58687261e-15, 3.58657815e-15, 3.58628403e-15,\n",
       "         3.58599024e-15, 3.58569679e-15, 3.58540367e-15, 3.58511088e-15,\n",
       "         3.58481841e-15, 3.58452627e-15]),\n",
       "  'cz': array([-1.56115747e-10, -1.55975707e-10, -1.55697867e-10, -1.55424432e-10,\n",
       "         -1.55155261e-10, -1.54890220e-10, -1.54629179e-10, -1.54372014e-10,\n",
       "         -1.54118609e-10, -1.53868851e-10, -1.53622632e-10, -1.53379848e-10,\n",
       "         -1.53140401e-10, -1.52904196e-10, -1.52671142e-10, -1.52441151e-10,\n",
       "         -1.52214141e-10, -1.51990030e-10, -1.51768740e-10, -1.51550199e-10,\n",
       "         -1.51334334e-10, -1.51121075e-10, -1.50910358e-10, -1.50702118e-10,\n",
       "         -1.50496293e-10, -1.50292824e-10, -1.50091654e-10, -1.49892728e-10,\n",
       "         -1.49695992e-10, -1.49501395e-10, -1.49308887e-10, -1.49118420e-10,\n",
       "         -1.48929947e-10, -1.48743425e-10, -1.48558809e-10, -1.48376057e-10,\n",
       "         -1.48195128e-10, -1.48015984e-10, -1.47838586e-10, -1.47662897e-10,\n",
       "         -1.47488881e-10, -1.47316504e-10, -1.47145731e-10, -1.46976531e-10,\n",
       "         -1.46808871e-10, -1.46642721e-10, -1.46478050e-10, -1.46314831e-10,\n",
       "         -1.46153034e-10, -1.46072487e-10]),\n",
       "  'czz': array([7.00199279e-05, 1.04470117e-04, 1.37818866e-04, 1.35651375e-04,\n",
       "         1.33553033e-04, 1.31520689e-04, 1.29551374e-04, 1.27642292e-04,\n",
       "         1.25790806e-04, 1.23994425e-04, 1.22250799e-04, 1.20557704e-04,\n",
       "         1.18913040e-04, 1.17314816e-04, 1.15761146e-04, 1.14250246e-04,\n",
       "         1.12780421e-04, 1.11350062e-04, 1.09957644e-04, 1.08601716e-04,\n",
       "         1.07280898e-04, 1.05993878e-04, 1.04739409e-04, 1.03516300e-04,\n",
       "         1.02323418e-04, 1.01159684e-04, 1.00024066e-04, 9.89155807e-05,\n",
       "         9.78332896e-05, 9.67762962e-05, 9.57437426e-05, 9.47348095e-05,\n",
       "         9.37487126e-05, 9.27847011e-05, 9.18420569e-05, 9.09200918e-05,\n",
       "         9.00181457e-05, 8.91355875e-05, 8.82718101e-05, 8.74262306e-05,\n",
       "         8.65982919e-05, 8.57874578e-05, 8.49932127e-05, 8.42150615e-05,\n",
       "         8.34525287e-05, 8.27051574e-05, 8.19725060e-05, 8.12541513e-05,\n",
       "         6.05858270e-05, 4.02731574e-05]),\n",
       "  'alpha': array([0.19341276, 0.1294115 , 0.09775642, 0.09897843, 0.10019428,\n",
       "         0.10140399, 0.10260756, 0.10380501, 0.10499637, 0.10618165,\n",
       "         0.10736087, 0.10853406, 0.10970124, 0.11086242, 0.11201764,\n",
       "         0.11316692, 0.11431028, 0.11544775, 0.11657937, 0.11770515,\n",
       "         0.11882512, 0.11993932, 0.12104776, 0.12215049, 0.12324753,\n",
       "         0.12433891, 0.12542466, 0.12650482, 0.1275794 , 0.12864845,\n",
       "         0.12971199, 0.13077006, 0.13182268, 0.13286989, 0.13391172,\n",
       "         0.13494819, 0.13597935, 0.13700523, 0.13802584, 0.13904124,\n",
       "         0.14005144, 0.14105648, 0.14205639, 0.14305121, 0.14404095,\n",
       "         0.14502566, 0.14600537, 0.1469801 , 0.19670141, 0.29561019])},\n",
       " 'Original Tirmzi\\\\0340-RR_originalTirmzi-0003\\\\': {'z': array([150., 152., 154., 156., 158., 160., 162., 164., 166., 168., 170.,\n",
       "         172., 174., 176., 178., 180., 182., 184., 186., 188., 190., 192.,\n",
       "         194., 196., 198., 200., 202., 204., 206., 208., 210., 212., 214.,\n",
       "         216., 218., 220., 222., 224., 226., 228., 230., 232., 234., 236.,\n",
       "         238., 240., 242., 244., 246., 248.]),\n",
       "  'c': array([3.60088995e-15, 3.60057328e-15, 3.60025723e-15, 3.59994179e-15,\n",
       "         3.59962695e-15, 3.59931270e-15, 3.59899903e-15, 3.59868594e-15,\n",
       "         3.59837341e-15, 3.59806143e-15, 3.59775000e-15, 3.59743911e-15,\n",
       "         3.59712874e-15, 3.59681890e-15, 3.59650957e-15, 3.59620075e-15,\n",
       "         3.59589243e-15, 3.59558460e-15, 3.59527726e-15, 3.59497040e-15,\n",
       "         3.59466402e-15, 3.59435810e-15, 3.59405264e-15, 3.59374764e-15,\n",
       "         3.59344308e-15, 3.59313898e-15, 3.59283531e-15, 3.59253207e-15,\n",
       "         3.59222927e-15, 3.59192689e-15, 3.59162492e-15, 3.59132337e-15,\n",
       "         3.59102223e-15, 3.59072150e-15, 3.59042116e-15, 3.59012123e-15,\n",
       "         3.58982168e-15, 3.58952252e-15, 3.58922375e-15, 3.58892535e-15,\n",
       "         3.58862733e-15, 3.58832969e-15, 3.58803241e-15, 3.58773549e-15,\n",
       "         3.58743894e-15, 3.58714275e-15, 3.58684691e-15, 3.58655142e-15,\n",
       "         3.58625627e-15, 3.58596148e-15]),\n",
       "  'cz': array([-1.58336514e-10, -1.58181036e-10, -1.57872741e-10, -1.57569685e-10,\n",
       "         -1.57271691e-10, -1.56978593e-10, -1.56690233e-10, -1.56406458e-10,\n",
       "         -1.56127123e-10, -1.55852091e-10, -1.55581228e-10, -1.55314410e-10,\n",
       "         -1.55051513e-10, -1.54792424e-10, -1.54537030e-10, -1.54285225e-10,\n",
       "         -1.54036907e-10, -1.53791979e-10, -1.53550345e-10, -1.53311917e-10,\n",
       "         -1.53076607e-10, -1.52844331e-10, -1.52615010e-10, -1.52388566e-10,\n",
       "         -1.52164925e-10, -1.51944015e-10, -1.51725767e-10, -1.51510116e-10,\n",
       "         -1.51296997e-10, -1.51086347e-10, -1.50878108e-10, -1.50672222e-10,\n",
       "         -1.50468633e-10, -1.50267287e-10, -1.50068133e-10, -1.49871120e-10,\n",
       "         -1.49676200e-10, -1.49483326e-10, -1.49292453e-10, -1.49103536e-10,\n",
       "         -1.48916533e-10, -1.48731402e-10, -1.48548104e-10, -1.48366601e-10,\n",
       "         -1.48186853e-10, -1.48008826e-10, -1.47832483e-10, -1.47657790e-10,\n",
       "         -1.47484715e-10, -1.47398578e-10]),\n",
       "  'czz': array([7.77394947e-05, 1.15943320e-04, 1.52837704e-04, 1.50262565e-04,\n",
       "         1.47772852e-04, 1.45364566e-04, 1.43033943e-04, 1.40777441e-04,\n",
       "         1.38591728e-04, 1.36473658e-04, 1.34420263e-04, 1.32428745e-04,\n",
       "         1.30496458e-04, 1.28620899e-04, 1.26799702e-04, 1.25030628e-04,\n",
       "         1.23311552e-04, 1.21640464e-04, 1.20015454e-04, 1.18434712e-04,\n",
       "         1.16896517e-04, 1.15399235e-04, 1.13941310e-04, 1.12521265e-04,\n",
       "         1.11137692e-04, 1.09789252e-04, 1.08474666e-04, 1.07192717e-04,\n",
       "         1.05942244e-04, 1.04722138e-04, 1.03531341e-04, 1.02368844e-04,\n",
       "         1.01233678e-04, 1.00124921e-04, 9.90416903e-05, 9.79831380e-05,\n",
       "         9.69484571e-05, 9.59368718e-05, 9.49476384e-05, 9.39800458e-05,\n",
       "         9.30334107e-05, 9.21070779e-05, 9.12004193e-05, 9.03128312e-05,\n",
       "         8.94437337e-05, 8.85925701e-05, 8.77588048e-05, 8.69419229e-05,\n",
       "         6.48031835e-05, 4.30687272e-05]),\n",
       "  'alpha': array([0.17911856, 0.11987302, 0.09059   , 0.09179712, 0.09299915,\n",
       "         0.09419606, 0.09538784, 0.09657447, 0.09775594, 0.09893224,\n",
       "         0.10010336, 0.10126929, 0.10243003, 0.10358558, 0.10473592,\n",
       "         0.10588107, 0.10702103, 0.10815579, 0.10928537, 0.11040977,\n",
       "         0.11152899, 0.11264305, 0.11375195, 0.11485571, 0.11595433,\n",
       "         0.11704783, 0.11813621, 0.11921951, 0.12029772, 0.12137087,\n",
       "         0.12243896, 0.12350202, 0.12456007, 0.12561311, 0.12666118,\n",
       "         0.12770428, 0.12874243, 0.12977567, 0.13080399, 0.13182744,\n",
       "         0.13284601, 0.13385975, 0.13486866, 0.13587277, 0.13687209,\n",
       "         0.13786666, 0.13885649, 0.13984161, 0.1871916 , 0.2813513 ])},\n",
       " 'Original Tirmzi\\\\0342-RR_originalTirmzi-0000\\\\': {'z': array([150., 152., 154., 156., 158., 160., 162., 164., 166., 168., 170.,\n",
       "         172., 174., 176., 178., 180., 182., 184., 186., 188., 190., 192.,\n",
       "         194., 196., 198., 200., 202., 204., 206., 208., 210., 212., 214.,\n",
       "         216., 218., 220., 222., 224., 226., 228., 230., 232., 234., 236.,\n",
       "         238., 240., 242., 244., 246., 248.]),\n",
       "  'c': array([1.54170713e-15, 1.54155095e-15, 1.54139529e-15, 1.54124014e-15,\n",
       "         1.54108549e-15, 1.54093134e-15, 1.54077768e-15, 1.54062449e-15,\n",
       "         1.54047177e-15, 1.54031952e-15, 1.54016773e-15, 1.54001638e-15,\n",
       "         1.53986548e-15, 1.53971501e-15, 1.53956498e-15, 1.53941536e-15,\n",
       "         1.53926617e-15, 1.53911738e-15, 1.53896901e-15, 1.53882103e-15,\n",
       "         1.53867345e-15, 1.53852626e-15, 1.53837945e-15, 1.53823302e-15,\n",
       "         1.53808697e-15, 1.53794129e-15, 1.53779597e-15, 1.53765101e-15,\n",
       "         1.53750641e-15, 1.53736216e-15, 1.53721827e-15, 1.53707471e-15,\n",
       "         1.53693149e-15, 1.53678861e-15, 1.53664607e-15, 1.53650385e-15,\n",
       "         1.53636195e-15, 1.53622038e-15, 1.53607912e-15, 1.53593818e-15,\n",
       "         1.53579755e-15, 1.53565722e-15, 1.53551720e-15, 1.53537748e-15,\n",
       "         1.53523806e-15, 1.53509893e-15, 1.53496010e-15, 1.53482155e-15,\n",
       "         1.53468329e-15, 1.53454532e-15]),\n",
       "  'cz': array([-7.80909572e-11, -7.79607933e-11, -7.77027014e-11, -7.74490082e-11,\n",
       "         -7.71995723e-11, -7.69542587e-11, -7.67129383e-11, -7.64754881e-11,\n",
       "         -7.62417902e-11, -7.60117321e-11, -7.57852059e-11, -7.55621085e-11,\n",
       "         -7.53423408e-11, -7.51258082e-11, -7.49124196e-11, -7.47020878e-11,\n",
       "         -7.44947290e-11, -7.42902627e-11, -7.40886115e-11, -7.38897011e-11,\n",
       "         -7.36934598e-11, -7.34998188e-11, -7.33087117e-11, -7.31200748e-11,\n",
       "         -7.29338464e-11, -7.27499672e-11, -7.25683799e-11, -7.23890294e-11,\n",
       "         -7.22118623e-11, -7.20368271e-11, -7.18638742e-11, -7.16929555e-11,\n",
       "         -7.15240245e-11, -7.13570364e-11, -7.11919477e-11, -7.10287164e-11,\n",
       "         -7.08673018e-11, -7.07076645e-11, -7.05497664e-11, -7.03935705e-11,\n",
       "         -7.02390409e-11, -7.00861430e-11, -6.99348431e-11, -6.97851084e-11,\n",
       "         -6.96369073e-11, -6.94902090e-11, -6.93449837e-11, -6.92012023e-11,\n",
       "         -6.90588367e-11, -6.89880043e-11]),\n",
       "  'czz': array([6.50819059e-05, 9.70639495e-05, 1.27946286e-04, 1.25782258e-04,\n",
       "         1.23687378e-04, 1.21658496e-04, 1.19692644e-04, 1.17787023e-04,\n",
       "         1.15938998e-04, 1.14146078e-04, 1.12405911e-04, 1.10716276e-04,\n",
       "         1.09075070e-04, 1.07480304e-04, 1.05930092e-04, 1.04422649e-04,\n",
       "         1.02956280e-04, 1.01529377e-04, 1.00140414e-04, 9.87879394e-05,\n",
       "         9.74705749e-05, 9.61870082e-05, 9.49359906e-05, 9.37163328e-05,\n",
       "         9.25269014e-05, 9.13666163e-05, 9.02344470e-05, 8.91294099e-05,\n",
       "         8.80505665e-05, 8.69970194e-05, 8.59679113e-05, 8.49624226e-05,\n",
       "         8.39797694e-05, 8.30192009e-05, 8.20799989e-05, 8.11614749e-05,\n",
       "         8.02629692e-05, 7.93838499e-05, 7.85235106e-05, 7.76813690e-05,\n",
       "         7.68568669e-05, 7.60494681e-05, 7.52586576e-05, 7.44839402e-05,\n",
       "         7.37248399e-05, 7.29808996e-05, 7.22516790e-05, 7.15367546e-05,\n",
       "         5.32994935e-05, 3.54161725e-05]),\n",
       "  'alpha': array([0.12155402, 0.08123939, 0.06122947, 0.06188309, 0.06253277,\n",
       "         0.06317854, 0.06382044, 0.06445851, 0.06509279, 0.06572331,\n",
       "         0.06635012, 0.06697324, 0.06759272, 0.06820859, 0.06882089,\n",
       "         0.06942965, 0.0700349 , 0.07063669, 0.07123504, 0.07182998,\n",
       "         0.07242156, 0.07300981, 0.07359475, 0.07417641, 0.07475484,\n",
       "         0.07533006, 0.0759021 , 0.07647099, 0.07703676, 0.07759944,\n",
       "         0.07815906, 0.07871565, 0.07926924, 0.07981985, 0.08036752,\n",
       "         0.08091226, 0.08145411, 0.0819931 , 0.08252924, 0.08306257,\n",
       "         0.08359311, 0.08412089, 0.08464592, 0.08516825, 0.08568788,\n",
       "         0.08620484, 0.08671916, 0.08723086, 0.11660755, 0.17514422])}}"
      ]
     },
     "execution_count": 8,
     "metadata": {},
     "output_type": "execute_result"
    }
   ],
   "source": [
    "all_data"
   ]
  },
  {
   "cell_type": "code",
   "execution_count": 9,
   "id": "bdf1f5d3",
   "metadata": {
    "scrolled": true
   },
   "outputs": [
    {
     "data": {
      "text/plain": [
       "dict_keys(['Original Tirmzi\\\\0336-RR_originalTirmzi-0002\\\\', 'Original Tirmzi\\\\0338-RR_originalTirmzi-0001\\\\', 'Original Tirmzi\\\\0340-RR_originalTirmzi-0003\\\\', 'Original Tirmzi\\\\0342-RR_originalTirmzi-0000\\\\'])"
      ]
     },
     "execution_count": 9,
     "metadata": {},
     "output_type": "execute_result"
    }
   ],
   "source": [
    "all_data.keys()"
   ]
  },
  {
   "cell_type": "code",
   "execution_count": null,
   "id": "59fe3797",
   "metadata": {},
   "outputs": [],
   "source": []
  },
  {
   "cell_type": "code",
   "execution_count": 10,
   "id": "c6cac644",
   "metadata": {
    "scrolled": true
   },
   "outputs": [
    {
     "data": {
      "image/png": "[encoded data removed]",
      "text/plain": [
       "<Figure size 432x288 with 1 Axes>"
      ]
     },
     "metadata": {
      "needs_background": "light"
     },
     "output_type": "display_data"
    }
   ],
   "source": [
    "for key in {key: params for key, params in all_params.items() if params['Thickness_sample'] == .5}:\n",
    "    data=all_data[key]\n",
    "    thickness =all_params[key]['Thickness_sample']\n",
    "    rtip= all_params[key]['Rtip']\n",
    "    er=all_params[key]['eps_r']\n",
    "    Nuni=all_params[key]['Nuni']\n",
    "    plt.plot(data['z'], data['c'], label= f'{rtip} nm, {er}, {thickness} nm,  {Nuni}')\n",
    "    \n",
    "    \n",
    "plt.title('C v. Z for 1nm thick sample')    \n",
    "plt.ylabel(\"C(m)\")\n",
    "plt.xlabel(\"Z(m)\")\n",
    "plt.legend()\n",
    "plt.savefig(\"C' v. Z for 1nm thick sample 06-28-2021.png\")"
   ]
  },
  {
   "cell_type": "markdown",
   "id": "0981ee97",
   "metadata": {},
   "source": [
    "cut off last experiment because capacitance was off the scale"
   ]
  },
  {
   "cell_type": "code",
   "execution_count": 11,
   "id": "ad6bf37e",
   "metadata": {},
   "outputs": [
    {
     "data": {
      "image/png": "[encoded data removed]",
      "text/plain": [
       "<Figure size 432x288 with 1 Axes>"
      ]
     },
     "metadata": {
      "needs_background": "light"
     },
     "output_type": "display_data"
    }
   ],
   "source": [
    "for key in {key: params for key, params in all_params.items() if params['Thickness_sample'] == .5}:\n",
    "    data=all_data[key]\n",
    "    thickness=all_params[key]['Thickness_sample']\n",
    "    rtip= all_params[key]['Rtip']\n",
    "    er=all_params[key]['eps_r']\n",
    "    s=slice(4,-3)\n",
    "    plt.plot(data['z'][s], data['cz'][s], label=f'{rtip} nm, {er}, {thickness} nm' )\n",
    "    \n",
    "plt.title('Cz vs. Z for 1.0nm')    \n",
    "plt.ylabel(\"Cz\")\n",
    "plt.xlabel(\"Z(m)\")\n",
    "plt.legend()\n",
    "plt.savefig(\"Cz v. Z for varying sample thickness, 06-28-2021.png\")"
   ]
  },
  {
   "cell_type": "code",
   "execution_count": 12,
   "id": "8f02b5cc",
   "metadata": {},
   "outputs": [
    {
     "data": {
      "image/png": "[encoded data removed]",
      "text/plain": [
       "<Figure size 432x288 with 1 Axes>"
      ]
     },
     "metadata": {
      "needs_background": "light"
     },
     "output_type": "display_data"
    }
   ],
   "source": [
    "for key in {key: params for key, params in all_params.items() if params['Thickness_sample'] == .5}:\n",
    "    data=all_data[key]\n",
    "    thickness=all_params[key]['Thickness_sample']\n",
    "    rtip= all_params[key]['Rtip']\n",
    "    er=all_params[key]['eps_r']\n",
    "    s=slice(5,-5)\n",
    "    plt.plot(data['z'][s], data['czz'][s], label=f'{rtip} nm, {er}, {thickness} nm' )\n",
    "    \n",
    "plt.title('Czz vs. Z for 1.0nm')    \n",
    "plt.ylabel(\"Czz\")\n",
    "plt.xlabel(\"Z(m)\")\n",
    "plt.legend()\n",
    "plt.savefig(\"Czz v. Z for varying sample thickness, 06-28-2021.png\")"
   ]
  },
  {
   "cell_type": "code",
   "execution_count": 13,
   "id": "eed081f0",
   "metadata": {},
   "outputs": [
    {
     "data": {
      "text/plain": [
       "{'n': 1200,\n",
       " 'm+': 1200,\n",
       " 'm-': 60,\n",
       " 'h0': 0.5,\n",
       " 'rho_max': 10000000.0,\n",
       " 'z_max': 10000000.0,\n",
       " 'min': 150.0,\n",
       " 'max': 250.0,\n",
       " 'istep': 4.0,\n",
       " 'Rtip': 30.0,\n",
       " 'half-angle': 15.0,\n",
       " 'HCone': 15000.0,\n",
       " 'RCantilever': 13750.0,\n",
       " 'thickness_Cantilever': 500.0,\n",
       " 'eps_r': 3.0,\n",
       " 'Thickness_sample': 0.5,\n",
       " 'Solving Method': 'LAPACK',\n",
       " 'Test': 0,\n",
       " 'Verbosity': 0,\n",
       " 'Nuni': 80,\n",
       " 'Equally spaced': False}"
      ]
     },
     "execution_count": 13,
     "metadata": {},
     "output_type": "execute_result"
    }
   ],
   "source": [
    "params"
   ]
  },
  {
   "cell_type": "code",
   "execution_count": 14,
   "id": "dfdd7fe8",
   "metadata": {},
   "outputs": [
    {
     "data": {
      "image/png": "[encoded data removed]",
      "text/plain": [
       "<Figure size 432x288 with 1 Axes>"
      ]
     },
     "metadata": {
      "needs_background": "light"
     },
     "output_type": "display_data"
    }
   ],
   "source": [
    "for key in {key: params for key, params in all_params.items() if params['Thickness_sample'] == .5}:\n",
    "    data=all_data[key]\n",
    "    thickness=all_params[key]['Thickness_sample']\n",
    "    rtip= all_params[key]['Rtip']\n",
    "    er=all_params[key]['eps_r']\n",
    "    s=slice(8,-8)\n",
    "    plt.plot(data['z'][s], data['alpha'][s], label=f'{rtip} nm, {er}, {thickness} nm' )\n",
    "    \n",
    "plt.title('alpha vs. Z for 1.0nm')    \n",
    "plt.ylabel(\"$\\\\alpha$\")\n",
    "plt.xlabel(\"Z(m)\")\n",
    "plt.legend()\n",
    "plt.savefig(\"Alpha v. Z for varying sample thickness, 06-28-2021.png\")"
   ]
  },
  {
   "cell_type": "code",
   "execution_count": 15,
   "id": "09a2ae9a",
   "metadata": {},
   "outputs": [
    {
     "data": {
      "text/plain": [
       "{'z': array([150., 152., 154., 156., 158., 160., 162., 164., 166., 168., 170.,\n",
       "        172., 174., 176., 178., 180., 182., 184., 186., 188., 190., 192.,\n",
       "        194., 196., 198., 200., 202., 204., 206., 208., 210., 212., 214.,\n",
       "        216., 218., 220., 222., 224., 226., 228., 230., 232., 234., 236.,\n",
       "        238., 240., 242., 244., 246., 248.]),\n",
       " 'c': array([1.54170713e-15, 1.54155095e-15, 1.54139529e-15, 1.54124014e-15,\n",
       "        1.54108549e-15, 1.54093134e-15, 1.54077768e-15, 1.54062449e-15,\n",
       "        1.54047177e-15, 1.54031952e-15, 1.54016773e-15, 1.54001638e-15,\n",
       "        1.53986548e-15, 1.53971501e-15, 1.53956498e-15, 1.53941536e-15,\n",
       "        1.53926617e-15, 1.53911738e-15, 1.53896901e-15, 1.53882103e-15,\n",
       "        1.53867345e-15, 1.53852626e-15, 1.53837945e-15, 1.53823302e-15,\n",
       "        1.53808697e-15, 1.53794129e-15, 1.53779597e-15, 1.53765101e-15,\n",
       "        1.53750641e-15, 1.53736216e-15, 1.53721827e-15, 1.53707471e-15,\n",
       "        1.53693149e-15, 1.53678861e-15, 1.53664607e-15, 1.53650385e-15,\n",
       "        1.53636195e-15, 1.53622038e-15, 1.53607912e-15, 1.53593818e-15,\n",
       "        1.53579755e-15, 1.53565722e-15, 1.53551720e-15, 1.53537748e-15,\n",
       "        1.53523806e-15, 1.53509893e-15, 1.53496010e-15, 1.53482155e-15,\n",
       "        1.53468329e-15, 1.53454532e-15]),\n",
       " 'cz': array([-7.80909572e-11, -7.79607933e-11, -7.77027014e-11, -7.74490082e-11,\n",
       "        -7.71995723e-11, -7.69542587e-11, -7.67129383e-11, -7.64754881e-11,\n",
       "        -7.62417902e-11, -7.60117321e-11, -7.57852059e-11, -7.55621085e-11,\n",
       "        -7.53423408e-11, -7.51258082e-11, -7.49124196e-11, -7.47020878e-11,\n",
       "        -7.44947290e-11, -7.42902627e-11, -7.40886115e-11, -7.38897011e-11,\n",
       "        -7.36934598e-11, -7.34998188e-11, -7.33087117e-11, -7.31200748e-11,\n",
       "        -7.29338464e-11, -7.27499672e-11, -7.25683799e-11, -7.23890294e-11,\n",
       "        -7.22118623e-11, -7.20368271e-11, -7.18638742e-11, -7.16929555e-11,\n",
       "        -7.15240245e-11, -7.13570364e-11, -7.11919477e-11, -7.10287164e-11,\n",
       "        -7.08673018e-11, -7.07076645e-11, -7.05497664e-11, -7.03935705e-11,\n",
       "        -7.02390409e-11, -7.00861430e-11, -6.99348431e-11, -6.97851084e-11,\n",
       "        -6.96369073e-11, -6.94902090e-11, -6.93449837e-11, -6.92012023e-11,\n",
       "        -6.90588367e-11, -6.89880043e-11]),\n",
       " 'czz': array([6.50819059e-05, 9.70639495e-05, 1.27946286e-04, 1.25782258e-04,\n",
       "        1.23687378e-04, 1.21658496e-04, 1.19692644e-04, 1.17787023e-04,\n",
       "        1.15938998e-04, 1.14146078e-04, 1.12405911e-04, 1.10716276e-04,\n",
       "        1.09075070e-04, 1.07480304e-04, 1.05930092e-04, 1.04422649e-04,\n",
       "        1.02956280e-04, 1.01529377e-04, 1.00140414e-04, 9.87879394e-05,\n",
       "        9.74705749e-05, 9.61870082e-05, 9.49359906e-05, 9.37163328e-05,\n",
       "        9.25269014e-05, 9.13666163e-05, 9.02344470e-05, 8.91294099e-05,\n",
       "        8.80505665e-05, 8.69970194e-05, 8.59679113e-05, 8.49624226e-05,\n",
       "        8.39797694e-05, 8.30192009e-05, 8.20799989e-05, 8.11614749e-05,\n",
       "        8.02629692e-05, 7.93838499e-05, 7.85235106e-05, 7.76813690e-05,\n",
       "        7.68568669e-05, 7.60494681e-05, 7.52586576e-05, 7.44839402e-05,\n",
       "        7.37248399e-05, 7.29808996e-05, 7.22516790e-05, 7.15367546e-05,\n",
       "        5.32994935e-05, 3.54161725e-05]),\n",
       " 'alpha': array([0.12155402, 0.08123939, 0.06122947, 0.06188309, 0.06253277,\n",
       "        0.06317854, 0.06382044, 0.06445851, 0.06509279, 0.06572331,\n",
       "        0.06635012, 0.06697324, 0.06759272, 0.06820859, 0.06882089,\n",
       "        0.06942965, 0.0700349 , 0.07063669, 0.07123504, 0.07182998,\n",
       "        0.07242156, 0.07300981, 0.07359475, 0.07417641, 0.07475484,\n",
       "        0.07533006, 0.0759021 , 0.07647099, 0.07703676, 0.07759944,\n",
       "        0.07815906, 0.07871565, 0.07926924, 0.07981985, 0.08036752,\n",
       "        0.08091226, 0.08145411, 0.0819931 , 0.08252924, 0.08306257,\n",
       "        0.08359311, 0.08412089, 0.08464592, 0.08516825, 0.08568788,\n",
       "        0.08620484, 0.08671916, 0.08723086, 0.11660755, 0.17514422])}"
      ]
     },
     "execution_count": 15,
     "metadata": {},
     "output_type": "execute_result"
    }
   ],
   "source": [
    "data"
   ]
  },
  {
   "cell_type": "code",
   "execution_count": 16,
   "id": "77a6dac6",
   "metadata": {},
   "outputs": [],
   "source": [
    "from scipy.optimize import curve_fit\n"
   ]
  },
  {
   "cell_type": "code",
   "execution_count": 17,
   "id": "49b30168",
   "metadata": {},
   "outputs": [],
   "source": [
    "def Cz_model(z, a, n, b,):\n",
    "    return(a*z**n + b)"
   ]
  },
  {
   "cell_type": "code",
   "execution_count": 18,
   "id": "87212141",
   "metadata": {},
   "outputs": [
    {
     "data": {
      "text/plain": [
       "dict_keys(['Original Tirmzi\\\\0336-RR_originalTirmzi-0002\\\\', 'Original Tirmzi\\\\0338-RR_originalTirmzi-0001\\\\', 'Original Tirmzi\\\\0340-RR_originalTirmzi-0003\\\\', 'Original Tirmzi\\\\0342-RR_originalTirmzi-0000\\\\'])"
      ]
     },
     "execution_count": 18,
     "metadata": {},
     "output_type": "execute_result"
    }
   ],
   "source": [
    "all_data.keys()"
   ]
  },
  {
   "cell_type": "code",
   "execution_count": 19,
   "id": "74215bd0",
   "metadata": {},
   "outputs": [
    {
     "ename": "KeyError",
     "evalue": "'capsol-calc\\\\0001-capsol\\\\'",
     "output_type": "error",
     "traceback": [
      "\u001b[1;31m---------------------------------------------------------------------------\u001b[0m",
      "\u001b[1;31mKeyError\u001b[0m                                  Traceback (most recent call last)",
      "\u001b[1;32m<ipython-input-19-23a180486cb5>\u001b[0m in \u001b[0;36m<module>\u001b[1;34m\u001b[0m\n\u001b[1;32m----> 1\u001b[1;33m \u001b[0mdata\u001b[0m\u001b[1;33m=\u001b[0m \u001b[0mall_data\u001b[0m\u001b[1;33m[\u001b[0m\u001b[1;34m'capsol-calc\\\\0001-capsol\\\\'\u001b[0m\u001b[1;33m]\u001b[0m\u001b[1;33m\u001b[0m\u001b[1;33m\u001b[0m\u001b[0m\n\u001b[0m\u001b[0;32m      2\u001b[0m \u001b[0mz\u001b[0m\u001b[1;33m=\u001b[0m \u001b[0mdata\u001b[0m\u001b[1;33m[\u001b[0m\u001b[1;34m'z'\u001b[0m\u001b[1;33m]\u001b[0m\u001b[1;33m[\u001b[0m\u001b[1;36m1\u001b[0m\u001b[1;33m:\u001b[0m\u001b[1;33m-\u001b[0m\u001b[1;36m1\u001b[0m\u001b[1;33m]\u001b[0m\u001b[1;33m\u001b[0m\u001b[1;33m\u001b[0m\u001b[0m\n\u001b[0;32m      3\u001b[0m \u001b[0mcz\u001b[0m\u001b[1;33m=\u001b[0m \u001b[0mdata\u001b[0m\u001b[1;33m[\u001b[0m\u001b[1;34m'cz'\u001b[0m\u001b[1;33m]\u001b[0m\u001b[1;33m[\u001b[0m\u001b[1;36m1\u001b[0m\u001b[1;33m:\u001b[0m\u001b[1;33m-\u001b[0m\u001b[1;36m1\u001b[0m\u001b[1;33m]\u001b[0m\u001b[1;33m\u001b[0m\u001b[1;33m\u001b[0m\u001b[0m\n",
      "\u001b[1;31mKeyError\u001b[0m: 'capsol-calc\\\\0001-capsol\\\\'"
     ]
    }
   ],
   "source": [
    "data= all_data['capsol-calc\\\\0001-capsol\\\\']\n",
    "z= data['z'][1:-1]\n",
    "cz= data['cz'][1:-1]"
   ]
  },
  {
   "cell_type": "code",
   "execution_count": null,
   "id": "8ff0827e",
   "metadata": {},
   "outputs": [],
   "source": [
    "popt, pcov= curve_fit(Cz_model, z, cz, p0=[cz[0]*z[0], -1, 0])\n",
    "a=popt[0]\n",
    "n=popt[1]\n",
    "b=popt[2]\n",
    "std_devs= np.sqrt(pcov.diagonal())\n",
    "sigma_a = std_devs[0]\n",
    "sigma_n = std_devs[1]\n",
    "model_output= Cz_model(z, a, n, b)\n",
    "rmse= np.sqrt(np.mean((cz - model_output)**2))\n"
   ]
  },
  {
   "cell_type": "code",
   "execution_count": null,
   "id": "42e9d139",
   "metadata": {},
   "outputs": [],
   "source": [
    "f\"a= {a} ± {sigma_a}\""
   ]
  },
  {
   "cell_type": "code",
   "execution_count": null,
   "id": "05e99973",
   "metadata": {},
   "outputs": [],
   "source": [
    "f\"n= {n}± {sigma_n}\""
   ]
  },
  {
   "cell_type": "code",
   "execution_count": null,
   "id": "e495fee8",
   "metadata": {},
   "outputs": [],
   "source": [
    "model_output"
   ]
  },
  {
   "cell_type": "code",
   "execution_count": null,
   "id": "dbd0d394",
   "metadata": {},
   "outputs": [],
   "source": [
    "\"Root Mean Square Error\""
   ]
  },
  {
   "cell_type": "code",
   "execution_count": null,
   "id": "b351ff7e",
   "metadata": {},
   "outputs": [],
   "source": [
    "rmse/np.mean(-cz)"
   ]
  },
  {
   "cell_type": "code",
   "execution_count": null,
   "id": "86949536",
   "metadata": {},
   "outputs": [],
   "source": []
  }
 ],
 "metadata": {
  "kernelspec": {
   "display_name": "Python 3",
   "language": "python",
   "name": "python3"
  },
  "language_info": {
   "codemirror_mode": {
    "name": "ipython",
    "version": 3
   },
   "file_extension": ".py",
   "mimetype": "text/x-python",
   "name": "python",
   "nbconvert_exporter": "python",
   "pygments_lexer": "ipython3",
   "version": "3.8.8"
  }
 },
 "nbformat": 4,
 "nbformat_minor": 5
}
