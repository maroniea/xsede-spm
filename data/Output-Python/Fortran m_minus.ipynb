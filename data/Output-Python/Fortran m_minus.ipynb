{
 "cells": [
  {
   "cell_type": "markdown",
   "id": "7909fa0a",
   "metadata": {},
   "source": [
    "##Tirmzi Analysis\n",
    "n=1000 m+=1000 nm-=120 istep= 4 min=150 max=700"
   ]
  },
  {
   "cell_type": "code",
   "execution_count": 1,
   "id": "63afb62c",
   "metadata": {},
   "outputs": [],
   "source": [
    "import sys\n",
    "sys.path\n",
    "import matplotlib.pyplot as plt\n",
    "import numpy as np\n",
    "import os\n",
    "from scipy import signal"
   ]
  },
  {
   "cell_type": "code",
   "execution_count": 2,
   "id": "8bec0f1d",
   "metadata": {
    "scrolled": true
   },
   "outputs": [
    {
     "name": "stdout",
     "output_type": "stream",
     "text": [
      " Volume in drive C is Local Disk\n",
      " Volume Serial Number is AA1B-997A\n",
      "\n",
      " Directory of C:\\Users\\emaro\\OneDrive - University of Mount Union\\XSEDE Summer 2021\\xsede-spm\\data\n",
      "\n",
      "08/03/2021  01:20 PM    <DIR>          .\n",
      "08/03/2021  01:20 PM    <DIR>          ..\n",
      "08/03/2021  01:20 PM    <DIR>          .ipynb_checkpoints\n",
      "08/02/2021  02:01 PM    <DIR>          0309-VariedNuni_8_2_2021-0000\n",
      "08/02/2021  02:15 PM    <DIR>          8_2_2021\n",
      "08/02/2021  02:18 PM           152,527 8_2_2021_FortranVariedNuni.ipynb\n",
      "08/02/2021  03:39 PM           161,361 8_2_2021_FortranVariedNuni-Copy1.ipynb\n",
      "08/03/2021  01:17 PM           130,779 8_2_2021_PythonVariedNuni.ipynb\n",
      "08/02/2021  02:58 PM           130,726 8_2_2021_PythonVariedNuni-Copy1.ipynb\n",
      "08/03/2021  01:20 PM           148,540 8_2_2021_PythonVariedNuni-Copy2.ipynb\n",
      "08/03/2021  01:20 PM           130,779 8_2_2021_PythonVariedNuni-Copy3.ipynb\n",
      "08/03/2021  01:20 PM           148,540 8_2_2021_PythonVariedNuni-Copy4.ipynb\n",
      "08/02/2021  02:52 PM    <DIR>          8_2_2021P\n",
      "08/03/2021  01:19 PM            11,992 Alpha v. Z for varying sample thickness, 06-28-2021.png\n",
      "08/03/2021  01:19 PM            29,737 C' v. Z for 1nm thick sample 06-28-2021.png\n",
      "08/02/2021  02:15 PM             6,179 C' v. Z for varying sample thickness, 06-28-2021.png\n",
      "08/03/2021  01:19 PM            19,471 Cz v. Z for varying sample thickness, 06-28-2021.png\n",
      "08/03/2021  01:19 PM            23,292 Czz v. Z for varying sample thickness, 06-28-2021.png\n",
      "08/02/2021  03:35 PM    <DIR>          erequals1_F\n",
      "08/03/2021  01:05 PM    <DIR>          erequals1_P\n",
      "08/02/2021  03:35 PM    <DIR>          FortranOutputTest\n",
      "08/03/2021  01:14 PM    <DIR>          m_minue_P\n",
      "08/03/2021  01:16 PM    <DIR>          m_minus_F\n",
      "08/03/2021  01:05 PM    <DIR>          PythonOutputTest\n",
      "08/03/2021  01:13 PM    <DIR>          SphereTest_F\n",
      "08/03/2021  01:13 PM    <DIR>          SphereTest_P\n",
      "07/28/2021  11:49 AM            57,907 Tirmzi_istep4.ipynb\n",
      "07/28/2021  11:43 AM           113,265 Tirmzi_istep4-Copy2.ipynb\n",
      "              14 File(s)      1,265,095 bytes\n",
      "              14 Dir(s)  153,565,974,528 bytes free\n"
     ]
    }
   ],
   "source": [
    "ls"
   ]
  },
  {
   "cell_type": "code",
   "execution_count": 3,
   "id": "b2bdd91e",
   "metadata": {},
   "outputs": [],
   "source": [
    "import capsol.newanalyzecapsol as ac"
   ]
  },
  {
   "cell_type": "code",
   "execution_count": 4,
   "id": "74d01467",
   "metadata": {},
   "outputs": [
    {
     "data": {
      "text/plain": [
       "<function capsol.newanalyzecapsol.get_gridparameters(f_name)>"
      ]
     },
     "execution_count": 4,
     "metadata": {},
     "output_type": "execute_result"
    }
   ],
   "source": [
    "ac.get_gridparameters"
   ]
  },
  {
   "cell_type": "code",
   "execution_count": 5,
   "id": "234f74d8",
   "metadata": {},
   "outputs": [],
   "source": [
    "import glob"
   ]
  },
  {
   "cell_type": "code",
   "execution_count": 6,
   "id": "5766fac7",
   "metadata": {},
   "outputs": [
    {
     "data": {
      "text/plain": [
       "['m_minus_F\\\\0327-m_minus4-0002\\\\',\n",
       " 'm_minus_F\\\\0329-m_minus4-0000\\\\',\n",
       " 'm_minus_F\\\\0331-m_minus4-0001\\\\']"
      ]
     },
     "execution_count": 6,
     "metadata": {},
     "output_type": "execute_result"
    }
   ],
   "source": [
    "folders = glob.glob(\"m_minus_F/*/\")\n",
    "folders\n"
   ]
  },
  {
   "cell_type": "code",
   "execution_count": 7,
   "id": "0f240774",
   "metadata": {
    "scrolled": false
   },
   "outputs": [],
   "source": [
    "all_data= dict() \n",
    "for folder in folders:\n",
    "    params = ac.get_gridparameters(folder + 'capsol.in')\n",
    "    data = ac.np.loadtxt(folder + 'Z-U.dat')\n",
    "    process_data = ac.process_data(params, data, smoothing=False, std=5*10**-9, fortran=True)\n",
    "    all_data[folder]= (process_data)\n",
    "all_params= dict()\n",
    "for folder in folders:\n",
    "    params=ac.get_gridparameters(folder + 'capsol.in')\n",
    "    all_params[folder]= (params)"
   ]
  },
  {
   "cell_type": "code",
   "execution_count": 8,
   "id": "a27efec2",
   "metadata": {},
   "outputs": [
    {
     "data": {
      "text/plain": [
       "{'m_minus_F\\\\0327-m_minus4-0002\\\\': {'z': array([150.    , 152.0001, 153.9999, 156.    , 158.0001, 159.9999,\n",
       "         162.    , 164.0001, 165.9999, 168.    , 170.0001, 171.9999,\n",
       "         174.    , 176.0001, 177.9999, 180.    , 182.0001, 183.9999,\n",
       "         186.    , 188.0001, 189.9999, 192.    , 194.0001, 195.9999,\n",
       "         198.    , 200.0001, 201.9999, 204.    , 206.0001, 207.9999,\n",
       "         210.    , 212.0001, 213.9999, 216.    , 218.0001, 219.9999,\n",
       "         222.    , 224.0001, 225.9999, 228.    , 230.0001, 231.9999,\n",
       "         234.    , 236.0001, 237.9999, 240.    , 242.0001, 243.9999,\n",
       "         246.    , 248.0001, 249.9999]),\n",
       "  'c': array([1.70827801e-15, 4.47207700e+04, 1.70788405e-15, 4.36308247e+04,\n",
       "         4.48505000e+04, 4.55673080e+04, 4.60517344e+04, 4.40055075e+04,\n",
       "         3.67598359e+04, 4.13465670e+04, 4.46341879e+04, 4.41580378e+04,\n",
       "         4.38103626e+04, 4.31578497e+04, 4.35445572e+04, 4.31573265e+04,\n",
       "         4.25640669e+04, 4.36801294e+04, 1.70481938e-15, 4.21327962e+04,\n",
       "         4.25384795e+04, 4.25172873e+04, 4.27537202e+04, 4.32335987e+04,\n",
       "         3.96057686e+04, 3.94201300e+04, 4.09524886e+04, 3.98252242e+04,\n",
       "         4.22515704e+04, 4.18330963e+04, 4.20477779e+04, 4.17710994e+04,\n",
       "         4.04503556e+04, 4.33064930e+04, 1.70188747e-15, 4.17173545e+04,\n",
       "         4.02985505e+04, 4.17879740e+04, 4.06628483e+04, 4.01246703e+04,\n",
       "         4.07908418e+04, 4.13421168e+04, 4.14649466e+04, 4.12977547e+04,\n",
       "         4.16579912e+04, 4.18029986e+04, 4.28243238e+04, 4.32126527e+04,\n",
       "         4.29599310e+04, 4.25396544e+04, 4.23314183e+04]),\n",
       "  'cz': array([ 2.23592670e+13, -9.84833788e-11, -2.72472698e+11,  1.12120644e+13,\n",
       "          4.84096602e+11,  3.00293574e+11, -3.90430586e+11, -2.32285847e+12,\n",
       "         -6.64701893e+11,  1.96848957e+12,  7.02832547e+11, -2.05946039e+11,\n",
       "         -2.50034508e+11, -6.64480144e+10, -1.30796608e+08, -2.45110340e+11,\n",
       "          1.30694182e+11, -1.06404847e+13, -3.86813966e+11,  1.06340882e+13,\n",
       "          9.61179837e+10,  5.38074714e+10,  1.79068900e+11, -7.86948533e+11,\n",
       "         -9.53319524e+11,  3.36663167e+11,  1.01268491e+11,  3.24754209e+11,\n",
       "          5.01942934e+11, -5.09455916e+10, -1.54984593e+10, -3.99335603e+11,\n",
       "          3.83829216e+11, -1.01120833e+13, -3.97264761e+11,  1.00741339e+13,\n",
       "          1.76539957e+10,  9.10699021e+10, -4.15805128e+11,  3.19967721e+10,\n",
       "          3.04346392e+11,  1.68517765e+11, -1.10899669e+10,  4.82587331e+10,\n",
       "          1.26304673e+11,  2.91568585e+11,  3.52395892e+11,  3.39001026e+10,\n",
       "         -1.68241152e+11, -1.57120312e+11, -1.04112848e+11]),\n",
       "  'czz': array([-1.11790746e+22, -5.65765205e+21,  2.80287596e+21,  1.89132868e+20,\n",
       "         -2.72780632e+21, -2.18620866e+20, -6.55755223e+20, -6.85643987e+19,\n",
       "          1.07278337e+21,  3.41866517e+20, -5.43581723e+20, -2.38204854e+20,\n",
       "          3.48727624e+19,  6.24728043e+19, -4.46633481e+19,  3.27046093e+19,\n",
       "         -2.59871365e+21, -1.29370568e+20,  5.31837730e+21,  1.20726951e+20,\n",
       "         -2.64493793e+21,  2.07366923e+19, -2.10178492e+20, -2.83082952e+20,\n",
       "          2.80888881e+20,  2.63633822e+20, -2.97709067e+18,  1.00163602e+20,\n",
       "         -9.39202541e+19, -1.29353881e+20, -8.70931481e+19,  9.98269276e+19,\n",
       "         -2.42806552e+21, -1.95263731e+20,  5.04630199e+21,  1.03724503e+20,\n",
       "         -2.49564122e+21, -1.08359363e+20, -1.47675441e+19,  1.80028878e+20,\n",
       "          3.41285419e+19, -7.88551469e+19, -3.00632549e+19,  3.43469425e+19,\n",
       "          6.08244218e+19,  5.65199789e+19, -6.44139000e+19, -1.30152753e+20,\n",
       "         -4.77527159e+19,  1.60312745e+19,  2.65024066e+19]),\n",
       "  'alpha': array([-5.23577191e+19, -7.66673352e-47,  3.10179947e+16,  3.04677744e+01,\n",
       "         -3.83100964e-03, -1.81041063e-02, -1.00955483e-02, -3.57659519e+00,\n",
       "          2.24077489e-02,  5.48277229e-01, -4.07193879e-02, -8.06448258e-03,\n",
       "          8.18402036e-02,  3.27524062e-03, -1.75929149e-08,  8.51313969e-02,\n",
       "         -3.08845273e-04, -4.00712985e+01,  3.30047745e+16,  4.44637405e+01,\n",
       "         -1.64225976e-04,  6.56765199e-03, -7.13687591e-03, -1.01201641e-01,\n",
       "          1.63385675e-01,  2.18123284e-02, -1.68231111e-01,  5.28775600e-02,\n",
       "         -1.26980365e-01, -9.59276362e-04, -1.31183741e-04,  7.64860879e-02,\n",
       "         -3.00001419e-03, -2.41844755e+01,  3.67524253e+16,  4.69080428e+01,\n",
       "         -6.19789842e-06, -3.66321135e-03, -5.75842352e-01,  2.83457973e-04,\n",
       "          1.33071762e-01, -1.74220246e-02, -1.97321036e-04,  3.28372897e-03,\n",
       "          1.25919363e-02,  7.19618017e-02, -9.00371129e-02, -4.08665272e-04,\n",
       "         -2.75951534e-02,  7.23990139e-02,  1.93237103e-02])},\n",
       " 'm_minus_F\\\\0329-m_minus4-0000\\\\': {'z': array([150.    , 152.0001, 153.9999, 156.    , 158.0001, 159.9999,\n",
       "         162.    , 164.0001, 165.9999, 168.    , 170.0001, 171.9999,\n",
       "         174.    , 176.0001, 177.9999, 180.    , 182.0001, 183.9999,\n",
       "         186.    , 188.0001, 189.9999, 192.    , 194.0001, 195.9999,\n",
       "         198.    , 200.0001, 201.9999, 204.    , 206.0001, 207.9999,\n",
       "         210.    , 212.0001, 213.9999, 216.    , 218.0001, 219.9999,\n",
       "         222.    , 224.0001, 225.9999, 228.    , 230.0001, 231.9999,\n",
       "         234.    , 236.0001, 237.9999, 240.    , 242.0001, 243.9999,\n",
       "         246.    , 248.0001, 249.9999]),\n",
       "  'c': array([1.70039410e-15, 4.04147304e+04, 1.70000165e-15, 3.88691337e+04,\n",
       "         3.97170452e+04, 3.96996457e+04, 3.88662114e+04, 3.59629790e+04,\n",
       "         3.54208740e+04, 3.83599377e+04, 4.05121397e+04, 3.95322160e+04,\n",
       "         3.90596123e+04, 3.82876918e+04, 3.83249342e+04, 3.85449564e+04,\n",
       "         3.74286894e+04, 3.80518247e+04, 1.69694900e-15, 3.71396791e+04,\n",
       "         3.74141654e+04, 3.71525241e+04, 3.70242844e+04, 3.72428521e+04,\n",
       "         3.53958007e+04, 3.57521001e+04, 3.65865892e+04, 3.53004049e+04,\n",
       "         3.75349116e+04, 3.69860549e+04, 3.70437618e+04, 3.71591898e+04,\n",
       "         3.63009535e+04, 3.82957186e+04, 1.69402919e-15, 3.73421515e+04,\n",
       "         3.58905236e+04, 3.72620040e+04, 3.62879825e+04, 3.57018433e+04,\n",
       "         3.61544089e+04, 3.66409824e+04, 3.66554905e+04, 3.63650090e+04,\n",
       "         3.62909757e+04, 3.57813233e+04, 3.57862658e+04, 3.47838923e+04,\n",
       "         3.23265505e+04, 3.88902917e+04, 4.11328910e+04]),\n",
       "  'cz': array([ 2.02063549e+13, -9.81078861e-11, -3.86379855e+11,  9.92876486e+12,\n",
       "          2.07617607e+11, -2.12697814e+11, -9.34119959e+11, -8.61291281e+11,\n",
       "          5.99209716e+11,  1.27275279e+12,  2.93054910e+11, -3.63113704e+11,\n",
       "         -3.11115481e+11, -1.83660341e+11,  6.43129215e+10, -2.24050000e+11,\n",
       "         -1.23276741e+11, -9.35670451e+12, -2.28025007e+11,  9.35307371e+12,\n",
       "          3.21108801e+09, -9.74653765e+10,  2.25808765e+10, -4.07100582e+11,\n",
       "         -3.72669366e+11,  2.97682232e+11, -1.12918151e+11,  2.37068747e+11,\n",
       "          4.21391415e+11, -1.22781300e+11,  4.32815779e+10, -1.85692799e+11,\n",
       "          2.84117977e+11, -9.07478463e+12, -2.38379842e+11,  8.97218230e+12,\n",
       "         -2.00358708e+10,  9.93597369e+10, -3.90020673e+11, -3.33917273e+10,\n",
       "          2.34773027e+11,  1.25264141e+11, -6.89898911e+10, -9.11241400e+10,\n",
       "         -1.45914151e+11, -1.26171164e+11, -2.49345271e+11, -8.64885580e+11,\n",
       "          1.02654852e+12,  2.20147504e+12,  1.12124359e+12]),\n",
       "  'czz': array([-1.01026723e+22, -5.14792629e+21,  2.48206711e+21,  1.48491941e+20,\n",
       "         -2.53523891e+21, -2.85420120e+20, -1.62140260e+20,  3.83313253e+20,\n",
       "          5.33484344e+20, -7.65348748e+19, -4.08946177e+20, -1.51035046e+20,\n",
       "          4.48610977e+19,  9.38524081e+19, -1.00969098e+19, -4.68950710e+19,\n",
       "         -2.28304948e+21, -2.61857570e+19,  4.67721069e+21,  5.78061333e+19,\n",
       "         -2.36251664e+21,  4.84220502e+18, -7.74049312e+19, -9.88076203e+19,\n",
       "          1.76186894e+20,  6.49345571e+19, -1.51526135e+19,  1.33570713e+20,\n",
       "         -8.99580138e+19, -9.45227332e+19, -1.57270885e+19,  6.02060894e+19,\n",
       "         -2.22216185e+21, -1.30617924e+20,  4.51151616e+21,  5.45832637e+19,\n",
       "         -2.21809474e+21, -9.24915760e+19, -3.31862067e+19,  1.56190615e+20,\n",
       "          3.96619839e+19, -7.59369326e+19, -5.40943654e+19, -1.92301034e+19,\n",
       "         -8.76131794e+18, -2.58564873e+19, -1.84669371e+20,  3.18957499e+20,\n",
       "          7.66551829e+20,  2.36725851e+19, -5.40088721e+20]),\n",
       "  'alpha': array([-4.75357216e+19, -9.25264344e-47,  7.07613454e+16,  3.41595941e+01,\n",
       "         -8.56174984e-04, -7.98518224e-03, -2.76931415e-01,  1.07626843e-01,\n",
       "          3.80020248e-02, -1.10352161e+00, -1.03675626e-02, -4.41658286e-02,\n",
       "          1.10477901e-01,  1.87739719e-02, -2.13774833e-02, -5.55424631e-02,\n",
       "         -3.55690565e-04, -1.75725668e+02,  1.31020492e+16,  8.14941890e+01,\n",
       "         -2.33304693e-07,  1.05608586e-01, -3.55841246e-04, -9.00741288e-02,\n",
       "          4.45401878e-02,  7.63410942e-02, -4.59989631e-02,  2.38389802e-02,\n",
       "         -1.05178291e-01, -8.62422678e-03, -6.43091476e-03,  3.08257368e-02,\n",
       "         -2.00139911e-03, -3.29268094e+01,  1.48705026e+16,  7.89891312e+01,\n",
       "         -1.00852473e-05, -5.72904816e-03, -2.52629937e-01,  3.99909930e-04,\n",
       "          7.68759853e-02, -1.12788121e-02, -4.80075838e-03, -2.37482473e-02,\n",
       "         -1.33923482e-01, -3.44131395e-02, -1.88157275e-02,  1.34845455e-01,\n",
       "          8.50526928e-02,  1.05286004e+01, -1.13181541e-01])},\n",
       " 'm_minus_F\\\\0331-m_minus4-0001\\\\': {'z': array([150.    , 152.0001, 153.9999, 156.    , 158.0001, 159.9999,\n",
       "         162.    , 164.0001, 165.9999, 168.    , 170.0001, 171.9999,\n",
       "         174.    , 176.0001, 177.9999, 180.    , 182.0001, 183.9999,\n",
       "         186.    , 188.0001, 189.9999, 192.    , 194.0001, 195.9999,\n",
       "         198.    , 200.0001, 201.9999, 204.    , 206.0001, 207.9999,\n",
       "         210.    , 212.0001, 213.9999, 216.    , 218.0001, 219.9999,\n",
       "         222.    , 224.0001, 225.9999, 228.    , 230.0001, 231.9999,\n",
       "         234.    , 236.0001, 237.9999, 240.    , 242.0001, 243.9999,\n",
       "         246.    , 248.0001, 249.9999]),\n",
       "  'c': array([1.69969791e-15, 4.17478652e+04, 1.69930495e-15, 4.01326637e+04,\n",
       "         4.09780234e+04, 4.10477484e+04, 4.03983865e+04, 3.80942141e+04,\n",
       "         3.58868303e+04, 3.91121088e+04, 4.16069942e+04, 4.07209424e+04,\n",
       "         4.02709337e+04, 3.95308883e+04, 3.95562053e+04, 3.99962947e+04,\n",
       "         3.86641837e+04, 3.94557652e+04, 1.69624829e-15, 3.83338714e+04,\n",
       "         3.87162647e+04, 3.84088685e+04, 3.83330077e+04, 3.86467867e+04,\n",
       "         3.72263972e+04, 3.66850608e+04, 3.76834288e+04, 3.64554422e+04,\n",
       "         3.87788190e+04, 3.81517800e+04, 3.82508116e+04, 3.85644295e+04,\n",
       "         3.73244432e+04, 3.95928919e+04, 1.69332448e-15, 3.86388083e+04,\n",
       "         3.69534037e+04, 3.84142383e+04, 3.74175334e+04, 3.68307200e+04,\n",
       "         3.72974423e+04, 3.78090274e+04, 3.78403192e+04, 3.75828218e+04,\n",
       "         3.75689571e+04, 3.71280316e+04, 3.72514947e+04, 3.64862558e+04,\n",
       "         3.45521725e+04, 3.98092608e+04, 4.14981618e+04]),\n",
       "  'cz': array([ 2.08728890e+13, -9.82330503e-11, -4.03780184e+11,  1.02439937e+13,\n",
       "          2.28759721e+11, -1.44901989e+11, -7.38346642e+11, -1.12783266e+12,\n",
       "          2.54460941e+11,  1.42996948e+12,  4.02188304e+11, -3.33998421e+11,\n",
       "         -2.97498657e+11, -1.78673173e+11,  1.16345773e+11, -2.22994239e+11,\n",
       "         -1.35125621e+11, -9.66556266e+12, -2.80459427e+11,  9.67858224e+12,\n",
       "          1.87483482e+10, -9.58094539e+10,  5.94765761e+10, -2.76638789e+11,\n",
       "         -4.90406965e+11,  1.14252193e+11, -5.74017706e+10,  2.73833859e+11,\n",
       "          4.24063254e+11, -1.31995264e+11,  1.03157219e+11, -2.31580505e+11,\n",
       "          2.57102740e+11, -9.33064428e+12, -2.38508970e+11,  9.23788904e+12,\n",
       "         -5.61396980e+10,  1.16026604e+11, -3.95859792e+11, -3.00212635e+10,\n",
       "          2.44564624e+11,  1.35712432e+11, -5.65485678e+10, -6.78371286e+10,\n",
       "         -1.13691874e+11, -7.93616240e+10, -1.60435912e+11, -6.74796805e+11,\n",
       "          8.30709699e+11,  1.73641050e+12,  8.44408297e+11]),\n",
       "  'czz': array([-1.04359227e+22, -5.31890134e+21,  2.56087037e+21,  1.58127070e+20,\n",
       "         -2.59709406e+21, -2.41764502e+20, -2.45720380e+20,  2.48189486e+20,\n",
       "          6.39418563e+20,  3.69299942e+19, -4.40969927e+20, -1.74912995e+20,\n",
       "          3.88293706e+19,  1.03455935e+20, -1.10797127e+19, -6.28647052e+19,\n",
       "         -2.36052408e+21, -3.63316349e+19,  4.83579443e+21,  7.47982038e+19,\n",
       "         -2.44347575e+21,  1.01815479e+19, -4.52050735e+19, -1.37464012e+20,\n",
       "          9.77178595e+19,  1.08245886e+20,  3.98934218e+19,  1.20360238e+20,\n",
       "         -1.01452208e+20, -8.02224976e+19, -2.48950655e+19,  3.84844561e+19,\n",
       "         -2.27465221e+21, -1.23896733e+20,  4.64190123e+21,  4.55900385e+19,\n",
       "         -2.28035159e+21, -8.49257773e+19, -3.65101414e+19,  1.60098099e+20,\n",
       "          4.14313524e+19, -7.52745341e+19, -5.08848460e+19, -1.42851124e+19,\n",
       "         -2.88097979e+18, -1.16854251e+19, -1.48851353e+20,  2.47774014e+20,\n",
       "          6.02771687e+20,  3.42447823e+18, -4.45978801e+20]),\n",
       "  'alpha': array([-4.91238650e+19, -8.69138620e-47,  7.49309227e+16,  3.30722991e+01,\n",
       "         -9.83445791e-04, -4.23152408e-03, -1.09836176e-01,  2.69077217e-01,\n",
       "          5.64354396e-03,  2.83134676e+00, -1.76324863e-02, -3.13241234e-02,\n",
       "          1.13200401e-01,  1.56119342e-02, -6.17714921e-02, -3.95540211e-02,\n",
       "         -4.00118028e-04, -1.30343346e+02,  1.91784200e+16,  6.53400759e+01,\n",
       "         -7.43112444e-06,  4.69463036e-02, -4.08283509e-03, -2.88106953e-02,\n",
       "          1.32226439e-01,  6.57443506e-03,  4.38357934e-03,  3.41789628e-02,\n",
       "         -9.14187328e-02, -1.13850700e-02, -2.23498865e-02,  7.22706106e-02,\n",
       "         -1.55716655e-03, -3.54957357e+01,  1.44744926e+16,  9.68906335e+01,\n",
       "         -7.48021155e-05, -8.25302958e-03, -2.29416216e-01,  3.05697258e-04,\n",
       "          7.74121461e-02, -1.29427238e-02, -3.32146714e-03, -1.71431989e-02,\n",
       "         -2.38846838e-01, -2.90338513e-02, -9.28403309e-03,  1.00737455e-01,\n",
       "          6.62674644e-02,  4.42340065e+01, -7.70534173e-02])}}"
      ]
     },
     "execution_count": 8,
     "metadata": {},
     "output_type": "execute_result"
    }
   ],
   "source": [
    "all_data"
   ]
  },
  {
   "cell_type": "code",
   "execution_count": 9,
   "id": "bdf1f5d3",
   "metadata": {
    "scrolled": true
   },
   "outputs": [
    {
     "data": {
      "text/plain": [
       "dict_keys(['m_minus_F\\\\0327-m_minus4-0002\\\\', 'm_minus_F\\\\0329-m_minus4-0000\\\\', 'm_minus_F\\\\0331-m_minus4-0001\\\\'])"
      ]
     },
     "execution_count": 9,
     "metadata": {},
     "output_type": "execute_result"
    }
   ],
   "source": [
    "all_data.keys()"
   ]
  },
  {
   "cell_type": "code",
   "execution_count": null,
   "id": "59fe3797",
   "metadata": {},
   "outputs": [],
   "source": []
  },
  {
   "cell_type": "code",
   "execution_count": 10,
   "id": "c6cac644",
   "metadata": {
    "scrolled": true
   },
   "outputs": [
    {
     "data": {
      "image/png": "[encoded data removed]",
      "text/plain": [
       "<Figure size 432x288 with 1 Axes>"
      ]
     },
     "metadata": {
      "needs_background": "light"
     },
     "output_type": "display_data"
    }
   ],
   "source": [
    "for key in {key: params for key, params in all_params.items() if params['Thickness_sample'] == 1.0}:\n",
    "    data=all_data[key]\n",
    "    thickness =all_params[key]['Thickness_sample']\n",
    "    rtip= all_params[key]['Rtip']\n",
    "    er=all_params[key]['eps_r']\n",
    "    Nuni=all_params[key]['Nuni']\n",
    "    plt.plot(data['z'], data['c'], label= f'{rtip} nm, {er}, {thickness} nm,  {Nuni}')\n",
    "    \n",
    "    \n",
    "plt.title('C v. Z for 1nm thick sample')    \n",
    "plt.ylabel(\"C(m)\")\n",
    "plt.xlabel(\"Z(m)\")\n",
    "plt.legend()\n",
    "plt.savefig(\"C' v. Z for 1nm thick sample 06-28-2021.png\")"
   ]
  },
  {
   "cell_type": "markdown",
   "id": "0981ee97",
   "metadata": {},
   "source": [
    "cut off last experiment because capacitance was off the scale"
   ]
  },
  {
   "cell_type": "code",
   "execution_count": 11,
   "id": "ad6bf37e",
   "metadata": {},
   "outputs": [
    {
     "data": {
      "image/png": "[encoded data removed]",
      "text/plain": [
       "<Figure size 432x288 with 1 Axes>"
      ]
     },
     "metadata": {
      "needs_background": "light"
     },
     "output_type": "display_data"
    }
   ],
   "source": [
    "for key in {key: params for key, params in all_params.items() if params['Thickness_sample'] == 1.0}:\n",
    "    data=all_data[key]\n",
    "    thickness=all_params[key]['Thickness_sample']\n",
    "    rtip= all_params[key]['Rtip']\n",
    "    er=all_params[key]['eps_r']\n",
    "    s=slice(4,-3)\n",
    "    plt.plot(data['z'][s], data['cz'][s], label=f'{rtip} nm, {er}, {thickness} nm' )\n",
    "    \n",
    "plt.title('Cz vs. Z for 1.0nm')    \n",
    "plt.ylabel(\"Cz\")\n",
    "plt.xlabel(\"Z(m)\")\n",
    "plt.legend()\n",
    "plt.savefig(\"Cz v. Z for varying sample thickness, 06-28-2021.png\")"
   ]
  },
  {
   "cell_type": "code",
   "execution_count": 12,
   "id": "8f02b5cc",
   "metadata": {},
   "outputs": [
    {
     "data": {
      "image/png": "[encoded data removed]",
      "text/plain": [
       "<Figure size 432x288 with 1 Axes>"
      ]
     },
     "metadata": {
      "needs_background": "light"
     },
     "output_type": "display_data"
    }
   ],
   "source": [
    "for key in {key: params for key, params in all_params.items() if params['Thickness_sample'] == 1.0}:\n",
    "    data=all_data[key]\n",
    "    thickness=all_params[key]['Thickness_sample']\n",
    "    rtip= all_params[key]['Rtip']\n",
    "    er=all_params[key]['eps_r']\n",
    "    s=slice(5,-5)\n",
    "    plt.plot(data['z'][s], data['czz'][s], label=f'{rtip} nm, {er}, {thickness} nm' )\n",
    "    \n",
    "plt.title('Czz vs. Z for 1.0nm')    \n",
    "plt.ylabel(\"Czz\")\n",
    "plt.xlabel(\"Z(m)\")\n",
    "plt.legend()\n",
    "plt.savefig(\"Czz v. Z for varying sample thickness, 06-28-2021.png\")"
   ]
  },
  {
   "cell_type": "code",
   "execution_count": 13,
   "id": "eed081f0",
   "metadata": {},
   "outputs": [
    {
     "data": {
      "text/plain": [
       "{'n': 1000,\n",
       " 'm+': 1000,\n",
       " 'm-': 4,\n",
       " 'h0': 0.5,\n",
       " 'rho_max': 1000000.0,\n",
       " 'z_max': 1000000.0,\n",
       " 'min': 150.0,\n",
       " 'max': 250.0,\n",
       " 'istep': 4.0,\n",
       " 'Rtip': 30.0,\n",
       " 'half-angle': 20.0,\n",
       " 'HCone': 15000.0,\n",
       " 'RCantilever': 13750.0,\n",
       " 'thickness_Cantilever': 999.99,\n",
       " 'eps_r': 1.0,\n",
       " 'Thickness_sample': 1.0,\n",
       " 'Solving Method': 'LAPACK',\n",
       " 'Test': 0,\n",
       " 'Verbosity': 0,\n",
       " 'Nuni': 50,\n",
       " 'Equally spaced': False}"
      ]
     },
     "execution_count": 13,
     "metadata": {},
     "output_type": "execute_result"
    }
   ],
   "source": [
    "params"
   ]
  },
  {
   "cell_type": "code",
   "execution_count": 14,
   "id": "dfdd7fe8",
   "metadata": {},
   "outputs": [
    {
     "data": {
      "image/png": "[encoded data removed]",
      "text/plain": [
       "<Figure size 432x288 with 1 Axes>"
      ]
     },
     "metadata": {
      "needs_background": "light"
     },
     "output_type": "display_data"
    }
   ],
   "source": [
    "for key in {key: params for key, params in all_params.items() if params['Thickness_sample'] == 1.0}:\n",
    "    data=all_data[key]\n",
    "    thickness=all_params[key]['Thickness_sample']\n",
    "    rtip= all_params[key]['Rtip']\n",
    "    er=all_params[key]['eps_r']\n",
    "    s=slice(8,-8)\n",
    "    plt.plot(data['z'][s], data['alpha'][s], label=f'{rtip} nm, {er}, {thickness} nm' )\n",
    "    \n",
    "plt.title('alpha vs. Z for 1.0nm')    \n",
    "plt.ylabel(\"$\\\\alpha$\")\n",
    "plt.xlabel(\"Z(m)\")\n",
    "plt.legend()\n",
    "plt.savefig(\"Alpha v. Z for varying sample thickness, 06-28-2021.png\")"
   ]
  },
  {
   "cell_type": "code",
   "execution_count": 15,
   "id": "09a2ae9a",
   "metadata": {},
   "outputs": [
    {
     "data": {
      "text/plain": [
       "{'z': array([150.    , 152.0001, 153.9999, 156.    , 158.0001, 159.9999,\n",
       "        162.    , 164.0001, 165.9999, 168.    , 170.0001, 171.9999,\n",
       "        174.    , 176.0001, 177.9999, 180.    , 182.0001, 183.9999,\n",
       "        186.    , 188.0001, 189.9999, 192.    , 194.0001, 195.9999,\n",
       "        198.    , 200.0001, 201.9999, 204.    , 206.0001, 207.9999,\n",
       "        210.    , 212.0001, 213.9999, 216.    , 218.0001, 219.9999,\n",
       "        222.    , 224.0001, 225.9999, 228.    , 230.0001, 231.9999,\n",
       "        234.    , 236.0001, 237.9999, 240.    , 242.0001, 243.9999,\n",
       "        246.    , 248.0001, 249.9999]),\n",
       " 'c': array([1.69969791e-15, 4.17478652e+04, 1.69930495e-15, 4.01326637e+04,\n",
       "        4.09780234e+04, 4.10477484e+04, 4.03983865e+04, 3.80942141e+04,\n",
       "        3.58868303e+04, 3.91121088e+04, 4.16069942e+04, 4.07209424e+04,\n",
       "        4.02709337e+04, 3.95308883e+04, 3.95562053e+04, 3.99962947e+04,\n",
       "        3.86641837e+04, 3.94557652e+04, 1.69624829e-15, 3.83338714e+04,\n",
       "        3.87162647e+04, 3.84088685e+04, 3.83330077e+04, 3.86467867e+04,\n",
       "        3.72263972e+04, 3.66850608e+04, 3.76834288e+04, 3.64554422e+04,\n",
       "        3.87788190e+04, 3.81517800e+04, 3.82508116e+04, 3.85644295e+04,\n",
       "        3.73244432e+04, 3.95928919e+04, 1.69332448e-15, 3.86388083e+04,\n",
       "        3.69534037e+04, 3.84142383e+04, 3.74175334e+04, 3.68307200e+04,\n",
       "        3.72974423e+04, 3.78090274e+04, 3.78403192e+04, 3.75828218e+04,\n",
       "        3.75689571e+04, 3.71280316e+04, 3.72514947e+04, 3.64862558e+04,\n",
       "        3.45521725e+04, 3.98092608e+04, 4.14981618e+04]),\n",
       " 'cz': array([ 2.08728890e+13, -9.82330503e-11, -4.03780184e+11,  1.02439937e+13,\n",
       "         2.28759721e+11, -1.44901989e+11, -7.38346642e+11, -1.12783266e+12,\n",
       "         2.54460941e+11,  1.42996948e+12,  4.02188304e+11, -3.33998421e+11,\n",
       "        -2.97498657e+11, -1.78673173e+11,  1.16345773e+11, -2.22994239e+11,\n",
       "        -1.35125621e+11, -9.66556266e+12, -2.80459427e+11,  9.67858224e+12,\n",
       "         1.87483482e+10, -9.58094539e+10,  5.94765761e+10, -2.76638789e+11,\n",
       "        -4.90406965e+11,  1.14252193e+11, -5.74017706e+10,  2.73833859e+11,\n",
       "         4.24063254e+11, -1.31995264e+11,  1.03157219e+11, -2.31580505e+11,\n",
       "         2.57102740e+11, -9.33064428e+12, -2.38508970e+11,  9.23788904e+12,\n",
       "        -5.61396980e+10,  1.16026604e+11, -3.95859792e+11, -3.00212635e+10,\n",
       "         2.44564624e+11,  1.35712432e+11, -5.65485678e+10, -6.78371286e+10,\n",
       "        -1.13691874e+11, -7.93616240e+10, -1.60435912e+11, -6.74796805e+11,\n",
       "         8.30709699e+11,  1.73641050e+12,  8.44408297e+11]),\n",
       " 'czz': array([-1.04359227e+22, -5.31890134e+21,  2.56087037e+21,  1.58127070e+20,\n",
       "        -2.59709406e+21, -2.41764502e+20, -2.45720380e+20,  2.48189486e+20,\n",
       "         6.39418563e+20,  3.69299942e+19, -4.40969927e+20, -1.74912995e+20,\n",
       "         3.88293706e+19,  1.03455935e+20, -1.10797127e+19, -6.28647052e+19,\n",
       "        -2.36052408e+21, -3.63316349e+19,  4.83579443e+21,  7.47982038e+19,\n",
       "        -2.44347575e+21,  1.01815479e+19, -4.52050735e+19, -1.37464012e+20,\n",
       "         9.77178595e+19,  1.08245886e+20,  3.98934218e+19,  1.20360238e+20,\n",
       "        -1.01452208e+20, -8.02224976e+19, -2.48950655e+19,  3.84844561e+19,\n",
       "        -2.27465221e+21, -1.23896733e+20,  4.64190123e+21,  4.55900385e+19,\n",
       "        -2.28035159e+21, -8.49257773e+19, -3.65101414e+19,  1.60098099e+20,\n",
       "         4.14313524e+19, -7.52745341e+19, -5.08848460e+19, -1.42851124e+19,\n",
       "        -2.88097979e+18, -1.16854251e+19, -1.48851353e+20,  2.47774014e+20,\n",
       "         6.02771687e+20,  3.42447823e+18, -4.45978801e+20]),\n",
       " 'alpha': array([-4.91238650e+19, -8.69138620e-47,  7.49309227e+16,  3.30722991e+01,\n",
       "        -9.83445791e-04, -4.23152408e-03, -1.09836176e-01,  2.69077217e-01,\n",
       "         5.64354396e-03,  2.83134676e+00, -1.76324863e-02, -3.13241234e-02,\n",
       "         1.13200401e-01,  1.56119342e-02, -6.17714921e-02, -3.95540211e-02,\n",
       "        -4.00118028e-04, -1.30343346e+02,  1.91784200e+16,  6.53400759e+01,\n",
       "        -7.43112444e-06,  4.69463036e-02, -4.08283509e-03, -2.88106953e-02,\n",
       "         1.32226439e-01,  6.57443506e-03,  4.38357934e-03,  3.41789628e-02,\n",
       "        -9.14187328e-02, -1.13850700e-02, -2.23498865e-02,  7.22706106e-02,\n",
       "        -1.55716655e-03, -3.54957357e+01,  1.44744926e+16,  9.68906335e+01,\n",
       "        -7.48021155e-05, -8.25302958e-03, -2.29416216e-01,  3.05697258e-04,\n",
       "         7.74121461e-02, -1.29427238e-02, -3.32146714e-03, -1.71431989e-02,\n",
       "        -2.38846838e-01, -2.90338513e-02, -9.28403309e-03,  1.00737455e-01,\n",
       "         6.62674644e-02,  4.42340065e+01, -7.70534173e-02])}"
      ]
     },
     "execution_count": 15,
     "metadata": {},
     "output_type": "execute_result"
    }
   ],
   "source": [
    "data"
   ]
  },
  {
   "cell_type": "code",
   "execution_count": 16,
   "id": "77a6dac6",
   "metadata": {},
   "outputs": [],
   "source": [
    "from scipy.optimize import curve_fit\n"
   ]
  },
  {
   "cell_type": "code",
   "execution_count": 17,
   "id": "49b30168",
   "metadata": {},
   "outputs": [],
   "source": [
    "def Cz_model(z, a, n, b,):\n",
    "    return(a*z**n + b)"
   ]
  },
  {
   "cell_type": "code",
   "execution_count": 18,
   "id": "87212141",
   "metadata": {},
   "outputs": [
    {
     "data": {
      "text/plain": [
       "dict_keys(['m_minus_F\\\\0327-m_minus4-0002\\\\', 'm_minus_F\\\\0329-m_minus4-0000\\\\', 'm_minus_F\\\\0331-m_minus4-0001\\\\'])"
      ]
     },
     "execution_count": 18,
     "metadata": {},
     "output_type": "execute_result"
    }
   ],
   "source": [
    "all_data.keys()"
   ]
  },
  {
   "cell_type": "code",
   "execution_count": 19,
   "id": "74215bd0",
   "metadata": {},
   "outputs": [
    {
     "ename": "KeyError",
     "evalue": "'capsol-calc\\\\0001-capsol\\\\'",
     "output_type": "error",
     "traceback": [
      "\u001b[1;31m---------------------------------------------------------------------------\u001b[0m",
      "\u001b[1;31mKeyError\u001b[0m                                  Traceback (most recent call last)",
      "\u001b[1;32m<ipython-input-19-23a180486cb5>\u001b[0m in \u001b[0;36m<module>\u001b[1;34m\u001b[0m\n\u001b[1;32m----> 1\u001b[1;33m \u001b[0mdata\u001b[0m\u001b[1;33m=\u001b[0m \u001b[0mall_data\u001b[0m\u001b[1;33m[\u001b[0m\u001b[1;34m'capsol-calc\\\\0001-capsol\\\\'\u001b[0m\u001b[1;33m]\u001b[0m\u001b[1;33m\u001b[0m\u001b[1;33m\u001b[0m\u001b[0m\n\u001b[0m\u001b[0;32m      2\u001b[0m \u001b[0mz\u001b[0m\u001b[1;33m=\u001b[0m \u001b[0mdata\u001b[0m\u001b[1;33m[\u001b[0m\u001b[1;34m'z'\u001b[0m\u001b[1;33m]\u001b[0m\u001b[1;33m[\u001b[0m\u001b[1;36m1\u001b[0m\u001b[1;33m:\u001b[0m\u001b[1;33m-\u001b[0m\u001b[1;36m1\u001b[0m\u001b[1;33m]\u001b[0m\u001b[1;33m\u001b[0m\u001b[1;33m\u001b[0m\u001b[0m\n\u001b[0;32m      3\u001b[0m \u001b[0mcz\u001b[0m\u001b[1;33m=\u001b[0m \u001b[0mdata\u001b[0m\u001b[1;33m[\u001b[0m\u001b[1;34m'cz'\u001b[0m\u001b[1;33m]\u001b[0m\u001b[1;33m[\u001b[0m\u001b[1;36m1\u001b[0m\u001b[1;33m:\u001b[0m\u001b[1;33m-\u001b[0m\u001b[1;36m1\u001b[0m\u001b[1;33m]\u001b[0m\u001b[1;33m\u001b[0m\u001b[1;33m\u001b[0m\u001b[0m\n",
      "\u001b[1;31mKeyError\u001b[0m: 'capsol-calc\\\\0001-capsol\\\\'"
     ]
    }
   ],
   "source": [
    "data= all_data['capsol-calc\\\\0001-capsol\\\\']\n",
    "z= data['z'][1:-1]\n",
    "cz= data['cz'][1:-1]"
   ]
  },
  {
   "cell_type": "code",
   "execution_count": null,
   "id": "8ff0827e",
   "metadata": {},
   "outputs": [],
   "source": [
    "popt, pcov= curve_fit(Cz_model, z, cz, p0=[cz[0]*z[0], -1, 0])\n",
    "a=popt[0]\n",
    "n=popt[1]\n",
    "b=popt[2]\n",
    "std_devs= np.sqrt(pcov.diagonal())\n",
    "sigma_a = std_devs[0]\n",
    "sigma_n = std_devs[1]\n",
    "model_output= Cz_model(z, a, n, b)\n",
    "rmse= np.sqrt(np.mean((cz - model_output)**2))\n"
   ]
  },
  {
   "cell_type": "code",
   "execution_count": null,
   "id": "42e9d139",
   "metadata": {},
   "outputs": [],
   "source": [
    "f\"a= {a} ± {sigma_a}\""
   ]
  },
  {
   "cell_type": "code",
   "execution_count": null,
   "id": "05e99973",
   "metadata": {},
   "outputs": [],
   "source": [
    "f\"n= {n}± {sigma_n}\""
   ]
  },
  {
   "cell_type": "code",
   "execution_count": null,
   "id": "e495fee8",
   "metadata": {},
   "outputs": [],
   "source": [
    "model_output"
   ]
  },
  {
   "cell_type": "code",
   "execution_count": null,
   "id": "dbd0d394",
   "metadata": {},
   "outputs": [],
   "source": [
    "\"Root Mean Square Error\""
   ]
  },
  {
   "cell_type": "code",
   "execution_count": null,
   "id": "b351ff7e",
   "metadata": {},
   "outputs": [],
   "source": [
    "rmse/np.mean(-cz)"
   ]
  },
  {
   "cell_type": "code",
   "execution_count": null,
   "id": "86949536",
   "metadata": {},
   "outputs": [],
   "source": []
  }
 ],
 "metadata": {
  "kernelspec": {
   "display_name": "Python 3",
   "language": "python",
   "name": "python3"
  },
  "language_info": {
   "codemirror_mode": {
    "name": "ipython",
    "version": 3
   },
   "file_extension": ".py",
   "mimetype": "text/x-python",
   "name": "python",
   "nbconvert_exporter": "python",
   "pygments_lexer": "ipython3",
   "version": "3.8.8"
  }
 },
 "nbformat": 4,
 "nbformat_minor": 5
}
