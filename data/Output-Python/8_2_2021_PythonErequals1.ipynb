{
 "cells": [
  {
   "cell_type": "markdown",
   "id": "7909fa0a",
   "metadata": {},
   "source": [
    "##Tirmzi Analysis\n",
    "n=1000 m+=1000 nm-=120 istep= 4 min=150 max=700"
   ]
  },
  {
   "cell_type": "code",
   "execution_count": 1,
   "id": "63afb62c",
   "metadata": {},
   "outputs": [],
   "source": [
    "import sys\n",
    "sys.path\n",
    "import matplotlib.pyplot as plt\n",
    "import numpy as np\n",
    "import os\n",
    "from scipy import signal"
   ]
  },
  {
   "cell_type": "code",
   "execution_count": 2,
   "id": "8bec0f1d",
   "metadata": {
    "scrolled": true
   },
   "outputs": [
    {
     "name": "stdout",
     "output_type": "stream",
     "text": [
      " Volume in drive C is Local Disk\n",
      " Volume Serial Number is AA1B-997A\n",
      "\n",
      " Directory of C:\\Users\\emaro\\OneDrive - University of Mount Union\\XSEDE Summer 2021\\xsede-spm\\data\n",
      "\n",
      "08/03/2021  01:16 PM    <DIR>          .\n",
      "08/03/2021  01:16 PM    <DIR>          ..\n",
      "08/03/2021  01:16 PM    <DIR>          .ipynb_checkpoints\n",
      "08/02/2021  02:01 PM    <DIR>          0309-VariedNuni_8_2_2021-0000\n",
      "08/02/2021  02:15 PM    <DIR>          8_2_2021\n",
      "08/02/2021  02:18 PM           152,527 8_2_2021_FortranVariedNuni.ipynb\n",
      "08/02/2021  03:39 PM           161,361 8_2_2021_FortranVariedNuni-Copy1.ipynb\n",
      "08/03/2021  01:16 PM           130,726 8_2_2021_PythonVariedNuni.ipynb\n",
      "08/02/2021  02:58 PM           130,726 8_2_2021_PythonVariedNuni-Copy1.ipynb\n",
      "08/02/2021  02:52 PM    <DIR>          8_2_2021P\n",
      "08/02/2021  03:38 PM            16,563 Alpha v. Z for varying sample thickness, 06-28-2021.png\n",
      "08/02/2021  03:38 PM            30,669 C' v. Z for 1nm thick sample 06-28-2021.png\n",
      "08/02/2021  02:15 PM             6,179 C' v. Z for varying sample thickness, 06-28-2021.png\n",
      "08/02/2021  03:38 PM            24,152 Cz v. Z for varying sample thickness, 06-28-2021.png\n",
      "08/02/2021  03:38 PM            26,625 Czz v. Z for varying sample thickness, 06-28-2021.png\n",
      "08/02/2021  03:35 PM    <DIR>          erequals1_F\n",
      "08/03/2021  01:05 PM    <DIR>          erequals1_P\n",
      "08/02/2021  03:35 PM    <DIR>          FortranOutputTest\n",
      "08/03/2021  01:14 PM    <DIR>          m_minue_P\n",
      "08/03/2021  01:16 PM    <DIR>          m_minus_F\n",
      "08/03/2021  01:05 PM    <DIR>          PythonOutputTest\n",
      "08/03/2021  01:13 PM    <DIR>          SphereTest_F\n",
      "08/03/2021  01:13 PM    <DIR>          SphereTest_P\n",
      "07/28/2021  11:49 AM            57,907 Tirmzi_istep4.ipynb\n",
      "07/28/2021  11:43 AM           113,265 Tirmzi_istep4-Copy2.ipynb\n",
      "              11 File(s)        850,700 bytes\n",
      "              14 Dir(s)  153,558,441,984 bytes free\n"
     ]
    }
   ],
   "source": [
    "ls"
   ]
  },
  {
   "cell_type": "code",
   "execution_count": 3,
   "id": "b2bdd91e",
   "metadata": {},
   "outputs": [],
   "source": [
    "import capsol.newanalyzecapsol as ac"
   ]
  },
  {
   "cell_type": "code",
   "execution_count": 4,
   "id": "74d01467",
   "metadata": {},
   "outputs": [
    {
     "data": {
      "text/plain": [
       "<function capsol.newanalyzecapsol.get_gridparameters(f_name)>"
      ]
     },
     "execution_count": 4,
     "metadata": {},
     "output_type": "execute_result"
    }
   ],
   "source": [
    "ac.get_gridparameters"
   ]
  },
  {
   "cell_type": "code",
   "execution_count": 5,
   "id": "234f74d8",
   "metadata": {},
   "outputs": [],
   "source": [
    "import glob"
   ]
  },
  {
   "cell_type": "code",
   "execution_count": 6,
   "id": "5766fac7",
   "metadata": {},
   "outputs": [
    {
     "data": {
      "text/plain": [
       "['erequals1_P\\\\0316-er_equal_1-0002\\\\',\n",
       " 'erequals1_P\\\\0318-er_equal_1-0001\\\\',\n",
       " 'erequals1_P\\\\0320-er_equal_1-0000\\\\']"
      ]
     },
     "execution_count": 6,
     "metadata": {},
     "output_type": "execute_result"
    }
   ],
   "source": [
    "folders = glob.glob(\"erequals1_P/*/\")\n",
    "folders\n"
   ]
  },
  {
   "cell_type": "code",
   "execution_count": 7,
   "id": "0f240774",
   "metadata": {
    "scrolled": false
   },
   "outputs": [],
   "source": [
    "all_data= dict() \n",
    "for folder in folders:\n",
    "    params = ac.get_gridparameters(folder + 'capsol.in')\n",
    "    data = ac.np.loadtxt(folder + 'C-Z.dat')\n",
    "    process_data = ac.process_data(params, data, smoothing=False, std=5*10**-9, fortran=False)\n",
    "    all_data[folder]= (process_data)\n",
    "all_params= dict()\n",
    "for folder in folders:\n",
    "    params=ac.get_gridparameters(folder + 'capsol.in')\n",
    "    all_params[folder]= (params)"
   ]
  },
  {
   "cell_type": "code",
   "execution_count": 8,
   "id": "a27efec2",
   "metadata": {},
   "outputs": [
    {
     "data": {
      "text/plain": [
       "{'erequals1_P\\\\0316-er_equal_1-0002\\\\': {'z': array([150., 152., 154., 156., 158., 160., 162., 164., 166., 168., 170.,\n",
       "         172., 174., 176., 178., 180., 182., 184., 186., 188., 190., 192.,\n",
       "         194., 196., 198., 200., 202., 204., 206., 208., 210., 212., 214.,\n",
       "         216., 218., 220., 222., 224., 226., 228., 230., 232., 234., 236.,\n",
       "         238., 240., 242., 244., 246., 248.]),\n",
       "  'c': array([3.23412104e-15, 3.23375499e-15, 3.23339017e-15, 3.23302656e-15,\n",
       "         3.23266414e-15, 3.23230290e-15, 3.23194281e-15, 3.23158386e-15,\n",
       "         3.23122602e-15, 3.23086929e-15, 3.23051365e-15, 3.23015908e-15,\n",
       "         3.22980556e-15, 3.22945308e-15, 3.22910163e-15, 3.22875118e-15,\n",
       "         3.22840174e-15, 3.22805328e-15, 3.22770579e-15, 3.22735926e-15,\n",
       "         3.22701368e-15, 3.22666903e-15, 3.22632531e-15, 3.22598249e-15,\n",
       "         3.22564057e-15, 3.22529955e-15, 3.22495940e-15, 3.22462011e-15,\n",
       "         3.22428169e-15, 3.22394411e-15, 3.22360737e-15, 3.22327146e-15,\n",
       "         3.22293637e-15, 3.22260208e-15, 3.22226860e-15, 3.22193591e-15,\n",
       "         3.22160400e-15, 3.22127287e-15, 3.22094250e-15, 3.22061290e-15,\n",
       "         3.22028404e-15, 3.21995593e-15, 3.21962855e-15, 3.21930191e-15,\n",
       "         3.21897598e-15, 3.21865077e-15, 3.21832626e-15, 3.21800246e-15,\n",
       "         3.21767935e-15, 3.21735692e-15]),\n",
       "  'cz': array([-1.83025216e-10, -1.82717401e-10, -1.82106805e-10, -1.81506118e-10,\n",
       "         -1.80915033e-10, -1.80333257e-10, -1.79760508e-10, -1.79196518e-10,\n",
       "         -1.78641030e-10, -1.78093797e-10, -1.77554585e-10, -1.77023167e-10,\n",
       "         -1.76499325e-10, -1.75982853e-10, -1.75473549e-10, -1.74971222e-10,\n",
       "         -1.74475688e-10, -1.73986769e-10, -1.73504294e-10, -1.73028099e-10,\n",
       "         -1.72558025e-10, -1.72093921e-10, -1.71635639e-10, -1.71183037e-10,\n",
       "         -1.70735979e-10, -1.70294333e-10, -1.69857972e-10, -1.69426772e-10,\n",
       "         -1.69000615e-10, -1.68579386e-10, -1.68162974e-10, -1.67751271e-10,\n",
       "         -1.67344174e-10, -1.66941583e-10, -1.66543399e-10, -1.66149529e-10,\n",
       "         -1.65759881e-10, -1.65374368e-10, -1.64992902e-10, -1.64615401e-10,\n",
       "         -1.64241784e-10, -1.63871974e-10, -1.63505893e-10, -1.63143468e-10,\n",
       "         -1.62784628e-10, -1.62429303e-10, -1.62077426e-10, -1.61728930e-10,\n",
       "         -1.61383752e-10, -1.61211985e-10]),\n",
       "  'czz': array([1.53907380e-04, 2.29602730e-04, 3.02820718e-04, 2.97942862e-04,\n",
       "         2.93215302e-04, 2.88631364e-04, 2.84184755e-04, 2.79869538e-04,\n",
       "         2.75680107e-04, 2.71611165e-04, 2.67657704e-04, 2.63814984e-04,\n",
       "         2.60078516e-04, 2.56444048e-04, 2.52907547e-04, 2.49465186e-04,\n",
       "         2.46113333e-04, 2.42848537e-04, 2.39667516e-04, 2.36567150e-04,\n",
       "         2.33544470e-04, 2.30596647e-04, 2.27720986e-04, 2.24914920e-04,\n",
       "         2.22175998e-04, 2.19501882e-04, 2.16890340e-04, 2.14339241e-04,\n",
       "         2.11846545e-04, 2.09410305e-04, 2.07028656e-04, 2.04699814e-04,\n",
       "         2.02422072e-04, 2.00193793e-04, 1.98013409e-04, 1.95879417e-04,\n",
       "         1.93790375e-04, 1.91744900e-04, 1.89741663e-04, 1.87779389e-04,\n",
       "         1.85856853e-04, 1.83972879e-04, 1.82126334e-04, 1.80316129e-04,\n",
       "         1.78541218e-04, 1.76800592e-04, 1.75093283e-04, 1.73418354e-04,\n",
       "         1.29236249e-04, 8.58836269e-05]),\n",
       "  'alpha': array([0.13459723, 0.08993022, 0.06773898, 0.06840223, 0.06906088,\n",
       "         0.06971497, 0.07036458, 0.07100976, 0.07165057, 0.07228706,\n",
       "         0.07291929, 0.07354732, 0.07417119, 0.07479096, 0.07540668,\n",
       "         0.0760184 , 0.07662617, 0.07723004, 0.07783005, 0.07842626,\n",
       "         0.07901871, 0.07960744, 0.0801925 , 0.08077392, 0.08135177,\n",
       "         0.08192606, 0.08249686, 0.08306419, 0.08362809, 0.08418862,\n",
       "         0.08474579, 0.08529966, 0.08585026, 0.08639762, 0.08694178,\n",
       "         0.08748277, 0.08802063, 0.0885554 , 0.0890871 , 0.08961578,\n",
       "         0.09014145, 0.09066416, 0.09118393, 0.09170079, 0.09221478,\n",
       "         0.09272593, 0.09323425, 0.09373979, 0.12526291, 0.18811136])},\n",
       " 'erequals1_P\\\\0318-er_equal_1-0001\\\\': {'z': array([150., 152., 154., 156., 158., 160., 162., 164., 166., 168., 170.,\n",
       "         172., 174., 176., 178., 180., 182., 184., 186., 188., 190., 192.,\n",
       "         194., 196., 198., 200., 202., 204., 206., 208., 210., 212., 214.,\n",
       "         216., 218., 220., 222., 224., 226., 228., 230., 232., 234., 236.,\n",
       "         238., 240., 242., 244., 246., 248.]),\n",
       "  'c': array([3.22516845e-15, 3.22480365e-15, 3.22444008e-15, 3.22407771e-15,\n",
       "         3.22371654e-15, 3.22335654e-15, 3.22299770e-15, 3.22263999e-15,\n",
       "         3.22228339e-15, 3.22192790e-15, 3.22157350e-15, 3.22122016e-15,\n",
       "         3.22086788e-15, 3.22051663e-15, 3.22016642e-15, 3.21981721e-15,\n",
       "         3.21946900e-15, 3.21912177e-15, 3.21877551e-15, 3.21843021e-15,\n",
       "         3.21808586e-15, 3.21774244e-15, 3.21739994e-15, 3.21705835e-15,\n",
       "         3.21671766e-15, 3.21637785e-15, 3.21603893e-15, 3.21570087e-15,\n",
       "         3.21536366e-15, 3.21502731e-15, 3.21469179e-15, 3.21435709e-15,\n",
       "         3.21402322e-15, 3.21369015e-15, 3.21335789e-15, 3.21302641e-15,\n",
       "         3.21269572e-15, 3.21236580e-15, 3.21203665e-15, 3.21170826e-15,\n",
       "         3.21138062e-15, 3.21105371e-15, 3.21072755e-15, 3.21040211e-15,\n",
       "         3.21007739e-15, 3.20975339e-15, 3.20943009e-15, 3.20910750e-15,\n",
       "         3.20878559e-15, 3.20846437e-15]),\n",
       "  'cz': array([-1.82400906e-10, -1.82093391e-10, -1.81483389e-10, -1.80883287e-10,\n",
       "         -1.80292777e-10, -1.79711566e-10, -1.79139373e-10, -1.78575931e-10,\n",
       "         -1.78020982e-10, -1.77474281e-10, -1.76935592e-10, -1.76404690e-10,\n",
       "         -1.75881357e-10, -1.75365386e-10, -1.74856578e-10, -1.74354739e-10,\n",
       "         -1.73859687e-10, -1.73371243e-10, -1.72889238e-10, -1.72413507e-10,\n",
       "         -1.71943892e-10, -1.71480240e-10, -1.71022406e-10, -1.70570247e-10,\n",
       "         -1.70123626e-10, -1.69682413e-10, -1.69246479e-10, -1.68815703e-10,\n",
       "         -1.68389965e-10, -1.67969151e-10, -1.67553149e-10, -1.67141853e-10,\n",
       "         -1.66735159e-10, -1.66332966e-10, -1.65935177e-10, -1.65541699e-10,\n",
       "         -1.65152439e-10, -1.64767309e-10, -1.64386225e-10, -1.64009102e-10,\n",
       "         -1.63635859e-10, -1.63266420e-10, -1.62900708e-10, -1.62538649e-10,\n",
       "         -1.62180171e-10, -1.61825206e-10, -1.61473686e-10, -1.61125545e-10,\n",
       "         -1.60780719e-10, -1.60609127e-10]),\n",
       "  'czz': array([1.53757496e-04, 2.29379182e-04, 3.02526016e-04, 2.97653085e-04,\n",
       "         2.92930272e-04, 2.88350909e-04, 2.83908712e-04, 2.79597752e-04,\n",
       "         2.75412430e-04, 2.71347456e-04, 2.67397828e-04, 2.63558811e-04,\n",
       "         2.59825923e-04, 2.56194917e-04, 2.52661765e-04, 2.49222646e-04,\n",
       "         2.45873930e-04, 2.42612172e-04, 2.39434095e-04, 2.36336581e-04,\n",
       "         2.33316665e-04, 2.30371523e-04, 2.27498462e-04, 2.24694919e-04,\n",
       "         2.21958445e-04, 2.19286706e-04, 2.16677472e-04, 2.14128614e-04,\n",
       "         2.11638096e-04, 2.09203973e-04, 2.06824382e-04, 2.04497541e-04,\n",
       "         2.02221745e-04, 1.99995359e-04, 1.97816818e-04, 1.95684619e-04,\n",
       "         1.93597323e-04, 1.91553548e-04, 1.89551966e-04, 1.87591306e-04,\n",
       "         1.85670343e-04, 1.83787901e-04, 1.81942849e-04, 1.80134102e-04,\n",
       "         1.78360611e-04, 1.76621372e-04, 1.74915415e-04, 1.73241806e-04,\n",
       "         1.29104488e-04, 8.57960014e-05]),\n",
       "  'alpha': array([0.13418231, 0.08965223, 0.06752844, 0.06818848, 0.06884391,\n",
       "         0.06949481, 0.07014123, 0.07078323, 0.07142087, 0.0720542 ,\n",
       "         0.07268327, 0.07330816, 0.0739289 , 0.07454554, 0.07515815,\n",
       "         0.07576677, 0.07637145, 0.07697224, 0.07756919, 0.07816233,\n",
       "         0.07875173, 0.07933742, 0.07991945, 0.08049786, 0.0810727 ,\n",
       "         0.081644  , 0.08221181, 0.08277617, 0.08333712, 0.08389469,\n",
       "         0.08444892, 0.08499986, 0.08554754, 0.08609199, 0.08663325,\n",
       "         0.08717136, 0.08770635, 0.08823825, 0.0887671 , 0.08929294,\n",
       "         0.08981578, 0.09033567, 0.09085263, 0.09136669, 0.0918779 ,\n",
       "         0.09238627, 0.09289183, 0.09339461, 0.12480037, 0.18741579])},\n",
       " 'erequals1_P\\\\0320-er_equal_1-0000\\\\': {'z': array([150., 152., 154., 156., 158., 160., 162., 164., 166., 168., 170.,\n",
       "         172., 174., 176., 178., 180., 182., 184., 186., 188., 190., 192.,\n",
       "         194., 196., 198., 200., 202., 204., 206., 208., 210., 212., 214.,\n",
       "         216., 218., 220., 222., 224., 226., 228., 230., 232., 234., 236.,\n",
       "         238., 240., 242., 244., 246., 248.]),\n",
       "  'c': array([3.22550022e-15, 3.22513477e-15, 3.22477054e-15, 3.22440752e-15,\n",
       "         3.22404569e-15, 3.22368503e-15, 3.22332552e-15, 3.22296714e-15,\n",
       "         3.22260989e-15, 3.22225373e-15, 3.22189866e-15, 3.22154465e-15,\n",
       "         3.22119170e-15, 3.22083979e-15, 3.22048890e-15, 3.22013902e-15,\n",
       "         3.21979014e-15, 3.21944224e-15, 3.21909531e-15, 3.21874934e-15,\n",
       "         3.21840431e-15, 3.21806021e-15, 3.21771704e-15, 3.21737477e-15,\n",
       "         3.21703340e-15, 3.21669292e-15, 3.21635331e-15, 3.21601458e-15,\n",
       "         3.21567669e-15, 3.21533966e-15, 3.21500346e-15, 3.21466808e-15,\n",
       "         3.21433353e-15, 3.21399978e-15, 3.21366683e-15, 3.21333467e-15,\n",
       "         3.21300330e-15, 3.21267270e-15, 3.21234286e-15, 3.21201378e-15,\n",
       "         3.21168546e-15, 3.21135787e-15, 3.21103102e-15, 3.21070490e-15,\n",
       "         3.21037950e-15, 3.21005481e-15, 3.20973082e-15, 3.20940754e-15,\n",
       "         3.20908495e-15, 3.20876304e-15]),\n",
       "  'cz': array([-1.82728717e-10, -1.82421544e-10, -1.81812213e-10, -1.81212758e-10,\n",
       "         -1.80622871e-10, -1.80042261e-10, -1.79470647e-10, -1.78907763e-10,\n",
       "         -1.78353352e-10, -1.77807169e-10, -1.77268980e-10, -1.76738559e-10,\n",
       "         -1.76215691e-10, -1.75700168e-10, -1.75191791e-10, -1.74690369e-10,\n",
       "         -1.74195718e-10, -1.73707662e-10, -1.73226030e-10, -1.72750658e-10,\n",
       "         -1.72281390e-10, -1.71818073e-10, -1.71360560e-10, -1.70908711e-10,\n",
       "         -1.70462390e-10, -1.70021465e-10, -1.69585809e-10, -1.69155300e-10,\n",
       "         -1.68729820e-10, -1.68309253e-10, -1.67893490e-10, -1.67482424e-10,\n",
       "         -1.67075950e-10, -1.66673970e-10, -1.66276385e-10, -1.65883103e-10,\n",
       "         -1.65494031e-10, -1.65109082e-10, -1.64728171e-10, -1.64351215e-10,\n",
       "         -1.63978132e-10, -1.63608846e-10, -1.63243280e-10, -1.62881361e-10,\n",
       "         -1.62523017e-10, -1.62168180e-10, -1.61816782e-10, -1.61468757e-10,\n",
       "         -1.61124043e-10, -1.60952505e-10]),\n",
       "  'czz': array([1.53586458e-04, 2.29125769e-04, 3.02196387e-04, 2.97335527e-04,\n",
       "         2.92624299e-04, 2.88056060e-04, 2.83624550e-04, 2.79323862e-04,\n",
       "         2.75148416e-04, 2.71092943e-04, 2.67152459e-04, 2.63322246e-04,\n",
       "         2.59597838e-04, 2.55975003e-04, 2.52449727e-04, 2.49018202e-04,\n",
       "         2.45676814e-04, 2.42422126e-04, 2.39250874e-04, 2.36159952e-04,\n",
       "         2.33146403e-04, 2.30207414e-04, 2.27340301e-04, 2.24542509e-04,\n",
       "         2.21811598e-04, 2.19145241e-04, 2.16541217e-04, 2.13997402e-04,\n",
       "         2.11511768e-04, 2.09082375e-04, 2.06707367e-04, 2.04384969e-04,\n",
       "         2.02113479e-04, 1.99891270e-04, 1.97716778e-04, 1.95588509e-04,\n",
       "         1.93505026e-04, 1.91464952e-04, 1.89466964e-04, 1.87509794e-04,\n",
       "         1.85592220e-04, 1.83713070e-04, 1.81871218e-04, 1.80065581e-04,\n",
       "         1.78295114e-04, 1.76558814e-04, 1.74855715e-04, 1.73184887e-04,\n",
       "         1.29063165e-04, 8.57689039e-05]),\n",
       "  'alpha': array([0.13480115, 0.09006591, 0.06784034, 0.06850319, 0.06916142,\n",
       "         0.06981509, 0.07046426, 0.07110898, 0.07174932, 0.07238533,\n",
       "         0.07301708, 0.0736446 , 0.07426796, 0.07488721, 0.07550241,\n",
       "         0.07611359, 0.07672082, 0.07732413, 0.07792359, 0.07851923,\n",
       "         0.0791111 , 0.07969925, 0.08028372, 0.08086455, 0.08144179,\n",
       "         0.08201548, 0.08258567, 0.08315238, 0.08371567, 0.08427557,\n",
       "         0.08483212, 0.08538535, 0.08593531, 0.08648203, 0.08702555,\n",
       "         0.0875659 , 0.08810311, 0.08863723, 0.08916827, 0.08969629,\n",
       "         0.0902213 , 0.09074335, 0.09126245, 0.09177865, 0.09229197,\n",
       "         0.09280245, 0.0933101 , 0.09381497, 0.12536236, 0.18825996])}}"
      ]
     },
     "execution_count": 8,
     "metadata": {},
     "output_type": "execute_result"
    }
   ],
   "source": [
    "all_data"
   ]
  },
  {
   "cell_type": "code",
   "execution_count": 9,
   "id": "bdf1f5d3",
   "metadata": {
    "scrolled": true
   },
   "outputs": [
    {
     "data": {
      "text/plain": [
       "dict_keys(['erequals1_P\\\\0316-er_equal_1-0002\\\\', 'erequals1_P\\\\0318-er_equal_1-0001\\\\', 'erequals1_P\\\\0320-er_equal_1-0000\\\\'])"
      ]
     },
     "execution_count": 9,
     "metadata": {},
     "output_type": "execute_result"
    }
   ],
   "source": [
    "all_data.keys()"
   ]
  },
  {
   "cell_type": "code",
   "execution_count": null,
   "id": "59fe3797",
   "metadata": {},
   "outputs": [],
   "source": []
  },
  {
   "cell_type": "code",
   "execution_count": 10,
   "id": "c6cac644",
   "metadata": {
    "scrolled": true
   },
   "outputs": [
    {
     "data": {
      "image/png": "[encoded data removed]",
      "text/plain": [
       "<Figure size 432x288 with 1 Axes>"
      ]
     },
     "metadata": {
      "needs_background": "light"
     },
     "output_type": "display_data"
    }
   ],
   "source": [
    "for key in {key: params for key, params in all_params.items() if params['Thickness_sample'] == 1.0}:\n",
    "    data=all_data[key]\n",
    "    thickness =all_params[key]['Thickness_sample']\n",
    "    rtip= all_params[key]['Rtip']\n",
    "    er=all_params[key]['eps_r']\n",
    "    Nuni=all_params[key]['Nuni']\n",
    "    plt.plot(data['z'], data['c'], label= f'{rtip} nm, {er}, {thickness} nm,  {Nuni}')\n",
    "    \n",
    "    \n",
    "plt.title('C v. Z for 1nm thick sample')    \n",
    "plt.ylabel(\"C(m)\")\n",
    "plt.xlabel(\"Z(m)\")\n",
    "plt.legend()\n",
    "plt.savefig(\"C' v. Z for 1nm thick sample 06-28-2021.png\")"
   ]
  },
  {
   "cell_type": "markdown",
   "id": "0981ee97",
   "metadata": {},
   "source": [
    "cut off last experiment because capacitance was off the scale"
   ]
  },
  {
   "cell_type": "code",
   "execution_count": 11,
   "id": "ad6bf37e",
   "metadata": {},
   "outputs": [
    {
     "data": {
      "image/png": "[encoded data removed]",
      "text/plain": [
       "<Figure size 432x288 with 1 Axes>"
      ]
     },
     "metadata": {
      "needs_background": "light"
     },
     "output_type": "display_data"
    }
   ],
   "source": [
    "for key in {key: params for key, params in all_params.items() if params['Thickness_sample'] == 1.0}:\n",
    "    data=all_data[key]\n",
    "    thickness=all_params[key]['Thickness_sample']\n",
    "    rtip= all_params[key]['Rtip']\n",
    "    er=all_params[key]['eps_r']\n",
    "    s=slice(4,-3)\n",
    "    plt.plot(data['z'][s], data['cz'][s], label=f'{rtip} nm, {er}, {thickness} nm' )\n",
    "    \n",
    "plt.title('Cz vs. Z for 1.0nm')    \n",
    "plt.ylabel(\"Cz\")\n",
    "plt.xlabel(\"Z(m)\")\n",
    "plt.legend()\n",
    "plt.savefig(\"Cz v. Z for varying sample thickness, 06-28-2021.png\")"
   ]
  },
  {
   "cell_type": "code",
   "execution_count": 12,
   "id": "8f02b5cc",
   "metadata": {},
   "outputs": [
    {
     "data": {
      "image/png": "[encoded data removed]",
      "text/plain": [
       "<Figure size 432x288 with 1 Axes>"
      ]
     },
     "metadata": {
      "needs_background": "light"
     },
     "output_type": "display_data"
    }
   ],
   "source": [
    "for key in {key: params for key, params in all_params.items() if params['Thickness_sample'] == 1.0}:\n",
    "    data=all_data[key]\n",
    "    thickness=all_params[key]['Thickness_sample']\n",
    "    rtip= all_params[key]['Rtip']\n",
    "    er=all_params[key]['eps_r']\n",
    "    s=slice(5,-5)\n",
    "    plt.plot(data['z'][s], data['czz'][s], label=f'{rtip} nm, {er}, {thickness} nm' )\n",
    "    \n",
    "plt.title('Czz vs. Z for 1.0nm')    \n",
    "plt.ylabel(\"Czz\")\n",
    "plt.xlabel(\"Z(m)\")\n",
    "plt.legend()\n",
    "plt.savefig(\"Czz v. Z for varying sample thickness, 06-28-2021.png\")"
   ]
  },
  {
   "cell_type": "code",
   "execution_count": 13,
   "id": "eed081f0",
   "metadata": {},
   "outputs": [
    {
     "data": {
      "text/plain": [
       "{'n': 1000,\n",
       " 'm+': 1000,\n",
       " 'm-': 2,\n",
       " 'h0': 0.5,\n",
       " 'rho_max': 1000000.0,\n",
       " 'z_max': 1000000.0,\n",
       " 'min': 150.0,\n",
       " 'max': 250.0,\n",
       " 'istep': 4.0,\n",
       " 'Rtip': 30.0,\n",
       " 'half-angle': 20.0,\n",
       " 'HCone': 15000.0,\n",
       " 'RCantilever': 13750.0,\n",
       " 'thickness_Cantilever': 999.99,\n",
       " 'eps_r': 0.99,\n",
       " 'Thickness_sample': 1.0,\n",
       " 'Solving Method': 'LAPACK',\n",
       " 'Test': 0,\n",
       " 'Verbosity': 1,\n",
       " 'Nuni': 1,\n",
       " 'Equally spaced': False}"
      ]
     },
     "execution_count": 13,
     "metadata": {},
     "output_type": "execute_result"
    }
   ],
   "source": [
    "params"
   ]
  },
  {
   "cell_type": "code",
   "execution_count": 14,
   "id": "dfdd7fe8",
   "metadata": {},
   "outputs": [
    {
     "data": {
      "image/png": "[encoded data removed]",
      "text/plain": [
       "<Figure size 432x288 with 1 Axes>"
      ]
     },
     "metadata": {
      "needs_background": "light"
     },
     "output_type": "display_data"
    }
   ],
   "source": [
    "for key in {key: params for key, params in all_params.items() if params['Thickness_sample'] == 1.0}:\n",
    "    data=all_data[key]\n",
    "    thickness=all_params[key]['Thickness_sample']\n",
    "    rtip= all_params[key]['Rtip']\n",
    "    er=all_params[key]['eps_r']\n",
    "    s=slice(8,-8)\n",
    "    plt.plot(data['z'][s], data['alpha'][s], label=f'{rtip} nm, {er}, {thickness} nm' )\n",
    "    \n",
    "plt.title('alpha vs. Z for 1.0nm')    \n",
    "plt.ylabel(\"$\\\\alpha$\")\n",
    "plt.xlabel(\"Z(m)\")\n",
    "plt.legend()\n",
    "plt.savefig(\"Alpha v. Z for varying sample thickness, 06-28-2021.png\")"
   ]
  },
  {
   "cell_type": "code",
   "execution_count": 15,
   "id": "09a2ae9a",
   "metadata": {},
   "outputs": [
    {
     "data": {
      "text/plain": [
       "{'z': array([150., 152., 154., 156., 158., 160., 162., 164., 166., 168., 170.,\n",
       "        172., 174., 176., 178., 180., 182., 184., 186., 188., 190., 192.,\n",
       "        194., 196., 198., 200., 202., 204., 206., 208., 210., 212., 214.,\n",
       "        216., 218., 220., 222., 224., 226., 228., 230., 232., 234., 236.,\n",
       "        238., 240., 242., 244., 246., 248.]),\n",
       " 'c': array([3.22550022e-15, 3.22513477e-15, 3.22477054e-15, 3.22440752e-15,\n",
       "        3.22404569e-15, 3.22368503e-15, 3.22332552e-15, 3.22296714e-15,\n",
       "        3.22260989e-15, 3.22225373e-15, 3.22189866e-15, 3.22154465e-15,\n",
       "        3.22119170e-15, 3.22083979e-15, 3.22048890e-15, 3.22013902e-15,\n",
       "        3.21979014e-15, 3.21944224e-15, 3.21909531e-15, 3.21874934e-15,\n",
       "        3.21840431e-15, 3.21806021e-15, 3.21771704e-15, 3.21737477e-15,\n",
       "        3.21703340e-15, 3.21669292e-15, 3.21635331e-15, 3.21601458e-15,\n",
       "        3.21567669e-15, 3.21533966e-15, 3.21500346e-15, 3.21466808e-15,\n",
       "        3.21433353e-15, 3.21399978e-15, 3.21366683e-15, 3.21333467e-15,\n",
       "        3.21300330e-15, 3.21267270e-15, 3.21234286e-15, 3.21201378e-15,\n",
       "        3.21168546e-15, 3.21135787e-15, 3.21103102e-15, 3.21070490e-15,\n",
       "        3.21037950e-15, 3.21005481e-15, 3.20973082e-15, 3.20940754e-15,\n",
       "        3.20908495e-15, 3.20876304e-15]),\n",
       " 'cz': array([-1.82728717e-10, -1.82421544e-10, -1.81812213e-10, -1.81212758e-10,\n",
       "        -1.80622871e-10, -1.80042261e-10, -1.79470647e-10, -1.78907763e-10,\n",
       "        -1.78353352e-10, -1.77807169e-10, -1.77268980e-10, -1.76738559e-10,\n",
       "        -1.76215691e-10, -1.75700168e-10, -1.75191791e-10, -1.74690369e-10,\n",
       "        -1.74195718e-10, -1.73707662e-10, -1.73226030e-10, -1.72750658e-10,\n",
       "        -1.72281390e-10, -1.71818073e-10, -1.71360560e-10, -1.70908711e-10,\n",
       "        -1.70462390e-10, -1.70021465e-10, -1.69585809e-10, -1.69155300e-10,\n",
       "        -1.68729820e-10, -1.68309253e-10, -1.67893490e-10, -1.67482424e-10,\n",
       "        -1.67075950e-10, -1.66673970e-10, -1.66276385e-10, -1.65883103e-10,\n",
       "        -1.65494031e-10, -1.65109082e-10, -1.64728171e-10, -1.64351215e-10,\n",
       "        -1.63978132e-10, -1.63608846e-10, -1.63243280e-10, -1.62881361e-10,\n",
       "        -1.62523017e-10, -1.62168180e-10, -1.61816782e-10, -1.61468757e-10,\n",
       "        -1.61124043e-10, -1.60952505e-10]),\n",
       " 'czz': array([1.53586458e-04, 2.29125769e-04, 3.02196387e-04, 2.97335527e-04,\n",
       "        2.92624299e-04, 2.88056060e-04, 2.83624550e-04, 2.79323862e-04,\n",
       "        2.75148416e-04, 2.71092943e-04, 2.67152459e-04, 2.63322246e-04,\n",
       "        2.59597838e-04, 2.55975003e-04, 2.52449727e-04, 2.49018202e-04,\n",
       "        2.45676814e-04, 2.42422126e-04, 2.39250874e-04, 2.36159952e-04,\n",
       "        2.33146403e-04, 2.30207414e-04, 2.27340301e-04, 2.24542509e-04,\n",
       "        2.21811598e-04, 2.19145241e-04, 2.16541217e-04, 2.13997402e-04,\n",
       "        2.11511768e-04, 2.09082375e-04, 2.06707367e-04, 2.04384969e-04,\n",
       "        2.02113479e-04, 1.99891270e-04, 1.97716778e-04, 1.95588509e-04,\n",
       "        1.93505026e-04, 1.91464952e-04, 1.89466964e-04, 1.87509794e-04,\n",
       "        1.85592220e-04, 1.83713070e-04, 1.81871218e-04, 1.80065581e-04,\n",
       "        1.78295114e-04, 1.76558814e-04, 1.74855715e-04, 1.73184887e-04,\n",
       "        1.29063165e-04, 8.57689039e-05]),\n",
       " 'alpha': array([0.13480115, 0.09006591, 0.06784034, 0.06850319, 0.06916142,\n",
       "        0.06981509, 0.07046426, 0.07110898, 0.07174932, 0.07238533,\n",
       "        0.07301708, 0.0736446 , 0.07426796, 0.07488721, 0.07550241,\n",
       "        0.07611359, 0.07672082, 0.07732413, 0.07792359, 0.07851923,\n",
       "        0.0791111 , 0.07969925, 0.08028372, 0.08086455, 0.08144179,\n",
       "        0.08201548, 0.08258567, 0.08315238, 0.08371567, 0.08427557,\n",
       "        0.08483212, 0.08538535, 0.08593531, 0.08648203, 0.08702555,\n",
       "        0.0875659 , 0.08810311, 0.08863723, 0.08916827, 0.08969629,\n",
       "        0.0902213 , 0.09074335, 0.09126245, 0.09177865, 0.09229197,\n",
       "        0.09280245, 0.0933101 , 0.09381497, 0.12536236, 0.18825996])}"
      ]
     },
     "execution_count": 15,
     "metadata": {},
     "output_type": "execute_result"
    }
   ],
   "source": [
    "data"
   ]
  },
  {
   "cell_type": "code",
   "execution_count": 16,
   "id": "77a6dac6",
   "metadata": {},
   "outputs": [],
   "source": [
    "from scipy.optimize import curve_fit\n"
   ]
  },
  {
   "cell_type": "code",
   "execution_count": 17,
   "id": "49b30168",
   "metadata": {},
   "outputs": [],
   "source": [
    "def Cz_model(z, a, n, b,):\n",
    "    return(a*z**n + b)"
   ]
  },
  {
   "cell_type": "code",
   "execution_count": 18,
   "id": "87212141",
   "metadata": {},
   "outputs": [
    {
     "data": {
      "text/plain": [
       "dict_keys(['erequals1_P\\\\0316-er_equal_1-0002\\\\', 'erequals1_P\\\\0318-er_equal_1-0001\\\\', 'erequals1_P\\\\0320-er_equal_1-0000\\\\'])"
      ]
     },
     "execution_count": 18,
     "metadata": {},
     "output_type": "execute_result"
    }
   ],
   "source": [
    "all_data.keys()"
   ]
  },
  {
   "cell_type": "code",
   "execution_count": 19,
   "id": "74215bd0",
   "metadata": {},
   "outputs": [
    {
     "ename": "KeyError",
     "evalue": "'capsol-calc\\\\0001-capsol\\\\'",
     "output_type": "error",
     "traceback": [
      "\u001b[1;31m---------------------------------------------------------------------------\u001b[0m",
      "\u001b[1;31mKeyError\u001b[0m                                  Traceback (most recent call last)",
      "\u001b[1;32m<ipython-input-19-23a180486cb5>\u001b[0m in \u001b[0;36m<module>\u001b[1;34m\u001b[0m\n\u001b[1;32m----> 1\u001b[1;33m \u001b[0mdata\u001b[0m\u001b[1;33m=\u001b[0m \u001b[0mall_data\u001b[0m\u001b[1;33m[\u001b[0m\u001b[1;34m'capsol-calc\\\\0001-capsol\\\\'\u001b[0m\u001b[1;33m]\u001b[0m\u001b[1;33m\u001b[0m\u001b[1;33m\u001b[0m\u001b[0m\n\u001b[0m\u001b[0;32m      2\u001b[0m \u001b[0mz\u001b[0m\u001b[1;33m=\u001b[0m \u001b[0mdata\u001b[0m\u001b[1;33m[\u001b[0m\u001b[1;34m'z'\u001b[0m\u001b[1;33m]\u001b[0m\u001b[1;33m[\u001b[0m\u001b[1;36m1\u001b[0m\u001b[1;33m:\u001b[0m\u001b[1;33m-\u001b[0m\u001b[1;36m1\u001b[0m\u001b[1;33m]\u001b[0m\u001b[1;33m\u001b[0m\u001b[1;33m\u001b[0m\u001b[0m\n\u001b[0;32m      3\u001b[0m \u001b[0mcz\u001b[0m\u001b[1;33m=\u001b[0m \u001b[0mdata\u001b[0m\u001b[1;33m[\u001b[0m\u001b[1;34m'cz'\u001b[0m\u001b[1;33m]\u001b[0m\u001b[1;33m[\u001b[0m\u001b[1;36m1\u001b[0m\u001b[1;33m:\u001b[0m\u001b[1;33m-\u001b[0m\u001b[1;36m1\u001b[0m\u001b[1;33m]\u001b[0m\u001b[1;33m\u001b[0m\u001b[1;33m\u001b[0m\u001b[0m\n",
      "\u001b[1;31mKeyError\u001b[0m: 'capsol-calc\\\\0001-capsol\\\\'"
     ]
    }
   ],
   "source": [
    "data= all_data['capsol-calc\\\\0001-capsol\\\\']\n",
    "z= data['z'][1:-1]\n",
    "cz= data['cz'][1:-1]"
   ]
  },
  {
   "cell_type": "code",
   "execution_count": null,
   "id": "8ff0827e",
   "metadata": {},
   "outputs": [],
   "source": [
    "popt, pcov= curve_fit(Cz_model, z, cz, p0=[cz[0]*z[0], -1, 0])\n",
    "a=popt[0]\n",
    "n=popt[1]\n",
    "b=popt[2]\n",
    "std_devs= np.sqrt(pcov.diagonal())\n",
    "sigma_a = std_devs[0]\n",
    "sigma_n = std_devs[1]\n",
    "model_output= Cz_model(z, a, n, b)\n",
    "rmse= np.sqrt(np.mean((cz - model_output)**2))\n"
   ]
  },
  {
   "cell_type": "code",
   "execution_count": null,
   "id": "42e9d139",
   "metadata": {},
   "outputs": [],
   "source": [
    "f\"a= {a} ± {sigma_a}\""
   ]
  },
  {
   "cell_type": "code",
   "execution_count": null,
   "id": "05e99973",
   "metadata": {},
   "outputs": [],
   "source": [
    "f\"n= {n}± {sigma_n}\""
   ]
  },
  {
   "cell_type": "code",
   "execution_count": null,
   "id": "e495fee8",
   "metadata": {},
   "outputs": [],
   "source": [
    "model_output"
   ]
  },
  {
   "cell_type": "code",
   "execution_count": null,
   "id": "dbd0d394",
   "metadata": {},
   "outputs": [],
   "source": [
    "\"Root Mean Square Error\""
   ]
  },
  {
   "cell_type": "code",
   "execution_count": null,
   "id": "b351ff7e",
   "metadata": {},
   "outputs": [],
   "source": [
    "rmse/np.mean(-cz)"
   ]
  },
  {
   "cell_type": "code",
   "execution_count": null,
   "id": "86949536",
   "metadata": {},
   "outputs": [],
   "source": []
  }
 ],
 "metadata": {
  "kernelspec": {
   "display_name": "Python 3",
   "language": "python",
   "name": "python3"
  },
  "language_info": {
   "codemirror_mode": {
    "name": "ipython",
    "version": 3
   },
   "file_extension": ".py",
   "mimetype": "text/x-python",
   "name": "python",
   "nbconvert_exporter": "python",
   "pygments_lexer": "ipython3",
   "version": "3.8.8"
  }
 },
 "nbformat": 4,
 "nbformat_minor": 5
}
