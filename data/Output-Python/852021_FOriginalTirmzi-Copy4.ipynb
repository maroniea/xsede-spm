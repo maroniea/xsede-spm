{
 "cells": [
  {
   "cell_type": "markdown",
   "id": "7909fa0a",
   "metadata": {},
   "source": [
    "##Tirmzi Analysis\n",
    "n=1000 m+=1000 nm-=120 istep= 4 min=150 max=700"
   ]
  },
  {
   "cell_type": "code",
   "execution_count": 1,
   "id": "63afb62c",
   "metadata": {},
   "outputs": [],
   "source": [
    "import sys\n",
    "sys.path\n",
    "import matplotlib.pyplot as plt\n",
    "import numpy as np\n",
    "import os\n",
    "from scipy import signal"
   ]
  },
  {
   "cell_type": "code",
   "execution_count": 2,
   "id": "8bec0f1d",
   "metadata": {
    "scrolled": true
   },
   "outputs": [
    {
     "name": "stdout",
     "output_type": "stream",
     "text": [
      " Volume in drive C is Local Disk\n",
      " Volume Serial Number is AA1B-997A\n",
      "\n",
      " Directory of C:\\Users\\emaro\\OneDrive - University of Mount Union\\XSEDE Summer 2021\\xsede-spm\\data\\Output-Python\n",
      "\n",
      "09/14/2021  09:19 AM    <DIR>          .\n",
      "09/14/2021  09:19 AM    <DIR>          ..\n",
      "09/14/2021  09:19 AM    <DIR>          .ipynb_checkpoints\n",
      "08/31/2021  10:49 AM    <DIR>          0307-testinputfile4-0004\n",
      "08/31/2021  10:48 AM    <DIR>          0308-testinputfile4-0004\n",
      "08/31/2021  10:48 AM    <DIR>          0309-VariedNuni_8_2_2021-0000\n",
      "08/31/2021  10:49 AM    <DIR>          0310-VariedNuni_8_2_2021-0000\n",
      "08/31/2021  10:48 AM    <DIR>          0311-VariedNuni_8_2_2021-0001\n",
      "08/31/2021  10:49 AM    <DIR>          0312-VariedNuni_8_2_2021-0001\n",
      "08/31/2021  10:48 AM    <DIR>          0313-VariedNuni_8_2_2021-0002\n",
      "08/31/2021  10:49 AM    <DIR>          0314-VariedNuni_8_2_2021-0002\n",
      "08/31/2021  10:48 AM    <DIR>          0315-er_equal_1-0002\n",
      "08/31/2021  10:49 AM    <DIR>          0316-er_equal_1-0002\n",
      "08/31/2021  10:48 AM    <DIR>          0317-er_equal_1-0001\n",
      "08/31/2021  10:48 AM    <DIR>          0318-er_equal_1-0001\n",
      "08/31/2021  10:48 AM    <DIR>          0319-er_equal_1-0000\n",
      "08/31/2021  10:48 AM    <DIR>          0320-er_equal_1-0000\n",
      "08/31/2021  10:48 AM    <DIR>          0321-Spheretest-0000\n",
      "08/31/2021  10:48 AM    <DIR>          0322-Spheretest-0000\n",
      "08/31/2021  10:48 AM    <DIR>          0323-Spheretest-0002\n",
      "08/31/2021  10:48 AM    <DIR>          0324-Spheretest-0002\n",
      "08/31/2021  10:49 AM    <DIR>          0325-Spheretest-0001\n",
      "08/31/2021  10:48 AM    <DIR>          0326-Spheretest-0001\n",
      "08/31/2021  10:49 AM    <DIR>          0327-m_minus4-0002\n",
      "08/31/2021  10:49 AM    <DIR>          0328-m_minus4-0002\n",
      "08/31/2021  10:48 AM    <DIR>          0329-m_minus4-0000\n",
      "08/31/2021  10:48 AM    <DIR>          0330-m_minus4-0000\n",
      "08/31/2021  10:48 AM    <DIR>          0331-m_minus4-0001\n",
      "08/31/2021  10:49 AM    <DIR>          0332-m_minus4-0001\n",
      "08/31/2021  10:48 AM    <DIR>          0333-RR_DefaultCapsol-0000\n",
      "08/31/2021  10:48 AM    <DIR>          0334-RR_DefaultCapsol-0000\n",
      "08/31/2021  10:48 AM    <DIR>          0347-UpdatedPythonTest-0001\n",
      "08/31/2021  10:49 AM    <DIR>          0348-UpdatedPythonTest-0001\n",
      "08/31/2021  10:48 AM    <DIR>          0349-UpdatedPythonTest-0000\n",
      "08/31/2021  10:48 AM    <DIR>          0350-UpdatedPythonTest-0000\n",
      "08/31/2021  10:49 AM    <DIR>          0351-UpdatedPythonTest-0002\n",
      "08/31/2021  10:48 AM    <DIR>          0352-UpdatedPythonTest-0002\n",
      "08/31/2021  10:48 AM    <DIR>          0354-UpdatedPythonTest-0001\n",
      "08/31/2021  10:48 AM    <DIR>          0356-UpdatedPythonTest-0000\n",
      "08/31/2021  10:48 AM    <DIR>          0358-UpdatedPythonTest-0002\n",
      "08/31/2021  10:48 AM    <DIR>          0360-EquallySpacedTest2-0000\n",
      "08/31/2021  10:49 AM    <DIR>          0362-EquallySpacedTest2-0002\n",
      "08/31/2021  10:48 AM    <DIR>          0364-EquallySpacedTest2-0001\n",
      "09/06/2021  09:20 PM    <DIR>          0366-NewTirmzi_variedthickness-0000\n",
      "09/06/2021  09:20 PM    <DIR>          0368-NewTirmzi_variedthickness-0003\n",
      "09/06/2021  09:20 PM    <DIR>          0370-NewTirmzi_variedthickness-0001\n",
      "09/06/2021  09:20 PM    <DIR>          0372-NewTirmzi_variedthickness-0002\n",
      "09/07/2021  07:40 AM    <DIR>          0374-NewTirmzi_variedthickness_75075090-0000\n",
      "09/07/2021  07:40 AM    <DIR>          0376-NewTirmzi_variedepsr_75075090-0000\n",
      "09/07/2021  07:40 AM    <DIR>          0378-NewTirmzi_variedepsr_75075090-0002\n",
      "09/07/2021  07:40 AM    <DIR>          0380-NewTirmzi_variedthickness_75075090-0001\n",
      "09/06/2021  09:20 PM    <DIR>          0382-NewTirmzi_variedthickness-0000\n",
      "09/06/2021  09:20 PM    <DIR>          0384-NewTirmzi_variedthickness-0003\n",
      "09/06/2021  09:20 PM    <DIR>          0386-NewTirmzi_variedthickness-0001\n",
      "09/07/2021  07:40 AM    <DIR>          0388-NewTirmzi_variedthickness_75075090-0003\n",
      "09/07/2021  07:40 AM    <DIR>          0390-NewTirmzi_variedepsr_75075090-0001\n",
      "09/06/2021  09:20 PM    <DIR>          0392-NewTirmzi_variedthickness-0002\n",
      "09/07/2021  07:40 AM    <DIR>          0394-NewTirmzi_variedthickness_75075090-0002\n",
      "09/07/2021  07:40 AM    <DIR>          0396-NewTirmzi_large_range-0001\n",
      "09/07/2021  07:40 AM    <DIR>          0398-NewTirmzi_large_range-0000\n",
      "09/07/2021  07:40 AM    <DIR>          0400-NewTirmzi_large_range-0002\n",
      "09/14/2021  09:14 AM    <DIR>          0402-New_samplethicknessvaried-0001\n",
      "09/14/2021  09:14 AM    <DIR>          0404-New_samplethicknessvaried-0003\n",
      "09/14/2021  09:14 AM    <DIR>          0406-New_samplethicknessvaried-0000\n",
      "09/14/2021  09:14 AM    <DIR>          0408-New_samplethicknessvaried-0002\n",
      "08/31/2021  10:48 AM    <DIR>          8_2_2021\n",
      "08/31/2021  10:14 AM           161,361 8_2_2021_FortranErequals1.ipynb\n",
      "08/31/2021  10:14 AM           130,779 8_2_2021_PythonErequals1.ipynb\n",
      "08/31/2021  10:14 AM           130,726 8_2_2021_PythonVariedNuni.ipynb\n",
      "08/31/2021  10:14 AM           130,779 8_2_2021_PythonVariedNuni-Copy3.ipynb\n",
      "08/31/2021  10:48 AM    <DIR>          8_2_2021P\n",
      "08/31/2021  10:14 AM           225,696 8_3_2021_SphereTest_Python.ipynb\n",
      "08/31/2021  10:14 AM            93,725 852021_FDefaultCapsol.ipynb\n",
      "09/14/2021  09:14 AM           162,650 852021_FOriginalTirmzi.ipynb\n",
      "09/14/2021  09:14 AM           136,292 852021_FOriginalTirmzi-Copy1.ipynb\n",
      "09/14/2021  09:14 AM           198,019 852021_FOriginalTirmzi-Copy2.ipynb\n",
      "09/14/2021  09:14 AM           138,539 852021_FOriginalTirmzi-Copy3.ipynb\n",
      "09/14/2021  09:21 AM           198,019 852021_FOriginalTirmzi-Copy4.ipynb\n",
      "08/31/2021  10:14 AM           169,492 852021_FSSNlTirmzi.ipynb\n",
      "08/31/2021  10:14 AM            89,554 852021_PDefaultCapsol.ipynb\n",
      "08/31/2021  10:14 AM           130,062 852021_POriginalTirmzi.ipynb\n",
      "08/31/2021  10:14 AM           128,192 852021_PSSNTirmzi.ipynb\n",
      "09/14/2021  09:14 AM            15,197 Alpha v. Z for varying sample thickness, 06-28-2021.png\n",
      "09/14/2021  09:14 AM            17,776 C' v. Z for 1nm thick sample 06-28-2021.png\n",
      "08/31/2021  10:14 AM             6,179 C' v. Z for varying sample thickness, 06-28-2021.png\n",
      "09/14/2021  09:14 AM            17,254 Cz v. Z for varying sample thickness, 06-28-2021.png\n",
      "09/14/2021  09:14 AM            17,518 Czz v. Z for varying sample thickness, 06-28-2021.png\n",
      "08/31/2021  10:48 AM    <DIR>          erequals1_F\n",
      "08/31/2021  10:48 AM    <DIR>          erequals1_P\n",
      "08/31/2021  10:49 AM    <DIR>          Fortran\n",
      "08/31/2021  10:14 AM           153,589 Fortran m_minus.ipynb\n",
      "08/31/2021  10:14 AM           148,540 Fortran Sphere Test.ipynb\n",
      "08/31/2021  10:49 AM    <DIR>          FortranOutputTest\n",
      "08/31/2021  10:48 AM    <DIR>          m_minue_P\n",
      "08/31/2021  10:48 AM    <DIR>          m_minus_F\n",
      "08/31/2021  10:48 AM    <DIR>          Original Tirmizi\n",
      "08/31/2021  10:48 AM    <DIR>          Original Tirmzi\n",
      "08/31/2021  10:48 AM    <DIR>          Original Tirmzi F\n",
      "08/31/2021  10:49 AM    <DIR>          Python\n",
      "08/31/2021  10:48 AM    <DIR>          PythonOutputTest\n",
      "08/31/2021  10:49 AM    <DIR>          SphereTest_F\n",
      "08/31/2021  10:48 AM    <DIR>          SphereTest_P\n",
      "08/31/2021  10:49 AM    <DIR>          SSN Tirmzi\n",
      "08/31/2021  10:49 AM    <DIR>          SSN Tirmzi F\n",
      "08/31/2021  10:14 AM            57,907 Tirmzi_istep4.ipynb\n",
      "08/31/2021  10:14 AM           113,265 Tirmzi_istep4-Copy2.ipynb\n",
      "              24 File(s)      2,771,110 bytes\n",
      "              82 Dir(s)  143,189,843,968 bytes free\n"
     ]
    }
   ],
   "source": [
    "ls "
   ]
  },
  {
   "cell_type": "code",
   "execution_count": 3,
   "id": "b2bdd91e",
   "metadata": {},
   "outputs": [],
   "source": [
    "import capsol.newanalyzecapsol as ac"
   ]
  },
  {
   "cell_type": "code",
   "execution_count": 4,
   "id": "74d01467",
   "metadata": {},
   "outputs": [
    {
     "data": {
      "text/plain": [
       "<function capsol.newanalyzecapsol.get_gridparameters(f_name)>"
      ]
     },
     "execution_count": 4,
     "metadata": {},
     "output_type": "execute_result"
    }
   ],
   "source": [
    "ac.get_gridparameters"
   ]
  },
  {
   "cell_type": "code",
   "execution_count": 5,
   "id": "234f74d8",
   "metadata": {},
   "outputs": [],
   "source": [
    "import glob"
   ]
  },
  {
   "cell_type": "code",
   "execution_count": 6,
   "id": "5766fac7",
   "metadata": {},
   "outputs": [
    {
     "data": {
      "text/plain": [
       "['0402-New_samplethicknessvaried-0001\\\\',\n",
       " '0404-New_samplethicknessvaried-0003\\\\',\n",
       " '0406-New_samplethicknessvaried-0000\\\\',\n",
       " '0408-New_samplethicknessvaried-0002\\\\']"
      ]
     },
     "execution_count": 6,
     "metadata": {},
     "output_type": "execute_result"
    }
   ],
   "source": [
    "folders = glob.glob(\"*New_samplethicknessvaried*/\")\n",
    "folders\n"
   ]
  },
  {
   "cell_type": "code",
   "execution_count": 7,
   "id": "0f240774",
   "metadata": {
    "scrolled": false
   },
   "outputs": [
    {
     "ename": "OSError",
     "evalue": "0402-New_samplethicknessvaried-0001\\C-Z.dat not found.",
     "output_type": "error",
     "traceback": [
      "\u001b[1;31m---------------------------------------------------------------------------\u001b[0m",
      "\u001b[1;31mOSError\u001b[0m                                   Traceback (most recent call last)",
      "\u001b[1;32m<ipython-input-7-c09103e639a2>\u001b[0m in \u001b[0;36m<module>\u001b[1;34m\u001b[0m\n\u001b[0;32m      2\u001b[0m \u001b[1;32mfor\u001b[0m \u001b[0mfolder\u001b[0m \u001b[1;32min\u001b[0m \u001b[0mfolders\u001b[0m\u001b[1;33m:\u001b[0m\u001b[1;33m\u001b[0m\u001b[1;33m\u001b[0m\u001b[0m\n\u001b[0;32m      3\u001b[0m     \u001b[0mparams\u001b[0m \u001b[1;33m=\u001b[0m \u001b[0mac\u001b[0m\u001b[1;33m.\u001b[0m\u001b[0mget_gridparameters\u001b[0m\u001b[1;33m(\u001b[0m\u001b[0mfolder\u001b[0m \u001b[1;33m+\u001b[0m \u001b[1;34m'capsol.in'\u001b[0m\u001b[1;33m)\u001b[0m\u001b[1;33m\u001b[0m\u001b[1;33m\u001b[0m\u001b[0m\n\u001b[1;32m----> 4\u001b[1;33m     \u001b[0mdata\u001b[0m \u001b[1;33m=\u001b[0m \u001b[0mac\u001b[0m\u001b[1;33m.\u001b[0m\u001b[0mnp\u001b[0m\u001b[1;33m.\u001b[0m\u001b[0mloadtxt\u001b[0m\u001b[1;33m(\u001b[0m\u001b[0mfolder\u001b[0m \u001b[1;33m+\u001b[0m \u001b[1;34m'C-Z.dat'\u001b[0m\u001b[1;33m)\u001b[0m\u001b[1;33m\u001b[0m\u001b[1;33m\u001b[0m\u001b[0m\n\u001b[0m\u001b[0;32m      5\u001b[0m     \u001b[0mprocess_data\u001b[0m \u001b[1;33m=\u001b[0m \u001b[0mac\u001b[0m\u001b[1;33m.\u001b[0m\u001b[0mprocess_data\u001b[0m\u001b[1;33m(\u001b[0m\u001b[0mparams\u001b[0m\u001b[1;33m,\u001b[0m \u001b[0mdata\u001b[0m\u001b[1;33m,\u001b[0m \u001b[0msmoothing\u001b[0m\u001b[1;33m=\u001b[0m\u001b[1;32mFalse\u001b[0m\u001b[1;33m,\u001b[0m \u001b[0mstd\u001b[0m\u001b[1;33m=\u001b[0m\u001b[1;36m5\u001b[0m\u001b[1;33m*\u001b[0m\u001b[1;36m10\u001b[0m\u001b[1;33m**\u001b[0m\u001b[1;33m-\u001b[0m\u001b[1;36m9\u001b[0m\u001b[1;33m,\u001b[0m \u001b[0mfortran\u001b[0m\u001b[1;33m=\u001b[0m\u001b[1;32mFalse\u001b[0m\u001b[1;33m)\u001b[0m\u001b[1;33m\u001b[0m\u001b[1;33m\u001b[0m\u001b[0m\n\u001b[0;32m      6\u001b[0m     \u001b[0mall_data\u001b[0m\u001b[1;33m[\u001b[0m\u001b[0mfolder\u001b[0m\u001b[1;33m]\u001b[0m\u001b[1;33m=\u001b[0m \u001b[1;33m(\u001b[0m\u001b[0mprocess_data\u001b[0m\u001b[1;33m)\u001b[0m\u001b[1;33m\u001b[0m\u001b[1;33m\u001b[0m\u001b[0m\n",
      "\u001b[1;32m~\\anaconda3\\lib\\site-packages\\numpy\\lib\\npyio.py\u001b[0m in \u001b[0;36mloadtxt\u001b[1;34m(fname, dtype, comments, delimiter, converters, skiprows, usecols, unpack, ndmin, encoding, max_rows, like)\u001b[0m\n\u001b[0;32m   1063\u001b[0m             \u001b[0mfname\u001b[0m \u001b[1;33m=\u001b[0m \u001b[0mos_fspath\u001b[0m\u001b[1;33m(\u001b[0m\u001b[0mfname\u001b[0m\u001b[1;33m)\u001b[0m\u001b[1;33m\u001b[0m\u001b[1;33m\u001b[0m\u001b[0m\n\u001b[0;32m   1064\u001b[0m         \u001b[1;32mif\u001b[0m \u001b[0m_is_string_like\u001b[0m\u001b[1;33m(\u001b[0m\u001b[0mfname\u001b[0m\u001b[1;33m)\u001b[0m\u001b[1;33m:\u001b[0m\u001b[1;33m\u001b[0m\u001b[1;33m\u001b[0m\u001b[0m\n\u001b[1;32m-> 1065\u001b[1;33m             \u001b[0mfh\u001b[0m \u001b[1;33m=\u001b[0m \u001b[0mnp\u001b[0m\u001b[1;33m.\u001b[0m\u001b[0mlib\u001b[0m\u001b[1;33m.\u001b[0m\u001b[0m_datasource\u001b[0m\u001b[1;33m.\u001b[0m\u001b[0mopen\u001b[0m\u001b[1;33m(\u001b[0m\u001b[0mfname\u001b[0m\u001b[1;33m,\u001b[0m \u001b[1;34m'rt'\u001b[0m\u001b[1;33m,\u001b[0m \u001b[0mencoding\u001b[0m\u001b[1;33m=\u001b[0m\u001b[0mencoding\u001b[0m\u001b[1;33m)\u001b[0m\u001b[1;33m\u001b[0m\u001b[1;33m\u001b[0m\u001b[0m\n\u001b[0m\u001b[0;32m   1066\u001b[0m             \u001b[0mfencoding\u001b[0m \u001b[1;33m=\u001b[0m \u001b[0mgetattr\u001b[0m\u001b[1;33m(\u001b[0m\u001b[0mfh\u001b[0m\u001b[1;33m,\u001b[0m \u001b[1;34m'encoding'\u001b[0m\u001b[1;33m,\u001b[0m \u001b[1;34m'latin1'\u001b[0m\u001b[1;33m)\u001b[0m\u001b[1;33m\u001b[0m\u001b[1;33m\u001b[0m\u001b[0m\n\u001b[0;32m   1067\u001b[0m             \u001b[0mfh\u001b[0m \u001b[1;33m=\u001b[0m \u001b[0miter\u001b[0m\u001b[1;33m(\u001b[0m\u001b[0mfh\u001b[0m\u001b[1;33m)\u001b[0m\u001b[1;33m\u001b[0m\u001b[1;33m\u001b[0m\u001b[0m\n",
      "\u001b[1;32m~\\anaconda3\\lib\\site-packages\\numpy\\lib\\_datasource.py\u001b[0m in \u001b[0;36mopen\u001b[1;34m(path, mode, destpath, encoding, newline)\u001b[0m\n\u001b[0;32m    192\u001b[0m \u001b[1;33m\u001b[0m\u001b[0m\n\u001b[0;32m    193\u001b[0m     \u001b[0mds\u001b[0m \u001b[1;33m=\u001b[0m \u001b[0mDataSource\u001b[0m\u001b[1;33m(\u001b[0m\u001b[0mdestpath\u001b[0m\u001b[1;33m)\u001b[0m\u001b[1;33m\u001b[0m\u001b[1;33m\u001b[0m\u001b[0m\n\u001b[1;32m--> 194\u001b[1;33m     \u001b[1;32mreturn\u001b[0m \u001b[0mds\u001b[0m\u001b[1;33m.\u001b[0m\u001b[0mopen\u001b[0m\u001b[1;33m(\u001b[0m\u001b[0mpath\u001b[0m\u001b[1;33m,\u001b[0m \u001b[0mmode\u001b[0m\u001b[1;33m,\u001b[0m \u001b[0mencoding\u001b[0m\u001b[1;33m=\u001b[0m\u001b[0mencoding\u001b[0m\u001b[1;33m,\u001b[0m \u001b[0mnewline\u001b[0m\u001b[1;33m=\u001b[0m\u001b[0mnewline\u001b[0m\u001b[1;33m)\u001b[0m\u001b[1;33m\u001b[0m\u001b[1;33m\u001b[0m\u001b[0m\n\u001b[0m\u001b[0;32m    195\u001b[0m \u001b[1;33m\u001b[0m\u001b[0m\n\u001b[0;32m    196\u001b[0m \u001b[1;33m\u001b[0m\u001b[0m\n",
      "\u001b[1;32m~\\anaconda3\\lib\\site-packages\\numpy\\lib\\_datasource.py\u001b[0m in \u001b[0;36mopen\u001b[1;34m(self, path, mode, encoding, newline)\u001b[0m\n\u001b[0;32m    529\u001b[0m                                       encoding=encoding, newline=newline)\n\u001b[0;32m    530\u001b[0m         \u001b[1;32melse\u001b[0m\u001b[1;33m:\u001b[0m\u001b[1;33m\u001b[0m\u001b[1;33m\u001b[0m\u001b[0m\n\u001b[1;32m--> 531\u001b[1;33m             \u001b[1;32mraise\u001b[0m \u001b[0mIOError\u001b[0m\u001b[1;33m(\u001b[0m\u001b[1;34m\"%s not found.\"\u001b[0m \u001b[1;33m%\u001b[0m \u001b[0mpath\u001b[0m\u001b[1;33m)\u001b[0m\u001b[1;33m\u001b[0m\u001b[1;33m\u001b[0m\u001b[0m\n\u001b[0m\u001b[0;32m    532\u001b[0m \u001b[1;33m\u001b[0m\u001b[0m\n\u001b[0;32m    533\u001b[0m \u001b[1;33m\u001b[0m\u001b[0m\n",
      "\u001b[1;31mOSError\u001b[0m: 0402-New_samplethicknessvaried-0001\\C-Z.dat not found."
     ]
    }
   ],
   "source": [
    "all_data= dict() \n",
    "for folder in folders:\n",
    "    params = ac.get_gridparameters(folder + 'capsol.in')\n",
    "    data = ac.np.loadtxt(folder + 'C-Z.dat')\n",
    "    process_data = ac.process_data(params, data, smoothing=False, std=5*10**-9, fortran=False)\n",
    "    all_data[folder]= (process_data)\n",
    "all_params= dict()\n",
    "for folder in folders:\n",
    "    params=ac.get_gridparameters(folder + 'capsol.in')\n",
    "    all_params[folder]= (params)"
   ]
  },
  {
   "cell_type": "code",
   "execution_count": null,
   "id": "a27efec2",
   "metadata": {},
   "outputs": [],
   "source": [
    "all_data"
   ]
  },
  {
   "cell_type": "code",
   "execution_count": null,
   "id": "bdf1f5d3",
   "metadata": {
    "scrolled": true
   },
   "outputs": [],
   "source": [
    "all_data.keys()"
   ]
  },
  {
   "cell_type": "code",
   "execution_count": null,
   "id": "59fe3797",
   "metadata": {},
   "outputs": [],
   "source": []
  },
  {
   "cell_type": "code",
   "execution_count": null,
   "id": "c6cac644",
   "metadata": {
    "scrolled": true
   },
   "outputs": [],
   "source": [
    "for key in {key: params for key, params in all_params.items() if params['Thickness_sample'] == 9.98}:\n",
    "    data=all_data[key]\n",
    "    thickness =all_params[key]['Thickness_sample']\n",
    "    rtip= all_params[key]['Rtip']\n",
    "    er=all_params[key]['eps_r']\n",
    "    plt.plot(data['z'], data['c'], label= f'{rtip} nm, {er}, {thickness} nm')\n",
    "    \n",
    "    \n",
    "plt.title('C v. Z for 1nm thick sample')    \n",
    "plt.ylabel(\"C(m)\")\n",
    "plt.xlabel(\"Z(m)\")\n",
    "plt.legend()\n",
    "plt.savefig(\"C' v. Z for 1nm thick sample 06-28-2021.png\")"
   ]
  },
  {
   "cell_type": "markdown",
   "id": "0981ee97",
   "metadata": {},
   "source": [
    "cut off last experiment because capacitance was off the scale"
   ]
  },
  {
   "cell_type": "code",
   "execution_count": null,
   "id": "ad6bf37e",
   "metadata": {},
   "outputs": [],
   "source": [
    "for key in {key: params for key, params in all_params.items() if params['Thickness_sample'] == 9.98}:\n",
    "    data=all_data[key]\n",
    "    thickness=all_params[key]['Thickness_sample']\n",
    "    rtip= all_params[key]['Rtip']\n",
    "    er=all_params[key]['eps_r']\n",
    "    s=slice(4,-3)\n",
    "    plt.plot(data['z'][s], data['cz'][s], label=f'{rtip} nm, {er}, {thickness} nm' )\n",
    "    \n",
    "plt.title('Cz vs. Z for 1.0nm')    \n",
    "plt.ylabel(\"Cz\")\n",
    "plt.xlabel(\"Z(m)\")\n",
    "plt.legend()\n",
    "plt.savefig(\"Cz v. Z for varying sample thickness, 06-28-2021.png\")"
   ]
  },
  {
   "cell_type": "code",
   "execution_count": null,
   "id": "8f02b5cc",
   "metadata": {},
   "outputs": [],
   "source": [
    "for key in {key: params for key, params in all_params.items() if params['Thickness_sample'] == 9.98}:\n",
    "    data=all_data[key]\n",
    "    thickness=all_params[key]['Thickness_sample']\n",
    "    rtip= all_params[key]['Rtip']\n",
    "    er=all_params[key]['eps_r']\n",
    "    s=slice(5,-5)\n",
    "    plt.plot(data['z'][s], data['czz'][s], label=f'{rtip} nm, {er}, {thickness} nm' )\n",
    "    \n",
    "plt.title('Czz vs. Z for 1.0nm')    \n",
    "plt.ylabel(\"Czz\")\n",
    "plt.xlabel(\"Z(m)\")\n",
    "plt.legend()\n",
    "plt.savefig(\"Czz v. Z for varying sample thickness, 06-28-2021.png\")"
   ]
  },
  {
   "cell_type": "code",
   "execution_count": null,
   "id": "eed081f0",
   "metadata": {},
   "outputs": [],
   "source": [
    "params"
   ]
  },
  {
   "cell_type": "code",
   "execution_count": null,
   "id": "dfdd7fe8",
   "metadata": {},
   "outputs": [],
   "source": [
    "for key in {key: params for key, params in all_params.items() if params['Thickness_sample'] == 9.98}:\n",
    "    data=all_data[key]\n",
    "    thickness=all_params[key]['Thickness_sample']\n",
    "    rtip= all_params[key]['Rtip']\n",
    "    er=all_params[key]['eps_r']\n",
    "    s=slice(8,-8)\n",
    "    plt.plot(data['z'][s], data['alpha'][s], label=f'{rtip} nm, {er}, {thickness} nm' )\n",
    "    \n",
    "plt.title('alpha vs. Z for 1.0nm')    \n",
    "plt.ylabel(\"$\\\\alpha$\")\n",
    "plt.xlabel(\"Z(m)\")\n",
    "plt.legend()\n",
    "plt.savefig(\"Alpha v. Z for varying sample thickness, 06-28-2021.png\")"
   ]
  },
  {
   "cell_type": "code",
   "execution_count": null,
   "id": "09a2ae9a",
   "metadata": {},
   "outputs": [],
   "source": [
    "data"
   ]
  },
  {
   "cell_type": "code",
   "execution_count": null,
   "id": "77a6dac6",
   "metadata": {},
   "outputs": [],
   "source": [
    "from scipy.optimize import curve_fit\n"
   ]
  },
  {
   "cell_type": "code",
   "execution_count": null,
   "id": "49b30168",
   "metadata": {},
   "outputs": [],
   "source": [
    "def Cz_model(z, a, n, b,):\n",
    "    return(a*z**n + b)"
   ]
  },
  {
   "cell_type": "code",
   "execution_count": null,
   "id": "87212141",
   "metadata": {},
   "outputs": [],
   "source": [
    "all_data.keys()"
   ]
  },
  {
   "cell_type": "code",
   "execution_count": null,
   "id": "74215bd0",
   "metadata": {},
   "outputs": [],
   "source": [
    "data= all_data['capsol-calc\\\\0001-capsol\\\\']\n",
    "z= data['z'][1:-1]\n",
    "cz= data['cz'][1:-1]"
   ]
  },
  {
   "cell_type": "code",
   "execution_count": null,
   "id": "8ff0827e",
   "metadata": {},
   "outputs": [],
   "source": [
    "popt, pcov= curve_fit(Cz_model, z, cz, p0=[cz[0]*z[0], -1, 0])\n",
    "a=popt[0]\n",
    "n=popt[1]\n",
    "b=popt[2]\n",
    "std_devs= np.sqrt(pcov.diagonal())\n",
    "sigma_a = std_devs[0]\n",
    "sigma_n = std_devs[1]\n",
    "model_output= Cz_model(z, a, n, b)\n",
    "rmse= np.sqrt(np.mean((cz - model_output)**2))\n"
   ]
  },
  {
   "cell_type": "code",
   "execution_count": null,
   "id": "42e9d139",
   "metadata": {},
   "outputs": [],
   "source": [
    "f\"a= {a} ± {sigma_a}\""
   ]
  },
  {
   "cell_type": "code",
   "execution_count": null,
   "id": "05e99973",
   "metadata": {},
   "outputs": [],
   "source": [
    "f\"n= {n}± {sigma_n}\""
   ]
  },
  {
   "cell_type": "code",
   "execution_count": null,
   "id": "e495fee8",
   "metadata": {},
   "outputs": [],
   "source": [
    "model_output"
   ]
  },
  {
   "cell_type": "code",
   "execution_count": null,
   "id": "dbd0d394",
   "metadata": {},
   "outputs": [],
   "source": [
    "\"Root Mean Square Error\""
   ]
  },
  {
   "cell_type": "code",
   "execution_count": null,
   "id": "b351ff7e",
   "metadata": {},
   "outputs": [],
   "source": [
    "rmse/np.mean(-cz)"
   ]
  },
  {
   "cell_type": "code",
   "execution_count": null,
   "id": "86949536",
   "metadata": {},
   "outputs": [],
   "source": []
  }
 ],
 "metadata": {
  "kernelspec": {
   "display_name": "Python 3",
   "language": "python",
   "name": "python3"
  },
  "language_info": {
   "codemirror_mode": {
    "name": "ipython",
    "version": 3
   },
   "file_extension": ".py",
   "mimetype": "text/x-python",
   "name": "python",
   "nbconvert_exporter": "python",
   "pygments_lexer": "ipython3",
   "version": "3.8.8"
  }
 },
 "nbformat": 4,
 "nbformat_minor": 5
}
