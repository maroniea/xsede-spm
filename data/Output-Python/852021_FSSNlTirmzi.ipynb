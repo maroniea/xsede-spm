{
 "cells": [
  {
   "cell_type": "markdown",
   "id": "7909fa0a",
   "metadata": {},
   "source": [
    "##Tirmzi Analysis\n",
    "n=1000 m+=1000 nm-=120 istep= 4 min=150 max=700"
   ]
  },
  {
   "cell_type": "code",
   "execution_count": 1,
   "id": "63afb62c",
   "metadata": {},
   "outputs": [],
   "source": [
    "import sys\n",
    "sys.path\n",
    "import matplotlib.pyplot as plt\n",
    "import numpy as np\n",
    "import os\n",
    "from scipy import signal"
   ]
  },
  {
   "cell_type": "code",
   "execution_count": 2,
   "id": "8bec0f1d",
   "metadata": {
    "scrolled": true
   },
   "outputs": [
    {
     "name": "stdout",
     "output_type": "stream",
     "text": [
      " Volume in drive C is Local Disk\n",
      " Volume Serial Number is AA1B-997A\n",
      "\n",
      " Directory of C:\\Users\\emaro\\OneDrive - University of Mount Union\\XSEDE Summer 2021\\xsede-spm\\data\n",
      "\n",
      "08/05/2021  10:42 AM    <DIR>          .\n",
      "08/05/2021  10:42 AM    <DIR>          ..\n",
      "08/05/2021  10:40 AM    <DIR>          .ipynb_checkpoints\n",
      "08/02/2021  02:01 PM    <DIR>          0309-VariedNuni_8_2_2021-0000\n",
      "08/02/2021  02:15 PM    <DIR>          8_2_2021\n",
      "08/02/2021  03:39 PM           161,361 8_2_2021_FortranErequals1.ipynb\n",
      "08/03/2021  01:17 PM           130,779 8_2_2021_PythonErequals1.ipynb\n",
      "08/02/2021  02:58 PM           130,726 8_2_2021_PythonVariedNuni.ipynb\n",
      "08/04/2021  02:42 PM           130,779 8_2_2021_PythonVariedNuni-Copy3.ipynb\n",
      "08/02/2021  02:52 PM    <DIR>          8_2_2021P\n",
      "08/03/2021  03:01 PM           225,696 8_3_2021_SphereTest_Python.ipynb\n",
      "08/05/2021  10:30 AM            93,725 852021_FDefaultCapsol.ipynb\n",
      "08/05/2021  10:34 AM            17,002 852021_FOriginalTirmzi.ipynb\n",
      "08/05/2021  10:42 AM            68,951 852021_FSSNlTirmzi.ipynb\n",
      "08/05/2021  10:33 AM            89,554 852021_PDefaultCapsol.ipynb\n",
      "08/05/2021  10:39 AM           130,062 852021_POriginalTirmzi.ipynb\n",
      "08/05/2021  10:40 AM           130,062 852021_PSSNTirmzi.ipynb\n",
      "08/05/2021  10:41 AM             5,672 Alpha v. Z for varying sample thickness, 06-28-2021.png\n",
      "08/05/2021  10:41 AM             6,163 C' v. Z for 1nm thick sample 06-28-2021.png\n",
      "08/02/2021  02:15 PM             6,179 C' v. Z for varying sample thickness, 06-28-2021.png\n",
      "08/05/2021  10:41 AM             5,568 Cz v. Z for varying sample thickness, 06-28-2021.png\n",
      "08/05/2021  10:41 AM             5,676 Czz v. Z for varying sample thickness, 06-28-2021.png\n",
      "08/02/2021  03:35 PM    <DIR>          erequals1_F\n",
      "08/03/2021  01:05 PM    <DIR>          erequals1_P\n",
      "08/05/2021  10:29 AM    <DIR>          Fortran\n",
      "08/03/2021  01:22 PM           153,589 Fortran m_minus.ipynb\n",
      "08/03/2021  01:20 PM           148,540 Fortran Sphere Test.ipynb\n",
      "08/02/2021  03:35 PM    <DIR>          FortranOutputTest\n",
      "08/03/2021  01:14 PM    <DIR>          m_minue_P\n",
      "08/03/2021  01:16 PM    <DIR>          m_minus_F\n",
      "08/05/2021  10:11 AM    <DIR>          Original Tirmzi\n",
      "08/05/2021  10:11 AM    <DIR>          Original Tirmzi F\n",
      "08/05/2021  10:30 AM    <DIR>          Python\n",
      "08/03/2021  01:05 PM    <DIR>          PythonOutputTest\n",
      "08/03/2021  01:13 PM    <DIR>          SphereTest_F\n",
      "08/03/2021  01:13 PM    <DIR>          SphereTest_P\n",
      "08/05/2021  10:10 AM    <DIR>          SSN Tirmzi\n",
      "08/05/2021  10:11 AM    <DIR>          SSN Tirmzi F\n",
      "07/28/2021  11:49 AM            57,907 Tirmzi_istep4.ipynb\n",
      "07/28/2021  11:43 AM           113,265 Tirmzi_istep4-Copy2.ipynb\n",
      "              20 File(s)      1,811,256 bytes\n",
      "              20 Dir(s)  146,366,009,344 bytes free\n"
     ]
    }
   ],
   "source": [
    "ls"
   ]
  },
  {
   "cell_type": "code",
   "execution_count": 3,
   "id": "b2bdd91e",
   "metadata": {},
   "outputs": [],
   "source": [
    "import capsol.newanalyzecapsol as ac"
   ]
  },
  {
   "cell_type": "code",
   "execution_count": 4,
   "id": "74d01467",
   "metadata": {},
   "outputs": [
    {
     "data": {
      "text/plain": [
       "<function capsol.newanalyzecapsol.get_gridparameters(f_name)>"
      ]
     },
     "execution_count": 4,
     "metadata": {},
     "output_type": "execute_result"
    }
   ],
   "source": [
    "ac.get_gridparameters"
   ]
  },
  {
   "cell_type": "code",
   "execution_count": 5,
   "id": "234f74d8",
   "metadata": {},
   "outputs": [],
   "source": [
    "import glob"
   ]
  },
  {
   "cell_type": "code",
   "execution_count": 6,
   "id": "5766fac7",
   "metadata": {},
   "outputs": [
    {
     "data": {
      "text/plain": [
       "['SSN Tirmzi F\\\\0343-RR_SSNTirmzi-0000\\\\',\n",
       " 'SSN Tirmzi F\\\\0345-RR_SSNTirmzi-0001\\\\']"
      ]
     },
     "execution_count": 6,
     "metadata": {},
     "output_type": "execute_result"
    }
   ],
   "source": [
    "folders = glob.glob(\"SSN Tirmzi F/*/\")\n",
    "folders\n"
   ]
  },
  {
   "cell_type": "code",
   "execution_count": 7,
   "id": "0f240774",
   "metadata": {
    "scrolled": false
   },
   "outputs": [],
   "source": [
    "all_data= dict() \n",
    "for folder in folders:\n",
    "    params = ac.get_gridparameters(folder + 'capsol.in')\n",
    "    data = ac.np.loadtxt(folder + 'Z-U.dat')\n",
    "    process_data = ac.process_data(params, data, smoothing=False, std=5*10**-9)\n",
    "    all_data[folder]= (process_data)\n",
    "all_params= dict()\n",
    "for folder in folders:\n",
    "    params=ac.get_gridparameters(folder + 'capsol.in')\n",
    "    all_params[folder]= (params)"
   ]
  },
  {
   "cell_type": "code",
   "execution_count": 8,
   "id": "a27efec2",
   "metadata": {},
   "outputs": [
    {
     "data": {
      "text/plain": [
       "{'SSN Tirmzi F\\\\0343-RR_SSNTirmzi-0000\\\\': {'z': array([150., 156., 162., 168., 174., 180., 186., 192., 198., 204., 210.,\n",
       "         216., 222., 228., 234., 240., 246., 252., 258., 264., 270., 276.,\n",
       "         282., 288., 294., 300., 306., 312., 318., 324., 330., 336., 342.,\n",
       "         348., 354., 360., 366., 372., 378., 384., 390., 396., 402., 408.,\n",
       "         414., 420., 426., 432., 438., 444., 450., 456., 462., 468., 474.,\n",
       "         480., 486., 492., 498., 504., 510., 516., 522., 528., 534., 540.,\n",
       "         546., 552., 558., 564., 570., 576., 582., 588., 594., 600., 606.,\n",
       "         612., 618., 624., 630., 636., 642., 648.]),\n",
       "  'c': array([6.28504760e-15, 6.28339651e-15, 6.28175102e-15, 6.28011096e-15,\n",
       "         6.27847590e-15, 6.27684584e-15, 6.27522054e-15, 6.27359992e-15,\n",
       "         6.27198372e-15, 6.27037186e-15, 6.26876417e-15, 6.26716057e-15,\n",
       "         6.26556089e-15, 6.26396513e-15, 6.26237313e-15, 6.26078488e-15,\n",
       "         6.25920014e-15, 6.25761899e-15, 6.25604117e-15, 6.25446678e-15,\n",
       "         6.25289572e-15, 6.25132784e-15, 6.24976312e-15, 5.83168205e+05,\n",
       "         6.32864113e+05, 5.85410217e+05, 6.23109870e+05, 6.30767783e+05,\n",
       "         6.46582364e+05, 6.23889440e-15, 4.13679812e+05, 6.77277970e+05,\n",
       "         6.45339980e+05, 6.11015724e+05, 5.97121709e+05, 5.57427205e+05,\n",
       "         6.22816187e-15, 5.57470573e+05, 5.54688584e+05, 5.42882880e+05,\n",
       "         5.58950922e+05, 5.49713767e+05, 5.79519260e+05, 5.49820162e+05,\n",
       "         6.21604695e-15, 5.71711694e+05, 5.18576125e+05, 5.81730622e+05,\n",
       "         5.64947890e+05, 5.76480739e+05, 6.25742155e+05, 6.20556751e-15,\n",
       "         5.81372918e+05, 5.60198421e+05, 5.17796923e+05, 5.57980167e+05,\n",
       "         5.45902092e+05, 6.24971689e+05, 6.19519339e-15, 5.19960419e+05,\n",
       "         5.41849648e+05, 5.08189204e+05, 4.53040895e+05, 5.37345088e+05,\n",
       "         5.14889613e+05, 5.10052175e+05, 6.18345824e-15, 5.00594018e+05,\n",
       "         4.77583721e+05, 5.39838225e+05, 5.45340110e+05, 5.39100954e+05,\n",
       "         5.45774293e+05, 6.17329014e-15, 5.29264432e+05, 5.09328739e+05,\n",
       "         5.25677339e+05, 5.21372217e+05, 5.26464160e+05, 5.12801628e+05,\n",
       "         6.16321099e-15, 4.66056847e+05, 4.92933017e+05, 4.60359938e+05]),\n",
       "  'cz': array([-2.75180338e-10, -2.74714425e-10, -2.73796509e-10, -2.72927269e-10,\n",
       "         -2.72092799e-10, -2.71279191e-10, -2.70493399e-10, -2.69735422e-10,\n",
       "         -2.69005261e-10, -2.68295962e-10, -2.67607524e-10, -2.66939948e-10,\n",
       "         -2.66286280e-10, -2.65646520e-10, -2.65020667e-10, -2.64415677e-10,\n",
       "         -2.63824594e-10, -2.63247419e-10, -2.62684152e-10, -2.62120885e-10,\n",
       "         -2.61578479e-10, -2.61049982e-10,  4.85973504e+13,  5.27386761e+13,\n",
       "          1.86834320e+11, -8.12853595e+11,  3.77979721e+12,  1.95604112e+12,\n",
       "         -5.25639819e+13, -1.94085460e+13,  5.64398308e+13,  1.93050140e+13,\n",
       "         -5.52185383e+12, -4.01818924e+12, -4.46570986e+12, -4.97601424e+13,\n",
       "          3.61394980e+09,  4.62240487e+13, -1.21564106e+12,  3.55194869e+11,\n",
       "          5.69240556e+11,  1.71402817e+12,  8.86624206e+09, -4.82932717e+13,\n",
       "          1.82429432e+12,  4.32146771e+13,  8.34910719e+11,  3.86431370e+12,\n",
       "         -4.37490285e+11,  5.06618879e+12, -4.80400616e+13, -3.69743642e+12,\n",
       "          4.66832018e+13, -5.29799965e+12, -1.84854541e+11,  2.34209746e+12,\n",
       "          5.58262688e+12, -4.54918410e+13, -8.75093919e+12,  4.51541373e+13,\n",
       "         -9.80934596e+11, -7.40072943e+12,  2.42965699e+12,  5.15405986e+12,\n",
       "         -2.27440944e+12, -4.29074677e+13, -7.88179712e+11,  3.97986434e+13,\n",
       "          3.27035059e+12,  5.64636577e+12, -6.14392328e+10,  3.61819169e+10,\n",
       "         -4.49250795e+13, -1.37582172e+12,  4.24440616e+13, -2.98924482e+11,\n",
       "          1.00362314e+12,  6.55684677e+10, -7.14215783e+11, -4.38720134e+13,\n",
       "         -3.89539840e+12,  4.10777515e+13, -4.74742409e+11, -5.42884660e+12]),\n",
       "  'czz': array([ 7.76520546e-05,  1.15319096e-04,  1.48929687e-04,  1.41975772e-04,\n",
       "          1.37339828e-04,  1.33283377e-04,  1.28647434e-04,  1.24011490e-04,\n",
       "          1.19955040e-04,  1.16478082e-04,  1.13001124e-04,  1.10103660e-04,\n",
       "          1.07785688e-04,  1.05467716e-04,  1.02570251e-04,  9.96727865e-05,\n",
       "          9.73548148e-05,  9.50368430e-05,  9.38778571e-05,  9.21393782e-05,\n",
       "          8.92419135e-05,  4.04977920e+21,  4.39488968e+21, -4.03420968e+21,\n",
       "         -4.46262748e+21,  2.99413574e+20,  2.30741226e+20, -4.69531493e+21,\n",
       "         -1.78038226e+21,  9.08365106e+21,  3.22613000e+21, -5.16347372e+21,\n",
       "         -1.94360027e+21,  8.80119977e+19, -3.81182943e+21,  3.72443651e+20,\n",
       "          7.99868259e+21, -1.01604584e+20, -3.82240448e+21,  1.48740135e+20,\n",
       "          1.13236109e+20, -4.66978595e+19, -4.16727499e+21,  1.51285673e+20,\n",
       "          7.62566240e+21, -8.24486336e+19, -3.27919695e+21, -1.06033417e+20,\n",
       "          1.00156257e+20, -3.96688094e+21, -7.30302101e+20,  7.89360528e+21,\n",
       "         -1.33380269e+20, -3.90567136e+21,  6.36674759e+20,  4.80623451e+20,\n",
       "         -3.98616154e+21, -1.19446384e+21,  7.55383153e+21,  6.47500383e+20,\n",
       "         -4.37957223e+21,  2.84215966e+20,  1.04623244e+21, -3.92005536e+20,\n",
       "         -4.00512730e+21,  1.23852477e+20,  6.89217593e+21,  3.38210858e+20,\n",
       "         -2.84602314e+21, -2.77649152e+20, -4.67515321e+20, -3.73863669e+21,\n",
       "         -1.17666970e+20,  7.28076176e+21,  8.97414364e+19, -3.45336987e+21,\n",
       "          3.03744125e+19, -1.43153243e+20, -3.66146515e+21, -2.65098551e+20,\n",
       "          7.07914707e+21,  2.85054666e+20, -3.87554984e+21, -8.25684032e+20]),\n",
       "  'alpha': array([ 3.10315360e-01,  2.08303818e-01,  1.60259511e-01,  1.67086861e-01,\n",
       "          1.71717028e-01,  1.75932271e-01,  1.81264692e-01,  1.87036865e-01,\n",
       "          1.92365915e-01,  1.97115493e-01,  2.02191055e-01,  2.06530675e-01,\n",
       "          2.09993825e-01,  2.13633514e-01,  2.18690100e-01,  2.24077894e-01,\n",
       "          2.28446379e-01,  2.33054301e-01,  2.34982205e-01,  2.38450193e-01,\n",
       "          2.45235849e-01,  5.38361147e-27,  1.71966418e+20, -2.36448269e+00,\n",
       "         -2.47196435e-05,  7.53915851e-03,  1.98736286e-01, -2.58375734e-03,\n",
       "         -4.80031125e+00,  1.32937626e+19,  4.77370097e+00, -2.13138212e-01,\n",
       "         -4.86188056e-02,  6.00477176e-01, -1.75232510e-02,  2.38530814e+01,\n",
       "          5.24343481e+11, -7.54450427e+01, -1.39397456e-03,  3.12484908e-03,\n",
       "          1.02391298e-02, -2.28892899e-01, -6.51012203e-08,  5.60770022e+01,\n",
       "          1.40419670e+17, -7.92377259e+01, -8.19841784e-04, -4.84183586e-01,\n",
       "          6.76519538e-03, -2.24470238e-02, -1.01004132e+01,  5.58180314e+17,\n",
       "         -5.62088733e+01, -2.56576140e-02,  2.07306607e-04,  4.09087493e-02,\n",
       "         -2.86442560e-02, -5.54451637e+00,  3.27278266e+18,  1.21119698e+01,\n",
       "         -8.10960331e-04,  7.58411910e-01,  2.49088880e-02, -2.52222269e-01,\n",
       "         -5.01691611e-03,  5.82876389e+01,  2.91536351e+16,  1.87108420e+01,\n",
       "         -1.57373165e-02, -4.25410327e-01, -2.96113546e-05, -1.29906169e-06,\n",
       "         -6.28550332e+01,  8.42288378e+16,  7.58574329e+01, -1.01604206e-04,\n",
       "          1.26166537e-01, -1.15204910e-04, -5.29255238e-04, -2.83170741e+01,\n",
       "          6.95577921e+17,  2.54024892e+01, -2.35952629e-04, -1.55072121e-01])},\n",
       " 'SSN Tirmzi F\\\\0345-RR_SSNTirmzi-0001\\\\': {'z': array([150., 156., 162., 168., 174., 180., 186., 192., 198., 204., 210.,\n",
       "         216., 222., 228., 234., 240., 246., 252., 258., 264., 270., 276.,\n",
       "         282., 288., 294., 300., 306., 312., 318., 324., 330., 336., 342.,\n",
       "         348., 354., 360., 366., 372., 378., 384., 390., 396., 402., 408.,\n",
       "         414., 420., 426., 432., 438., 444., 450., 456., 462., 468., 474.,\n",
       "         480., 486., 492., 498., 504., 510., 516., 522., 528., 534., 540.,\n",
       "         546., 552., 558., 564., 570., 576., 582., 588., 594., 600., 606.,\n",
       "         612., 618., 624., 630., 636., 642., 648.]),\n",
       "  'c': array([6.28666602e-15, 6.28500131e-15, 6.28334283e-15, 6.28169013e-15,\n",
       "         6.28004300e-15, 6.27840121e-15, 6.27676465e-15, 6.27513309e-15,\n",
       "         6.27350632e-15, 6.27188422e-15, 6.27026658e-15, 6.26865338e-15,\n",
       "         6.26704441e-15, 6.26543956e-15, 6.26383871e-15, 6.26224176e-15,\n",
       "         6.26064870e-15, 6.25905931e-15, 6.25747349e-15, 6.25589133e-15,\n",
       "         6.25431262e-15, 6.25273726e-15, 6.25116534e-15, 5.83168213e+05,\n",
       "         6.32864108e+05, 5.85410211e+05, 6.23109879e+05, 6.30767786e+05,\n",
       "         6.46582369e+05, 6.24024969e-15, 4.13679812e+05, 6.77277964e+05,\n",
       "         6.45339988e+05, 6.11015729e+05, 5.97121706e+05, 5.57427211e+05,\n",
       "         6.22947602e-15, 5.57470570e+05, 5.54688581e+05, 5.42882880e+05,\n",
       "         5.58950920e+05, 5.49713772e+05, 5.79519266e+05, 5.49820162e+05,\n",
       "         6.21731958e-15, 5.71711688e+05, 5.18576131e+05, 5.81730622e+05,\n",
       "         5.64947887e+05, 5.76480739e+05, 6.25742153e+05, 6.20680781e-15,\n",
       "         5.81372924e+05, 5.60198430e+05, 5.17796925e+05, 5.57980164e+05,\n",
       "         5.45902092e+05, 6.24971692e+05, 6.19640409e-15, 5.19960416e+05,\n",
       "         5.41849651e+05, 5.08189207e+05, 4.53040886e+05, 5.37345082e+05,\n",
       "         5.14889610e+05, 5.10052177e+05, 6.18463818e-15, 5.00594018e+05,\n",
       "         4.77583724e+05, 5.39838222e+05, 5.45340116e+05, 5.39100951e+05,\n",
       "         5.45774296e+05, 6.17444518e-15, 5.29264432e+05, 5.09328737e+05,\n",
       "         5.25677336e+05, 5.21372217e+05, 5.26464152e+05, 5.12801633e+05,\n",
       "         6.16434309e-15, 4.66056847e+05, 4.92933017e+05, 4.60359943e+05]),\n",
       "  'cz': array([-2.77451950e-10, -2.76932724e-10, -2.75931361e-10, -2.74985628e-10,\n",
       "         -2.74076983e-10, -2.73196154e-10, -2.72343140e-10, -2.71527214e-10,\n",
       "         -2.70739104e-10, -2.69978809e-10, -2.69237058e-10, -2.68513851e-10,\n",
       "         -2.67818459e-10, -2.67141612e-10, -2.66483308e-10, -2.65834276e-10,\n",
       "         -2.65203787e-10, -2.64601115e-10, -2.63998442e-10, -2.63405041e-10,\n",
       "         -2.62839456e-10, -2.62273871e-10,  4.85973511e+13,  5.27386757e+13,\n",
       "          1.86833161e+11, -8.12852436e+11,  3.77979790e+12,  1.95604088e+12,\n",
       "         -5.25639822e+13, -1.94085465e+13,  5.64398303e+13,  1.93050147e+13,\n",
       "         -5.52185290e+12, -4.01819017e+12, -4.46570986e+12, -4.97601422e+13,\n",
       "          3.61325441e+09,  4.62240484e+13, -1.21564083e+12,  3.55194869e+11,\n",
       "          5.69241019e+11,  1.71402887e+12,  8.86577846e+09, -4.82932722e+13,\n",
       "          1.82429386e+12,  4.32146776e+13,  8.34911182e+11,  3.86431301e+12,\n",
       "         -4.37490285e+11,  5.06618879e+12, -4.80400616e+13, -3.69743573e+12,\n",
       "          4.66832025e+13, -5.29799988e+12, -1.84855468e+11,  2.34209723e+12,\n",
       "          5.58262734e+12, -4.54918410e+13, -8.75093965e+12,  4.51541376e+13,\n",
       "         -9.80934133e+11, -7.40073036e+12,  2.42965630e+12,  5.15406032e+12,\n",
       "         -2.27440875e+12, -4.29074675e+13, -7.88179944e+11,  3.97986436e+13,\n",
       "          3.27035035e+12,  5.64636600e+12, -6.14392328e+10,  3.61816851e+10,\n",
       "         -4.49250793e+13, -1.37582195e+12,  4.24440614e+13, -2.98924714e+11,\n",
       "          1.00362337e+12,  6.55680041e+10, -7.14215319e+11, -4.38720127e+13,\n",
       "         -3.89539886e+12,  4.10777515e+13, -4.74741946e+11, -5.42884568e+12]),\n",
       "  'czz': array([ 8.65376131e-05,  1.26715791e-04,  1.62258025e-04,  1.54531452e-04,\n",
       "          1.49122851e-04,  1.44486908e-04,  1.39078307e-04,  1.33669706e-04,\n",
       "          1.29033762e-04,  1.25170476e-04,  1.22079847e-04,  1.18216561e-04,\n",
       "          1.14353274e-04,  1.11262645e-04,  1.08944674e-04,  1.06626702e-04,\n",
       "          1.02763416e-04,  1.00445444e-04,  9.96727865e-05,  9.65821575e-05,\n",
       "          9.42641857e-05,  4.04977926e+21,  4.39488964e+21, -4.03420983e+21,\n",
       "         -4.46262734e+21,  2.99413728e+20,  2.30741110e+20, -4.69531501e+21,\n",
       "         -1.78038228e+21,  9.08365104e+21,  3.22613010e+21, -5.16347360e+21,\n",
       "         -1.94360041e+21,  8.80119204e+19, -3.81182933e+21,  3.72443593e+20,\n",
       "          7.99868255e+21, -1.01604507e+20, -3.82240446e+21,  1.48740154e+20,\n",
       "          1.13236167e+20, -4.66979367e+19, -4.16727509e+21,  1.51285673e+20,\n",
       "          7.62566248e+21, -8.24485564e+19, -3.27919705e+21, -1.06033456e+20,\n",
       "          1.00156315e+20, -3.96688094e+21, -7.30302043e+20,  7.89360534e+21,\n",
       "         -1.33380346e+20, -3.90567149e+21,  6.36674759e+20,  4.80623567e+20,\n",
       "         -3.98616152e+21, -1.19446392e+21,  7.55383155e+21,  6.47500460e+20,\n",
       "         -4.37957233e+21,  2.84215869e+20,  1.04623256e+21, -3.92005420e+20,\n",
       "         -4.00512732e+21,  1.23852400e+20,  6.89217593e+21,  3.38210858e+20,\n",
       "         -2.84602314e+21, -2.77649132e+20, -4.67515360e+20, -3.73863667e+21,\n",
       "         -1.17666970e+20,  7.28076172e+21,  8.97414364e+19, -3.45336983e+21,\n",
       "          3.03743931e+19, -1.43153224e+20, -3.66146506e+21, -2.65098629e+20,\n",
       "          7.07914701e+21,  2.85054743e+20, -3.87554976e+21, -8.25683955e+20]),\n",
       "  'alpha': array([ 2.82995974e-01,  1.92593862e-01,  1.49360301e-01,  1.55796104e-01,\n",
       "          1.60423619e-01,  1.64551406e-01,  1.69929053e-01,  1.75792681e-01,\n",
       "          1.81099924e-01,  1.85690384e-01,  1.89395514e-01,  1.94585648e-01,\n",
       "          2.00170297e-01,  2.04744457e-01,  2.08124615e-01,  2.11668456e-01,\n",
       "          2.18640984e-01,  2.22727594e-01,  2.23489490e-01,  2.29663544e-01,\n",
       "          2.34360712e-01,  5.43298513e-27,  1.71927850e+20, -2.36448252e+00,\n",
       "         -2.47193378e-05,  7.53913319e-03,  1.98736456e-01, -2.58375668e-03,\n",
       "         -4.80031120e+00,  1.32908761e+19,  4.77370075e+00, -2.13138234e-01,\n",
       "         -4.86187853e-02,  6.00477974e-01, -1.75232515e-02,  2.38530846e+01,\n",
       "          5.24031145e+11, -7.54450997e+01, -1.39397404e-03,  3.12484867e-03,\n",
       "          1.02391413e-02, -2.28892704e-01, -6.50944104e-08,  5.60770032e+01,\n",
       "          1.40390855e+17, -7.92378026e+01, -8.19842662e-04, -4.84183236e-01,\n",
       "          6.76519150e-03, -2.24470238e-02, -1.01004141e+01,  5.58068559e+17,\n",
       "         -5.62088419e+01, -2.56576150e-02,  2.07308686e-04,  4.09087316e-02,\n",
       "         -2.86442609e-02, -5.54451598e+00,  3.27214353e+18,  1.21119686e+01,\n",
       "         -8.10959542e-04,  7.58412354e-01,  2.49088714e-02, -2.52222391e-01,\n",
       "         -5.01691305e-03,  5.82876743e+01,  2.91480901e+16,  1.87108422e+01,\n",
       "         -1.57373142e-02, -4.25410394e-01, -2.96113518e-05, -1.29904506e-06,\n",
       "         -6.28550322e+01,  8.42131101e+16,  7.58574321e+01, -1.01604365e-04,\n",
       "          1.26166676e-01, -1.15203296e-04, -5.29254574e-04, -2.83170646e+01,\n",
       "          6.95450347e+17,  2.54024823e+01, -2.35952172e-04, -1.55072081e-01])}}"
      ]
     },
     "execution_count": 8,
     "metadata": {},
     "output_type": "execute_result"
    }
   ],
   "source": [
    "all_data"
   ]
  },
  {
   "cell_type": "code",
   "execution_count": 9,
   "id": "bdf1f5d3",
   "metadata": {
    "scrolled": true
   },
   "outputs": [
    {
     "data": {
      "text/plain": [
       "dict_keys(['SSN Tirmzi F\\\\0343-RR_SSNTirmzi-0000\\\\', 'SSN Tirmzi F\\\\0345-RR_SSNTirmzi-0001\\\\'])"
      ]
     },
     "execution_count": 9,
     "metadata": {},
     "output_type": "execute_result"
    }
   ],
   "source": [
    "all_data.keys()"
   ]
  },
  {
   "cell_type": "code",
   "execution_count": null,
   "id": "59fe3797",
   "metadata": {},
   "outputs": [],
   "source": []
  },
  {
   "cell_type": "code",
   "execution_count": 10,
   "id": "c6cac644",
   "metadata": {
    "scrolled": true
   },
   "outputs": [
    {
     "data": {
      "image/png": "[encoded data removed]",
      "text/plain": [
       "<Figure size 432x288 with 1 Axes>"
      ]
     },
     "metadata": {
      "needs_background": "light"
     },
     "output_type": "display_data"
    }
   ],
   "source": [
    "for key in {key: params for key, params in all_params.items() if params['Thickness_sample'] == 1}:\n",
    "    data=all_data[key]\n",
    "    thickness =all_params[key]['Thickness_sample']\n",
    "    rtip= all_params[key]['Rtip']\n",
    "    er=all_params[key]['eps_r']\n",
    "    plt.plot(data['z'], data['c'], label= f'{rtip} nm, {er}, {thickness} nm')\n",
    "    \n",
    "    \n",
    "plt.title('C v. Z for 1nm thick sample')    \n",
    "plt.ylabel(\"C(m)\")\n",
    "plt.xlabel(\"Z(m)\")\n",
    "plt.legend()\n",
    "plt.savefig(\"C' v. Z for 1nm thick sample 06-28-2021.png\")"
   ]
  },
  {
   "cell_type": "markdown",
   "id": "0981ee97",
   "metadata": {},
   "source": [
    "cut off last experiment because capacitance was off the scale"
   ]
  },
  {
   "cell_type": "code",
   "execution_count": 11,
   "id": "ad6bf37e",
   "metadata": {},
   "outputs": [
    {
     "data": {
      "image/png": "[encoded data removed]",
      "text/plain": [
       "<Figure size 432x288 with 1 Axes>"
      ]
     },
     "metadata": {
      "needs_background": "light"
     },
     "output_type": "display_data"
    }
   ],
   "source": [
    "for key in {key: params for key, params in all_params.items() if params['Thickness_sample'] == 1}:\n",
    "    data=all_data[key]\n",
    "    thickness=all_params[key]['Thickness_sample']\n",
    "    rtip= all_params[key]['Rtip']\n",
    "    er=all_params[key]['eps_r']\n",
    "    s=slice(4,-3)\n",
    "    plt.plot(data['z'][s], data['cz'][s], label=f'{rtip} nm, {er}, {thickness} nm' )\n",
    "    \n",
    "plt.title('Cz vs. Z for 1.0nm')    \n",
    "plt.ylabel(\"Cz\")\n",
    "plt.xlabel(\"Z(m)\")\n",
    "plt.legend()\n",
    "plt.savefig(\"Cz v. Z for varying sample thickness, 06-28-2021.png\")"
   ]
  },
  {
   "cell_type": "code",
   "execution_count": 12,
   "id": "8f02b5cc",
   "metadata": {},
   "outputs": [
    {
     "data": {
      "image/png": "[encoded data removed]",
      "text/plain": [
       "<Figure size 432x288 with 1 Axes>"
      ]
     },
     "metadata": {
      "needs_background": "light"
     },
     "output_type": "display_data"
    }
   ],
   "source": [
    "for key in {key: params for key, params in all_params.items() if params['Thickness_sample'] == 1}:\n",
    "    data=all_data[key]\n",
    "    thickness=all_params[key]['Thickness_sample']\n",
    "    rtip= all_params[key]['Rtip']\n",
    "    er=all_params[key]['eps_r']\n",
    "    s=slice(5,-5)\n",
    "    plt.plot(data['z'][s], data['czz'][s], label=f'{rtip} nm, {er}, {thickness} nm' )\n",
    "    \n",
    "plt.title('Czz vs. Z for 1.0nm')    \n",
    "plt.ylabel(\"Czz\")\n",
    "plt.xlabel(\"Z(m)\")\n",
    "plt.legend()\n",
    "plt.savefig(\"Czz v. Z for varying sample thickness, 06-28-2021.png\")"
   ]
  },
  {
   "cell_type": "code",
   "execution_count": 13,
   "id": "eed081f0",
   "metadata": {},
   "outputs": [
    {
     "data": {
      "text/plain": [
       "{'n': 750,\n",
       " 'm+': 750,\n",
       " 'm-': 88,\n",
       " 'h0': 0.5,\n",
       " 'rho_max': 1000000.0,\n",
       " 'z_max': 1000000.0,\n",
       " 'min': 150.0,\n",
       " 'max': 650.0,\n",
       " 'istep': 12.0,\n",
       " 'Rtip': 40.0,\n",
       " 'half-angle': 15.0,\n",
       " 'HCone': 15000.0,\n",
       " 'RCantilever': 40000.0,\n",
       " 'thickness_Cantilever': 500.0,\n",
       " 'eps_r': 1.0,\n",
       " 'Thickness_sample': 1.0,\n",
       " 'Solving Method': 'LAPACK',\n",
       " 'Test': 0,\n",
       " 'Verbosity': 0,\n",
       " 'Nuni': 1,\n",
       " 'Equally spaced': False}"
      ]
     },
     "execution_count": 13,
     "metadata": {},
     "output_type": "execute_result"
    }
   ],
   "source": [
    "params"
   ]
  },
  {
   "cell_type": "code",
   "execution_count": 14,
   "id": "dfdd7fe8",
   "metadata": {},
   "outputs": [
    {
     "data": {
      "image/png": "[encoded data removed]",
      "text/plain": [
       "<Figure size 432x288 with 1 Axes>"
      ]
     },
     "metadata": {
      "needs_background": "light"
     },
     "output_type": "display_data"
    }
   ],
   "source": [
    "for key in {key: params for key, params in all_params.items() if params['Thickness_sample'] == 1}:\n",
    "    data=all_data[key]\n",
    "    thickness=all_params[key]['Thickness_sample']\n",
    "    rtip= all_params[key]['Rtip']\n",
    "    er=all_params[key]['eps_r']\n",
    "    s=slice(8,-8)\n",
    "    plt.plot(data['z'][s], data['alpha'][s], label=f'{rtip} nm, {er}, {thickness} nm' )\n",
    "    \n",
    "plt.title('alpha vs. Z for 1.0nm')    \n",
    "plt.ylabel(\"$\\\\alpha$\")\n",
    "plt.xlabel(\"Z(m)\")\n",
    "plt.legend()\n",
    "plt.savefig(\"Alpha v. Z for varying sample thickness, 06-28-2021.png\")"
   ]
  },
  {
   "cell_type": "code",
   "execution_count": 15,
   "id": "09a2ae9a",
   "metadata": {},
   "outputs": [
    {
     "data": {
      "text/plain": [
       "{'z': array([150., 156., 162., 168., 174., 180., 186., 192., 198., 204., 210.,\n",
       "        216., 222., 228., 234., 240., 246., 252., 258., 264., 270., 276.,\n",
       "        282., 288., 294., 300., 306., 312., 318., 324., 330., 336., 342.,\n",
       "        348., 354., 360., 366., 372., 378., 384., 390., 396., 402., 408.,\n",
       "        414., 420., 426., 432., 438., 444., 450., 456., 462., 468., 474.,\n",
       "        480., 486., 492., 498., 504., 510., 516., 522., 528., 534., 540.,\n",
       "        546., 552., 558., 564., 570., 576., 582., 588., 594., 600., 606.,\n",
       "        612., 618., 624., 630., 636., 642., 648.]),\n",
       " 'c': array([6.28666602e-15, 6.28500131e-15, 6.28334283e-15, 6.28169013e-15,\n",
       "        6.28004300e-15, 6.27840121e-15, 6.27676465e-15, 6.27513309e-15,\n",
       "        6.27350632e-15, 6.27188422e-15, 6.27026658e-15, 6.26865338e-15,\n",
       "        6.26704441e-15, 6.26543956e-15, 6.26383871e-15, 6.26224176e-15,\n",
       "        6.26064870e-15, 6.25905931e-15, 6.25747349e-15, 6.25589133e-15,\n",
       "        6.25431262e-15, 6.25273726e-15, 6.25116534e-15, 5.83168213e+05,\n",
       "        6.32864108e+05, 5.85410211e+05, 6.23109879e+05, 6.30767786e+05,\n",
       "        6.46582369e+05, 6.24024969e-15, 4.13679812e+05, 6.77277964e+05,\n",
       "        6.45339988e+05, 6.11015729e+05, 5.97121706e+05, 5.57427211e+05,\n",
       "        6.22947602e-15, 5.57470570e+05, 5.54688581e+05, 5.42882880e+05,\n",
       "        5.58950920e+05, 5.49713772e+05, 5.79519266e+05, 5.49820162e+05,\n",
       "        6.21731958e-15, 5.71711688e+05, 5.18576131e+05, 5.81730622e+05,\n",
       "        5.64947887e+05, 5.76480739e+05, 6.25742153e+05, 6.20680781e-15,\n",
       "        5.81372924e+05, 5.60198430e+05, 5.17796925e+05, 5.57980164e+05,\n",
       "        5.45902092e+05, 6.24971692e+05, 6.19640409e-15, 5.19960416e+05,\n",
       "        5.41849651e+05, 5.08189207e+05, 4.53040886e+05, 5.37345082e+05,\n",
       "        5.14889610e+05, 5.10052177e+05, 6.18463818e-15, 5.00594018e+05,\n",
       "        4.77583724e+05, 5.39838222e+05, 5.45340116e+05, 5.39100951e+05,\n",
       "        5.45774296e+05, 6.17444518e-15, 5.29264432e+05, 5.09328737e+05,\n",
       "        5.25677336e+05, 5.21372217e+05, 5.26464152e+05, 5.12801633e+05,\n",
       "        6.16434309e-15, 4.66056847e+05, 4.92933017e+05, 4.60359943e+05]),\n",
       " 'cz': array([-2.77451950e-10, -2.76932724e-10, -2.75931361e-10, -2.74985628e-10,\n",
       "        -2.74076983e-10, -2.73196154e-10, -2.72343140e-10, -2.71527214e-10,\n",
       "        -2.70739104e-10, -2.69978809e-10, -2.69237058e-10, -2.68513851e-10,\n",
       "        -2.67818459e-10, -2.67141612e-10, -2.66483308e-10, -2.65834276e-10,\n",
       "        -2.65203787e-10, -2.64601115e-10, -2.63998442e-10, -2.63405041e-10,\n",
       "        -2.62839456e-10, -2.62273871e-10,  4.85973511e+13,  5.27386757e+13,\n",
       "         1.86833161e+11, -8.12852436e+11,  3.77979790e+12,  1.95604088e+12,\n",
       "        -5.25639822e+13, -1.94085465e+13,  5.64398303e+13,  1.93050147e+13,\n",
       "        -5.52185290e+12, -4.01819017e+12, -4.46570986e+12, -4.97601422e+13,\n",
       "         3.61325441e+09,  4.62240484e+13, -1.21564083e+12,  3.55194869e+11,\n",
       "         5.69241019e+11,  1.71402887e+12,  8.86577846e+09, -4.82932722e+13,\n",
       "         1.82429386e+12,  4.32146776e+13,  8.34911182e+11,  3.86431301e+12,\n",
       "        -4.37490285e+11,  5.06618879e+12, -4.80400616e+13, -3.69743573e+12,\n",
       "         4.66832025e+13, -5.29799988e+12, -1.84855468e+11,  2.34209723e+12,\n",
       "         5.58262734e+12, -4.54918410e+13, -8.75093965e+12,  4.51541376e+13,\n",
       "        -9.80934133e+11, -7.40073036e+12,  2.42965630e+12,  5.15406032e+12,\n",
       "        -2.27440875e+12, -4.29074675e+13, -7.88179944e+11,  3.97986436e+13,\n",
       "         3.27035035e+12,  5.64636600e+12, -6.14392328e+10,  3.61816851e+10,\n",
       "        -4.49250793e+13, -1.37582195e+12,  4.24440614e+13, -2.98924714e+11,\n",
       "         1.00362337e+12,  6.55680041e+10, -7.14215319e+11, -4.38720127e+13,\n",
       "        -3.89539886e+12,  4.10777515e+13, -4.74741946e+11, -5.42884568e+12]),\n",
       " 'czz': array([ 8.65376131e-05,  1.26715791e-04,  1.62258025e-04,  1.54531452e-04,\n",
       "         1.49122851e-04,  1.44486908e-04,  1.39078307e-04,  1.33669706e-04,\n",
       "         1.29033762e-04,  1.25170476e-04,  1.22079847e-04,  1.18216561e-04,\n",
       "         1.14353274e-04,  1.11262645e-04,  1.08944674e-04,  1.06626702e-04,\n",
       "         1.02763416e-04,  1.00445444e-04,  9.96727865e-05,  9.65821575e-05,\n",
       "         9.42641857e-05,  4.04977926e+21,  4.39488964e+21, -4.03420983e+21,\n",
       "        -4.46262734e+21,  2.99413728e+20,  2.30741110e+20, -4.69531501e+21,\n",
       "        -1.78038228e+21,  9.08365104e+21,  3.22613010e+21, -5.16347360e+21,\n",
       "        -1.94360041e+21,  8.80119204e+19, -3.81182933e+21,  3.72443593e+20,\n",
       "         7.99868255e+21, -1.01604507e+20, -3.82240446e+21,  1.48740154e+20,\n",
       "         1.13236167e+20, -4.66979367e+19, -4.16727509e+21,  1.51285673e+20,\n",
       "         7.62566248e+21, -8.24485564e+19, -3.27919705e+21, -1.06033456e+20,\n",
       "         1.00156315e+20, -3.96688094e+21, -7.30302043e+20,  7.89360534e+21,\n",
       "        -1.33380346e+20, -3.90567149e+21,  6.36674759e+20,  4.80623567e+20,\n",
       "        -3.98616152e+21, -1.19446392e+21,  7.55383155e+21,  6.47500460e+20,\n",
       "        -4.37957233e+21,  2.84215869e+20,  1.04623256e+21, -3.92005420e+20,\n",
       "        -4.00512732e+21,  1.23852400e+20,  6.89217593e+21,  3.38210858e+20,\n",
       "        -2.84602314e+21, -2.77649132e+20, -4.67515360e+20, -3.73863667e+21,\n",
       "        -1.17666970e+20,  7.28076172e+21,  8.97414364e+19, -3.45336983e+21,\n",
       "         3.03743931e+19, -1.43153224e+20, -3.66146506e+21, -2.65098629e+20,\n",
       "         7.07914701e+21,  2.85054743e+20, -3.87554976e+21, -8.25683955e+20]),\n",
       " 'alpha': array([ 2.82995974e-01,  1.92593862e-01,  1.49360301e-01,  1.55796104e-01,\n",
       "         1.60423619e-01,  1.64551406e-01,  1.69929053e-01,  1.75792681e-01,\n",
       "         1.81099924e-01,  1.85690384e-01,  1.89395514e-01,  1.94585648e-01,\n",
       "         2.00170297e-01,  2.04744457e-01,  2.08124615e-01,  2.11668456e-01,\n",
       "         2.18640984e-01,  2.22727594e-01,  2.23489490e-01,  2.29663544e-01,\n",
       "         2.34360712e-01,  5.43298513e-27,  1.71927850e+20, -2.36448252e+00,\n",
       "        -2.47193378e-05,  7.53913319e-03,  1.98736456e-01, -2.58375668e-03,\n",
       "        -4.80031120e+00,  1.32908761e+19,  4.77370075e+00, -2.13138234e-01,\n",
       "        -4.86187853e-02,  6.00477974e-01, -1.75232515e-02,  2.38530846e+01,\n",
       "         5.24031145e+11, -7.54450997e+01, -1.39397404e-03,  3.12484867e-03,\n",
       "         1.02391413e-02, -2.28892704e-01, -6.50944104e-08,  5.60770032e+01,\n",
       "         1.40390855e+17, -7.92378026e+01, -8.19842662e-04, -4.84183236e-01,\n",
       "         6.76519150e-03, -2.24470238e-02, -1.01004141e+01,  5.58068559e+17,\n",
       "        -5.62088419e+01, -2.56576150e-02,  2.07308686e-04,  4.09087316e-02,\n",
       "        -2.86442609e-02, -5.54451598e+00,  3.27214353e+18,  1.21119686e+01,\n",
       "        -8.10959542e-04,  7.58412354e-01,  2.49088714e-02, -2.52222391e-01,\n",
       "        -5.01691305e-03,  5.82876743e+01,  2.91480901e+16,  1.87108422e+01,\n",
       "        -1.57373142e-02, -4.25410394e-01, -2.96113518e-05, -1.29904506e-06,\n",
       "        -6.28550322e+01,  8.42131101e+16,  7.58574321e+01, -1.01604365e-04,\n",
       "         1.26166676e-01, -1.15203296e-04, -5.29254574e-04, -2.83170646e+01,\n",
       "         6.95450347e+17,  2.54024823e+01, -2.35952172e-04, -1.55072081e-01])}"
      ]
     },
     "execution_count": 15,
     "metadata": {},
     "output_type": "execute_result"
    }
   ],
   "source": [
    "data"
   ]
  },
  {
   "cell_type": "code",
   "execution_count": 16,
   "id": "77a6dac6",
   "metadata": {},
   "outputs": [],
   "source": [
    "from scipy.optimize import curve_fit\n"
   ]
  },
  {
   "cell_type": "code",
   "execution_count": 17,
   "id": "49b30168",
   "metadata": {},
   "outputs": [],
   "source": [
    "def Cz_model(z, a, n, b,):\n",
    "    return(a*z**n + b)"
   ]
  },
  {
   "cell_type": "code",
   "execution_count": 18,
   "id": "87212141",
   "metadata": {},
   "outputs": [
    {
     "data": {
      "text/plain": [
       "dict_keys(['SSN Tirmzi F\\\\0343-RR_SSNTirmzi-0000\\\\', 'SSN Tirmzi F\\\\0345-RR_SSNTirmzi-0001\\\\'])"
      ]
     },
     "execution_count": 18,
     "metadata": {},
     "output_type": "execute_result"
    }
   ],
   "source": [
    "all_data.keys()"
   ]
  },
  {
   "cell_type": "code",
   "execution_count": 19,
   "id": "74215bd0",
   "metadata": {},
   "outputs": [
    {
     "ename": "KeyError",
     "evalue": "'capsol-calc\\\\0001-capsol\\\\'",
     "output_type": "error",
     "traceback": [
      "\u001b[1;31m---------------------------------------------------------------------------\u001b[0m",
      "\u001b[1;31mKeyError\u001b[0m                                  Traceback (most recent call last)",
      "\u001b[1;32m<ipython-input-19-23a180486cb5>\u001b[0m in \u001b[0;36m<module>\u001b[1;34m\u001b[0m\n\u001b[1;32m----> 1\u001b[1;33m \u001b[0mdata\u001b[0m\u001b[1;33m=\u001b[0m \u001b[0mall_data\u001b[0m\u001b[1;33m[\u001b[0m\u001b[1;34m'capsol-calc\\\\0001-capsol\\\\'\u001b[0m\u001b[1;33m]\u001b[0m\u001b[1;33m\u001b[0m\u001b[1;33m\u001b[0m\u001b[0m\n\u001b[0m\u001b[0;32m      2\u001b[0m \u001b[0mz\u001b[0m\u001b[1;33m=\u001b[0m \u001b[0mdata\u001b[0m\u001b[1;33m[\u001b[0m\u001b[1;34m'z'\u001b[0m\u001b[1;33m]\u001b[0m\u001b[1;33m[\u001b[0m\u001b[1;36m1\u001b[0m\u001b[1;33m:\u001b[0m\u001b[1;33m-\u001b[0m\u001b[1;36m1\u001b[0m\u001b[1;33m]\u001b[0m\u001b[1;33m\u001b[0m\u001b[1;33m\u001b[0m\u001b[0m\n\u001b[0;32m      3\u001b[0m \u001b[0mcz\u001b[0m\u001b[1;33m=\u001b[0m \u001b[0mdata\u001b[0m\u001b[1;33m[\u001b[0m\u001b[1;34m'cz'\u001b[0m\u001b[1;33m]\u001b[0m\u001b[1;33m[\u001b[0m\u001b[1;36m1\u001b[0m\u001b[1;33m:\u001b[0m\u001b[1;33m-\u001b[0m\u001b[1;36m1\u001b[0m\u001b[1;33m]\u001b[0m\u001b[1;33m\u001b[0m\u001b[1;33m\u001b[0m\u001b[0m\n",
      "\u001b[1;31mKeyError\u001b[0m: 'capsol-calc\\\\0001-capsol\\\\'"
     ]
    }
   ],
   "source": [
    "data= all_data['capsol-calc\\\\0001-capsol\\\\']\n",
    "z= data['z'][1:-1]\n",
    "cz= data['cz'][1:-1]"
   ]
  },
  {
   "cell_type": "code",
   "execution_count": null,
   "id": "8ff0827e",
   "metadata": {},
   "outputs": [],
   "source": [
    "popt, pcov= curve_fit(Cz_model, z, cz, p0=[cz[0]*z[0], -1, 0])\n",
    "a=popt[0]\n",
    "n=popt[1]\n",
    "b=popt[2]\n",
    "std_devs= np.sqrt(pcov.diagonal())\n",
    "sigma_a = std_devs[0]\n",
    "sigma_n = std_devs[1]\n",
    "model_output= Cz_model(z, a, n, b)\n",
    "rmse= np.sqrt(np.mean((cz - model_output)**2))\n"
   ]
  },
  {
   "cell_type": "code",
   "execution_count": null,
   "id": "42e9d139",
   "metadata": {},
   "outputs": [],
   "source": [
    "f\"a= {a} ± {sigma_a}\""
   ]
  },
  {
   "cell_type": "code",
   "execution_count": null,
   "id": "05e99973",
   "metadata": {},
   "outputs": [],
   "source": [
    "f\"n= {n}± {sigma_n}\""
   ]
  },
  {
   "cell_type": "code",
   "execution_count": null,
   "id": "e495fee8",
   "metadata": {},
   "outputs": [],
   "source": [
    "model_output"
   ]
  },
  {
   "cell_type": "code",
   "execution_count": null,
   "id": "dbd0d394",
   "metadata": {},
   "outputs": [],
   "source": [
    "\"Root Mean Square Error\""
   ]
  },
  {
   "cell_type": "code",
   "execution_count": null,
   "id": "b351ff7e",
   "metadata": {},
   "outputs": [],
   "source": [
    "rmse/np.mean(-cz)"
   ]
  },
  {
   "cell_type": "code",
   "execution_count": null,
   "id": "86949536",
   "metadata": {},
   "outputs": [],
   "source": []
  }
 ],
 "metadata": {
  "kernelspec": {
   "display_name": "Python 3",
   "language": "python",
   "name": "python3"
  },
  "language_info": {
   "codemirror_mode": {
    "name": "ipython",
    "version": 3
   },
   "file_extension": ".py",
   "mimetype": "text/x-python",
   "name": "python",
   "nbconvert_exporter": "python",
   "pygments_lexer": "ipython3",
   "version": "3.8.8"
  }
 },
 "nbformat": 4,
 "nbformat_minor": 5
}
