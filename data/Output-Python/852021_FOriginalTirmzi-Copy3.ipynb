{
 "cells": [
  {
   "cell_type": "markdown",
   "id": "7909fa0a",
   "metadata": {},
   "source": [
    "##Tirmzi Analysis\n",
    "n=1000 m+=1000 nm-=120 istep= 4 min=150 max=700"
   ]
  },
  {
   "cell_type": "code",
   "execution_count": 1,
   "id": "63afb62c",
   "metadata": {},
   "outputs": [],
   "source": [
    "import sys\n",
    "sys.path\n",
    "import matplotlib.pyplot as plt\n",
    "import numpy as np\n",
    "import os\n",
    "from scipy import signal"
   ]
  },
  {
   "cell_type": "code",
   "execution_count": 2,
   "id": "8bec0f1d",
   "metadata": {
    "scrolled": true
   },
   "outputs": [
    {
     "name": "stdout",
     "output_type": "stream",
     "text": [
      " Volume in drive C is Local Disk\n",
      " Volume Serial Number is AA1B-997A\n",
      "\n",
      " Directory of C:\\Users\\emaro\\OneDrive - University of Mount Union\\XSEDE Summer 2021\\xsede-spm\\data\\Output-Python\n",
      "\n",
      "09/07/2021  09:51 AM    <DIR>          .\n",
      "09/07/2021  09:51 AM    <DIR>          ..\n",
      "09/07/2021  09:49 AM    <DIR>          .ipynb_checkpoints\n",
      "08/31/2021  10:49 AM    <DIR>          0307-testinputfile4-0004\n",
      "08/31/2021  10:48 AM    <DIR>          0308-testinputfile4-0004\n",
      "08/31/2021  10:48 AM    <DIR>          0309-VariedNuni_8_2_2021-0000\n",
      "08/31/2021  10:49 AM    <DIR>          0310-VariedNuni_8_2_2021-0000\n",
      "08/31/2021  10:48 AM    <DIR>          0311-VariedNuni_8_2_2021-0001\n",
      "08/31/2021  10:49 AM    <DIR>          0312-VariedNuni_8_2_2021-0001\n",
      "08/31/2021  10:48 AM    <DIR>          0313-VariedNuni_8_2_2021-0002\n",
      "08/31/2021  10:49 AM    <DIR>          0314-VariedNuni_8_2_2021-0002\n",
      "08/31/2021  10:48 AM    <DIR>          0315-er_equal_1-0002\n",
      "08/31/2021  10:49 AM    <DIR>          0316-er_equal_1-0002\n",
      "08/31/2021  10:48 AM    <DIR>          0317-er_equal_1-0001\n",
      "08/31/2021  10:48 AM    <DIR>          0318-er_equal_1-0001\n",
      "08/31/2021  10:48 AM    <DIR>          0319-er_equal_1-0000\n",
      "08/31/2021  10:48 AM    <DIR>          0320-er_equal_1-0000\n",
      "08/31/2021  10:48 AM    <DIR>          0321-Spheretest-0000\n",
      "08/31/2021  10:48 AM    <DIR>          0322-Spheretest-0000\n",
      "08/31/2021  10:48 AM    <DIR>          0323-Spheretest-0002\n",
      "08/31/2021  10:48 AM    <DIR>          0324-Spheretest-0002\n",
      "08/31/2021  10:49 AM    <DIR>          0325-Spheretest-0001\n",
      "08/31/2021  10:48 AM    <DIR>          0326-Spheretest-0001\n",
      "08/31/2021  10:49 AM    <DIR>          0327-m_minus4-0002\n",
      "08/31/2021  10:49 AM    <DIR>          0328-m_minus4-0002\n",
      "08/31/2021  10:48 AM    <DIR>          0329-m_minus4-0000\n",
      "08/31/2021  10:48 AM    <DIR>          0330-m_minus4-0000\n",
      "08/31/2021  10:48 AM    <DIR>          0331-m_minus4-0001\n",
      "08/31/2021  10:49 AM    <DIR>          0332-m_minus4-0001\n",
      "08/31/2021  10:48 AM    <DIR>          0333-RR_DefaultCapsol-0000\n",
      "08/31/2021  10:48 AM    <DIR>          0334-RR_DefaultCapsol-0000\n",
      "08/31/2021  10:48 AM    <DIR>          0347-UpdatedPythonTest-0001\n",
      "08/31/2021  10:49 AM    <DIR>          0348-UpdatedPythonTest-0001\n",
      "08/31/2021  10:48 AM    <DIR>          0349-UpdatedPythonTest-0000\n",
      "08/31/2021  10:48 AM    <DIR>          0350-UpdatedPythonTest-0000\n",
      "08/31/2021  10:49 AM    <DIR>          0351-UpdatedPythonTest-0002\n",
      "08/31/2021  10:48 AM    <DIR>          0352-UpdatedPythonTest-0002\n",
      "08/31/2021  10:48 AM    <DIR>          0354-UpdatedPythonTest-0001\n",
      "08/31/2021  10:48 AM    <DIR>          0356-UpdatedPythonTest-0000\n",
      "08/31/2021  10:48 AM    <DIR>          0358-UpdatedPythonTest-0002\n",
      "08/31/2021  10:48 AM    <DIR>          0360-EquallySpacedTest2-0000\n",
      "08/31/2021  10:49 AM    <DIR>          0362-EquallySpacedTest2-0002\n",
      "08/31/2021  10:48 AM    <DIR>          0364-EquallySpacedTest2-0001\n",
      "09/06/2021  09:20 PM    <DIR>          0366-NewTirmzi_variedthickness-0000\n",
      "09/06/2021  09:20 PM    <DIR>          0368-NewTirmzi_variedthickness-0003\n",
      "09/06/2021  09:20 PM    <DIR>          0370-NewTirmzi_variedthickness-0001\n",
      "09/06/2021  09:20 PM    <DIR>          0372-NewTirmzi_variedthickness-0002\n",
      "09/07/2021  07:40 AM    <DIR>          0374-NewTirmzi_variedthickness_75075090-0000\n",
      "09/07/2021  07:40 AM    <DIR>          0376-NewTirmzi_variedepsr_75075090-0000\n",
      "09/07/2021  07:40 AM    <DIR>          0378-NewTirmzi_variedepsr_75075090-0002\n",
      "09/07/2021  07:40 AM    <DIR>          0380-NewTirmzi_variedthickness_75075090-0001\n",
      "09/06/2021  09:20 PM    <DIR>          0382-NewTirmzi_variedthickness-0000\n",
      "09/06/2021  09:20 PM    <DIR>          0384-NewTirmzi_variedthickness-0003\n",
      "09/06/2021  09:20 PM    <DIR>          0386-NewTirmzi_variedthickness-0001\n",
      "09/07/2021  07:40 AM    <DIR>          0388-NewTirmzi_variedthickness_75075090-0003\n",
      "09/07/2021  07:40 AM    <DIR>          0390-NewTirmzi_variedepsr_75075090-0001\n",
      "09/06/2021  09:20 PM    <DIR>          0392-NewTirmzi_variedthickness-0002\n",
      "09/07/2021  07:40 AM    <DIR>          0394-NewTirmzi_variedthickness_75075090-0002\n",
      "09/07/2021  07:40 AM    <DIR>          0396-NewTirmzi_large_range-0001\n",
      "09/07/2021  07:40 AM    <DIR>          0398-NewTirmzi_large_range-0000\n",
      "09/07/2021  07:40 AM    <DIR>          0400-NewTirmzi_large_range-0002\n",
      "08/31/2021  10:48 AM    <DIR>          8_2_2021\n",
      "08/31/2021  10:14 AM           161,361 8_2_2021_FortranErequals1.ipynb\n",
      "08/31/2021  10:14 AM           130,779 8_2_2021_PythonErequals1.ipynb\n",
      "08/31/2021  10:14 AM           130,726 8_2_2021_PythonVariedNuni.ipynb\n",
      "08/31/2021  10:14 AM           130,779 8_2_2021_PythonVariedNuni-Copy3.ipynb\n",
      "08/31/2021  10:48 AM    <DIR>          8_2_2021P\n",
      "08/31/2021  10:14 AM           225,696 8_3_2021_SphereTest_Python.ipynb\n",
      "08/31/2021  10:14 AM            93,725 852021_FDefaultCapsol.ipynb\n",
      "09/07/2021  09:25 AM           162,650 852021_FOriginalTirmzi.ipynb\n",
      "09/07/2021  09:27 AM           136,292 852021_FOriginalTirmzi-Copy1.ipynb\n",
      "09/07/2021  09:47 AM           198,019 852021_FOriginalTirmzi-Copy2.ipynb\n",
      "09/07/2021  09:51 AM            42,003 852021_FOriginalTirmzi-Copy3.ipynb\n",
      "08/31/2021  10:14 AM           169,492 852021_FSSNlTirmzi.ipynb\n",
      "08/31/2021  10:14 AM            89,554 852021_PDefaultCapsol.ipynb\n",
      "08/31/2021  10:14 AM           130,062 852021_POriginalTirmzi.ipynb\n",
      "08/31/2021  10:14 AM           128,192 852021_PSSNTirmzi.ipynb\n",
      "09/07/2021  09:46 AM            14,629 Alpha v. Z for varying sample thickness, 06-28-2021.png\n",
      "09/07/2021  09:50 AM             6,163 C' v. Z for 1nm thick sample 06-28-2021.png\n",
      "08/31/2021  10:14 AM             6,179 C' v. Z for varying sample thickness, 06-28-2021.png\n",
      "09/07/2021  09:49 AM             5,568 Cz v. Z for varying sample thickness, 06-28-2021.png\n",
      "09/07/2021  09:49 AM             5,676 Czz v. Z for varying sample thickness, 06-28-2021.png\n",
      "08/31/2021  10:48 AM    <DIR>          erequals1_F\n",
      "08/31/2021  10:48 AM    <DIR>          erequals1_P\n",
      "08/31/2021  10:49 AM    <DIR>          Fortran\n",
      "08/31/2021  10:14 AM           153,589 Fortran m_minus.ipynb\n",
      "08/31/2021  10:14 AM           148,540 Fortran Sphere Test.ipynb\n",
      "08/31/2021  10:49 AM    <DIR>          FortranOutputTest\n",
      "08/31/2021  10:48 AM    <DIR>          m_minue_P\n",
      "08/31/2021  10:48 AM    <DIR>          m_minus_F\n",
      "08/31/2021  10:48 AM    <DIR>          Original Tirmizi\n",
      "08/31/2021  10:48 AM    <DIR>          Original Tirmzi\n",
      "08/31/2021  10:48 AM    <DIR>          Original Tirmzi F\n",
      "08/31/2021  10:49 AM    <DIR>          Python\n",
      "08/31/2021  10:48 AM    <DIR>          PythonOutputTest\n",
      "08/31/2021  10:49 AM    <DIR>          SphereTest_F\n",
      "08/31/2021  10:48 AM    <DIR>          SphereTest_P\n",
      "08/31/2021  10:49 AM    <DIR>          SSN Tirmzi\n",
      "08/31/2021  10:49 AM    <DIR>          SSN Tirmzi F\n",
      "08/31/2021  10:14 AM            57,907 Tirmzi_istep4.ipynb\n",
      "08/31/2021  10:14 AM           113,265 Tirmzi_istep4-Copy2.ipynb\n",
      "              23 File(s)      2,440,846 bytes\n",
      "              78 Dir(s)  141,820,936,192 bytes free\n"
     ]
    }
   ],
   "source": [
    "ls"
   ]
  },
  {
   "cell_type": "code",
   "execution_count": 3,
   "id": "b2bdd91e",
   "metadata": {},
   "outputs": [],
   "source": [
    "import capsol.newanalyzecapsol as ac"
   ]
  },
  {
   "cell_type": "code",
   "execution_count": 4,
   "id": "74d01467",
   "metadata": {},
   "outputs": [
    {
     "data": {
      "text/plain": [
       "<function capsol.newanalyzecapsol.get_gridparameters(f_name)>"
      ]
     },
     "execution_count": 4,
     "metadata": {},
     "output_type": "execute_result"
    }
   ],
   "source": [
    "ac.get_gridparameters"
   ]
  },
  {
   "cell_type": "code",
   "execution_count": 5,
   "id": "234f74d8",
   "metadata": {},
   "outputs": [],
   "source": [
    "import glob"
   ]
  },
  {
   "cell_type": "code",
   "execution_count": 6,
   "id": "5766fac7",
   "metadata": {},
   "outputs": [
    {
     "data": {
      "text/plain": [
       "['0376-NewTirmzi_variedepsr_75075090-0000\\\\',\n",
       " '0378-NewTirmzi_variedepsr_75075090-0002\\\\',\n",
       " '0390-NewTirmzi_variedepsr_75075090-0001\\\\']"
      ]
     },
     "execution_count": 6,
     "metadata": {},
     "output_type": "execute_result"
    }
   ],
   "source": [
    "folders = glob.glob(\"*NewTirmzi_variedepsr_75075090*/\")\n",
    "folders\n"
   ]
  },
  {
   "cell_type": "code",
   "execution_count": 7,
   "id": "0f240774",
   "metadata": {
    "scrolled": false
   },
   "outputs": [],
   "source": [
    "all_data= dict() \n",
    "for folder in folders:\n",
    "    params = ac.get_gridparameters(folder + 'capsol.in')\n",
    "    data = ac.np.loadtxt(folder + 'C-Z.dat')\n",
    "    process_data = ac.process_data(params, data, smoothing=False, std=5*10**-9, fortran=False)\n",
    "    all_data[folder]= (process_data)\n",
    "all_params= dict()\n",
    "for folder in folders:\n",
    "    params=ac.get_gridparameters(folder + 'capsol.in')\n",
    "    all_params[folder]= (params)"
   ]
  },
  {
   "cell_type": "code",
   "execution_count": 8,
   "id": "a27efec2",
   "metadata": {},
   "outputs": [
    {
     "data": {
      "text/plain": [
       "{'0376-NewTirmzi_variedepsr_75075090-0000\\\\': {'z': array([100., 102., 104., 106., 108., 110., 112., 114., 116., 118., 120.,\n",
       "         122., 124., 126., 128., 130., 132., 134., 136., 138., 140., 142.,\n",
       "         144., 146., 148., 150., 152., 154., 156., 158., 160., 162., 164.,\n",
       "         166., 168., 170., 172., 174., 176., 178., 180., 182., 184., 186.,\n",
       "         188., 190., 192., 194., 196., 198., 200., 202., 204., 206., 208.,\n",
       "         210., 212., 214., 216., 218., 220., 222., 224., 226., 228., 230.,\n",
       "         232., 234., 236., 238., 240., 242., 244., 246., 248.]),\n",
       "  'c': array([1.67039172e-15, 1.67016444e-15, 1.66993821e-15, 1.66971300e-15,\n",
       "         1.66948878e-15, 1.66926554e-15, 1.66904324e-15, 1.66882187e-15,\n",
       "         1.66860140e-15, 1.66838182e-15, 1.66816309e-15, 1.66794522e-15,\n",
       "         1.66772817e-15, 1.66751193e-15, 1.66729648e-15, 1.66708181e-15,\n",
       "         1.66686790e-15, 1.66665474e-15, 1.66644231e-15, 1.66623060e-15,\n",
       "         1.66601960e-15, 1.66580929e-15, 1.66559966e-15, 1.66539070e-15,\n",
       "         1.66518239e-15, 1.66497474e-15, 1.66476771e-15, 1.66456132e-15,\n",
       "         1.66435554e-15, 1.66415036e-15, 1.66394578e-15, 1.66374179e-15,\n",
       "         1.66353838e-15, 1.66333553e-15, 1.66313325e-15, 1.66293152e-15,\n",
       "         1.66273033e-15, 1.66252969e-15, 1.66232957e-15, 1.66212997e-15,\n",
       "         1.66193090e-15, 1.66173233e-15, 1.66153426e-15, 1.66133668e-15,\n",
       "         1.66113960e-15, 1.66094300e-15, 1.66074688e-15, 1.66055123e-15,\n",
       "         1.66035604e-15, 1.66016131e-15, 1.65996704e-15, 1.65977322e-15,\n",
       "         1.65957984e-15, 1.65938690e-15, 1.65919439e-15, 1.65900231e-15,\n",
       "         1.65881066e-15, 1.65861942e-15, 1.65842860e-15, 1.65823819e-15,\n",
       "         1.65804819e-15, 1.65785859e-15, 1.65766939e-15, 1.65748058e-15,\n",
       "         1.65729216e-15, 1.65710412e-15, 1.65691647e-15, 1.65672920e-15,\n",
       "         1.65654230e-15, 1.65635577e-15, 1.65616960e-15, 1.65598381e-15,\n",
       "         1.65579837e-15, 1.65561329e-15, 1.65542856e-15]),\n",
       "  'cz': array([-1.13640036e-10, -1.13377922e-10, -1.12860478e-10, -1.12356277e-10,\n",
       "         -1.11864684e-10, -1.11385110e-10, -1.10917003e-10, -1.10459848e-10,\n",
       "         -1.10013161e-10, -1.09576490e-10, -1.09149411e-10, -1.08731523e-10,\n",
       "         -1.08322452e-10, -1.07921843e-10, -1.07529364e-10, -1.07144699e-10,\n",
       "         -1.06767551e-10, -1.06397638e-10, -1.06034695e-10, -1.05678470e-10,\n",
       "         -1.05328723e-10, -1.04985227e-10, -1.04647767e-10, -1.04316138e-10,\n",
       "         -1.03990146e-10, -1.03669604e-10, -1.03354337e-10, -1.03044175e-10,\n",
       "         -1.02738957e-10, -1.02438532e-10, -1.02142751e-10, -1.01851475e-10,\n",
       "         -1.01564570e-10, -1.01281907e-10, -1.01003365e-10, -1.00728824e-10,\n",
       "         -1.00458173e-10, -1.00191303e-10, -9.99281102e-11, -9.96684952e-11,\n",
       "         -9.94123621e-11, -9.91596188e-11, -9.89101768e-11, -9.86639510e-11,\n",
       "         -9.84208593e-11, -9.81808228e-11, -9.79437656e-11, -9.77096142e-11,\n",
       "         -9.74782980e-11, -9.72497490e-11, -9.70239011e-11, -9.68006911e-11,\n",
       "         -9.65800576e-11, -9.63619412e-11, -9.61462848e-11, -9.59330330e-11,\n",
       "         -9.57221323e-11, -9.55135308e-11, -9.53071785e-11, -9.51030268e-11,\n",
       "         -9.49010287e-11, -9.47011387e-11, -9.45033127e-11, -9.43075078e-11,\n",
       "         -9.41136827e-11, -9.39217970e-11, -9.37318118e-11, -9.35436892e-11,\n",
       "         -9.33573923e-11, -9.31728856e-11, -9.29901343e-11, -9.28091047e-11,\n",
       "         -9.26297641e-11, -9.24520806e-11, -9.23636492e-11]),\n",
       "  'czz': array([1.31057168e-04, 1.94889503e-04, 2.55411285e-04, 2.48948489e-04,\n",
       "         2.42791624e-04, 2.36920237e-04, 2.31315610e-04, 2.25960585e-04,\n",
       "         2.20839409e-04, 2.15937593e-04, 2.11241794e-04, 2.06739703e-04,\n",
       "         2.02419949e-04, 1.98272014e-04, 1.94286155e-04, 1.90453335e-04,\n",
       "         1.86765163e-04, 1.83213836e-04, 1.79792090e-04, 1.76493156e-04,\n",
       "         1.73310718e-04, 1.70238878e-04, 1.67272120e-04, 1.64405283e-04,\n",
       "         1.61633529e-04, 1.58952325e-04, 1.56357413e-04, 1.53844795e-04,\n",
       "         1.51410709e-04, 1.49051618e-04, 1.46764187e-04, 1.44545275e-04,\n",
       "         1.42391918e-04, 1.40301315e-04, 1.38270823e-04, 1.36297941e-04,\n",
       "         1.34380303e-04, 1.32515669e-04, 1.30701916e-04, 1.28937029e-04,\n",
       "         1.27219101e-04, 1.25546318e-04, 1.23916956e-04, 1.22329380e-04,\n",
       "         1.20782031e-04, 1.19273428e-04, 1.17802159e-04, 1.16366880e-04,\n",
       "         1.14966309e-04, 1.13599224e-04, 1.12264458e-04, 1.10960898e-04,\n",
       "         1.09687480e-04, 1.08443186e-04, 1.07227046e-04, 1.06038128e-04,\n",
       "         1.04875544e-04, 1.03738441e-04, 1.02626003e-04, 1.01537447e-04,\n",
       "         1.00472024e-04, 9.94290147e-05, 9.84077289e-05, 9.74075044e-05,\n",
       "         9.64277049e-05, 9.54677195e-05, 9.45269610e-05, 9.36048650e-05,\n",
       "         9.27008887e-05, 9.18145095e-05, 9.09452252e-05, 9.00925520e-05,\n",
       "         8.92560236e-05, 6.65287133e-05, 4.42156882e-05]),\n",
       "  'alpha': array([0.11798142, 0.07898403, 0.05972736, 0.0607398 , 0.06174457,\n",
       "         0.06274176, 0.06373144, 0.0647137 , 0.06568861, 0.06665628,\n",
       "         0.06761677, 0.06857018, 0.06951658, 0.07045606, 0.0713887 ,\n",
       "         0.07231458, 0.07323379, 0.0741464 , 0.07505249, 0.07595215,\n",
       "         0.07684544, 0.07773245, 0.07861325, 0.07948791, 0.08035652,\n",
       "         0.08121913, 0.08207583, 0.08292668, 0.08377175, 0.08461112,\n",
       "         0.08544484, 0.08627298, 0.08709562, 0.0879128 , 0.08872461,\n",
       "         0.08953109, 0.09033231, 0.09112833, 0.09191921, 0.092705  ,\n",
       "         0.09348577, 0.09426156, 0.09503245, 0.09579847, 0.09655968,\n",
       "         0.09731615, 0.0980679 , 0.09881501, 0.09955752, 0.10029547,\n",
       "         0.10102892, 0.10175791, 0.1024825 , 0.10320272, 0.10391863,\n",
       "         0.10463026, 0.10533766, 0.10604088, 0.10673996, 0.10743493,\n",
       "         0.10812585, 0.10881275, 0.10949567, 0.11017465, 0.11084973,\n",
       "         0.11152094, 0.11218834, 0.11285194, 0.1135118 , 0.11416793,\n",
       "         0.11482039, 0.11546921, 0.11611441, 0.1552013 , 0.23310164])},\n",
       " '0378-NewTirmzi_variedepsr_75075090-0002\\\\': {'z': array([100., 102., 104., 106., 108., 110., 112., 114., 116., 118., 120.,\n",
       "         122., 124., 126., 128., 130., 132., 134., 136., 138., 140., 142.,\n",
       "         144., 146., 148., 150., 152., 154., 156., 158., 160., 162., 164.,\n",
       "         166., 168., 170., 172., 174., 176., 178., 180., 182., 184., 186.,\n",
       "         188., 190., 192., 194., 196., 198., 200., 202., 204., 206., 208.,\n",
       "         210., 212., 214., 216., 218., 220., 222., 224., 226., 228., 230.,\n",
       "         232., 234., 236., 238., 240., 242., 244., 246., 248.]),\n",
       "  'c': array([1.67041878e-15, 1.67019137e-15, 1.66996501e-15, 1.66973968e-15,\n",
       "         1.66951535e-15, 1.66929199e-15, 1.66906959e-15, 1.66884811e-15,\n",
       "         1.66862753e-15, 1.66840784e-15, 1.66818902e-15, 1.66797105e-15,\n",
       "         1.66775390e-15, 1.66753756e-15, 1.66732202e-15, 1.66710726e-15,\n",
       "         1.66689326e-15, 1.66668001e-15, 1.66646750e-15, 1.66625570e-15,\n",
       "         1.66604462e-15, 1.66583422e-15, 1.66562451e-15, 1.66541547e-15,\n",
       "         1.66520709e-15, 1.66499936e-15, 1.66479226e-15, 1.66458579e-15,\n",
       "         1.66437994e-15, 1.66417469e-15, 1.66397005e-15, 1.66376598e-15,\n",
       "         1.66356250e-15, 1.66335959e-15, 1.66315724e-15, 1.66295545e-15,\n",
       "         1.66275420e-15, 1.66255349e-15, 1.66235331e-15, 1.66215365e-15,\n",
       "         1.66195451e-15, 1.66175588e-15, 1.66155775e-15, 1.66136012e-15,\n",
       "         1.66116298e-15, 1.66096632e-15, 1.66077014e-15, 1.66057443e-15,\n",
       "         1.66037919e-15, 1.66018441e-15, 1.65999009e-15, 1.65979621e-15,\n",
       "         1.65960278e-15, 1.65940979e-15, 1.65921723e-15, 1.65902510e-15,\n",
       "         1.65883339e-15, 1.65864211e-15, 1.65845124e-15, 1.65826078e-15,\n",
       "         1.65807073e-15, 1.65788108e-15, 1.65769183e-15, 1.65750298e-15,\n",
       "         1.65731451e-15, 1.65712643e-15, 1.65693873e-15, 1.65675141e-15,\n",
       "         1.65656447e-15, 1.65637790e-15, 1.65619169e-15, 1.65600585e-15,\n",
       "         1.65582037e-15, 1.65563525e-15, 1.65545048e-15]),\n",
       "  'cz': array([-1.13703153e-10, -1.13440212e-10, -1.12921156e-10, -1.12415420e-10,\n",
       "         -1.11922366e-10, -1.11441398e-10, -1.10971960e-10, -1.10513533e-10,\n",
       "         -1.10065630e-10, -1.09627795e-10, -1.09199600e-10, -1.08780643e-10,\n",
       "         -1.08370546e-10, -1.07968952e-10, -1.07575526e-10, -1.07189950e-10,\n",
       "         -1.06811926e-10, -1.06441170e-10, -1.06077414e-10, -1.05720405e-10,\n",
       "         -1.05369902e-10, -1.05025676e-10, -1.04687512e-10, -1.04355202e-10,\n",
       "         -1.04028551e-10, -1.03707372e-10, -1.03391488e-10, -1.03080729e-10,\n",
       "         -1.02774933e-10, -1.02473947e-10, -1.02177623e-10, -1.01885820e-10,\n",
       "         -1.01598403e-10, -1.01315244e-10, -1.01036218e-10, -1.00761209e-10,\n",
       "         -1.00490102e-10, -1.00222789e-10, -9.99591654e-11, -9.96991310e-11,\n",
       "         -9.94425897e-11, -9.91894489e-11, -9.89396197e-11, -9.86930166e-11,\n",
       "         -9.84495572e-11, -9.82091623e-11, -9.79717554e-11, -9.77372629e-11,\n",
       "         -9.75056140e-11, -9.72767400e-11, -9.70505750e-11, -9.68270552e-11,\n",
       "         -9.66061190e-11, -9.63877070e-11, -9.61717616e-11, -9.59582273e-11,\n",
       "         -9.57470503e-11, -9.55381786e-11, -9.53315619e-11, -9.51271516e-11,\n",
       "         -9.49249003e-11, -9.47247624e-11, -9.45266937e-11, -9.43306511e-11,\n",
       "         -9.41365931e-11, -9.39444793e-11, -9.37542705e-11, -9.35659288e-11,\n",
       "         -9.33794171e-11, -9.31946998e-11, -9.30117419e-11, -9.28305097e-11,\n",
       "         -9.26509703e-11, -9.24730917e-11, -9.23845637e-11]),\n",
       "  'czz': array([1.31470295e-04, 1.95499116e-04, 2.56197926e-04, 2.49697535e-04,\n",
       "         2.43505612e-04, 2.37601484e-04, 2.31966239e-04, 2.26582545e-04,\n",
       "         2.21434490e-04, 2.16507444e-04, 2.11787934e-04, 2.07263535e-04,\n",
       "         2.02922769e-04, 1.98755024e-04, 1.94750466e-04, 1.90899981e-04,\n",
       "         1.87195104e-04, 1.83627965e-04, 1.80191239e-04, 1.76878101e-04,\n",
       "         1.73682183e-04, 1.70597540e-04, 1.67618613e-04, 1.64740199e-04,\n",
       "         1.61957424e-04, 1.59265721e-04, 1.56660799e-04, 1.54138631e-04,\n",
       "         1.51695430e-04, 1.49327630e-04, 1.47031876e-04, 1.44805002e-04,\n",
       "         1.42644025e-04, 1.40546126e-04, 1.38508643e-04, 1.36529059e-04,\n",
       "         1.34604992e-04, 1.32734188e-04, 1.30914510e-04, 1.29143932e-04,\n",
       "         1.27420533e-04, 1.25742490e-04, 1.24108067e-04, 1.22515619e-04,\n",
       "         1.20963579e-04, 1.19450457e-04, 1.17974833e-04, 1.16535354e-04,\n",
       "         1.15130732e-04, 1.13759738e-04, 1.12421199e-04, 1.11113995e-04,\n",
       "         1.09837055e-04, 1.08589359e-04, 1.07369929e-04, 1.06177830e-04,\n",
       "         1.05012168e-04, 1.03872086e-04, 1.02756763e-04, 1.01665415e-04,\n",
       "         1.00597286e-04, 9.95516543e-05, 9.85278268e-05, 9.75251375e-05,\n",
       "         9.65429472e-05, 9.55806423e-05, 9.46376330e-05, 9.37133519e-05,\n",
       "         9.28072535e-05, 9.19188132e-05, 9.10475263e-05, 9.01929070e-05,\n",
       "         8.93544870e-05, 6.66016315e-05, 4.42639937e-05]),\n",
       "  'alpha': array([0.11773945, 0.07882301, 0.05960705, 0.06062039, 0.06162606,\n",
       "         0.06262412, 0.06361467, 0.06459779, 0.06557356, 0.06654207,\n",
       "         0.0675034 , 0.06845763, 0.06940484, 0.07034513, 0.07127857,\n",
       "         0.07220524, 0.07312522, 0.0740386 , 0.07494546, 0.07584587,\n",
       "         0.0767399 , 0.07762765, 0.07850917, 0.07938456, 0.08025387,\n",
       "         0.08111719, 0.08197458, 0.08282611, 0.08367186, 0.08451189,\n",
       "         0.08534628, 0.08617508, 0.08699836, 0.08781618, 0.08862862,\n",
       "         0.08943572, 0.09023756, 0.09103419, 0.09182567, 0.09261207,\n",
       "         0.09339342, 0.09416981, 0.09494127, 0.09570786, 0.09646964,\n",
       "         0.09722666, 0.09797897, 0.09872663, 0.09946967, 0.10020816,\n",
       "         0.10094214, 0.10167166, 0.10239676, 0.1031175 , 0.10383391,\n",
       "         0.10454605, 0.10525395, 0.10595766, 0.10665723, 0.10735269,\n",
       "         0.10804408, 0.10873145, 0.10941484, 0.11009428, 0.11076982,\n",
       "         0.1114415 , 0.11210934, 0.11277339, 0.11343369, 0.11409026,\n",
       "         0.11474316, 0.1153924 , 0.11603803, 0.15509979, 0.23294963])},\n",
       " '0390-NewTirmzi_variedepsr_75075090-0001\\\\': {'z': array([100., 102., 104., 106., 108., 110., 112., 114., 116., 118., 120.,\n",
       "         122., 124., 126., 128., 130., 132., 134., 136., 138., 140., 142.,\n",
       "         144., 146., 148., 150., 152., 154., 156., 158., 160., 162., 164.,\n",
       "         166., 168., 170., 172., 174., 176., 178., 180., 182., 184., 186.,\n",
       "         188., 190., 192., 194., 196., 198., 200., 202., 204., 206., 208.,\n",
       "         210., 212., 214., 216., 218., 220., 222., 224., 226., 228., 230.,\n",
       "         232., 234., 236., 238., 240., 242., 244., 246., 248.]),\n",
       "  'c': array([1.67040975e-15, 1.67018239e-15, 1.66995608e-15, 1.66973079e-15,\n",
       "         1.66950649e-15, 1.66928317e-15, 1.66906080e-15, 1.66883936e-15,\n",
       "         1.66861882e-15, 1.66839917e-15, 1.66818038e-15, 1.66796244e-15,\n",
       "         1.66774532e-15, 1.66752902e-15, 1.66731351e-15, 1.66709878e-15,\n",
       "         1.66688481e-15, 1.66667159e-15, 1.66645910e-15, 1.66624734e-15,\n",
       "         1.66603628e-15, 1.66582591e-15, 1.66561623e-15, 1.66540721e-15,\n",
       "         1.66519886e-15, 1.66499115e-15, 1.66478408e-15, 1.66457763e-15,\n",
       "         1.66437181e-15, 1.66416658e-15, 1.66396196e-15, 1.66375792e-15,\n",
       "         1.66355446e-15, 1.66335157e-15, 1.66314924e-15, 1.66294747e-15,\n",
       "         1.66274624e-15, 1.66254555e-15, 1.66234539e-15, 1.66214576e-15,\n",
       "         1.66194664e-15, 1.66174803e-15, 1.66154992e-15, 1.66135231e-15,\n",
       "         1.66115519e-15, 1.66095855e-15, 1.66076239e-15, 1.66056670e-15,\n",
       "         1.66037147e-15, 1.66017671e-15, 1.65998240e-15, 1.65978854e-15,\n",
       "         1.65959513e-15, 1.65940216e-15, 1.65920961e-15, 1.65901750e-15,\n",
       "         1.65882581e-15, 1.65863455e-15, 1.65844369e-15, 1.65825325e-15,\n",
       "         1.65806322e-15, 1.65787359e-15, 1.65768435e-15, 1.65749551e-15,\n",
       "         1.65730706e-15, 1.65711899e-15, 1.65693131e-15, 1.65674401e-15,\n",
       "         1.65655708e-15, 1.65637052e-15, 1.65618433e-15, 1.65599850e-15,\n",
       "         1.65581303e-15, 1.65562793e-15, 1.65544317e-15]),\n",
       "  'cz': array([-1.13682092e-10, -1.13419427e-10, -1.12900910e-10, -1.12395686e-10,\n",
       "         -1.11903120e-10, -1.11422618e-10, -1.10953624e-10, -1.10495622e-10,\n",
       "         -1.10048125e-10, -1.09610678e-10, -1.09182856e-10, -1.08764256e-10,\n",
       "         -1.08354501e-10, -1.07953237e-10, -1.07560126e-10, -1.07174855e-10,\n",
       "         -1.06797123e-10, -1.06426648e-10, -1.06063164e-10, -1.05706416e-10,\n",
       "         -1.05356166e-10, -1.05012184e-10, -1.04674254e-10, -1.04342172e-10,\n",
       "         -1.04015741e-10, -1.03694775e-10, -1.03379096e-10, -1.03068536e-10,\n",
       "         -1.02762934e-10, -1.02462135e-10, -1.02165992e-10, -1.01874365e-10,\n",
       "         -1.01587119e-10, -1.01304125e-10, -1.01025261e-10, -1.00750408e-10,\n",
       "         -1.00479453e-10, -1.00212288e-10, -9.99488080e-11, -9.96889136e-11,\n",
       "         -9.94325085e-11, -9.91795003e-11, -9.89298004e-11, -9.86833231e-11,\n",
       "         -9.84399865e-11, -9.81997111e-11, -9.79624209e-11, -9.77280423e-11,\n",
       "         -9.74965043e-11, -9.72677388e-11, -9.70416796e-11, -9.68182632e-11,\n",
       "         -9.65974279e-11, -9.63791145e-11, -9.61632656e-11, -9.59498255e-11,\n",
       "         -9.57387407e-11, -9.55299592e-11, -9.53234307e-11, -9.51191066e-11,\n",
       "         -9.49169398e-11, -9.47168846e-11, -9.45188968e-11, -9.43229336e-11,\n",
       "         -9.41289533e-11, -9.39369156e-11, -9.37467814e-11, -9.35585127e-11,\n",
       "         -9.33720727e-11, -9.31874256e-11, -9.30045367e-11, -9.28233720e-11,\n",
       "         -9.26438989e-11, -9.24660855e-11, -9.23775897e-11]),\n",
       "  'czz': array([1.31332312e-04, 1.95295511e-04, 2.55935202e-04, 2.49447377e-04,\n",
       "         2.43267171e-04, 2.37373986e-04, 2.31748974e-04, 2.26374861e-04,\n",
       "         2.21235788e-04, 2.16317173e-04, 2.11605586e-04, 2.07088640e-04,\n",
       "         2.02754895e-04, 1.98593767e-04, 1.94595457e-04, 1.90750874e-04,\n",
       "         1.87051577e-04, 1.83489719e-04, 1.80057997e-04, 1.76749604e-04,\n",
       "         1.73558189e-04, 1.70477822e-04, 1.67502959e-04, 1.64628411e-04,\n",
       "         1.61849318e-04, 1.59161121e-04, 1.56559542e-04, 1.54040563e-04,\n",
       "         1.51600406e-04, 1.49235514e-04, 1.46942539e-04, 1.44718324e-04,\n",
       "         1.42559891e-04, 1.40464428e-04, 1.38429279e-04, 1.36451933e-04,\n",
       "         1.34530013e-04, 1.32661269e-04, 1.30843568e-04, 1.29074891e-04,\n",
       "         1.27353319e-04, 1.25677031e-04, 1.24044298e-04, 1.22453477e-04,\n",
       "         1.20903003e-04, 1.19391389e-04, 1.17917219e-04, 1.16479142e-04,\n",
       "         1.15075872e-04, 1.13706183e-04, 1.12368903e-04, 1.11062915e-04,\n",
       "         1.09787151e-04, 1.08540591e-04, 1.07322259e-04, 1.06131222e-04,\n",
       "         1.04966587e-04, 1.03827499e-04, 1.02713139e-04, 1.01622723e-04,\n",
       "         1.00555497e-04, 9.95107405e-05, 9.84877610e-05, 9.74858944e-05,\n",
       "         9.65045023e-05, 9.55429714e-05, 9.46007130e-05, 9.36771611e-05,\n",
       "         9.27717708e-05, 9.18840186e-05, 9.10134003e-05, 9.01594300e-05,\n",
       "         8.93216410e-05, 6.65773074e-05, 4.42478802e-05]),\n",
       "  'alpha': array([0.11782013, 0.0788767 , 0.05964716, 0.06066021, 0.06166557,\n",
       "         0.06266334, 0.0636536 , 0.06463644, 0.06561192, 0.06658015,\n",
       "         0.0675412 , 0.06849515, 0.0694421 , 0.07038212, 0.07131529,\n",
       "         0.0722417 , 0.07316142, 0.07407455, 0.07498115, 0.0758813 ,\n",
       "         0.07677509, 0.07766259, 0.07854387, 0.07941902, 0.08028809,\n",
       "         0.08115118, 0.08200834, 0.08285964, 0.08370517, 0.08454498,\n",
       "         0.08537914, 0.08620772, 0.08703079, 0.0878484 , 0.08866062,\n",
       "         0.08946752, 0.09026915, 0.09106558, 0.09185686, 0.09264305,\n",
       "         0.09342421, 0.0942004 , 0.09497167, 0.09573807, 0.09649966,\n",
       "         0.0972565 , 0.09800862, 0.09875609, 0.09949896, 0.10023727,\n",
       "         0.10097107, 0.10170042, 0.10242535, 0.10314591, 0.10386216,\n",
       "         0.10457413, 0.10528186, 0.10598541, 0.10668481, 0.10738011,\n",
       "         0.10807134, 0.10875856, 0.10944179, 0.11012108, 0.11079646,\n",
       "         0.11146798, 0.11213568, 0.11279958, 0.11345973, 0.11411616,\n",
       "         0.11476891, 0.11541801, 0.1160635 , 0.15513364, 0.23300031])}}"
      ]
     },
     "execution_count": 8,
     "metadata": {},
     "output_type": "execute_result"
    }
   ],
   "source": [
    "all_data"
   ]
  },
  {
   "cell_type": "code",
   "execution_count": 9,
   "id": "bdf1f5d3",
   "metadata": {
    "scrolled": true
   },
   "outputs": [
    {
     "data": {
      "text/plain": [
       "dict_keys(['0376-NewTirmzi_variedepsr_75075090-0000\\\\', '0378-NewTirmzi_variedepsr_75075090-0002\\\\', '0390-NewTirmzi_variedepsr_75075090-0001\\\\'])"
      ]
     },
     "execution_count": 9,
     "metadata": {},
     "output_type": "execute_result"
    }
   ],
   "source": [
    "all_data.keys()"
   ]
  },
  {
   "cell_type": "code",
   "execution_count": null,
   "id": "59fe3797",
   "metadata": {},
   "outputs": [],
   "source": []
  },
  {
   "cell_type": "code",
   "execution_count": 20,
   "id": "c6cac644",
   "metadata": {
    "scrolled": true
   },
   "outputs": [
    {
     "data": {
      "image/png": "[encoded data removed]",
      "text/plain": [
       "<Figure size 432x288 with 1 Axes>"
      ]
     },
     "metadata": {
      "needs_background": "light"
     },
     "output_type": "display_data"
    }
   ],
   "source": [
    "for key in {key: params for key, params in all_params.items() if params['Thickness_sample'] == 9.98}:\n",
    "    data=all_data[key]\n",
    "    thickness =all_params[key]['Thickness_sample']\n",
    "    rtip= all_params[key]['Rtip']\n",
    "    er=all_params[key]['eps_r']\n",
    "    plt.plot(data['z'], data['c'], label= f'{rtip} nm, {er}, {thickness} nm')\n",
    "    \n",
    "    \n",
    "plt.title('C v. Z for 1nm thick sample')    \n",
    "plt.ylabel(\"C(m)\")\n",
    "plt.xlabel(\"Z(m)\")\n",
    "plt.legend()\n",
    "plt.savefig(\"C' v. Z for 1nm thick sample 06-28-2021.png\")"
   ]
  },
  {
   "cell_type": "markdown",
   "id": "0981ee97",
   "metadata": {},
   "source": [
    "cut off last experiment because capacitance was off the scale"
   ]
  },
  {
   "cell_type": "code",
   "execution_count": 11,
   "id": "ad6bf37e",
   "metadata": {},
   "outputs": [
    {
     "data": {
      "image/png": "[encoded data removed]",
      "text/plain": [
       "<Figure size 432x288 with 1 Axes>"
      ]
     },
     "metadata": {
      "needs_background": "light"
     },
     "output_type": "display_data"
    }
   ],
   "source": [
    "for key in {key: params for key, params in all_params.items() if params['Thickness_sample'] == 9.98}:\n",
    "    data=all_data[key]\n",
    "    thickness=all_params[key]['Thickness_sample']\n",
    "    rtip= all_params[key]['Rtip']\n",
    "    er=all_params[key]['eps_r']\n",
    "    s=slice(4,-3)\n",
    "    plt.plot(data['z'][s], data['cz'][s], label=f'{rtip} nm, {er}, {thickness} nm' )\n",
    "    \n",
    "plt.title('Cz vs. Z for 1.0nm')    \n",
    "plt.ylabel(\"Cz\")\n",
    "plt.xlabel(\"Z(m)\")\n",
    "plt.legend()\n",
    "plt.savefig(\"Cz v. Z for varying sample thickness, 06-28-2021.png\")"
   ]
  },
  {
   "cell_type": "code",
   "execution_count": 12,
   "id": "8f02b5cc",
   "metadata": {},
   "outputs": [
    {
     "data": {
      "image/png": "[encoded data removed]",
      "text/plain": [
       "<Figure size 432x288 with 1 Axes>"
      ]
     },
     "metadata": {
      "needs_background": "light"
     },
     "output_type": "display_data"
    }
   ],
   "source": [
    "for key in {key: params for key, params in all_params.items() if params['Thickness_sample'] == 9.98}:\n",
    "    data=all_data[key]\n",
    "    thickness=all_params[key]['Thickness_sample']\n",
    "    rtip= all_params[key]['Rtip']\n",
    "    er=all_params[key]['eps_r']\n",
    "    s=slice(5,-5)\n",
    "    plt.plot(data['z'][s], data['czz'][s], label=f'{rtip} nm, {er}, {thickness} nm' )\n",
    "    \n",
    "plt.title('Czz vs. Z for 1.0nm')    \n",
    "plt.ylabel(\"Czz\")\n",
    "plt.xlabel(\"Z(m)\")\n",
    "plt.legend()\n",
    "plt.savefig(\"Czz v. Z for varying sample thickness, 06-28-2021.png\")"
   ]
  },
  {
   "cell_type": "code",
   "execution_count": 13,
   "id": "eed081f0",
   "metadata": {},
   "outputs": [
    {
     "data": {
      "text/plain": [
       "{'n': 750,\n",
       " 'm+': 750,\n",
       " 'm-': 88,\n",
       " 'h0': 0.5,\n",
       " 'rho_max': 1000000.0,\n",
       " 'z_max': 1000000.0,\n",
       " 'min': 100.0,\n",
       " 'max': 249.99,\n",
       " 'istep': 4.0,\n",
       " 'Rtip': 30.0,\n",
       " 'half-angle': 20.0,\n",
       " 'HCone': 11999.99,\n",
       " 'RCantilever': 13750.0,\n",
       " 'thickness_Cantilever': 1000.01,\n",
       " 'eps_r': 60.0,\n",
       " 'Thickness_sample': 9.98,\n",
       " 'Solving Method': 'LAPACK',\n",
       " 'Test': 0,\n",
       " 'Verbosity': 0,\n",
       " 'Nuni': 1,\n",
       " 'Equally spaced': True}"
      ]
     },
     "execution_count": 13,
     "metadata": {},
     "output_type": "execute_result"
    }
   ],
   "source": [
    "params"
   ]
  },
  {
   "cell_type": "code",
   "execution_count": 14,
   "id": "dfdd7fe8",
   "metadata": {},
   "outputs": [
    {
     "data": {
      "image/png": "[encoded data removed]",
      "text/plain": [
       "<Figure size 432x288 with 1 Axes>"
      ]
     },
     "metadata": {
      "needs_background": "light"
     },
     "output_type": "display_data"
    }
   ],
   "source": [
    "for key in {key: params for key, params in all_params.items() if params['Thickness_sample'] == 9.98}:\n",
    "    data=all_data[key]\n",
    "    thickness=all_params[key]['Thickness_sample']\n",
    "    rtip= all_params[key]['Rtip']\n",
    "    er=all_params[key]['eps_r']\n",
    "    s=slice(8,-8)\n",
    "    plt.plot(data['z'][s], data['alpha'][s], label=f'{rtip} nm, {er}, {thickness} nm' )\n",
    "    \n",
    "plt.title('alpha vs. Z for 1.0nm')    \n",
    "plt.ylabel(\"$\\\\alpha$\")\n",
    "plt.xlabel(\"Z(m)\")\n",
    "plt.legend()\n",
    "plt.savefig(\"Alpha v. Z for varying sample thickness, 06-28-2021.png\")"
   ]
  },
  {
   "cell_type": "code",
   "execution_count": 15,
   "id": "09a2ae9a",
   "metadata": {},
   "outputs": [
    {
     "data": {
      "text/plain": [
       "{'z': array([100., 102., 104., 106., 108., 110., 112., 114., 116., 118., 120.,\n",
       "        122., 124., 126., 128., 130., 132., 134., 136., 138., 140., 142.,\n",
       "        144., 146., 148., 150., 152., 154., 156., 158., 160., 162., 164.,\n",
       "        166., 168., 170., 172., 174., 176., 178., 180., 182., 184., 186.,\n",
       "        188., 190., 192., 194., 196., 198., 200., 202., 204., 206., 208.,\n",
       "        210., 212., 214., 216., 218., 220., 222., 224., 226., 228., 230.,\n",
       "        232., 234., 236., 238., 240., 242., 244., 246., 248.]),\n",
       " 'c': array([1.67040975e-15, 1.67018239e-15, 1.66995608e-15, 1.66973079e-15,\n",
       "        1.66950649e-15, 1.66928317e-15, 1.66906080e-15, 1.66883936e-15,\n",
       "        1.66861882e-15, 1.66839917e-15, 1.66818038e-15, 1.66796244e-15,\n",
       "        1.66774532e-15, 1.66752902e-15, 1.66731351e-15, 1.66709878e-15,\n",
       "        1.66688481e-15, 1.66667159e-15, 1.66645910e-15, 1.66624734e-15,\n",
       "        1.66603628e-15, 1.66582591e-15, 1.66561623e-15, 1.66540721e-15,\n",
       "        1.66519886e-15, 1.66499115e-15, 1.66478408e-15, 1.66457763e-15,\n",
       "        1.66437181e-15, 1.66416658e-15, 1.66396196e-15, 1.66375792e-15,\n",
       "        1.66355446e-15, 1.66335157e-15, 1.66314924e-15, 1.66294747e-15,\n",
       "        1.66274624e-15, 1.66254555e-15, 1.66234539e-15, 1.66214576e-15,\n",
       "        1.66194664e-15, 1.66174803e-15, 1.66154992e-15, 1.66135231e-15,\n",
       "        1.66115519e-15, 1.66095855e-15, 1.66076239e-15, 1.66056670e-15,\n",
       "        1.66037147e-15, 1.66017671e-15, 1.65998240e-15, 1.65978854e-15,\n",
       "        1.65959513e-15, 1.65940216e-15, 1.65920961e-15, 1.65901750e-15,\n",
       "        1.65882581e-15, 1.65863455e-15, 1.65844369e-15, 1.65825325e-15,\n",
       "        1.65806322e-15, 1.65787359e-15, 1.65768435e-15, 1.65749551e-15,\n",
       "        1.65730706e-15, 1.65711899e-15, 1.65693131e-15, 1.65674401e-15,\n",
       "        1.65655708e-15, 1.65637052e-15, 1.65618433e-15, 1.65599850e-15,\n",
       "        1.65581303e-15, 1.65562793e-15, 1.65544317e-15]),\n",
       " 'cz': array([-1.13682092e-10, -1.13419427e-10, -1.12900910e-10, -1.12395686e-10,\n",
       "        -1.11903120e-10, -1.11422618e-10, -1.10953624e-10, -1.10495622e-10,\n",
       "        -1.10048125e-10, -1.09610678e-10, -1.09182856e-10, -1.08764256e-10,\n",
       "        -1.08354501e-10, -1.07953237e-10, -1.07560126e-10, -1.07174855e-10,\n",
       "        -1.06797123e-10, -1.06426648e-10, -1.06063164e-10, -1.05706416e-10,\n",
       "        -1.05356166e-10, -1.05012184e-10, -1.04674254e-10, -1.04342172e-10,\n",
       "        -1.04015741e-10, -1.03694775e-10, -1.03379096e-10, -1.03068536e-10,\n",
       "        -1.02762934e-10, -1.02462135e-10, -1.02165992e-10, -1.01874365e-10,\n",
       "        -1.01587119e-10, -1.01304125e-10, -1.01025261e-10, -1.00750408e-10,\n",
       "        -1.00479453e-10, -1.00212288e-10, -9.99488080e-11, -9.96889136e-11,\n",
       "        -9.94325085e-11, -9.91795003e-11, -9.89298004e-11, -9.86833231e-11,\n",
       "        -9.84399865e-11, -9.81997111e-11, -9.79624209e-11, -9.77280423e-11,\n",
       "        -9.74965043e-11, -9.72677388e-11, -9.70416796e-11, -9.68182632e-11,\n",
       "        -9.65974279e-11, -9.63791145e-11, -9.61632656e-11, -9.59498255e-11,\n",
       "        -9.57387407e-11, -9.55299592e-11, -9.53234307e-11, -9.51191066e-11,\n",
       "        -9.49169398e-11, -9.47168846e-11, -9.45188968e-11, -9.43229336e-11,\n",
       "        -9.41289533e-11, -9.39369156e-11, -9.37467814e-11, -9.35585127e-11,\n",
       "        -9.33720727e-11, -9.31874256e-11, -9.30045367e-11, -9.28233720e-11,\n",
       "        -9.26438989e-11, -9.24660855e-11, -9.23775897e-11]),\n",
       " 'czz': array([1.31332312e-04, 1.95295511e-04, 2.55935202e-04, 2.49447377e-04,\n",
       "        2.43267171e-04, 2.37373986e-04, 2.31748974e-04, 2.26374861e-04,\n",
       "        2.21235788e-04, 2.16317173e-04, 2.11605586e-04, 2.07088640e-04,\n",
       "        2.02754895e-04, 1.98593767e-04, 1.94595457e-04, 1.90750874e-04,\n",
       "        1.87051577e-04, 1.83489719e-04, 1.80057997e-04, 1.76749604e-04,\n",
       "        1.73558189e-04, 1.70477822e-04, 1.67502959e-04, 1.64628411e-04,\n",
       "        1.61849318e-04, 1.59161121e-04, 1.56559542e-04, 1.54040563e-04,\n",
       "        1.51600406e-04, 1.49235514e-04, 1.46942539e-04, 1.44718324e-04,\n",
       "        1.42559891e-04, 1.40464428e-04, 1.38429279e-04, 1.36451933e-04,\n",
       "        1.34530013e-04, 1.32661269e-04, 1.30843568e-04, 1.29074891e-04,\n",
       "        1.27353319e-04, 1.25677031e-04, 1.24044298e-04, 1.22453477e-04,\n",
       "        1.20903003e-04, 1.19391389e-04, 1.17917219e-04, 1.16479142e-04,\n",
       "        1.15075872e-04, 1.13706183e-04, 1.12368903e-04, 1.11062915e-04,\n",
       "        1.09787151e-04, 1.08540591e-04, 1.07322259e-04, 1.06131222e-04,\n",
       "        1.04966587e-04, 1.03827499e-04, 1.02713139e-04, 1.01622723e-04,\n",
       "        1.00555497e-04, 9.95107405e-05, 9.84877610e-05, 9.74858944e-05,\n",
       "        9.65045023e-05, 9.55429714e-05, 9.46007130e-05, 9.36771611e-05,\n",
       "        9.27717708e-05, 9.18840186e-05, 9.10134003e-05, 9.01594300e-05,\n",
       "        8.93216410e-05, 6.65773074e-05, 4.42478802e-05]),\n",
       " 'alpha': array([0.11782013, 0.0788767 , 0.05964716, 0.06066021, 0.06166557,\n",
       "        0.06266334, 0.0636536 , 0.06463644, 0.06561192, 0.06658015,\n",
       "        0.0675412 , 0.06849515, 0.0694421 , 0.07038212, 0.07131529,\n",
       "        0.0722417 , 0.07316142, 0.07407455, 0.07498115, 0.0758813 ,\n",
       "        0.07677509, 0.07766259, 0.07854387, 0.07941902, 0.08028809,\n",
       "        0.08115118, 0.08200834, 0.08285964, 0.08370517, 0.08454498,\n",
       "        0.08537914, 0.08620772, 0.08703079, 0.0878484 , 0.08866062,\n",
       "        0.08946752, 0.09026915, 0.09106558, 0.09185686, 0.09264305,\n",
       "        0.09342421, 0.0942004 , 0.09497167, 0.09573807, 0.09649966,\n",
       "        0.0972565 , 0.09800862, 0.09875609, 0.09949896, 0.10023727,\n",
       "        0.10097107, 0.10170042, 0.10242535, 0.10314591, 0.10386216,\n",
       "        0.10457413, 0.10528186, 0.10598541, 0.10668481, 0.10738011,\n",
       "        0.10807134, 0.10875856, 0.10944179, 0.11012108, 0.11079646,\n",
       "        0.11146798, 0.11213568, 0.11279958, 0.11345973, 0.11411616,\n",
       "        0.11476891, 0.11541801, 0.1160635 , 0.15513364, 0.23300031])}"
      ]
     },
     "execution_count": 15,
     "metadata": {},
     "output_type": "execute_result"
    }
   ],
   "source": [
    "data"
   ]
  },
  {
   "cell_type": "code",
   "execution_count": 16,
   "id": "77a6dac6",
   "metadata": {},
   "outputs": [],
   "source": [
    "from scipy.optimize import curve_fit\n"
   ]
  },
  {
   "cell_type": "code",
   "execution_count": 17,
   "id": "49b30168",
   "metadata": {},
   "outputs": [],
   "source": [
    "def Cz_model(z, a, n, b,):\n",
    "    return(a*z**n + b)"
   ]
  },
  {
   "cell_type": "code",
   "execution_count": 18,
   "id": "87212141",
   "metadata": {},
   "outputs": [
    {
     "data": {
      "text/plain": [
       "dict_keys(['0376-NewTirmzi_variedepsr_75075090-0000\\\\', '0378-NewTirmzi_variedepsr_75075090-0002\\\\', '0390-NewTirmzi_variedepsr_75075090-0001\\\\'])"
      ]
     },
     "execution_count": 18,
     "metadata": {},
     "output_type": "execute_result"
    }
   ],
   "source": [
    "all_data.keys()"
   ]
  },
  {
   "cell_type": "code",
   "execution_count": 19,
   "id": "74215bd0",
   "metadata": {},
   "outputs": [
    {
     "ename": "KeyError",
     "evalue": "'capsol-calc\\\\0001-capsol\\\\'",
     "output_type": "error",
     "traceback": [
      "\u001b[1;31m---------------------------------------------------------------------------\u001b[0m",
      "\u001b[1;31mKeyError\u001b[0m                                  Traceback (most recent call last)",
      "\u001b[1;32m<ipython-input-19-23a180486cb5>\u001b[0m in \u001b[0;36m<module>\u001b[1;34m\u001b[0m\n\u001b[1;32m----> 1\u001b[1;33m \u001b[0mdata\u001b[0m\u001b[1;33m=\u001b[0m \u001b[0mall_data\u001b[0m\u001b[1;33m[\u001b[0m\u001b[1;34m'capsol-calc\\\\0001-capsol\\\\'\u001b[0m\u001b[1;33m]\u001b[0m\u001b[1;33m\u001b[0m\u001b[1;33m\u001b[0m\u001b[0m\n\u001b[0m\u001b[0;32m      2\u001b[0m \u001b[0mz\u001b[0m\u001b[1;33m=\u001b[0m \u001b[0mdata\u001b[0m\u001b[1;33m[\u001b[0m\u001b[1;34m'z'\u001b[0m\u001b[1;33m]\u001b[0m\u001b[1;33m[\u001b[0m\u001b[1;36m1\u001b[0m\u001b[1;33m:\u001b[0m\u001b[1;33m-\u001b[0m\u001b[1;36m1\u001b[0m\u001b[1;33m]\u001b[0m\u001b[1;33m\u001b[0m\u001b[1;33m\u001b[0m\u001b[0m\n\u001b[0;32m      3\u001b[0m \u001b[0mcz\u001b[0m\u001b[1;33m=\u001b[0m \u001b[0mdata\u001b[0m\u001b[1;33m[\u001b[0m\u001b[1;34m'cz'\u001b[0m\u001b[1;33m]\u001b[0m\u001b[1;33m[\u001b[0m\u001b[1;36m1\u001b[0m\u001b[1;33m:\u001b[0m\u001b[1;33m-\u001b[0m\u001b[1;36m1\u001b[0m\u001b[1;33m]\u001b[0m\u001b[1;33m\u001b[0m\u001b[1;33m\u001b[0m\u001b[0m\n",
      "\u001b[1;31mKeyError\u001b[0m: 'capsol-calc\\\\0001-capsol\\\\'"
     ]
    }
   ],
   "source": [
    "data= all_data['capsol-calc\\\\0001-capsol\\\\']\n",
    "z= data['z'][1:-1]\n",
    "cz= data['cz'][1:-1]"
   ]
  },
  {
   "cell_type": "code",
   "execution_count": null,
   "id": "8ff0827e",
   "metadata": {},
   "outputs": [],
   "source": [
    "popt, pcov= curve_fit(Cz_model, z, cz, p0=[cz[0]*z[0], -1, 0])\n",
    "a=popt[0]\n",
    "n=popt[1]\n",
    "b=popt[2]\n",
    "std_devs= np.sqrt(pcov.diagonal())\n",
    "sigma_a = std_devs[0]\n",
    "sigma_n = std_devs[1]\n",
    "model_output= Cz_model(z, a, n, b)\n",
    "rmse= np.sqrt(np.mean((cz - model_output)**2))\n"
   ]
  },
  {
   "cell_type": "code",
   "execution_count": null,
   "id": "42e9d139",
   "metadata": {},
   "outputs": [],
   "source": [
    "f\"a= {a} ± {sigma_a}\""
   ]
  },
  {
   "cell_type": "code",
   "execution_count": null,
   "id": "05e99973",
   "metadata": {},
   "outputs": [],
   "source": [
    "f\"n= {n}± {sigma_n}\""
   ]
  },
  {
   "cell_type": "code",
   "execution_count": null,
   "id": "e495fee8",
   "metadata": {},
   "outputs": [],
   "source": [
    "model_output"
   ]
  },
  {
   "cell_type": "code",
   "execution_count": null,
   "id": "dbd0d394",
   "metadata": {},
   "outputs": [],
   "source": [
    "\"Root Mean Square Error\""
   ]
  },
  {
   "cell_type": "code",
   "execution_count": null,
   "id": "b351ff7e",
   "metadata": {},
   "outputs": [],
   "source": [
    "rmse/np.mean(-cz)"
   ]
  },
  {
   "cell_type": "code",
   "execution_count": null,
   "id": "86949536",
   "metadata": {},
   "outputs": [],
   "source": []
  }
 ],
 "metadata": {
  "kernelspec": {
   "display_name": "Python 3",
   "language": "python",
   "name": "python3"
  },
  "language_info": {
   "codemirror_mode": {
    "name": "ipython",
    "version": 3
   },
   "file_extension": ".py",
   "mimetype": "text/x-python",
   "name": "python",
   "nbconvert_exporter": "python",
   "pygments_lexer": "ipython3",
   "version": "3.8.8"
  }
 },
 "nbformat": 4,
 "nbformat_minor": 5
}
