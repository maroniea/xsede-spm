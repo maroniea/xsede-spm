{
 "cells": [
  {
   "cell_type": "markdown",
   "id": "7909fa0a",
   "metadata": {},
   "source": [
    "##Tirmzi Analysis\n",
    "n=1000 m+=1000 nm-=120 istep= 4 min=150 max=700"
   ]
  },
  {
   "cell_type": "code",
   "execution_count": 1,
   "id": "63afb62c",
   "metadata": {},
   "outputs": [],
   "source": [
    "import sys\n",
    "sys.path\n",
    "import matplotlib.pyplot as plt\n",
    "import numpy as np\n",
    "import os\n",
    "from scipy import signal"
   ]
  },
  {
   "cell_type": "code",
   "execution_count": 2,
   "id": "8bec0f1d",
   "metadata": {
    "scrolled": true
   },
   "outputs": [
    {
     "name": "stdout",
     "output_type": "stream",
     "text": [
      " Volume in drive C is Local Disk\n",
      " Volume Serial Number is AA1B-997A\n",
      "\n",
      " Directory of C:\\Users\\emaro\\OneDrive - University of Mount Union\\XSEDE Summer 2021\\xsede-spm\\data\n",
      "\n",
      "08/03/2021  01:17 PM    <DIR>          .\n",
      "08/03/2021  01:17 PM    <DIR>          ..\n",
      "08/03/2021  01:17 PM    <DIR>          .ipynb_checkpoints\n",
      "08/02/2021  02:01 PM    <DIR>          0309-VariedNuni_8_2_2021-0000\n",
      "08/02/2021  02:15 PM    <DIR>          8_2_2021\n",
      "08/02/2021  02:18 PM           152,527 8_2_2021_FortranVariedNuni.ipynb\n",
      "08/02/2021  03:39 PM           161,361 8_2_2021_FortranVariedNuni-Copy1.ipynb\n",
      "08/03/2021  01:17 PM           130,779 8_2_2021_PythonVariedNuni.ipynb\n",
      "08/02/2021  02:58 PM           130,726 8_2_2021_PythonVariedNuni-Copy1.ipynb\n",
      "08/03/2021  01:17 PM           130,779 8_2_2021_PythonVariedNuni-Copy2.ipynb\n",
      "08/02/2021  02:52 PM    <DIR>          8_2_2021P\n",
      "08/03/2021  01:17 PM            18,317 Alpha v. Z for varying sample thickness, 06-28-2021.png\n",
      "08/03/2021  01:17 PM            19,644 C' v. Z for 1nm thick sample 06-28-2021.png\n",
      "08/02/2021  02:15 PM             6,179 C' v. Z for varying sample thickness, 06-28-2021.png\n",
      "08/03/2021  01:17 PM            20,207 Cz v. Z for varying sample thickness, 06-28-2021.png\n",
      "08/03/2021  01:17 PM            15,373 Czz v. Z for varying sample thickness, 06-28-2021.png\n",
      "08/02/2021  03:35 PM    <DIR>          erequals1_F\n",
      "08/03/2021  01:05 PM    <DIR>          erequals1_P\n",
      "08/02/2021  03:35 PM    <DIR>          FortranOutputTest\n",
      "08/03/2021  01:14 PM    <DIR>          m_minue_P\n",
      "08/03/2021  01:16 PM    <DIR>          m_minus_F\n",
      "08/03/2021  01:05 PM    <DIR>          PythonOutputTest\n",
      "08/03/2021  01:13 PM    <DIR>          SphereTest_F\n",
      "08/03/2021  01:13 PM    <DIR>          SphereTest_P\n",
      "07/28/2021  11:49 AM            57,907 Tirmzi_istep4.ipynb\n",
      "07/28/2021  11:43 AM           113,265 Tirmzi_istep4-Copy2.ipynb\n",
      "              12 File(s)        957,064 bytes\n",
      "              14 Dir(s)  153,561,423,872 bytes free\n"
     ]
    }
   ],
   "source": [
    "ls"
   ]
  },
  {
   "cell_type": "code",
   "execution_count": 3,
   "id": "b2bdd91e",
   "metadata": {},
   "outputs": [],
   "source": [
    "import capsol.newanalyzecapsol as ac"
   ]
  },
  {
   "cell_type": "code",
   "execution_count": 4,
   "id": "74d01467",
   "metadata": {},
   "outputs": [
    {
     "data": {
      "text/plain": [
       "<function capsol.newanalyzecapsol.get_gridparameters(f_name)>"
      ]
     },
     "execution_count": 4,
     "metadata": {},
     "output_type": "execute_result"
    }
   ],
   "source": [
    "ac.get_gridparameters"
   ]
  },
  {
   "cell_type": "code",
   "execution_count": 5,
   "id": "234f74d8",
   "metadata": {},
   "outputs": [],
   "source": [
    "import glob"
   ]
  },
  {
   "cell_type": "code",
   "execution_count": 6,
   "id": "5766fac7",
   "metadata": {},
   "outputs": [
    {
     "data": {
      "text/plain": [
       "['SphereTest_F\\\\0321-Spheretest-0000\\\\',\n",
       " 'SphereTest_F\\\\0323-Spheretest-0002\\\\',\n",
       " 'SphereTest_F\\\\0325-Spheretest-0001\\\\']"
      ]
     },
     "execution_count": 6,
     "metadata": {},
     "output_type": "execute_result"
    }
   ],
   "source": [
    "folders = glob.glob(\"SphereTest_F/*/\")\n",
    "folders\n"
   ]
  },
  {
   "cell_type": "code",
   "execution_count": 7,
   "id": "0f240774",
   "metadata": {
    "scrolled": false
   },
   "outputs": [],
   "source": [
    "all_data= dict() \n",
    "for folder in folders:\n",
    "    params = ac.get_gridparameters(folder + 'capsol.in')\n",
    "    data = ac.np.loadtxt(folder + 'Z-U.dat')\n",
    "    process_data = ac.process_data(params, data, smoothing=False, std=5*10**-9, fortran=True)\n",
    "    all_data[folder]= (process_data)\n",
    "all_params= dict()\n",
    "for folder in folders:\n",
    "    params=ac.get_gridparameters(folder + 'capsol.in')\n",
    "    all_params[folder]= (params)"
   ]
  },
  {
   "cell_type": "code",
   "execution_count": 8,
   "id": "a27efec2",
   "metadata": {},
   "outputs": [
    {
     "data": {
      "text/plain": [
       "{'SphereTest_F\\\\0321-Spheretest-0000\\\\': {'z': array([150.    , 152.0001, 153.9999, 156.    , 158.0001, 159.9999,\n",
       "         162.    , 164.0001, 165.9999, 168.    , 170.0001, 171.9999,\n",
       "         174.    , 176.0001, 177.9999, 180.    , 182.0001, 183.9999,\n",
       "         186.    , 188.0001, 189.9999, 192.    , 194.0001, 195.9999,\n",
       "         198.    , 200.0001, 201.9999, 204.    , 206.0001, 207.9999,\n",
       "         210.    , 212.0001, 213.9999, 216.    , 218.0001, 219.9999,\n",
       "         222.    , 224.0001, 225.9999, 228.    , 230.0001, 231.9999,\n",
       "         234.    , 236.0001, 237.9999, 240.    , 242.0001, 243.9999,\n",
       "         246.    , 248.0001, 249.9999]),\n",
       "  'c': array([3.64551518e-18, 1.93928571e+04, 3.63837946e-18, 1.97890509e+04,\n",
       "         1.98450714e+04, 1.97198024e+04, 1.96106471e+04, 1.90482002e+04,\n",
       "         1.61255038e+04, 1.90018229e+04, 1.94867350e+04, 2.00633236e+04,\n",
       "         1.95671395e+04, 1.95248636e+04, 1.93516702e+04, 1.93104457e+04,\n",
       "         1.88437860e+04, 1.91339378e+04, 3.59148635e-18, 1.85701149e+04,\n",
       "         1.84159833e+04, 1.87442104e+04, 1.89664789e+04, 1.85902615e+04,\n",
       "         1.85990527e+04, 1.73254339e+04, 1.79724468e+04, 1.83086054e+04,\n",
       "         1.88169661e+04, 1.85091602e+04, 1.89272739e+04, 1.87053174e+04,\n",
       "         1.76948946e+04, 1.82589119e+04, 1.91629941e+04, 3.55561307e-18,\n",
       "         1.80305033e+04, 1.80174030e+04, 1.86715789e+04, 1.82631393e+04,\n",
       "         1.86508699e+04, 1.79383512e+04, 1.81062448e+04, 1.79209616e+04,\n",
       "         1.81680039e+04, 1.81050257e+04, 1.78831285e+04, 1.76501470e+04,\n",
       "         1.69465112e+04, 1.48178186e+04, 1.79316721e+04]),\n",
       "  'cz': array([ 9.69594377e+12, -1.78384043e-12,  9.90434886e+10,  4.96101979e+12,\n",
       "         -1.73112544e+10, -5.86031385e+10, -1.67892153e+11, -8.71242253e+11,\n",
       "         -1.15937529e+10,  8.40265778e+11,  2.65361910e+11,  2.01001218e+10,\n",
       "         -1.34608275e+11, -5.38646298e+10, -5.36017849e+10, -1.26964705e+11,\n",
       "         -4.41247676e+10, -4.71071096e+12, -1.40948677e+11,  4.60376565e+12,\n",
       "          4.35216846e+10,  1.37617015e+11, -3.84852851e+10, -9.18519699e+10,\n",
       "         -3.16191099e+11, -1.56643645e+11,  2.45780594e+11,  2.11119284e+11,\n",
       "          5.01361963e+10,  2.75755547e+10,  4.90368373e+10, -3.08079415e+11,\n",
       "         -1.11595791e+11,  3.67006520e+11, -4.56449975e+12, -2.83108527e+11,\n",
       "          4.50412554e+12,  1.60260890e+11,  6.14310154e+10, -5.17700066e+09,\n",
       "         -8.11929851e+10, -1.36149464e+11, -4.34716189e+09,  1.54390063e+10,\n",
       "          4.60137042e+10, -7.12153109e+10, -1.13713987e+11, -2.34142616e+11,\n",
       "         -7.08046679e+11,  2.46277913e+11,  1.55684887e+12]),\n",
       "  'czz': array([-4.84772950e+21, -2.39910511e+21,  1.24019294e+21, -2.90872314e+19,\n",
       "         -1.25484299e+21, -3.76433424e+19, -2.03149621e+20,  3.90726463e+19,\n",
       "          4.27855615e+20,  6.92354539e+19, -2.05031163e+20, -9.99875470e+19,\n",
       "         -1.84902634e+19,  2.02506101e+19, -1.82741051e+19,  2.36913588e+18,\n",
       "         -1.14587927e+21, -2.42047672e+19,  2.32850273e+21,  4.61152847e+19,\n",
       "         -1.11648133e+21, -2.05007174e+19, -5.73643779e+19, -6.94229823e+19,\n",
       "         -1.61971088e+19,  1.40485899e+20,  9.19361354e+19, -4.89086540e+19,\n",
       "         -4.58836382e+19, -2.74826020e+17, -8.39095468e+19, -4.01561492e+19,\n",
       "          1.68763045e+20, -1.11317033e+21, -1.62520636e+20,  2.26704297e+21,\n",
       "          1.10836813e+20, -1.11061810e+21, -4.13574049e+19, -3.56542174e+19,\n",
       "         -3.27414788e+19,  1.92104953e+19,  3.78952228e+19,  1.25895870e+19,\n",
       "         -2.16624962e+19, -3.99299262e+19, -4.07297899e+19, -1.48575744e+20,\n",
       "          1.20099127e+20,  5.66195577e+20,  6.55252714e+20]),\n",
       "  'alpha': array([-1.06392958e+22, -1.36788922e-49,  4.34795068e+18, -8.55154456e+01,\n",
       "         -2.40682779e-05, -9.25296689e-03, -1.41508605e-02,  2.03976944e+00,\n",
       "          3.89643600e-05,  1.07334550e+00, -3.52491145e-02, -4.02789907e-04,\n",
       "         -1.00162021e-01,  1.46761193e-02, -1.62492727e-02,  7.04715370e-01,\n",
       "         -1.80338242e-04, -9.58291514e+01,  4.75117509e+18,  4.94990570e+01,\n",
       "         -1.84244703e-04, -9.85684781e-02, -2.72264120e-03, -1.30742920e-02,\n",
       "         -6.63744525e-01,  2.01622362e-02,  7.31192494e-02, -9.95508172e-02,\n",
       "         -5.82271201e-03, -2.98974360e-01, -3.02813657e-03, -2.52719186e-01,\n",
       "          8.34065756e-03, -1.32538191e-02, -1.33796420e+01,  1.98866509e+19,\n",
       "          2.03029475e+01, -2.56701354e-03, -9.77397126e-03, -8.23190017e-05,\n",
       "         -2.15908445e-02,  1.07582290e-01,  5.50844187e-05,  2.11298244e-03,\n",
       "         -1.07594154e-02, -1.40306920e-02, -3.55060288e-02, -4.18113980e-02,\n",
       "          4.92644482e-01,  1.44587310e-02,  4.12565862e-01])},\n",
       " 'SphereTest_F\\\\0323-Spheretest-0002\\\\': {'z': array([150.    , 152.0001, 153.9999, 156.    , 158.0001, 159.9999,\n",
       "         162.    , 164.0001, 165.9999, 168.    , 170.0001, 171.9999,\n",
       "         174.    , 176.0001, 177.9999, 180.    , 182.0001, 183.9999,\n",
       "         186.    , 188.0001, 189.9999, 192.    , 194.0001, 195.9999,\n",
       "         198.    , 200.0001, 201.9999, 204.    , 206.0001, 207.9999,\n",
       "         210.    , 212.0001, 213.9999, 216.    , 218.0001, 219.9999,\n",
       "         222.    , 224.0001, 225.9999, 228.    , 230.0001, 231.9999,\n",
       "         234.    , 236.0001, 237.9999, 240.    , 242.0001, 243.9999,\n",
       "         246.    , 248.0001, 249.9999]),\n",
       "  'c': array([3.64167236e-18, 2.16327886e+04, 3.63455667e-18, 2.21614929e+04,\n",
       "         2.22697244e+04, 2.24232502e+04, 2.29200026e+04, 2.30653731e+04,\n",
       "         1.75862483e+04, 2.01031554e+04, 2.13122971e+04, 2.22580619e+04,\n",
       "         2.18918423e+04, 2.20180650e+04, 2.18584101e+04, 2.18737852e+04,\n",
       "         2.13834916e+04, 2.18618815e+04, 3.58779265e-18, 2.09795732e+04,\n",
       "         2.09737402e+04, 2.14182514e+04, 2.17895213e+04, 2.14300425e+04,\n",
       "         2.15699856e+04, 1.88043873e+04, 2.00274481e+04, 2.05418770e+04,\n",
       "         2.12382989e+04, 2.09131093e+04, 2.15062379e+04, 2.12620062e+04,\n",
       "         1.95007232e+04, 2.04482971e+04, 2.18192334e+04, 3.55201434e-18,\n",
       "         2.00715957e+04, 2.02402537e+04, 2.08711797e+04, 2.05161061e+04,\n",
       "         2.07739982e+04, 2.01607421e+04, 2.03944688e+04, 2.03388464e+04,\n",
       "         2.07303020e+04, 2.09140431e+04, 2.11018647e+04, 2.15139493e+04,\n",
       "         2.16533842e+04, 2.05055417e+04, 2.08840339e+04]),\n",
       "  'cz': array([ 1.08158535e+13, -1.77883386e-12,  1.32169451e+11,  5.56715275e+12,\n",
       "          6.54360617e+10,  1.62561409e+11,  1.60522692e+11, -1.33337191e+12,\n",
       "         -7.40517407e+11,  9.31465643e+11,  5.38699701e+11,  1.44879042e+11,\n",
       "         -5.99962162e+10, -8.35763204e+09, -3.60681555e+10, -1.18723684e+11,\n",
       "         -2.97577928e+09, -5.34560562e+12, -2.20566054e+11,  5.24317289e+12,\n",
       "          1.09664090e+11,  2.03935067e+11,  2.94761733e+09, -5.48811718e+10,\n",
       "         -6.56380976e+11, -3.85615101e+11,  4.34350710e+11,  3.02697562e+11,\n",
       "          9.28034266e+10,  6.69814226e+10,  8.72198508e+10, -5.01353619e+11,\n",
       "         -2.03417096e+11,  5.79598570e+11, -5.11181868e+12, -4.36887580e+11,\n",
       "          5.05981044e+12,  1.99886004e+11,  6.89596431e+10, -2.42941661e+10,\n",
       "         -8.88365553e+10, -9.48776063e+10,  4.45238328e+10,  8.39541078e+10,\n",
       "          1.43791991e+11,  9.28860349e+10,  1.49969054e+11,  1.37872975e+11,\n",
       "         -2.52089288e+11, -1.92327963e+11,  1.89236615e+11]),\n",
       "  'czz': array([-5.40765638e+21, -2.67078748e+21,  1.39171860e+21, -1.66825131e+19,\n",
       "         -1.35108028e+21,  2.37704691e+19, -3.73964631e+20, -2.25248762e+20,\n",
       "          5.66181079e+20,  3.19788288e+20, -1.96636818e+20, -1.49666496e+20,\n",
       "         -3.83072533e+19,  5.98171610e+18, -2.75901336e+19,  8.27268041e+18,\n",
       "         -1.30665515e+21, -5.43948488e+19,  2.64706228e+21,  8.25534082e+19,\n",
       "         -1.25974647e+21, -2.66777842e+19, -6.47008246e+19, -1.64823907e+20,\n",
       "         -8.26793484e+19,  2.72669288e+20,  1.72069562e+20, -8.53825517e+19,\n",
       "         -5.89260885e+19, -1.39582415e+18, -1.42076657e+20, -7.26556038e+19,\n",
       "          2.70224536e+20, -1.22703904e+21, -2.54108832e+20,  2.54278014e+21,\n",
       "          1.59185437e+20, -1.24765032e+21, -5.60422405e+19, -3.94470772e+19,\n",
       "         -1.76449778e+19,  3.33384301e+19,  4.47056932e+19,  2.48157988e+19,\n",
       "          2.23287016e+18,  1.54418848e+18,  1.12461728e+19, -1.00509560e+20,\n",
       "         -8.25461073e+19,  1.10325959e+20,  1.90772751e+20]),\n",
       "  'alpha': array([-1.18806891e+22, -1.09533997e-49,  6.90699732e+18, -1.67662441e+02,\n",
       "         -2.84621893e-04,  9.91581895e-02, -6.01253577e-03, -6.84399529e-01,\n",
       "          1.10146826e-01,  2.69921137e-01, -1.38493173e-01, -1.26017016e-02,\n",
       "         -8.58448794e-03,  1.06069749e-03, -4.31425179e-03,  1.55788192e-01,\n",
       "         -6.33857774e-07, -4.80594190e+01,  1.02450916e+19,  3.17458309e+01,\n",
       "         -9.10332059e-04, -1.45572737e-01, -1.23257880e-05, -1.70542847e-03,\n",
       "         -4.83164554e-01,  5.80019573e-02,  1.09491750e-01, -1.04481304e-01,\n",
       "         -1.37635568e-02, -3.07389773e-01, -4.97935969e-03, -3.25420530e-01,\n",
       "          1.57046910e-02, -2.67774414e-02, -9.42587398e+00,  4.22654864e+19,\n",
       "          1.60255615e+01, -3.16436035e-03, -8.13125383e-03, -1.45855974e-03,\n",
       "         -4.30598200e-02,  2.67858711e-02,  4.34850377e-03,  2.79292531e-02,\n",
       "          8.93367797e-01,  5.34309060e-01,  1.89542984e-01, -1.75816965e-02,\n",
       "         -7.11076619e-02,  3.27013664e-02,  1.79766850e-02])},\n",
       " 'SphereTest_F\\\\0325-Spheretest-0001\\\\': {'z': array([150.    , 152.0001, 153.9999, 156.    , 158.0001, 159.9999,\n",
       "         162.    , 164.0001, 165.9999, 168.    , 170.0001, 171.9999,\n",
       "         174.    , 176.0001, 177.9999, 180.    , 182.0001, 183.9999,\n",
       "         186.    , 188.0001, 189.9999, 192.    , 194.0001, 195.9999,\n",
       "         198.    , 200.0001, 201.9999, 204.    , 206.0001, 207.9999,\n",
       "         210.    , 212.0001, 213.9999, 216.    , 218.0001, 219.9999,\n",
       "         222.    , 224.0001, 225.9999, 228.    , 230.0001, 231.9999,\n",
       "         234.    , 236.0001, 237.9999, 240.    , 242.0001, 243.9999,\n",
       "         246.    , 248.0001, 249.9999]),\n",
       "  'c': array([3.65021900e-18, 1.99705139e+04, 3.64306810e-18, 2.03939547e+04,\n",
       "         2.04571408e+04, 2.03683858e+04, 2.03221378e+04, 1.99119049e+04,\n",
       "         1.71591132e+04, 1.92900129e+04, 1.99523399e+04, 2.06308107e+04,\n",
       "         2.01724731e+04, 2.01400665e+04, 1.99894663e+04, 1.99509230e+04,\n",
       "         1.94513359e+04, 1.97783430e+04, 3.59607359e-18, 1.91473786e+04,\n",
       "         1.90131800e+04, 1.93757780e+04, 1.96142595e+04, 1.92586126e+04,\n",
       "         1.93569324e+04, 1.78027223e+04, 1.84663611e+04, 1.88417440e+04,\n",
       "         1.94097535e+04, 1.91020219e+04, 1.95313099e+04, 1.93428749e+04,\n",
       "         1.82522337e+04, 1.87965033e+04, 1.98504170e+04, 3.56012071e-18,\n",
       "         1.85782201e+04, 1.85639140e+04, 1.92827313e+04, 1.88143217e+04,\n",
       "         1.92890599e+04, 1.85099680e+04, 1.86866036e+04, 1.85408659e+04,\n",
       "         1.87908372e+04, 1.87671725e+04, 1.85836659e+04, 1.84346037e+04,\n",
       "         1.78985228e+04, 1.61900375e+04, 1.86453340e+04]),\n",
       "  'cz': array([ 9.98475770e+12, -1.78763708e-12,  1.05854925e+11,  5.11402950e+12,\n",
       "         -6.39192800e+09, -3.37490711e+10, -1.14114512e+11, -7.90716602e+11,\n",
       "         -1.55465223e+11,  6.98271771e+11,  3.35182683e+11,  5.50305345e+10,\n",
       "         -1.22679917e+11, -4.57493991e+10, -4.72834952e+10, -1.34525876e+11,\n",
       "         -4.31428543e+10, -4.86259086e+12, -1.57733199e+11,  4.75305735e+12,\n",
       "          5.70969957e+10,  1.50262355e+11, -2.92898872e+10, -6.43285670e+10,\n",
       "         -3.63954390e+11, -2.22631680e+11,  2.59742454e+11,  2.35836297e+11,\n",
       "          6.50662015e+10,  3.03875774e+10,  6.02102470e+10, -3.19753064e+11,\n",
       "         -1.36586079e+11,  3.99525852e+11, -4.69889087e+12, -3.18033308e+11,\n",
       "          4.64074646e+12,  1.76118988e+11,  6.25987975e+10,  1.58207571e+09,\n",
       "         -7.60846162e+10, -1.50606557e+11,  7.72409249e+09,  2.60571041e+10,\n",
       "          5.65738093e+10, -5.17902415e+10, -8.31380371e+10, -1.71277219e+11,\n",
       "         -5.61113483e+11,  1.86693487e+11,  1.22758687e+12]),\n",
       "  'czz': array([-4.99212924e+21, -2.46960221e+21,  1.27844345e+21, -2.80603103e+19,\n",
       "         -1.28688030e+21, -2.69292996e+19, -1.89232421e+20, -1.03371610e+19,\n",
       "          3.72228482e+20,  1.22655844e+20, -1.60802269e+20, -1.14459927e+20,\n",
       "         -2.51937237e+19,  1.88481630e+19, -2.21930095e+19,  1.03510848e+18,\n",
       "         -1.18195715e+21, -2.86461539e+19,  2.40379186e+21,  5.37048634e+19,\n",
       "         -1.15064122e+21, -2.15956410e+19, -5.36450484e+19, -8.36619427e+19,\n",
       "         -3.95737997e+19,  1.55916415e+20,  1.14611264e+20, -4.86666298e+19,\n",
       "         -5.13596119e+19, -1.21392791e+18, -8.75307838e+19, -4.91966216e+19,\n",
       "          1.79810739e+20, -1.14051917e+21, -1.79380821e+20,  2.33479259e+21,\n",
       "          1.23531897e+20, -1.14447969e+21, -4.36320465e+19, -3.46691200e+19,\n",
       "         -3.80452559e+19,  2.09511296e+19,  4.41637071e+19,  1.22118186e+19,\n",
       "         -1.94608633e+19, -3.49262153e+19, -2.98702509e+19, -1.19487887e+20,\n",
       "          8.94882021e+19,  4.47152730e+20,  5.20420669e+20]),\n",
       "  'alpha': array([-1.09420908e+22, -1.29590289e-49,  4.81175298e+18, -9.14034382e+01,\n",
       "         -3.10392099e-06, -4.15309604e-03, -6.77246570e-03, -6.07515864e+00,\n",
       "          7.56819068e-03,  4.12152752e-01, -7.00337099e-02, -2.56488383e-03,\n",
       "         -5.92277772e-02,  1.10273423e-02, -1.00793318e-02,  1.75264029e+00,\n",
       "         -1.61918540e-04, -8.34659286e+01,  5.75639765e+18,  4.39393030e+01,\n",
       "         -2.98031263e-04, -1.07920794e-01, -1.63066157e-03, -5.13670716e-03,\n",
       "         -3.45843515e-01,  3.57129451e-02,  6.37539721e-02, -1.21310647e-01,\n",
       "         -8.49374367e-03, -7.96434229e-02, -4.24110111e-03, -2.14883526e-01,\n",
       "          1.13687109e-02, -1.48915572e-02, -1.24015244e+01,  2.43367274e+19,\n",
       "          1.87681931e+01, -2.91987810e-03, -9.31510691e-03, -7.67455390e-06,\n",
       "         -1.57765534e-02,  1.16978122e-01,  1.44586929e-04,  5.99752316e-03,\n",
       "         -1.75046167e-02, -8.18418609e-03, -2.49034358e-02, -2.66361538e-02,\n",
       "          3.93141087e-01,  9.62907542e-03,  3.10605941e-01])}}"
      ]
     },
     "execution_count": 8,
     "metadata": {},
     "output_type": "execute_result"
    }
   ],
   "source": [
    "all_data"
   ]
  },
  {
   "cell_type": "code",
   "execution_count": 9,
   "id": "bdf1f5d3",
   "metadata": {
    "scrolled": true
   },
   "outputs": [
    {
     "data": {
      "text/plain": [
       "dict_keys(['SphereTest_F\\\\0321-Spheretest-0000\\\\', 'SphereTest_F\\\\0323-Spheretest-0002\\\\', 'SphereTest_F\\\\0325-Spheretest-0001\\\\'])"
      ]
     },
     "execution_count": 9,
     "metadata": {},
     "output_type": "execute_result"
    }
   ],
   "source": [
    "all_data.keys()"
   ]
  },
  {
   "cell_type": "code",
   "execution_count": null,
   "id": "59fe3797",
   "metadata": {},
   "outputs": [],
   "source": []
  },
  {
   "cell_type": "code",
   "execution_count": 10,
   "id": "c6cac644",
   "metadata": {
    "scrolled": true
   },
   "outputs": [
    {
     "data": {
      "image/png": "[encoded data removed]",
      "text/plain": [
       "<Figure size 432x288 with 1 Axes>"
      ]
     },
     "metadata": {
      "needs_background": "light"
     },
     "output_type": "display_data"
    }
   ],
   "source": [
    "for key in {key: params for key, params in all_params.items() if params['Thickness_sample'] == 1.0}:\n",
    "    data=all_data[key]\n",
    "    thickness =all_params[key]['Thickness_sample']\n",
    "    rtip= all_params[key]['Rtip']\n",
    "    er=all_params[key]['eps_r']\n",
    "    Nuni=all_params[key]['Nuni']\n",
    "    plt.plot(data['z'], data['c'], label= f'{rtip} nm, {er}, {thickness} nm,  {Nuni}')\n",
    "    \n",
    "    \n",
    "plt.title('C v. Z for 1nm thick sample')    \n",
    "plt.ylabel(\"C(m)\")\n",
    "plt.xlabel(\"Z(m)\")\n",
    "plt.legend()\n",
    "plt.savefig(\"C' v. Z for 1nm thick sample 06-28-2021.png\")"
   ]
  },
  {
   "cell_type": "markdown",
   "id": "0981ee97",
   "metadata": {},
   "source": [
    "cut off last experiment because capacitance was off the scale"
   ]
  },
  {
   "cell_type": "code",
   "execution_count": 11,
   "id": "ad6bf37e",
   "metadata": {},
   "outputs": [
    {
     "data": {
      "image/png": "[encoded data removed]",
      "text/plain": [
       "<Figure size 432x288 with 1 Axes>"
      ]
     },
     "metadata": {
      "needs_background": "light"
     },
     "output_type": "display_data"
    }
   ],
   "source": [
    "for key in {key: params for key, params in all_params.items() if params['Thickness_sample'] == 1.0}:\n",
    "    data=all_data[key]\n",
    "    thickness=all_params[key]['Thickness_sample']\n",
    "    rtip= all_params[key]['Rtip']\n",
    "    er=all_params[key]['eps_r']\n",
    "    s=slice(4,-3)\n",
    "    plt.plot(data['z'][s], data['cz'][s], label=f'{rtip} nm, {er}, {thickness} nm' )\n",
    "    \n",
    "plt.title('Cz vs. Z for 1.0nm')    \n",
    "plt.ylabel(\"Cz\")\n",
    "plt.xlabel(\"Z(m)\")\n",
    "plt.legend()\n",
    "plt.savefig(\"Cz v. Z for varying sample thickness, 06-28-2021.png\")"
   ]
  },
  {
   "cell_type": "code",
   "execution_count": 12,
   "id": "8f02b5cc",
   "metadata": {},
   "outputs": [
    {
     "data": {
      "image/png": "[encoded data removed]",
      "text/plain": [
       "<Figure size 432x288 with 1 Axes>"
      ]
     },
     "metadata": {
      "needs_background": "light"
     },
     "output_type": "display_data"
    }
   ],
   "source": [
    "for key in {key: params for key, params in all_params.items() if params['Thickness_sample'] == 1.0}:\n",
    "    data=all_data[key]\n",
    "    thickness=all_params[key]['Thickness_sample']\n",
    "    rtip= all_params[key]['Rtip']\n",
    "    er=all_params[key]['eps_r']\n",
    "    s=slice(5,-5)\n",
    "    plt.plot(data['z'][s], data['czz'][s], label=f'{rtip} nm, {er}, {thickness} nm' )\n",
    "    \n",
    "plt.title('Czz vs. Z for 1.0nm')    \n",
    "plt.ylabel(\"Czz\")\n",
    "plt.xlabel(\"Z(m)\")\n",
    "plt.legend()\n",
    "plt.savefig(\"Czz v. Z for varying sample thickness, 06-28-2021.png\")"
   ]
  },
  {
   "cell_type": "code",
   "execution_count": 13,
   "id": "eed081f0",
   "metadata": {},
   "outputs": [
    {
     "data": {
      "text/plain": [
       "{'n': 1000,\n",
       " 'm+': 1000,\n",
       " 'm-': 2,\n",
       " 'h0': 0.5,\n",
       " 'rho_max': 1000000.0,\n",
       " 'z_max': 1000000.0,\n",
       " 'min': 150.0,\n",
       " 'max': 250.0,\n",
       " 'istep': 4.0,\n",
       " 'Rtip': 30.0,\n",
       " 'half-angle': 20.0,\n",
       " 'HCone': 15000.0,\n",
       " 'RCantilever': 13750.0,\n",
       " 'thickness_Cantilever': 999.99,\n",
       " 'eps_r': 1.0,\n",
       " 'Thickness_sample': 1.0,\n",
       " 'Solving Method': 'LAPACK',\n",
       " 'Test': 1,\n",
       " 'Verbosity': 0,\n",
       " 'Nuni': 50,\n",
       " 'Equally spaced': False}"
      ]
     },
     "execution_count": 13,
     "metadata": {},
     "output_type": "execute_result"
    }
   ],
   "source": [
    "params"
   ]
  },
  {
   "cell_type": "code",
   "execution_count": 14,
   "id": "dfdd7fe8",
   "metadata": {},
   "outputs": [
    {
     "data": {
      "image/png": "[encoded data removed]",
      "text/plain": [
       "<Figure size 432x288 with 1 Axes>"
      ]
     },
     "metadata": {
      "needs_background": "light"
     },
     "output_type": "display_data"
    }
   ],
   "source": [
    "for key in {key: params for key, params in all_params.items() if params['Thickness_sample'] == 1.0}:\n",
    "    data=all_data[key]\n",
    "    thickness=all_params[key]['Thickness_sample']\n",
    "    rtip= all_params[key]['Rtip']\n",
    "    er=all_params[key]['eps_r']\n",
    "    s=slice(8,-8)\n",
    "    plt.plot(data['z'][s], data['alpha'][s], label=f'{rtip} nm, {er}, {thickness} nm' )\n",
    "    \n",
    "plt.title('alpha vs. Z for 1.0nm')    \n",
    "plt.ylabel(\"$\\\\alpha$\")\n",
    "plt.xlabel(\"Z(m)\")\n",
    "plt.legend()\n",
    "plt.savefig(\"Alpha v. Z for varying sample thickness, 06-28-2021.png\")"
   ]
  },
  {
   "cell_type": "code",
   "execution_count": 15,
   "id": "09a2ae9a",
   "metadata": {},
   "outputs": [
    {
     "data": {
      "text/plain": [
       "{'z': array([150.    , 152.0001, 153.9999, 156.    , 158.0001, 159.9999,\n",
       "        162.    , 164.0001, 165.9999, 168.    , 170.0001, 171.9999,\n",
       "        174.    , 176.0001, 177.9999, 180.    , 182.0001, 183.9999,\n",
       "        186.    , 188.0001, 189.9999, 192.    , 194.0001, 195.9999,\n",
       "        198.    , 200.0001, 201.9999, 204.    , 206.0001, 207.9999,\n",
       "        210.    , 212.0001, 213.9999, 216.    , 218.0001, 219.9999,\n",
       "        222.    , 224.0001, 225.9999, 228.    , 230.0001, 231.9999,\n",
       "        234.    , 236.0001, 237.9999, 240.    , 242.0001, 243.9999,\n",
       "        246.    , 248.0001, 249.9999]),\n",
       " 'c': array([3.65021900e-18, 1.99705139e+04, 3.64306810e-18, 2.03939547e+04,\n",
       "        2.04571408e+04, 2.03683858e+04, 2.03221378e+04, 1.99119049e+04,\n",
       "        1.71591132e+04, 1.92900129e+04, 1.99523399e+04, 2.06308107e+04,\n",
       "        2.01724731e+04, 2.01400665e+04, 1.99894663e+04, 1.99509230e+04,\n",
       "        1.94513359e+04, 1.97783430e+04, 3.59607359e-18, 1.91473786e+04,\n",
       "        1.90131800e+04, 1.93757780e+04, 1.96142595e+04, 1.92586126e+04,\n",
       "        1.93569324e+04, 1.78027223e+04, 1.84663611e+04, 1.88417440e+04,\n",
       "        1.94097535e+04, 1.91020219e+04, 1.95313099e+04, 1.93428749e+04,\n",
       "        1.82522337e+04, 1.87965033e+04, 1.98504170e+04, 3.56012071e-18,\n",
       "        1.85782201e+04, 1.85639140e+04, 1.92827313e+04, 1.88143217e+04,\n",
       "        1.92890599e+04, 1.85099680e+04, 1.86866036e+04, 1.85408659e+04,\n",
       "        1.87908372e+04, 1.87671725e+04, 1.85836659e+04, 1.84346037e+04,\n",
       "        1.78985228e+04, 1.61900375e+04, 1.86453340e+04]),\n",
       " 'cz': array([ 9.98475770e+12, -1.78763708e-12,  1.05854925e+11,  5.11402950e+12,\n",
       "        -6.39192800e+09, -3.37490711e+10, -1.14114512e+11, -7.90716602e+11,\n",
       "        -1.55465223e+11,  6.98271771e+11,  3.35182683e+11,  5.50305345e+10,\n",
       "        -1.22679917e+11, -4.57493991e+10, -4.72834952e+10, -1.34525876e+11,\n",
       "        -4.31428543e+10, -4.86259086e+12, -1.57733199e+11,  4.75305735e+12,\n",
       "         5.70969957e+10,  1.50262355e+11, -2.92898872e+10, -6.43285670e+10,\n",
       "        -3.63954390e+11, -2.22631680e+11,  2.59742454e+11,  2.35836297e+11,\n",
       "         6.50662015e+10,  3.03875774e+10,  6.02102470e+10, -3.19753064e+11,\n",
       "        -1.36586079e+11,  3.99525852e+11, -4.69889087e+12, -3.18033308e+11,\n",
       "         4.64074646e+12,  1.76118988e+11,  6.25987975e+10,  1.58207571e+09,\n",
       "        -7.60846162e+10, -1.50606557e+11,  7.72409249e+09,  2.60571041e+10,\n",
       "         5.65738093e+10, -5.17902415e+10, -8.31380371e+10, -1.71277219e+11,\n",
       "        -5.61113483e+11,  1.86693487e+11,  1.22758687e+12]),\n",
       " 'czz': array([-4.99212924e+21, -2.46960221e+21,  1.27844345e+21, -2.80603103e+19,\n",
       "        -1.28688030e+21, -2.69292996e+19, -1.89232421e+20, -1.03371610e+19,\n",
       "         3.72228482e+20,  1.22655844e+20, -1.60802269e+20, -1.14459927e+20,\n",
       "        -2.51937237e+19,  1.88481630e+19, -2.21930095e+19,  1.03510848e+18,\n",
       "        -1.18195715e+21, -2.86461539e+19,  2.40379186e+21,  5.37048634e+19,\n",
       "        -1.15064122e+21, -2.15956410e+19, -5.36450484e+19, -8.36619427e+19,\n",
       "        -3.95737997e+19,  1.55916415e+20,  1.14611264e+20, -4.86666298e+19,\n",
       "        -5.13596119e+19, -1.21392791e+18, -8.75307838e+19, -4.91966216e+19,\n",
       "         1.79810739e+20, -1.14051917e+21, -1.79380821e+20,  2.33479259e+21,\n",
       "         1.23531897e+20, -1.14447969e+21, -4.36320465e+19, -3.46691200e+19,\n",
       "        -3.80452559e+19,  2.09511296e+19,  4.41637071e+19,  1.22118186e+19,\n",
       "        -1.94608633e+19, -3.49262153e+19, -2.98702509e+19, -1.19487887e+20,\n",
       "         8.94882021e+19,  4.47152730e+20,  5.20420669e+20]),\n",
       " 'alpha': array([-1.09420908e+22, -1.29590289e-49,  4.81175298e+18, -9.14034382e+01,\n",
       "        -3.10392099e-06, -4.15309604e-03, -6.77246570e-03, -6.07515864e+00,\n",
       "         7.56819068e-03,  4.12152752e-01, -7.00337099e-02, -2.56488383e-03,\n",
       "        -5.92277772e-02,  1.10273423e-02, -1.00793318e-02,  1.75264029e+00,\n",
       "        -1.61918540e-04, -8.34659286e+01,  5.75639765e+18,  4.39393030e+01,\n",
       "        -2.98031263e-04, -1.07920794e-01, -1.63066157e-03, -5.13670716e-03,\n",
       "        -3.45843515e-01,  3.57129451e-02,  6.37539721e-02, -1.21310647e-01,\n",
       "        -8.49374367e-03, -7.96434229e-02, -4.24110111e-03, -2.14883526e-01,\n",
       "         1.13687109e-02, -1.48915572e-02, -1.24015244e+01,  2.43367274e+19,\n",
       "         1.87681931e+01, -2.91987810e-03, -9.31510691e-03, -7.67455390e-06,\n",
       "        -1.57765534e-02,  1.16978122e-01,  1.44586929e-04,  5.99752316e-03,\n",
       "        -1.75046167e-02, -8.18418609e-03, -2.49034358e-02, -2.66361538e-02,\n",
       "         3.93141087e-01,  9.62907542e-03,  3.10605941e-01])}"
      ]
     },
     "execution_count": 15,
     "metadata": {},
     "output_type": "execute_result"
    }
   ],
   "source": [
    "data"
   ]
  },
  {
   "cell_type": "code",
   "execution_count": 16,
   "id": "77a6dac6",
   "metadata": {},
   "outputs": [],
   "source": [
    "from scipy.optimize import curve_fit\n"
   ]
  },
  {
   "cell_type": "code",
   "execution_count": 17,
   "id": "49b30168",
   "metadata": {},
   "outputs": [],
   "source": [
    "def Cz_model(z, a, n, b,):\n",
    "    return(a*z**n + b)"
   ]
  },
  {
   "cell_type": "code",
   "execution_count": 18,
   "id": "87212141",
   "metadata": {},
   "outputs": [
    {
     "data": {
      "text/plain": [
       "dict_keys(['SphereTest_F\\\\0321-Spheretest-0000\\\\', 'SphereTest_F\\\\0323-Spheretest-0002\\\\', 'SphereTest_F\\\\0325-Spheretest-0001\\\\'])"
      ]
     },
     "execution_count": 18,
     "metadata": {},
     "output_type": "execute_result"
    }
   ],
   "source": [
    "all_data.keys()"
   ]
  },
  {
   "cell_type": "code",
   "execution_count": 19,
   "id": "74215bd0",
   "metadata": {},
   "outputs": [
    {
     "ename": "KeyError",
     "evalue": "'capsol-calc\\\\0001-capsol\\\\'",
     "output_type": "error",
     "traceback": [
      "\u001b[1;31m---------------------------------------------------------------------------\u001b[0m",
      "\u001b[1;31mKeyError\u001b[0m                                  Traceback (most recent call last)",
      "\u001b[1;32m<ipython-input-19-23a180486cb5>\u001b[0m in \u001b[0;36m<module>\u001b[1;34m\u001b[0m\n\u001b[1;32m----> 1\u001b[1;33m \u001b[0mdata\u001b[0m\u001b[1;33m=\u001b[0m \u001b[0mall_data\u001b[0m\u001b[1;33m[\u001b[0m\u001b[1;34m'capsol-calc\\\\0001-capsol\\\\'\u001b[0m\u001b[1;33m]\u001b[0m\u001b[1;33m\u001b[0m\u001b[1;33m\u001b[0m\u001b[0m\n\u001b[0m\u001b[0;32m      2\u001b[0m \u001b[0mz\u001b[0m\u001b[1;33m=\u001b[0m \u001b[0mdata\u001b[0m\u001b[1;33m[\u001b[0m\u001b[1;34m'z'\u001b[0m\u001b[1;33m]\u001b[0m\u001b[1;33m[\u001b[0m\u001b[1;36m1\u001b[0m\u001b[1;33m:\u001b[0m\u001b[1;33m-\u001b[0m\u001b[1;36m1\u001b[0m\u001b[1;33m]\u001b[0m\u001b[1;33m\u001b[0m\u001b[1;33m\u001b[0m\u001b[0m\n\u001b[0;32m      3\u001b[0m \u001b[0mcz\u001b[0m\u001b[1;33m=\u001b[0m \u001b[0mdata\u001b[0m\u001b[1;33m[\u001b[0m\u001b[1;34m'cz'\u001b[0m\u001b[1;33m]\u001b[0m\u001b[1;33m[\u001b[0m\u001b[1;36m1\u001b[0m\u001b[1;33m:\u001b[0m\u001b[1;33m-\u001b[0m\u001b[1;36m1\u001b[0m\u001b[1;33m]\u001b[0m\u001b[1;33m\u001b[0m\u001b[1;33m\u001b[0m\u001b[0m\n",
      "\u001b[1;31mKeyError\u001b[0m: 'capsol-calc\\\\0001-capsol\\\\'"
     ]
    }
   ],
   "source": [
    "data= all_data['capsol-calc\\\\0001-capsol\\\\']\n",
    "z= data['z'][1:-1]\n",
    "cz= data['cz'][1:-1]"
   ]
  },
  {
   "cell_type": "code",
   "execution_count": null,
   "id": "8ff0827e",
   "metadata": {},
   "outputs": [],
   "source": [
    "popt, pcov= curve_fit(Cz_model, z, cz, p0=[cz[0]*z[0], -1, 0])\n",
    "a=popt[0]\n",
    "n=popt[1]\n",
    "b=popt[2]\n",
    "std_devs= np.sqrt(pcov.diagonal())\n",
    "sigma_a = std_devs[0]\n",
    "sigma_n = std_devs[1]\n",
    "model_output= Cz_model(z, a, n, b)\n",
    "rmse= np.sqrt(np.mean((cz - model_output)**2))\n"
   ]
  },
  {
   "cell_type": "code",
   "execution_count": null,
   "id": "42e9d139",
   "metadata": {},
   "outputs": [],
   "source": [
    "f\"a= {a} ± {sigma_a}\""
   ]
  },
  {
   "cell_type": "code",
   "execution_count": null,
   "id": "05e99973",
   "metadata": {},
   "outputs": [],
   "source": [
    "f\"n= {n}± {sigma_n}\""
   ]
  },
  {
   "cell_type": "code",
   "execution_count": null,
   "id": "e495fee8",
   "metadata": {},
   "outputs": [],
   "source": [
    "model_output"
   ]
  },
  {
   "cell_type": "code",
   "execution_count": null,
   "id": "dbd0d394",
   "metadata": {},
   "outputs": [],
   "source": [
    "\"Root Mean Square Error\""
   ]
  },
  {
   "cell_type": "code",
   "execution_count": null,
   "id": "b351ff7e",
   "metadata": {},
   "outputs": [],
   "source": [
    "rmse/np.mean(-cz)"
   ]
  },
  {
   "cell_type": "code",
   "execution_count": null,
   "id": "86949536",
   "metadata": {},
   "outputs": [],
   "source": []
  }
 ],
 "metadata": {
  "kernelspec": {
   "display_name": "Python 3",
   "language": "python",
   "name": "python3"
  },
  "language_info": {
   "codemirror_mode": {
    "name": "ipython",
    "version": 3
   },
   "file_extension": ".py",
   "mimetype": "text/x-python",
   "name": "python",
   "nbconvert_exporter": "python",
   "pygments_lexer": "ipython3",
   "version": "3.8.8"
  }
 },
 "nbformat": 4,
 "nbformat_minor": 5
}
