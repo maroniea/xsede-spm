{
 "cells": [
  {
   "cell_type": "markdown",
   "id": "7909fa0a",
   "metadata": {},
   "source": [
    "##Tirmzi Analysis\n",
    "n=1000 m+=1000 nm-=120 istep= 4 min=150 max=700"
   ]
  },
  {
   "cell_type": "code",
   "execution_count": 1,
   "id": "63afb62c",
   "metadata": {},
   "outputs": [],
   "source": [
    "import sys\n",
    "sys.path\n",
    "import matplotlib.pyplot as plt\n",
    "import numpy as np\n",
    "import os\n",
    "from scipy import signal\n",
    "from capsol.spherecheck import sphereMetalCap"
   ]
  },
  {
   "cell_type": "code",
   "execution_count": 2,
   "id": "8bec0f1d",
   "metadata": {
    "scrolled": true
   },
   "outputs": [
    {
     "name": "stdout",
     "output_type": "stream",
     "text": [
      " Volume in drive C is Local Disk\n",
      " Volume Serial Number is AA1B-997A\n",
      "\n",
      " Directory of C:\\Users\\emaro\\OneDrive - University of Mount Union\\XSEDE Summer 2021\\xsede-spm\\data\n",
      "\n",
      "08/03/2021  01:49 PM    <DIR>          .\n",
      "08/03/2021  01:49 PM    <DIR>          ..\n",
      "08/03/2021  01:34 PM    <DIR>          .ipynb_checkpoints\n",
      "08/02/2021  02:01 PM    <DIR>          0309-VariedNuni_8_2_2021-0000\n",
      "08/02/2021  02:15 PM    <DIR>          8_2_2021\n",
      "08/02/2021  02:18 PM           152,527 8_2_2021_FortranVariedNuni.ipynb\n",
      "08/02/2021  03:39 PM           161,361 8_2_2021_FortranVariedNuni-Copy1.ipynb\n",
      "08/03/2021  01:17 PM           130,779 8_2_2021_PythonVariedNuni.ipynb\n",
      "08/02/2021  02:58 PM           130,726 8_2_2021_PythonVariedNuni-Copy1.ipynb\n",
      "08/03/2021  01:20 PM           148,540 8_2_2021_PythonVariedNuni-Copy2.ipynb\n",
      "08/03/2021  01:20 PM           130,779 8_2_2021_PythonVariedNuni-Copy3.ipynb\n",
      "08/03/2021  01:22 PM           153,589 8_2_2021_PythonVariedNuni-Copy4.ipynb\n",
      "08/03/2021  01:49 PM           122,048 8_2_2021_PythonVariedNuni-Copy5.ipynb\n",
      "08/02/2021  02:52 PM    <DIR>          8_2_2021P\n",
      "08/03/2021  01:35 PM            16,960 Alpha v. Z for varying sample thickness, 06-28-2021.png\n",
      "08/03/2021  01:35 PM            19,458 C' v. Z for 1nm thick sample 06-28-2021.png\n",
      "08/02/2021  02:15 PM             6,179 C' v. Z for varying sample thickness, 06-28-2021.png\n",
      "08/03/2021  01:35 PM            15,209 Cz v. Z for varying sample thickness, 06-28-2021.png\n",
      "08/03/2021  01:35 PM            13,880 Czz v. Z for varying sample thickness, 06-28-2021.png\n",
      "08/02/2021  03:35 PM    <DIR>          erequals1_F\n",
      "08/03/2021  01:05 PM    <DIR>          erequals1_P\n",
      "08/02/2021  03:35 PM    <DIR>          FortranOutputTest\n",
      "08/03/2021  01:14 PM    <DIR>          m_minue_P\n",
      "08/03/2021  01:16 PM    <DIR>          m_minus_F\n",
      "08/03/2021  01:05 PM    <DIR>          PythonOutputTest\n",
      "08/03/2021  01:13 PM    <DIR>          SphereTest_F\n",
      "08/03/2021  01:13 PM    <DIR>          SphereTest_P\n",
      "07/28/2021  11:49 AM            57,907 Tirmzi_istep4.ipynb\n",
      "07/28/2021  11:43 AM           113,265 Tirmzi_istep4-Copy2.ipynb\n",
      "              15 File(s)      1,373,207 bytes\n",
      "              14 Dir(s)  153,536,864,256 bytes free\n"
     ]
    }
   ],
   "source": [
    "ls"
   ]
  },
  {
   "cell_type": "code",
   "execution_count": 3,
   "id": "b2bdd91e",
   "metadata": {},
   "outputs": [],
   "source": [
    "import capsol.newanalyzecapsol as ac"
   ]
  },
  {
   "cell_type": "code",
   "execution_count": 4,
   "id": "74d01467",
   "metadata": {},
   "outputs": [
    {
     "data": {
      "text/plain": [
       "<function capsol.newanalyzecapsol.get_gridparameters(f_name)>"
      ]
     },
     "execution_count": 4,
     "metadata": {},
     "output_type": "execute_result"
    }
   ],
   "source": [
    "ac.get_gridparameters"
   ]
  },
  {
   "cell_type": "code",
   "execution_count": 5,
   "id": "234f74d8",
   "metadata": {},
   "outputs": [],
   "source": [
    "import glob"
   ]
  },
  {
   "cell_type": "code",
   "execution_count": 6,
   "id": "5766fac7",
   "metadata": {},
   "outputs": [
    {
     "data": {
      "text/plain": [
       "['SphereTest_P\\\\0322-Spheretest-0000\\\\',\n",
       " 'SphereTest_P\\\\0324-Spheretest-0002\\\\',\n",
       " 'SphereTest_P\\\\0326-Spheretest-0001\\\\']"
      ]
     },
     "execution_count": 6,
     "metadata": {},
     "output_type": "execute_result"
    }
   ],
   "source": [
    "folders = glob.glob(\"SphereTest_P/*/\")\n",
    "folders\n"
   ]
  },
  {
   "cell_type": "code",
   "execution_count": 7,
   "id": "0f240774",
   "metadata": {
    "scrolled": false
   },
   "outputs": [],
   "source": [
    "all_data= dict() \n",
    "for folder in folders:\n",
    "    params = ac.get_gridparameters(folder + 'capsol.in')\n",
    "    data = ac.np.loadtxt(folder + 'C-Z.dat')\n",
    "    process_data = ac.process_data(params, data, smoothing=False, std=5*10**-9, fortran=False)\n",
    "    all_data[folder]= (process_data)\n",
    "all_params= dict()\n",
    "for folder in folders:\n",
    "    params=ac.get_gridparameters(folder + 'capsol.in')\n",
    "    all_params[folder]= (params)"
   ]
  },
  {
   "cell_type": "code",
   "execution_count": 8,
   "id": "a27efec2",
   "metadata": {},
   "outputs": [
    {
     "data": {
      "text/plain": [
       "{'SphereTest_P\\\\0322-Spheretest-0000\\\\': {'z': array([150., 152., 154., 156., 158., 160., 162., 164., 166., 168., 170.,\n",
       "         172., 174., 176., 178., 180., 182., 184., 186., 188., 190., 192.,\n",
       "         194., 196., 198., 200., 202., 204., 206., 208., 210., 212., 214.,\n",
       "         216., 218., 220., 222., 224., 226., 228., 230., 232., 234., 236.,\n",
       "         238., 240., 242., 244., 246., 248.]),\n",
       "  'c': array([7.19109226e-18, 7.18406304e-18, 7.17719963e-18, 7.17049621e-18,\n",
       "         7.16394726e-18, 7.15754748e-18, 7.15129183e-18, 7.14517548e-18,\n",
       "         7.13919383e-18, 7.13334246e-18, 7.12761717e-18, 7.12201391e-18,\n",
       "         7.11652882e-18, 7.11115819e-18, 7.10589848e-18, 7.10074627e-18,\n",
       "         7.09569831e-18, 7.09075146e-18, 7.08590270e-18, 7.08114914e-18,\n",
       "         7.07648801e-18, 7.07191663e-18, 7.06743243e-18, 7.06303294e-18,\n",
       "         7.05871578e-18, 7.05447865e-18, 7.05031935e-18, 7.04623576e-18,\n",
       "         7.04222581e-18, 7.03828755e-18, 7.03441905e-18, 7.03061848e-18,\n",
       "         7.02688407e-18, 7.02321410e-18, 7.01960691e-18, 7.01606092e-18,\n",
       "         7.01257456e-18, 7.00914636e-18, 7.00577486e-18, 7.00245867e-18,\n",
       "         6.99919644e-18, 6.99598686e-18, 6.99282867e-18, 6.98972064e-18,\n",
       "         6.98666158e-18, 6.98365035e-18, 6.98068583e-18, 6.97776694e-18,\n",
       "         6.97489264e-18, 6.97206192e-18]),\n",
       "  'cz': array([-3.51460994e-12, -3.47315786e-12, -3.39170582e-12, -3.31309087e-12,\n",
       "         -3.23718250e-12, -3.16385764e-12, -3.09300015e-12, -3.02450035e-12,\n",
       "         -2.95825462e-12, -2.89416496e-12, -2.83213865e-12, -2.77208793e-12,\n",
       "         -2.71392964e-12, -2.65758497e-12, -2.60297918e-12, -2.55004134e-12,\n",
       "         -2.49870411e-12, -2.44890351e-12, -2.40057875e-12, -2.35367201e-12,\n",
       "         -2.30812827e-12, -2.26389516e-12, -2.22092282e-12, -2.17916372e-12,\n",
       "         -2.13857257e-12, -2.09910616e-12, -2.06072329e-12, -2.02338459e-12,\n",
       "         -1.98705250e-12, -1.95169112e-12, -1.91726613e-12, -1.88374475e-12,\n",
       "         -1.85109558e-12, -1.81928860e-12, -1.78829506e-12, -1.75808743e-12,\n",
       "         -1.72863936e-12, -1.69992555e-12, -1.67192178e-12, -1.64460481e-12,\n",
       "         -1.61795234e-12, -1.59194299e-12, -1.56655621e-12, -1.54177227e-12,\n",
       "         -1.51757222e-12, -1.49393785e-12, -1.47085165e-12, -1.44829680e-12,\n",
       "         -1.42625709e-12, -1.41536404e-12]),\n",
       "  'czz': array([2.07260426e-05, 3.07260309e-05, 4.00167474e-05, 3.86308304e-05,\n",
       "         3.73083076e-05, 3.60455876e-05, 3.48393210e-05, 3.36863814e-05,\n",
       "         3.25838484e-05, 3.15289918e-05, 3.05192573e-05, 2.95522534e-05,\n",
       "         2.86257396e-05, 2.77376147e-05, 2.68859078e-05, 2.60687680e-05,\n",
       "         2.52844564e-05, 2.45313385e-05, 2.38078762e-05, 2.31126220e-05,\n",
       "         2.24442125e-05, 2.18013624e-05, 2.11828601e-05, 2.05875621e-05,\n",
       "         2.00143888e-05, 1.94623207e-05, 1.89303939e-05, 1.84176971e-05,\n",
       "         1.79233681e-05, 1.74465907e-05, 1.69865918e-05, 1.65426390e-05,\n",
       "         1.61140380e-05, 1.57001301e-05, 1.53002904e-05, 1.49139256e-05,\n",
       "         1.45404723e-05, 1.41793951e-05, 1.38301850e-05, 1.34923581e-05,\n",
       "         1.31654538e-05, 1.28490338e-05, 1.25426809e-05, 1.22459974e-05,\n",
       "         1.19586046e-05, 1.16801412e-05, 1.14102630e-05, 1.11486412e-05,\n",
       "         8.23319026e-06, 5.44652617e-06]),\n",
       "  'alpha': array([0.16575743, 0.10929554, 0.08010683, 0.07925258, 0.07841632,\n",
       "         0.07759746, 0.07679549, 0.07600987, 0.07524013, 0.07448579,\n",
       "         0.07374638, 0.07302147, 0.07231065, 0.07161349, 0.07092963,\n",
       "         0.07025867, 0.06960027, 0.06895406, 0.06831972, 0.06769692,\n",
       "         0.06708536, 0.06648472, 0.06589473, 0.06531509, 0.06474555,\n",
       "         0.06418584, 0.06363571, 0.06309492, 0.06256322, 0.0620404 ,\n",
       "         0.06152623, 0.0610205 , 0.06052301, 0.06003355, 0.05955194,\n",
       "         0.05907798, 0.05861149, 0.05815231, 0.05770026, 0.05725517,\n",
       "         0.05681689, 0.05638526, 0.05596013, 0.05554136, 0.0551288 ,\n",
       "         0.05472232, 0.05432178, 0.05392706, 0.07084675, 0.10550802])},\n",
       " 'SphereTest_P\\\\0324-Spheretest-0002\\\\': {'z': array([150., 152., 154., 156., 158., 160., 162., 164., 166., 168., 170.,\n",
       "         172., 174., 176., 178., 180., 182., 184., 186., 188., 190., 192.,\n",
       "         194., 196., 198., 200., 202., 204., 206., 208., 210., 212., 214.,\n",
       "         216., 218., 220., 222., 224., 226., 228., 230., 232., 234., 236.,\n",
       "         238., 240., 242., 244., 246., 248.]),\n",
       "  'c': array([7.21167977e-18, 7.20461459e-18, 7.19771605e-18, 7.19097831e-18,\n",
       "         7.18439582e-18, 7.17796326e-18, 7.17167556e-18, 7.16552786e-18,\n",
       "         7.15951554e-18, 7.15363417e-18, 7.14787951e-18, 7.14224750e-18,\n",
       "         7.13673426e-18, 7.13133607e-18, 7.12604935e-18, 7.12087069e-18,\n",
       "         7.11579680e-18, 7.11082453e-18, 7.10595085e-18, 7.10117286e-18,\n",
       "         7.09648776e-18, 7.09189287e-18, 7.08738561e-18, 7.08296348e-18,\n",
       "         7.07862410e-18, 7.07436516e-18, 7.07018445e-18, 7.06607983e-18,\n",
       "         7.06204923e-18, 7.05809068e-18, 7.05420225e-18, 7.05038209e-18,\n",
       "         7.04662843e-18, 7.04293954e-18, 7.03931375e-18, 7.03574947e-18,\n",
       "         7.03224513e-18, 7.02879924e-18, 7.02541034e-18, 7.02207704e-18,\n",
       "         7.01879796e-18, 7.01557181e-18, 7.01239731e-18, 7.00927322e-18,\n",
       "         7.00619836e-18, 7.00317157e-18, 7.00019173e-18, 6.99725776e-18,\n",
       "         6.99436860e-18, 6.99152323e-18]),\n",
       "  'cz': array([-3.53259414e-12, -3.49093236e-12, -3.40906821e-12, -3.33005541e-12,\n",
       "         -3.25376280e-12, -3.18006669e-12, -3.10885035e-12, -3.04000357e-12,\n",
       "         -2.97342218e-12, -2.90900771e-12, -2.84666698e-12, -2.78631177e-12,\n",
       "         -2.72785852e-12, -2.67122801e-12, -2.61634514e-12, -2.56313861e-12,\n",
       "         -2.51154076e-12, -2.46148728e-12, -2.41291707e-12, -2.36577202e-12,\n",
       "         -2.31999684e-12, -2.27553890e-12, -2.23234808e-12, -2.19037663e-12,\n",
       "         -2.14957901e-12, -2.10991181e-12, -2.07133361e-12, -2.03380485e-12,\n",
       "         -1.99728778e-12, -1.96174633e-12, -1.92714600e-12, -1.89345383e-12,\n",
       "         -1.86063828e-12, -1.82866917e-12, -1.79751762e-12, -1.76715596e-12,\n",
       "         -1.73755768e-12, -1.70869738e-12, -1.68055071e-12, -1.65309432e-12,\n",
       "         -1.62630580e-12, -1.60016364e-12, -1.57464721e-12, -1.54973666e-12,\n",
       "         -1.52541297e-12, -1.50165782e-12, -1.47845362e-12, -1.45578346e-12,\n",
       "         -1.43363105e-12, -1.42268229e-12]),\n",
       "  'czz': array([2.08308941e-05, 3.08814834e-05, 4.02192359e-05, 3.88263523e-05,\n",
       "         3.74971809e-05, 3.62281122e-05, 3.50157800e-05, 3.38570422e-05,\n",
       "         3.27489638e-05, 3.16888008e-05, 3.06739862e-05, 2.97021164e-05,\n",
       "         2.87709396e-05, 2.78783444e-05, 2.70223496e-05, 2.62010952e-05,\n",
       "         2.54128337e-05, 2.46559223e-05, 2.39288152e-05, 2.32300577e-05,\n",
       "         2.25582794e-05, 2.19121889e-05, 2.12905682e-05, 2.06922682e-05,\n",
       "         2.01162040e-05, 1.95613508e-05, 1.90267400e-05, 1.85114557e-05,\n",
       "         1.80146314e-05, 1.75354468e-05, 1.70731250e-05, 1.66269298e-05,\n",
       "         1.61961635e-05, 1.57801641e-05, 1.53783036e-05, 1.49899857e-05,\n",
       "         1.46146442e-05, 1.42517410e-05, 1.39007645e-05, 1.35612284e-05,\n",
       "         1.32326699e-05, 1.29146484e-05, 1.26067446e-05, 1.23085588e-05,\n",
       "         1.20197105e-05, 1.17398366e-05, 1.14685910e-05, 1.12056434e-05,\n",
       "         8.27529172e-06, 5.47437957e-06]),\n",
       "  'alpha': array([0.16613959, 0.10954787, 0.08029211, 0.07943618, 0.07859826,\n",
       "         0.07777778, 0.0769742 , 0.07618702, 0.07541573, 0.07465987,\n",
       "         0.07391897, 0.07319259, 0.07248032, 0.07178175, 0.07109648,\n",
       "         0.07042415, 0.06976439, 0.06911686, 0.0684812 , 0.06785712,\n",
       "         0.06724428, 0.06664239, 0.06605117, 0.06547032, 0.06489959,\n",
       "         0.0643387 , 0.06378741, 0.06324547, 0.06271265, 0.06218872,\n",
       "         0.06167346, 0.06116665, 0.0606681 , 0.06017759, 0.05969494,\n",
       "         0.05921997, 0.05875248, 0.05829231, 0.05783928, 0.05739323,\n",
       "         0.056954  , 0.05652143, 0.05609538, 0.05567569, 0.05526223,\n",
       "         0.05485486, 0.05445345, 0.05405786, 0.07101874, 0.10576431])},\n",
       " 'SphereTest_P\\\\0326-Spheretest-0001\\\\': {'z': array([150., 152., 154., 156., 158., 160., 162., 164., 166., 168., 170.,\n",
       "         172., 174., 176., 178., 180., 182., 184., 186., 188., 190., 192.,\n",
       "         194., 196., 198., 200., 202., 204., 206., 208., 210., 212., 214.,\n",
       "         216., 218., 220., 222., 224., 226., 228., 230., 232., 234., 236.,\n",
       "         238., 240., 242., 244., 246., 248.]),\n",
       "  'c': array([7.21290276e-18, 7.20583492e-18, 7.19893379e-18, 7.19219353e-18,\n",
       "         7.18560858e-18, 7.17917361e-18, 7.17288355e-18, 7.16673355e-18,\n",
       "         7.16071899e-18, 7.15483542e-18, 7.14907861e-18, 7.14344450e-18,\n",
       "         7.13792920e-18, 7.13252900e-18, 7.12724031e-18, 7.12205972e-18,\n",
       "         7.11698394e-18, 7.11200982e-18, 7.10713433e-18, 7.10235457e-18,\n",
       "         7.09766773e-18, 7.09307114e-18, 7.08856221e-18, 7.08413844e-18,\n",
       "         7.07979746e-18, 7.07553695e-18, 7.07135469e-18, 7.06724855e-18,\n",
       "         7.06321647e-18, 7.05925646e-18, 7.05536659e-18, 7.05154503e-18,\n",
       "         7.04778999e-18, 7.04409974e-18, 7.04047263e-18, 7.03690703e-18,\n",
       "         7.03340141e-18, 7.02995425e-18, 7.02656412e-18, 7.02322959e-18,\n",
       "         7.01994932e-18, 7.01672199e-18, 7.01354633e-18, 7.01042110e-18,\n",
       "         7.00734512e-18, 7.00431722e-18, 7.00133630e-18, 6.99840125e-18,\n",
       "         6.99551104e-18, 6.99266464e-18]),\n",
       "  'cz': array([-3.53391984e-12, -3.49224210e-12, -3.41034660e-12, -3.33130353e-12,\n",
       "         -3.25498167e-12, -3.18125729e-12, -3.11001363e-12, -3.04114042e-12,\n",
       "         -2.97453348e-12, -2.91009427e-12, -2.84772959e-12, -2.78735120e-12,\n",
       "         -2.72887549e-12, -2.67222323e-12, -2.61731927e-12, -2.56409230e-12,\n",
       "         -2.51247462e-12, -2.46240191e-12, -2.41381305e-12, -2.36664989e-12,\n",
       "         -2.32085713e-12, -2.27638212e-12, -2.23317473e-12, -2.19118716e-12,\n",
       "         -2.15037389e-12, -2.11069148e-12, -2.07209848e-12, -2.03455534e-12,\n",
       "         -1.99802428e-12, -1.96246921e-12, -1.92785563e-12, -1.89415056e-12,\n",
       "         -1.86132245e-12, -1.82934112e-12, -1.79817766e-12, -1.76780439e-12,\n",
       "         -1.73819480e-12, -1.70932348e-12, -1.68116607e-12, -1.65369921e-12,\n",
       "         -1.62690047e-12, -1.60074835e-12, -1.57522219e-12, -1.55030216e-12,\n",
       "         -1.52596921e-12, -1.50220503e-12, -1.47899201e-12, -1.45631323e-12,\n",
       "         -1.43415240e-12, -1.42319949e-12]),\n",
       "  'czz': array([2.08388691e-05, 3.08933086e-05, 4.02346425e-05, 3.88412332e-05,\n",
       "         3.75115592e-05, 3.62420097e-05, 3.50292172e-05, 3.38700388e-05,\n",
       "         3.27615382e-05, 3.17009707e-05, 3.06857682e-05, 2.97135266e-05,\n",
       "         2.87819930e-05, 2.78890553e-05, 2.70327317e-05, 2.62111615e-05,\n",
       "         2.54225967e-05, 2.46653936e-05, 2.39380061e-05, 2.32389790e-05,\n",
       "         2.25669412e-05, 2.19206010e-05, 2.12987398e-05, 2.07002083e-05,\n",
       "         2.01239211e-05, 1.95688529e-05, 1.90340349e-05, 1.85185509e-05,\n",
       "         1.80215338e-05, 1.75421633e-05, 1.70796620e-05, 1.66332936e-05,\n",
       "         1.62023600e-05, 1.57861990e-05, 1.53841824e-05, 1.49957136e-05,\n",
       "         1.46202262e-05, 1.42571819e-05, 1.39060691e-05, 1.35664010e-05,\n",
       "         1.32377147e-05, 1.29195697e-05, 1.26115461e-05, 1.23132445e-05,\n",
       "         1.20242839e-05, 1.17443013e-05, 1.14729503e-05, 1.12099006e-05,\n",
       "         8.27843449e-06, 5.47645824e-06]),\n",
       "  'alpha': array([0.1661725 , 0.10956957, 0.08030798, 0.07945185, 0.07861373,\n",
       "         0.07779306, 0.0769893 , 0.07620193, 0.07543047, 0.07467443,\n",
       "         0.07393336, 0.07320681, 0.07249438, 0.07179565, 0.07111023,\n",
       "         0.07043774, 0.06977783, 0.06913015, 0.06849435, 0.06787012,\n",
       "         0.06725715, 0.06665513, 0.06606377, 0.06548279, 0.06491193,\n",
       "         0.06435092, 0.0637995 , 0.06325744, 0.06272451, 0.06220046,\n",
       "         0.06168508, 0.06117817, 0.0606795 , 0.06018889, 0.05970613,\n",
       "         0.05923105, 0.05876346, 0.05830319, 0.05785006, 0.05740392,\n",
       "         0.05696459, 0.05653193, 0.05610578, 0.05568601, 0.05527246,\n",
       "         0.05486501, 0.05446351, 0.05406784, 0.07103182, 0.10578378])}}"
      ]
     },
     "execution_count": 8,
     "metadata": {},
     "output_type": "execute_result"
    }
   ],
   "source": [
    "all_data"
   ]
  },
  {
   "cell_type": "code",
   "execution_count": 9,
   "id": "bdf1f5d3",
   "metadata": {
    "scrolled": true
   },
   "outputs": [
    {
     "data": {
      "text/plain": [
       "dict_keys(['SphereTest_P\\\\0322-Spheretest-0000\\\\', 'SphereTest_P\\\\0324-Spheretest-0002\\\\', 'SphereTest_P\\\\0326-Spheretest-0001\\\\'])"
      ]
     },
     "execution_count": 9,
     "metadata": {},
     "output_type": "execute_result"
    }
   ],
   "source": [
    "all_data.keys()"
   ]
  },
  {
   "cell_type": "code",
   "execution_count": 67,
   "id": "59fe3797",
   "metadata": {},
   "outputs": [
    {
     "data": {
      "text/plain": [
       "[<matplotlib.lines.Line2D at 0x1e3ea76a3d0>]"
      ]
     },
     "execution_count": 67,
     "metadata": {},
     "output_type": "execute_result"
    },
    {
     "data": {
      "image/png": "[encoded data removed]",
      "text/plain": [
       "<Figure size 432x288 with 1 Axes>"
      ]
     },
     "metadata": {
      "needs_background": "light"
     },
     "output_type": "display_data"
    }
   ],
   "source": [
    "dz= (data['z'][1]-data['z'][0])*10**-9\n",
    "dz\n",
    "c_exact=[sphereMetalCap((params['Rtip']*1E-9), ((d+params['Rtip'])*1E-9)) for d in data['z']]\n",
    "c_exact\n",
    "plt.plot(c_exact)\n",
    "cz_exact=cz=np.gradient(c_exact, dz)\n",
    "cz_exact\n",
    "s=slice(4,-3)\n",
    "plt.plot(cz_exact[s])\n",
    "czz_exact=np.gradient(cz_exact/dz)\n",
    "s=slice(5,-5)\n",
    "czz_exact\n",
    "plt.plot(czz_exact[s])\n",
    "alpha_exact=(2*(cz_exact**2/c_exact)/czz_exact)\n",
    "alpha_exact\n",
    "s=slice(8,-8)\n",
    "plt.plot(alpha_exact[s])"
   ]
  },
  {
   "cell_type": "code",
   "execution_count": 75,
   "id": "c6cac644",
   "metadata": {
    "scrolled": true
   },
   "outputs": [
    {
     "data": {
      "text/plain": [
       "array([-8.63562326e-22,  3.71791990e-18])"
      ]
     },
     "execution_count": 75,
     "metadata": {},
     "output_type": "execute_result"
    },
    {
     "data": {
      "image/png": "[encoded data removed]",
      "text/plain": [
       "<Figure size 432x288 with 1 Axes>"
      ]
     },
     "metadata": {
      "needs_background": "light"
     },
     "output_type": "display_data"
    }
   ],
   "source": [
    "for key in {key: params for key, params in all_params.items() if params['Thickness_sample'] == 1.0}:\n",
    "    data=all_data[key]\n",
    "    thickness =all_params[key]['Thickness_sample']\n",
    "    rtip= all_params[key]['Rtip']\n",
    "    er=all_params[key]['eps_r']\n",
    "    Nuni=all_params[key]['Nuni']\n",
    "    plt.plot(data['z'], data['c'], label= f'{rtip} nm, {er}, {thickness} nm,  {Nuni}')\n",
    " \n",
    "plt.plot(data['z'], c_exact)   \n",
    "plt.title('C v. Z for 1nm thick sample')    \n",
    "plt.ylabel(\"C(m)\")\n",
    "plt.xlabel(\"Z(m)\")\n",
    "plt.legend()\n",
    "plt.savefig(\"C' v. Z for 1nm thick sample 06-28-2021.png\")\n",
    "slope=np.polyfit(data['z'], data['c'], 1)\n",
    "slope_exact=np.polyfit(data['z'], c_exact, 1)\n",
    "slope\n",
    "slope_exact"
   ]
  },
  {
   "cell_type": "markdown",
   "id": "0981ee97",
   "metadata": {},
   "source": [
    "cut off last experiment because capacitance was off the scale"
   ]
  },
  {
   "cell_type": "code",
   "execution_count": 61,
   "id": "ad6bf37e",
   "metadata": {},
   "outputs": [
    {
     "data": {
      "image/png": "[encoded data removed]",
      "text/plain": [
       "<Figure size 432x288 with 1 Axes>"
      ]
     },
     "metadata": {
      "needs_background": "light"
     },
     "output_type": "display_data"
    }
   ],
   "source": [
    "for key in {key: params for key, params in all_params.items() if params['Thickness_sample'] == 1.0}:\n",
    "    data=all_data[key]\n",
    "    thickness=all_params[key]['Thickness_sample']\n",
    "    rtip= all_params[key]['Rtip']\n",
    "    er=all_params[key]['eps_r']\n",
    "    s=slice(4,-3)\n",
    "    plt.plot(data['z'][s], data['cz'][s],  label=f'{rtip} nm, {er}, {thickness} nm' )\n",
    "    \n",
    "plt.plot(data['z'][s], cz_exact[s])\n",
    "plt.title('Cz vs. Z for 1.0nm')    \n",
    "plt.ylabel(\"Cz\")\n",
    "plt.xlabel(\"Z(m)\")\n",
    "plt.legend()\n",
    "plt.savefig(\"Cz v. Z for varying sample thickness, 06-28-2021.png\")\n",
    "plt"
   ]
  },
  {
   "cell_type": "code",
   "execution_count": 12,
   "id": "8f02b5cc",
   "metadata": {},
   "outputs": [
    {
     "data": {
      "image/png": "[encoded data removed]",
      "text/plain": [
       "<Figure size 432x288 with 1 Axes>"
      ]
     },
     "metadata": {
      "needs_background": "light"
     },
     "output_type": "display_data"
    }
   ],
   "source": [
    "for key in {key: params for key, params in all_params.items() if params['Thickness_sample'] == 1.0}:\n",
    "    data=all_data[key]\n",
    "    thickness=all_params[key]['Thickness_sample']\n",
    "    rtip= all_params[key]['Rtip']\n",
    "    er=all_params[key]['eps_r']\n",
    "    s=slice(5,-5)\n",
    "    plt.plot(data['z'][s], data['czz'][s], label=f'{rtip} nm, {er}, {thickness} nm' )\n",
    "    \n",
    "plt.plot    \n",
    "plt.title('Czz vs. Z for 1.0nm')    \n",
    "plt.ylabel(\"Czz\")\n",
    "plt.xlabel(\"Z(m)\")\n",
    "plt.legend()\n",
    "plt.savefig(\"Czz v. Z for varying sample thickness, 06-28-2021.png\")"
   ]
  },
  {
   "cell_type": "code",
   "execution_count": 13,
   "id": "eed081f0",
   "metadata": {},
   "outputs": [
    {
     "data": {
      "text/plain": [
       "{'n': 1000,\n",
       " 'm+': 1000,\n",
       " 'm-': 2,\n",
       " 'h0': 0.5,\n",
       " 'rho_max': 1000000.0,\n",
       " 'z_max': 1000000.0,\n",
       " 'min': 150.0,\n",
       " 'max': 250.0,\n",
       " 'istep': 4.0,\n",
       " 'Rtip': 30.0,\n",
       " 'half-angle': 20.0,\n",
       " 'HCone': 15000.0,\n",
       " 'RCantilever': 13750.0,\n",
       " 'thickness_Cantilever': 999.99,\n",
       " 'eps_r': 1.0,\n",
       " 'Thickness_sample': 1.0,\n",
       " 'Solving Method': 'LAPACK',\n",
       " 'Test': 1,\n",
       " 'Verbosity': 0,\n",
       " 'Nuni': 50,\n",
       " 'Equally spaced': False}"
      ]
     },
     "execution_count": 13,
     "metadata": {},
     "output_type": "execute_result"
    }
   ],
   "source": [
    "params"
   ]
  },
  {
   "cell_type": "code",
   "execution_count": 14,
   "id": "dfdd7fe8",
   "metadata": {},
   "outputs": [
    {
     "data": {
      "image/png": "[encoded data removed]",
      "text/plain": [
       "<Figure size 432x288 with 1 Axes>"
      ]
     },
     "metadata": {
      "needs_background": "light"
     },
     "output_type": "display_data"
    }
   ],
   "source": [
    "for key in {key: params for key, params in all_params.items() if params['Thickness_sample'] == 1.0}:\n",
    "    data=all_data[key]\n",
    "    thickness=all_params[key]['Thickness_sample']\n",
    "    rtip= all_params[key]['Rtip']\n",
    "    er=all_params[key]['eps_r']\n",
    "    s=slice(8,-8)\n",
    "    plt.plot(data['z'][s], data['alpha'][s], label=f'{rtip} nm, {er}, {thickness} nm' )\n",
    "    \n",
    "plt.title('alpha vs. Z for 1.0nm')    \n",
    "plt.ylabel(\"$\\\\alpha$\")\n",
    "plt.xlabel(\"Z(m)\")\n",
    "plt.legend()\n",
    "plt.savefig(\"Alpha v. Z for varying sample thickness, 06-28-2021.png\")"
   ]
  },
  {
   "cell_type": "code",
   "execution_count": 15,
   "id": "09a2ae9a",
   "metadata": {},
   "outputs": [
    {
     "data": {
      "text/plain": [
       "{'z': array([150., 152., 154., 156., 158., 160., 162., 164., 166., 168., 170.,\n",
       "        172., 174., 176., 178., 180., 182., 184., 186., 188., 190., 192.,\n",
       "        194., 196., 198., 200., 202., 204., 206., 208., 210., 212., 214.,\n",
       "        216., 218., 220., 222., 224., 226., 228., 230., 232., 234., 236.,\n",
       "        238., 240., 242., 244., 246., 248.]),\n",
       " 'c': array([7.21290276e-18, 7.20583492e-18, 7.19893379e-18, 7.19219353e-18,\n",
       "        7.18560858e-18, 7.17917361e-18, 7.17288355e-18, 7.16673355e-18,\n",
       "        7.16071899e-18, 7.15483542e-18, 7.14907861e-18, 7.14344450e-18,\n",
       "        7.13792920e-18, 7.13252900e-18, 7.12724031e-18, 7.12205972e-18,\n",
       "        7.11698394e-18, 7.11200982e-18, 7.10713433e-18, 7.10235457e-18,\n",
       "        7.09766773e-18, 7.09307114e-18, 7.08856221e-18, 7.08413844e-18,\n",
       "        7.07979746e-18, 7.07553695e-18, 7.07135469e-18, 7.06724855e-18,\n",
       "        7.06321647e-18, 7.05925646e-18, 7.05536659e-18, 7.05154503e-18,\n",
       "        7.04778999e-18, 7.04409974e-18, 7.04047263e-18, 7.03690703e-18,\n",
       "        7.03340141e-18, 7.02995425e-18, 7.02656412e-18, 7.02322959e-18,\n",
       "        7.01994932e-18, 7.01672199e-18, 7.01354633e-18, 7.01042110e-18,\n",
       "        7.00734512e-18, 7.00431722e-18, 7.00133630e-18, 6.99840125e-18,\n",
       "        6.99551104e-18, 6.99266464e-18]),\n",
       " 'cz': array([-3.53391984e-12, -3.49224210e-12, -3.41034660e-12, -3.33130353e-12,\n",
       "        -3.25498167e-12, -3.18125729e-12, -3.11001363e-12, -3.04114042e-12,\n",
       "        -2.97453348e-12, -2.91009427e-12, -2.84772959e-12, -2.78735120e-12,\n",
       "        -2.72887549e-12, -2.67222323e-12, -2.61731927e-12, -2.56409230e-12,\n",
       "        -2.51247462e-12, -2.46240191e-12, -2.41381305e-12, -2.36664989e-12,\n",
       "        -2.32085713e-12, -2.27638212e-12, -2.23317473e-12, -2.19118716e-12,\n",
       "        -2.15037389e-12, -2.11069148e-12, -2.07209848e-12, -2.03455534e-12,\n",
       "        -1.99802428e-12, -1.96246921e-12, -1.92785563e-12, -1.89415056e-12,\n",
       "        -1.86132245e-12, -1.82934112e-12, -1.79817766e-12, -1.76780439e-12,\n",
       "        -1.73819480e-12, -1.70932348e-12, -1.68116607e-12, -1.65369921e-12,\n",
       "        -1.62690047e-12, -1.60074835e-12, -1.57522219e-12, -1.55030216e-12,\n",
       "        -1.52596921e-12, -1.50220503e-12, -1.47899201e-12, -1.45631323e-12,\n",
       "        -1.43415240e-12, -1.42319949e-12]),\n",
       " 'czz': array([2.08388691e-05, 3.08933086e-05, 4.02346425e-05, 3.88412332e-05,\n",
       "        3.75115592e-05, 3.62420097e-05, 3.50292172e-05, 3.38700388e-05,\n",
       "        3.27615382e-05, 3.17009707e-05, 3.06857682e-05, 2.97135266e-05,\n",
       "        2.87819930e-05, 2.78890553e-05, 2.70327317e-05, 2.62111615e-05,\n",
       "        2.54225967e-05, 2.46653936e-05, 2.39380061e-05, 2.32389790e-05,\n",
       "        2.25669412e-05, 2.19206010e-05, 2.12987398e-05, 2.07002083e-05,\n",
       "        2.01239211e-05, 1.95688529e-05, 1.90340349e-05, 1.85185509e-05,\n",
       "        1.80215338e-05, 1.75421633e-05, 1.70796620e-05, 1.66332936e-05,\n",
       "        1.62023600e-05, 1.57861990e-05, 1.53841824e-05, 1.49957136e-05,\n",
       "        1.46202262e-05, 1.42571819e-05, 1.39060691e-05, 1.35664010e-05,\n",
       "        1.32377147e-05, 1.29195697e-05, 1.26115461e-05, 1.23132445e-05,\n",
       "        1.20242839e-05, 1.17443013e-05, 1.14729503e-05, 1.12099006e-05,\n",
       "        8.27843449e-06, 5.47645824e-06]),\n",
       " 'alpha': array([0.1661725 , 0.10956957, 0.08030798, 0.07945185, 0.07861373,\n",
       "        0.07779306, 0.0769893 , 0.07620193, 0.07543047, 0.07467443,\n",
       "        0.07393336, 0.07320681, 0.07249438, 0.07179565, 0.07111023,\n",
       "        0.07043774, 0.06977783, 0.06913015, 0.06849435, 0.06787012,\n",
       "        0.06725715, 0.06665513, 0.06606377, 0.06548279, 0.06491193,\n",
       "        0.06435092, 0.0637995 , 0.06325744, 0.06272451, 0.06220046,\n",
       "        0.06168508, 0.06117817, 0.0606795 , 0.06018889, 0.05970613,\n",
       "        0.05923105, 0.05876346, 0.05830319, 0.05785006, 0.05740392,\n",
       "        0.05696459, 0.05653193, 0.05610578, 0.05568601, 0.05527246,\n",
       "        0.05486501, 0.05446351, 0.05406784, 0.07103182, 0.10578378])}"
      ]
     },
     "execution_count": 15,
     "metadata": {},
     "output_type": "execute_result"
    }
   ],
   "source": [
    "data"
   ]
  },
  {
   "cell_type": "code",
   "execution_count": 16,
   "id": "77a6dac6",
   "metadata": {},
   "outputs": [],
   "source": [
    "from scipy.optimize import curve_fit\n"
   ]
  },
  {
   "cell_type": "code",
   "execution_count": 53,
   "id": "1d38575b",
   "metadata": {},
   "outputs": [
    {
     "data": {
      "text/plain": [
       "2e-09"
      ]
     },
     "execution_count": 53,
     "metadata": {},
     "output_type": "execute_result"
    }
   ],
   "source": []
  },
  {
   "cell_type": "code",
   "execution_count": 56,
   "id": "7f208fb9",
   "metadata": {},
   "outputs": [
    {
     "data": {
      "text/plain": [
       "[<matplotlib.lines.Line2D at 0x1e3ea80bd90>]"
      ]
     },
     "execution_count": 56,
     "metadata": {},
     "output_type": "execute_result"
    },
    {
     "data": {
      "image/png": "[encoded data removed]",
      "text/plain": [
       "<Figure size 432x288 with 1 Axes>"
      ]
     },
     "metadata": {
      "needs_background": "light"
     },
     "output_type": "display_data"
    }
   ],
   "source": []
  },
  {
   "cell_type": "code",
   "execution_count": 57,
   "id": "f5c01e22",
   "metadata": {},
   "outputs": [
    {
     "data": {
      "text/plain": [
       "[<matplotlib.lines.Line2D at 0x1e3ea8648b0>]"
      ]
     },
     "execution_count": 57,
     "metadata": {},
     "output_type": "execute_result"
    },
    {
     "data": {
      "image/png": "[encoded data removed]",
      "text/plain": [
       "<Figure size 432x288 with 1 Axes>"
      ]
     },
     "metadata": {
      "needs_background": "light"
     },
     "output_type": "display_data"
    }
   ],
   "source": []
  },
  {
   "cell_type": "code",
   "execution_count": 63,
   "id": "6568ea3f",
   "metadata": {},
   "outputs": [
    {
     "data": {
      "text/plain": [
       "[<matplotlib.lines.Line2D at 0x1e3ea854460>]"
      ]
     },
     "execution_count": 63,
     "metadata": {},
     "output_type": "execute_result"
    },
    {
     "data": {
      "image/png": "[encoded data removed]",
      "text/plain": [
       "<Figure size 432x288 with 1 Axes>"
      ]
     },
     "metadata": {
      "needs_background": "light"
     },
     "output_type": "display_data"
    }
   ],
   "source": [
    "czz_exact=np.gradient(cz_exact/dz)\n",
    "s=slice(5,-5)\n",
    "czz_exact\n",
    "plt.plot(czz_exact[s])alpha_exact=(2*(cz_exact**2/c_exact)/czz_exact)\n",
    "alpha_exact\n",
    "s=slice(8,-8)\n",
    "plt.plot(alpha_exact[s])"
   ]
  },
  {
   "cell_type": "code",
   "execution_count": 64,
   "id": "73ba25df",
   "metadata": {},
   "outputs": [
    {
     "data": {
      "text/plain": [
       "[<matplotlib.lines.Line2D at 0x1e3ea98e310>]"
      ]
     },
     "execution_count": 64,
     "metadata": {},
     "output_type": "execute_result"
    },
    {
     "data": {
      "image/png": "[encoded data removed]",
      "text/plain": [
       "<Figure size 432x288 with 1 Axes>"
      ]
     },
     "metadata": {
      "needs_background": "light"
     },
     "output_type": "display_data"
    }
   ],
   "source": [
    "alpha_exact=(2*(cz_exact**2/c_exact)/czz_exact)\n",
    "alpha_exact\n",
    "s=slice(8,-8)\n",
    "plt.plot(alpha_exact[s])"
   ]
  },
  {
   "cell_type": "code",
   "execution_count": null,
   "id": "0f6b99eb",
   "metadata": {},
   "outputs": [],
   "source": []
  },
  {
   "cell_type": "code",
   "execution_count": 60,
   "id": "49b30168",
   "metadata": {},
   "outputs": [],
   "source": [
    "def Cz_model(z, a, n, b,):\n",
    "    return(a*z**n + b)"
   ]
  },
  {
   "cell_type": "code",
   "execution_count": 19,
   "id": "87212141",
   "metadata": {},
   "outputs": [
    {
     "data": {
      "text/plain": [
       "dict_keys(['SphereTest_P\\\\0322-Spheretest-0000\\\\', 'SphereTest_P\\\\0324-Spheretest-0002\\\\', 'SphereTest_P\\\\0326-Spheretest-0001\\\\'])"
      ]
     },
     "execution_count": 19,
     "metadata": {},
     "output_type": "execute_result"
    }
   ],
   "source": [
    "all_data.keys()"
   ]
  },
  {
   "cell_type": "code",
   "execution_count": 20,
   "id": "74215bd0",
   "metadata": {},
   "outputs": [
    {
     "ename": "KeyError",
     "evalue": "'capsol-calc\\\\0001-capsol\\\\'",
     "output_type": "error",
     "traceback": [
      "\u001b[1;31m---------------------------------------------------------------------------\u001b[0m",
      "\u001b[1;31mKeyError\u001b[0m                                  Traceback (most recent call last)",
      "\u001b[1;32m<ipython-input-20-23a180486cb5>\u001b[0m in \u001b[0;36m<module>\u001b[1;34m\u001b[0m\n\u001b[1;32m----> 1\u001b[1;33m \u001b[0mdata\u001b[0m\u001b[1;33m=\u001b[0m \u001b[0mall_data\u001b[0m\u001b[1;33m[\u001b[0m\u001b[1;34m'capsol-calc\\\\0001-capsol\\\\'\u001b[0m\u001b[1;33m]\u001b[0m\u001b[1;33m\u001b[0m\u001b[1;33m\u001b[0m\u001b[0m\n\u001b[0m\u001b[0;32m      2\u001b[0m \u001b[0mz\u001b[0m\u001b[1;33m=\u001b[0m \u001b[0mdata\u001b[0m\u001b[1;33m[\u001b[0m\u001b[1;34m'z'\u001b[0m\u001b[1;33m]\u001b[0m\u001b[1;33m[\u001b[0m\u001b[1;36m1\u001b[0m\u001b[1;33m:\u001b[0m\u001b[1;33m-\u001b[0m\u001b[1;36m1\u001b[0m\u001b[1;33m]\u001b[0m\u001b[1;33m\u001b[0m\u001b[1;33m\u001b[0m\u001b[0m\n\u001b[0;32m      3\u001b[0m \u001b[0mcz\u001b[0m\u001b[1;33m=\u001b[0m \u001b[0mdata\u001b[0m\u001b[1;33m[\u001b[0m\u001b[1;34m'cz'\u001b[0m\u001b[1;33m]\u001b[0m\u001b[1;33m[\u001b[0m\u001b[1;36m1\u001b[0m\u001b[1;33m:\u001b[0m\u001b[1;33m-\u001b[0m\u001b[1;36m1\u001b[0m\u001b[1;33m]\u001b[0m\u001b[1;33m\u001b[0m\u001b[1;33m\u001b[0m\u001b[0m\n",
      "\u001b[1;31mKeyError\u001b[0m: 'capsol-calc\\\\0001-capsol\\\\'"
     ]
    }
   ],
   "source": [
    "data= all_data['capsol-calc\\\\0001-capsol\\\\']\n",
    "z= data['z'][1:-1]\n",
    "cz= data['cz'][1:-1]"
   ]
  },
  {
   "cell_type": "code",
   "execution_count": null,
   "id": "8ff0827e",
   "metadata": {},
   "outputs": [],
   "source": [
    "popt, pcov= curve_fit(Cz_model, z, cz, p0=[cz[0]*z[0], -1, 0])\n",
    "a=popt[0]\n",
    "n=popt[1]\n",
    "b=popt[2]\n",
    "std_devs= np.sqrt(pcov.diagonal())\n",
    "sigma_a = std_devs[0]\n",
    "sigma_n = std_devs[1]\n",
    "model_output= Cz_model(z, a, n, b)\n",
    "rmse= np.sqrt(np.mean((cz - model_output)**2))\n"
   ]
  },
  {
   "cell_type": "code",
   "execution_count": null,
   "id": "42e9d139",
   "metadata": {},
   "outputs": [],
   "source": [
    "f\"a= {a} ± {sigma_a}\""
   ]
  },
  {
   "cell_type": "code",
   "execution_count": null,
   "id": "05e99973",
   "metadata": {},
   "outputs": [],
   "source": [
    "f\"n= {n}± {sigma_n}\""
   ]
  },
  {
   "cell_type": "code",
   "execution_count": null,
   "id": "e495fee8",
   "metadata": {},
   "outputs": [],
   "source": [
    "model_output"
   ]
  },
  {
   "cell_type": "code",
   "execution_count": null,
   "id": "dbd0d394",
   "metadata": {},
   "outputs": [],
   "source": [
    "\"Root Mean Square Error\""
   ]
  },
  {
   "cell_type": "code",
   "execution_count": null,
   "id": "b351ff7e",
   "metadata": {},
   "outputs": [],
   "source": [
    "rmse/np.mean(-cz)"
   ]
  },
  {
   "cell_type": "code",
   "execution_count": null,
   "id": "86949536",
   "metadata": {},
   "outputs": [],
   "source": []
  }
 ],
 "metadata": {
  "kernelspec": {
   "display_name": "Python 3",
   "language": "python",
   "name": "python3"
  },
  "language_info": {
   "codemirror_mode": {
    "name": "ipython",
    "version": 3
   },
   "file_extension": ".py",
   "mimetype": "text/x-python",
   "name": "python",
   "nbconvert_exporter": "python",
   "pygments_lexer": "ipython3",
   "version": "3.8.8"
  }
 },
 "nbformat": 4,
 "nbformat_minor": 5
}
