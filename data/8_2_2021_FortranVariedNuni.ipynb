{
 "cells": [
  {
   "cell_type": "markdown",
   "id": "7909fa0a",
   "metadata": {},
   "source": [
    "##Tirmzi Analysis\n",
    "n=1000 m+=1000 nm-=120 istep= 4 min=150 max=700"
   ]
  },
  {
   "cell_type": "code",
   "execution_count": 1,
   "id": "63afb62c",
   "metadata": {},
   "outputs": [],
   "source": [
    "import sys\n",
    "sys.path\n",
    "import matplotlib.pyplot as plt\n",
    "import numpy as np\n",
    "import os\n",
    "from scipy import signal"
   ]
  },
  {
   "cell_type": "code",
   "execution_count": 2,
   "id": "8bec0f1d",
   "metadata": {
    "scrolled": true
   },
   "outputs": [
    {
     "name": "stdout",
     "output_type": "stream",
     "text": [
      " Volume in drive C is Local Disk\n",
      " Volume Serial Number is AA1B-997A\n",
      "\n",
      " Directory of C:\\Users\\emaro\\OneDrive - University of Mount Union\\XSEDE Summer 2021\\xsede-spm\\data\n",
      "\n",
      "08/02/2021  02:16 PM    <DIR>          .\n",
      "08/02/2021  02:16 PM    <DIR>          ..\n",
      "08/02/2021  02:04 PM    <DIR>          .ipynb_checkpoints\n",
      "08/02/2021  02:01 PM    <DIR>          0309-VariedNuni_8_2_2021-0000\n",
      "08/02/2021  02:15 PM    <DIR>          8_2_2021\n",
      "08/02/2021  02:15 PM            31,422 C' v. Z for 1nm thick sample 06-28-2021.png\n",
      "08/02/2021  02:15 PM             6,179 C' v. Z for varying sample thickness, 06-28-2021.png\n",
      "08/02/2021  02:15 PM             5,715 Cz v. Z for varying sample thickness, 06-28-2021.png\n",
      "08/02/2021  02:15 PM    <DIR>          FortranOutputTest\n",
      "07/28/2021  11:43 AM    <DIR>          PythonOutputTest\n",
      "07/28/2021  11:49 AM            57,907 Tirmzi_istep4.ipynb\n",
      "08/02/2021  02:16 PM           134,865 Tirmzi_istep4-Copy1.ipynb\n",
      "07/28/2021  11:43 AM           113,265 Tirmzi_istep4-Copy2.ipynb\n",
      "               6 File(s)        349,353 bytes\n",
      "               7 Dir(s)  145,768,009,728 bytes free\n"
     ]
    }
   ],
   "source": [
    "ls"
   ]
  },
  {
   "cell_type": "code",
   "execution_count": 3,
   "id": "b2bdd91e",
   "metadata": {},
   "outputs": [],
   "source": [
    "import capsol.newanalyzecapsol as ac"
   ]
  },
  {
   "cell_type": "code",
   "execution_count": 4,
   "id": "74d01467",
   "metadata": {},
   "outputs": [
    {
     "data": {
      "text/plain": [
       "<function capsol.newanalyzecapsol.get_gridparameters(f_name)>"
      ]
     },
     "execution_count": 4,
     "metadata": {},
     "output_type": "execute_result"
    }
   ],
   "source": [
    "ac.get_gridparameters"
   ]
  },
  {
   "cell_type": "code",
   "execution_count": 5,
   "id": "234f74d8",
   "metadata": {},
   "outputs": [],
   "source": [
    "import glob"
   ]
  },
  {
   "cell_type": "code",
   "execution_count": 6,
   "id": "5766fac7",
   "metadata": {},
   "outputs": [
    {
     "data": {
      "text/plain": [
       "['8_2_2021\\\\0309-VariedNuni_8_2_2021-0000 (1)\\\\',\n",
       " '8_2_2021\\\\0311-VariedNuni_8_2_2021-0001 (1)\\\\',\n",
       " '8_2_2021\\\\0313-VariedNuni_8_2_2021-0002 (1)\\\\']"
      ]
     },
     "execution_count": 6,
     "metadata": {},
     "output_type": "execute_result"
    }
   ],
   "source": [
    "folders = glob.glob(\"8_2_2021/*/\")\n",
    "folders\n"
   ]
  },
  {
   "cell_type": "code",
   "execution_count": 7,
   "id": "0f240774",
   "metadata": {
    "scrolled": false
   },
   "outputs": [],
   "source": [
    "all_data= dict() \n",
    "for folder in folders:\n",
    "    params = ac.get_gridparameters(folder + 'capsol.in')\n",
    "    data = ac.np.loadtxt(folder + 'Z-U.dat')\n",
    "    process_data = ac.process_data(params, data, smoothing=False, std=5*10**-9)\n",
    "    all_data[folder]= (process_data)\n",
    "all_params= dict()\n",
    "for folder in folders:\n",
    "    params=ac.get_gridparameters(folder + 'capsol.in')\n",
    "    all_params[folder]= (params)"
   ]
  },
  {
   "cell_type": "code",
   "execution_count": 8,
   "id": "a27efec2",
   "metadata": {},
   "outputs": [
    {
     "data": {
      "text/plain": [
       "{'8_2_2021\\\\0309-VariedNuni_8_2_2021-0000 (1)\\\\': {'z': array([150.    , 152.0001, 153.9999, 156.    , 158.0001, 159.9999,\n",
       "         162.    , 164.0001, 165.9999, 168.    , 170.0001, 171.9999,\n",
       "         174.    , 176.0001, 177.9999, 180.    , 182.0001, 183.9999,\n",
       "         186.    , 188.0001, 189.9999, 192.    , 194.0001, 195.9999,\n",
       "         198.    , 200.0001, 201.9999, 204.    , 206.0001, 207.9999,\n",
       "         210.    , 212.0001, 213.9999, 216.    , 218.0001, 219.9999,\n",
       "         222.    , 224.0001, 225.9999, 228.    , 230.0001, 231.9999,\n",
       "         234.    , 236.0001, 237.9999, 240.    , 242.0001, 243.9999,\n",
       "         246.    , 248.0001, 249.9999]),\n",
       "  'c': array([1.70048940e-15, 5.81749306e+05, 1.70009620e-15, 5.93635736e+05,\n",
       "         5.95317218e+05, 5.91558808e+05, 5.88284790e+05, 5.71412836e+05,\n",
       "         4.83724059e+05, 5.70018028e+05, 5.84566526e+05, 6.01865353e+05,\n",
       "         5.86979479e+05, 5.85711677e+05, 5.80515784e+05, 5.79279167e+05,\n",
       "         5.65278832e+05, 5.73983947e+05, 1.69703912e-15, 5.57068834e+05,\n",
       "         5.52444477e+05, 5.62292165e+05, 5.68960814e+05, 5.57673699e+05,\n",
       "         5.57938961e+05, 5.19727076e+05, 5.39138339e+05, 5.49224008e+05,\n",
       "         5.64475363e+05, 5.55240886e+05, 5.67785429e+05, 5.61126519e+05,\n",
       "         5.30812015e+05, 5.47733645e+05, 5.74855993e+05, 1.69393681e-15,\n",
       "         5.40881579e+05, 5.40488511e+05, 5.60114916e+05, 5.47861477e+05,\n",
       "         5.59494863e+05, 5.38117198e+05, 5.43154842e+05, 5.37595854e+05,\n",
       "         5.45008266e+05, 5.43119611e+05, 5.36462928e+05, 5.29474410e+05,\n",
       "         5.08366854e+05, 4.44507506e+05, 5.37920580e+05]),\n",
       "  'cz': array([ 2.90860110e+14, -9.82956324e-11,  2.97145903e+12,  1.48821863e+14,\n",
       "         -5.19206209e+11, -1.75801906e+12, -5.03624098e+12, -2.61388760e+13,\n",
       "         -3.48684564e+11,  2.52093564e+13,  7.96143305e+12,  6.03208087e+11,\n",
       "         -4.03821697e+12, -1.61584293e+12, -1.60804729e+12, -3.80904754e+12,\n",
       "         -1.32373885e+12, -1.41312642e+14, -4.22856671e+12,  1.38104214e+14,\n",
       "          1.30576736e+12,  4.12887758e+12, -1.15455855e+12, -2.75532546e+12,\n",
       "         -9.48618147e+12, -4.69992055e+12,  7.37386424e+12,  6.33393942e+12,\n",
       "          1.50414430e+12,  8.27475247e+11,  1.47133459e+12, -9.24289144e+12,\n",
       "         -3.34805104e+12,  1.10104438e+13, -1.36926565e+14, -8.49317863e+12,\n",
       "          1.35115372e+14,  4.80809373e+12,  1.84314950e+12, -1.55005454e+11,\n",
       "         -2.43594809e+12, -4.08480100e+12, -1.30329328e+11,  4.63332902e+11,\n",
       "          1.38087006e+12, -2.13622777e+12, -3.41112964e+12, -7.02366727e+12,\n",
       "         -2.12406640e+13,  7.38806203e+12,  4.67042018e+13]),\n",
       "  'czz': array([-1.45422784e+23, -7.19685643e+22,  3.72036057e+22, -8.72622678e+20,\n",
       "         -3.76430885e+22, -1.12920223e+21, -6.09490948e+21,  1.17183051e+21,\n",
       "          1.28364163e+22,  2.07742553e+21, -6.15122952e+21, -2.99976252e+21,\n",
       "         -5.54735019e+20,  6.07512044e+20, -5.48273739e+20,  7.10735550e+19,\n",
       "         -3.43741800e+22, -7.26170656e+20,  6.98507216e+22,  1.38351434e+21,\n",
       "         -3.34921595e+22, -6.15050725e+20, -1.72096471e+21, -2.08280159e+21,\n",
       "         -4.86124468e+20,  4.21480069e+21,  2.75832708e+21, -1.46735662e+21,\n",
       "         -1.37654722e+21, -8.20201831e+18, -2.51746580e+21, -1.20478617e+21,\n",
       "          5.06308066e+21, -3.33929588e+22, -4.87566183e+21,  6.80070838e+22,\n",
       "          3.32515183e+21, -3.33163898e+22, -1.24071276e+21, -1.06972091e+21,\n",
       "         -9.82399768e+20,  5.76375873e+20,  1.13697663e+21,  3.77780958e+20,\n",
       "         -6.49857676e+20, -1.19794003e+21, -1.22179878e+21, -4.45716073e+21,\n",
       "          3.60275219e+21,  1.69853672e+22,  1.96570870e+22]),\n",
       "  'alpha': array([-6.84213975e+20, -4.61551031e-49,  2.79197136e+17, -8.55100065e+01,\n",
       "         -2.40589161e-05, -9.25353131e-03, -1.41477742e-02,  2.04074630e+00,\n",
       "          3.91610168e-05,  1.07334529e+00, -3.52546669e-02, -4.03067785e-04,\n",
       "         -1.00161494e-01,  1.46753851e-02, -1.62486076e-02,  7.04801523e-01,\n",
       "         -1.80359723e-04, -9.58194314e+01,  3.01684931e+17,  4.94938605e+01,\n",
       "         -1.84301905e-04, -9.85873158e-02, -2.72274896e-03, -1.30721716e-02,\n",
       "         -6.63557684e-01,  2.01678055e-02,  7.31264165e-02, -9.95617722e-02,\n",
       "         -5.82335004e-03, -3.00703058e-01, -3.02904037e-03, -2.52740554e-01,\n",
       "          8.34177641e-03, -1.32560864e-02, -1.33786651e+01,  1.25233107e+18,\n",
       "          2.03013933e+01, -2.56762411e-03, -9.77693512e-03, -8.19941186e-05,\n",
       "         -2.15914446e-02,  1.07594269e-01,  5.50096795e-05,  2.11407457e-03,\n",
       "         -1.07674851e-02, -1.40279610e-02, -3.55047975e-02, -4.18075371e-02,\n",
       "          4.92668229e-01,  1.44589589e-02,  4.12576592e-01])},\n",
       " '8_2_2021\\\\0311-VariedNuni_8_2_2021-0001 (1)\\\\': {'z': array([150.    , 152.0001, 153.9999, 156.    , 158.0001, 159.9999,\n",
       "         162.    , 164.0001, 165.9999, 168.    , 170.0001, 171.9999,\n",
       "         174.    , 176.0001, 177.9999, 180.    , 182.0001, 183.9999,\n",
       "         186.    , 188.0001, 189.9999, 192.    , 194.0001, 195.9999,\n",
       "         198.    , 200.0001, 201.9999, 204.    , 206.0001, 207.9999,\n",
       "         210.    , 212.0001, 213.9999, 216.    , 218.0001, 219.9999,\n",
       "         222.    , 224.0001, 225.9999, 228.    , 230.0001, 231.9999,\n",
       "         234.    , 236.0001, 237.9999, 240.    , 242.0001, 243.9999,\n",
       "         246.    , 248.0001, 249.9999]),\n",
       "  'c': array([1.69979329e-15, 5.99081270e+05, 1.69939967e-15, 6.11785147e+05,\n",
       "         6.13681504e+05, 6.11018461e+05, 6.09631639e+05, 5.97326071e+05,\n",
       "         5.14737764e+05, 5.78665932e+05, 5.98536803e+05, 6.18892176e+05,\n",
       "         6.05141690e+05, 6.04170034e+05, 5.99652022e+05, 5.98495697e+05,\n",
       "         5.83507584e+05, 5.93318346e+05, 1.69633858e-15, 5.74388998e+05,\n",
       "         5.70362548e+05, 5.81241473e+05, 5.88396459e+05, 5.77726435e+05,\n",
       "         5.80677571e+05, 5.34048223e+05, 5.53958006e+05, 5.65220294e+05,\n",
       "         5.82261220e+05, 5.73029004e+05, 5.85908646e+05, 5.80255380e+05,\n",
       "         5.47534607e+05, 5.63863521e+05, 5.95480791e+05, 1.69323193e-15,\n",
       "         5.57315295e+05, 5.56885868e+05, 5.78451481e+05, 5.64398967e+05,\n",
       "         5.78642692e+05, 5.55267631e+05, 5.60567466e+05, 5.56194794e+05,\n",
       "         5.63695050e+05, 5.62985709e+05, 5.57480628e+05, 5.53009555e+05,\n",
       "         5.36928479e+05, 4.85675842e+05, 5.59331983e+05]),\n",
       "  'cz': array([ 2.99525658e+14, -9.83999360e-11,  3.17581048e+12,  1.53412705e+14,\n",
       "         -1.91661881e+11, -1.01241581e+12, -3.42292636e+12, -2.37222824e+13,\n",
       "         -4.66480156e+12,  2.09487122e+13,  1.00560583e+13,  1.65113924e+12,\n",
       "         -3.68035161e+12, -1.37234846e+12, -1.41851320e+12, -4.03590769e+12,\n",
       "         -1.29427311e+12, -1.45869603e+14, -4.73210027e+12,  1.42583508e+14,\n",
       "          1.71303295e+12,  4.50825241e+12, -8.78715392e+11, -1.92962546e+12,\n",
       "         -1.09190072e+13, -6.67955746e+12,  7.79262825e+12,  7.07544979e+12,\n",
       "          1.95207992e+12,  9.11810897e+11,  1.80650350e+12, -9.59302999e+12,\n",
       "         -4.09775967e+12,  1.19859466e+13, -1.40958832e+14, -9.54089701e+12,\n",
       "          1.39214506e+14,  5.28378243e+12,  1.87818088e+12,  4.78002148e+10,\n",
       "         -2.28271997e+12, -4.51858055e+12,  2.31779099e+11,  7.81857062e+11,\n",
       "          1.69764401e+12, -1.55352784e+12, -2.49391373e+12, -5.13778045e+12,\n",
       "         -1.68325868e+13,  5.60059601e+12,  3.68262292e+13]),\n",
       "  'czz': array([-1.49755341e+23, -7.40837578e+22,  3.83512588e+22, -8.41825998e+20,\n",
       "         -3.86043501e+22, -8.07775732e+20, -5.67718280e+21, -3.10453277e+20,\n",
       "          1.11671903e+22,  3.68003097e+21, -4.82415203e+21, -3.43393079e+21,\n",
       "         -7.55834135e+20,  5.65431331e+20, -6.65856513e+20,  3.10584693e+19,\n",
       "         -3.54566509e+22, -8.59413820e+20,  7.21096721e+22,  1.61120275e+21,\n",
       "         -3.45170880e+22, -6.47904690e+20, -1.60938900e+21, -2.50994745e+21,\n",
       "         -1.18742363e+21,  4.67767498e+21,  3.43857988e+21, -1.46006408e+21,\n",
       "         -1.54083268e+21, -3.63922843e+19, -2.62607892e+21, -1.47599199e+21,\n",
       "          5.39447443e+21, -3.42135575e+22, -5.38144184e+21,  7.00398327e+22,\n",
       "          3.70598456e+21, -3.43323647e+22, -1.30893011e+21, -1.04017320e+21,\n",
       "         -1.14153811e+21,  6.28593338e+20,  1.32504315e+21,  3.66447905e+20,\n",
       "         -5.83817035e+20, -1.04783704e+21, -8.96018351e+20, -3.58448903e+21,\n",
       "          2.68445989e+21,  1.34140333e+22,  1.56120360e+22]),\n",
       "  'alpha': array([-7.04887205e+20, -4.36325789e-49,  3.09502383e+17, -9.13968843e+01,\n",
       "         -3.10114596e-06, -4.15338987e-03, -6.77056220e-03, -6.06925272e+00,\n",
       "          7.57122921e-03,  4.12159456e-01, -7.00444481e-02, -2.56561133e-03,\n",
       "         -5.92277240e-02,  1.10260447e-02, -1.00789851e-02,  1.75255382e+00,\n",
       "         -1.61933848e-04, -8.34582904e+01,  3.66127047e+17,  4.39351667e+01,\n",
       "         -2.98109818e-04, -1.07939083e-01, -1.63078003e-03, -5.13557606e-03,\n",
       "         -3.45824344e-01,  3.57202804e-02,  6.37590667e-02, -1.21324480e-01,\n",
       "         -8.49477411e-03, -7.97358504e-02, -4.24199284e-03, -2.14900993e-01,\n",
       "          1.13700468e-02, -1.48936945e-02, -1.24007564e+01,  1.53513602e+18,\n",
       "          1.87669809e+01, -2.92045106e-03, -9.31797262e-03, -7.78391026e-06,\n",
       "         -1.57773618e-02,  1.16993551e-01,  1.44650728e-04,  5.99854000e-03,\n",
       "         -1.75146822e-02, -8.18232941e-03, -2.49026843e-02, -2.66330674e-02,\n",
       "          3.93150072e-01,  9.62925321e-03,  3.10609906e-01])},\n",
       " '8_2_2021\\\\0313-VariedNuni_8_2_2021-0002 (1)\\\\': {'z': array([150.    , 152.0001, 153.9999, 156.    , 158.0001, 159.9999,\n",
       "         162.    , 164.0001, 165.9999, 168.    , 170.0001, 171.9999,\n",
       "         174.    , 176.0001, 177.9999, 180.    , 182.0001, 183.9999,\n",
       "         186.    , 188.0001, 189.9999, 192.    , 194.0001, 195.9999,\n",
       "         198.    , 200.0001, 201.9999, 204.    , 206.0001, 207.9999,\n",
       "         210.    , 212.0001, 213.9999, 216.    , 218.0001, 219.9999,\n",
       "         222.    , 224.0001, 225.9999, 228.    , 230.0001, 231.9999,\n",
       "         234.    , 236.0001, 237.9999, 240.    , 242.0001, 243.9999,\n",
       "         246.    , 248.0001, 249.9999]),\n",
       "  'c': array([1.70837364e-15, 6.48949429e+05, 1.70797902e-15, 6.64811224e+05,\n",
       "         6.68058822e+05, 6.72663919e+05, 6.87566407e+05, 6.91928648e+05,\n",
       "         5.27553669e+05, 6.03060873e+05, 6.39335769e+05, 6.67709730e+05,\n",
       "         6.56722699e+05, 6.60509757e+05, 6.55720075e+05, 6.56181345e+05,\n",
       "         6.41471920e+05, 6.55824067e+05, 1.70490984e-15, 6.29354584e+05,\n",
       "         6.29178969e+05, 6.42515149e+05, 6.53653695e+05, 6.42868814e+05,\n",
       "         6.47068785e+05, 5.64098733e+05, 6.00790514e+05, 6.16224151e+05,\n",
       "         6.37117381e+05, 6.27361336e+05, 6.45156054e+05, 6.37829092e+05,\n",
       "         5.84989569e+05, 6.13417194e+05, 6.54544583e+05, 1.70179476e-15,\n",
       "         6.02116428e+05, 6.07175744e+05, 6.26104849e+05, 6.15452024e+05,\n",
       "         6.23190330e+05, 6.04790378e+05, 6.11802796e+05, 6.10133247e+05,\n",
       "         6.21877784e+05, 6.27390183e+05, 6.33024290e+05, 6.45386994e+05,\n",
       "         6.49571168e+05, 6.15138338e+05, 6.26491943e+05]),\n",
       "  'cz': array([ 3.24458492e+14, -9.86502644e-11,  3.96525040e+12,  1.67006355e+14,\n",
       "          1.96307559e+12,  4.87665243e+12,  4.81594153e+12, -4.00011844e+13,\n",
       "         -2.22158330e+13,  2.79441278e+13,  1.61614062e+13,  4.34651521e+12,\n",
       "         -1.79990317e+12, -2.50643432e+11, -1.08204884e+12, -3.56186073e+12,\n",
       "         -8.93150998e+10, -1.60359962e+14, -6.61704002e+12,  1.57286878e+14,\n",
       "          3.28997693e+12,  6.11837534e+12,  8.84118314e+10, -1.64614519e+12,\n",
       "         -1.96915357e+13, -1.15689892e+13,  1.30307028e+13,  9.08126271e+12,\n",
       "          2.78415703e+12,  2.00956784e+12,  2.61680830e+12, -1.50408693e+13,\n",
       "         -6.10266932e+12,  1.73878841e+13, -1.53346631e+14, -1.31063833e+13,\n",
       "          1.51786347e+14,  5.99680543e+12,  2.06896661e+12, -7.28593429e+11,\n",
       "         -2.66527815e+12, -2.84674123e+12,  1.33565032e+12,  2.51862115e+12,\n",
       "          4.31401841e+12,  2.78648718e+12,  4.49897775e+12,  4.13651260e+12,\n",
       "         -7.56178579e+12, -5.76951764e+12,  5.67651854e+12]),\n",
       "  'czz': array([-1.62221135e+23, -8.01193044e+22,  4.17495013e+22, -5.00518676e+20,\n",
       "         -4.05303992e+22,  7.13180824e+20, -1.12188983e+22, -6.75760576e+21,\n",
       "          1.69854788e+22,  9.59383010e+21, -5.89910820e+21, -4.49010283e+21,\n",
       "         -1.14923220e+21,  1.79454612e+20, -8.27762936e+20,  2.48171025e+20,\n",
       "         -3.91975655e+22, -1.63184964e+21,  7.94077396e+22,  2.47663041e+21,\n",
       "         -3.77902362e+22, -8.00351257e+20, -1.94103308e+21, -4.94473964e+21,\n",
       "         -2.48058696e+21,  8.18015061e+21,  5.16230485e+21, -2.56150836e+21,\n",
       "         -1.76783533e+21, -4.18350911e+19, -4.26239617e+21, -2.17976042e+21,\n",
       "          8.10678301e+21, -3.68091500e+22, -7.62318569e+21,  7.62794305e+22,\n",
       "          4.77555841e+21, -3.74274736e+22, -1.68126565e+21, -1.18350201e+21,\n",
       "         -5.29510475e+20,  1.00018211e+21,  1.34127353e+21,  7.44554796e+20,\n",
       "          6.69631590e+19,  4.62375224e+19,  3.37489482e+20, -3.01504013e+21,\n",
       "         -2.47638374e+21,  3.30941061e+21,  5.72273195e+21]),\n",
       "  'alpha': array([-7.59727749e+20, -3.74350552e-49,  4.40998800e+17, -1.67639888e+02,\n",
       "         -2.84648211e-04,  9.91461403e-02, -6.01350320e-03, -6.84418175e-01,\n",
       "          1.10156660e-01,  2.69934217e-01, -1.38507382e-01, -1.26028397e-02,\n",
       "         -8.58496380e-03,  1.06000714e-03, -4.31418995e-03,  1.55814873e-01,\n",
       "         -6.34516657e-07, -4.80567499e+01,  6.46834637e+17,  3.17437610e+01,\n",
       "         -9.10462153e-04, -1.45592239e-01, -1.23216853e-05, -1.70490617e-03,\n",
       "         -4.83152535e-01,  5.80102049e-02,  1.09496178e-01, -1.04493189e-01,\n",
       "         -1.37643653e-02, -3.07734985e-01, -4.98029678e-03, -3.25433896e-01,\n",
       "          1.57062679e-02, -2.67800716e-02, -9.42546410e+00,  2.64655609e+18,\n",
       "          1.60247319e+01, -3.16493638e-03, -8.13305203e-03, -1.45759641e-03,\n",
       "         -4.30546250e-02,  2.67942759e-02,  4.34797188e-03,  2.79276460e-02,\n",
       "          8.93826050e-01,  5.35317966e-01,  1.89485974e-01, -1.75867420e-02,\n",
       "         -7.10941807e-02,  3.27028465e-02,  1.79752617e-02])}}"
      ]
     },
     "execution_count": 8,
     "metadata": {},
     "output_type": "execute_result"
    }
   ],
   "source": [
    "all_data"
   ]
  },
  {
   "cell_type": "code",
   "execution_count": 9,
   "id": "bdf1f5d3",
   "metadata": {
    "scrolled": true
   },
   "outputs": [
    {
     "data": {
      "text/plain": [
       "dict_keys(['8_2_2021\\\\0309-VariedNuni_8_2_2021-0000 (1)\\\\', '8_2_2021\\\\0311-VariedNuni_8_2_2021-0001 (1)\\\\', '8_2_2021\\\\0313-VariedNuni_8_2_2021-0002 (1)\\\\'])"
      ]
     },
     "execution_count": 9,
     "metadata": {},
     "output_type": "execute_result"
    }
   ],
   "source": [
    "all_data.keys()"
   ]
  },
  {
   "cell_type": "code",
   "execution_count": null,
   "id": "59fe3797",
   "metadata": {},
   "outputs": [],
   "source": []
  },
  {
   "cell_type": "code",
   "execution_count": 10,
   "id": "c6cac644",
   "metadata": {
    "scrolled": true
   },
   "outputs": [
    {
     "data": {
      "image/png": "[encoded data removed]",
      "text/plain": [
       "<Figure size 432x288 with 1 Axes>"
      ]
     },
     "metadata": {
      "needs_background": "light"
     },
     "output_type": "display_data"
    }
   ],
   "source": [
    "for key in {key: params for key, params in all_params.items() if params['Thickness_sample'] == 1.0}:\n",
    "    data=all_data[key]\n",
    "    thickness =all_params[key]['Thickness_sample']\n",
    "    rtip= all_params[key]['Rtip']\n",
    "    er=all_params[key]['eps_r']\n",
    "    plt.plot(data['z'], data['c'], label= f'{rtip} nm, {er}, {thickness} nm')\n",
    "    \n",
    "    \n",
    "plt.title('C v. Z for 1nm thick sample')    \n",
    "plt.ylabel(\"C(m)\")\n",
    "plt.xlabel(\"Z(m)\")\n",
    "plt.legend()\n",
    "plt.savefig(\"C' v. Z for 1nm thick sample 06-28-2021.png\")"
   ]
  },
  {
   "cell_type": "markdown",
   "id": "0981ee97",
   "metadata": {},
   "source": [
    "cut off last experiment because capacitance was off the scale"
   ]
  },
  {
   "cell_type": "code",
   "execution_count": 11,
   "id": "ad6bf37e",
   "metadata": {},
   "outputs": [
    {
     "data": {
      "image/png": "[encoded data removed]",
      "text/plain": [
       "<Figure size 432x288 with 1 Axes>"
      ]
     },
     "metadata": {
      "needs_background": "light"
     },
     "output_type": "display_data"
    }
   ],
   "source": [
    "for key in {key: params for key, params in all_params.items() if params['Thickness_sample'] == 1.0}:\n",
    "    data=all_data[key]\n",
    "    thickness=all_params[key]['Thickness_sample']\n",
    "    rtip= all_params[key]['Rtip']\n",
    "    er=all_params[key]['eps_r']\n",
    "    s=slice(4,-3)\n",
    "    plt.plot(data['z'][s], data['cz'][s], label=f'{rtip} nm, {er}, {thickness} nm' )\n",
    "    \n",
    "plt.title('Cz vs. Z for 1.0nm')    \n",
    "plt.ylabel(\"Cz\")\n",
    "plt.xlabel(\"Z(m)\")\n",
    "plt.legend()\n",
    "plt.savefig(\"Cz v. Z for varying sample thickness, 06-28-2021.png\")"
   ]
  },
  {
   "cell_type": "code",
   "execution_count": 12,
   "id": "8f02b5cc",
   "metadata": {},
   "outputs": [
    {
     "data": {
      "image/png": "[encoded data removed]",
      "text/plain": [
       "<Figure size 432x288 with 1 Axes>"
      ]
     },
     "metadata": {
      "needs_background": "light"
     },
     "output_type": "display_data"
    }
   ],
   "source": [
    "for key in {key: params for key, params in all_params.items() if params['Thickness_sample'] == 1.0}:\n",
    "    data=all_data[key]\n",
    "    thickness=all_params[key]['Thickness_sample']\n",
    "    rtip= all_params[key]['Rtip']\n",
    "    er=all_params[key]['eps_r']\n",
    "    s=slice(5,-5)\n",
    "    plt.plot(data['z'][s], data['czz'][s], label=f'{rtip} nm, {er}, {thickness} nm' )\n",
    "    \n",
    "plt.title('Czz vs. Z for 1.0nm')    \n",
    "plt.ylabel(\"Czz\")\n",
    "plt.xlabel(\"Z(m)\")\n",
    "plt.legend()\n",
    "plt.savefig(\"Czz v. Z for varying sample thickness, 06-28-2021.png\")"
   ]
  },
  {
   "cell_type": "code",
   "execution_count": 13,
   "id": "eed081f0",
   "metadata": {},
   "outputs": [
    {
     "data": {
      "text/plain": [
       "{'n': 1000,\n",
       " 'm+': 1000,\n",
       " 'm-': 2,\n",
       " 'h0': 0.5,\n",
       " 'rho_max': 1000000.0,\n",
       " 'z_max': 1000000.0,\n",
       " 'min': 150.0,\n",
       " 'max': 250.0,\n",
       " 'istep': 4.0,\n",
       " 'Rtip': 30.0,\n",
       " 'half-angle': 20.0,\n",
       " 'HCone': 15000.0,\n",
       " 'RCantilever': 13750.0,\n",
       " 'thickness_Cantilever': 999.99,\n",
       " 'eps_r': 30.0,\n",
       " 'Thickness_sample': 1.0,\n",
       " 'Solving Method': 'LAPACK',\n",
       " 'Test': 0,\n",
       " 'Verbosity': 1,\n",
       " 'Nuni': 100,\n",
       " 'Equally spaced': False}"
      ]
     },
     "execution_count": 13,
     "metadata": {},
     "output_type": "execute_result"
    }
   ],
   "source": [
    "params"
   ]
  },
  {
   "cell_type": "code",
   "execution_count": 17,
   "id": "dfdd7fe8",
   "metadata": {},
   "outputs": [
    {
     "data": {
      "image/png": "[encoded data removed]",
      "text/plain": [
       "<Figure size 432x288 with 1 Axes>"
      ]
     },
     "metadata": {
      "needs_background": "light"
     },
     "output_type": "display_data"
    }
   ],
   "source": [
    "for key in {key: params for key, params in all_params.items() if params['Thickness_sample'] == 1.0}:\n",
    "    data=all_data[key]\n",
    "    thickness=all_params[key]['Thickness_sample']\n",
    "    rtip= all_params[key]['Rtip']\n",
    "    er=all_params[key]['eps_r']\n",
    "    s=slice(8,-8)\n",
    "    plt.plot(data['z'][s], data['alpha'][s], label=f'{rtip} nm, {er}, {thickness} nm' )\n",
    "    \n",
    "plt.title('alpha vs. Z for 1.0nm')    \n",
    "plt.ylabel(\"$\\\\alpha$\")\n",
    "plt.xlabel(\"Z(m)\")\n",
    "plt.legend()\n",
    "plt.savefig(\"Alpha v. Z for varying sample thickness, 06-28-2021.png\")"
   ]
  },
  {
   "cell_type": "code",
   "execution_count": 21,
   "id": "09a2ae9a",
   "metadata": {},
   "outputs": [
    {
     "data": {
      "text/plain": [
       "{'z': array([150.    , 152.0001, 153.9999, 156.    , 158.0001, 159.9999,\n",
       "        162.    , 164.0001, 165.9999, 168.    , 170.0001, 171.9999,\n",
       "        174.    , 176.0001, 177.9999, 180.    , 182.0001, 183.9999,\n",
       "        186.    , 188.0001, 189.9999, 192.    , 194.0001, 195.9999,\n",
       "        198.    , 200.0001, 201.9999, 204.    , 206.0001, 207.9999,\n",
       "        210.    , 212.0001, 213.9999, 216.    , 218.0001, 219.9999,\n",
       "        222.    , 224.0001, 225.9999, 228.    , 230.0001, 231.9999,\n",
       "        234.    , 236.0001, 237.9999, 240.    , 242.0001, 243.9999,\n",
       "        246.    , 248.0001, 249.9999]),\n",
       " 'c': array([1.70837364e-15, 6.48949429e+05, 1.70797902e-15, 6.64811224e+05,\n",
       "        6.68058822e+05, 6.72663919e+05, 6.87566407e+05, 6.91928648e+05,\n",
       "        5.27553669e+05, 6.03060873e+05, 6.39335769e+05, 6.67709730e+05,\n",
       "        6.56722699e+05, 6.60509757e+05, 6.55720075e+05, 6.56181345e+05,\n",
       "        6.41471920e+05, 6.55824067e+05, 1.70490984e-15, 6.29354584e+05,\n",
       "        6.29178969e+05, 6.42515149e+05, 6.53653695e+05, 6.42868814e+05,\n",
       "        6.47068785e+05, 5.64098733e+05, 6.00790514e+05, 6.16224151e+05,\n",
       "        6.37117381e+05, 6.27361336e+05, 6.45156054e+05, 6.37829092e+05,\n",
       "        5.84989569e+05, 6.13417194e+05, 6.54544583e+05, 1.70179476e-15,\n",
       "        6.02116428e+05, 6.07175744e+05, 6.26104849e+05, 6.15452024e+05,\n",
       "        6.23190330e+05, 6.04790378e+05, 6.11802796e+05, 6.10133247e+05,\n",
       "        6.21877784e+05, 6.27390183e+05, 6.33024290e+05, 6.45386994e+05,\n",
       "        6.49571168e+05, 6.15138338e+05, 6.26491943e+05]),\n",
       " 'cz': array([ 3.24458492e+14, -9.86502644e-11,  3.96525040e+12,  1.67006355e+14,\n",
       "         1.96307559e+12,  4.87665243e+12,  4.81594153e+12, -4.00011844e+13,\n",
       "        -2.22158330e+13,  2.79441278e+13,  1.61614062e+13,  4.34651521e+12,\n",
       "        -1.79990317e+12, -2.50643432e+11, -1.08204884e+12, -3.56186073e+12,\n",
       "        -8.93150998e+10, -1.60359962e+14, -6.61704002e+12,  1.57286878e+14,\n",
       "         3.28997693e+12,  6.11837534e+12,  8.84118314e+10, -1.64614519e+12,\n",
       "        -1.96915357e+13, -1.15689892e+13,  1.30307028e+13,  9.08126271e+12,\n",
       "         2.78415703e+12,  2.00956784e+12,  2.61680830e+12, -1.50408693e+13,\n",
       "        -6.10266932e+12,  1.73878841e+13, -1.53346631e+14, -1.31063833e+13,\n",
       "         1.51786347e+14,  5.99680543e+12,  2.06896661e+12, -7.28593429e+11,\n",
       "        -2.66527815e+12, -2.84674123e+12,  1.33565032e+12,  2.51862115e+12,\n",
       "         4.31401841e+12,  2.78648718e+12,  4.49897775e+12,  4.13651260e+12,\n",
       "        -7.56178579e+12, -5.76951764e+12,  5.67651854e+12]),\n",
       " 'czz': array([-1.62221135e+23, -8.01193044e+22,  4.17495013e+22, -5.00518676e+20,\n",
       "        -4.05303992e+22,  7.13180824e+20, -1.12188983e+22, -6.75760576e+21,\n",
       "         1.69854788e+22,  9.59383010e+21, -5.89910820e+21, -4.49010283e+21,\n",
       "        -1.14923220e+21,  1.79454612e+20, -8.27762936e+20,  2.48171025e+20,\n",
       "        -3.91975655e+22, -1.63184964e+21,  7.94077396e+22,  2.47663041e+21,\n",
       "        -3.77902362e+22, -8.00351257e+20, -1.94103308e+21, -4.94473964e+21,\n",
       "        -2.48058696e+21,  8.18015061e+21,  5.16230485e+21, -2.56150836e+21,\n",
       "        -1.76783533e+21, -4.18350911e+19, -4.26239617e+21, -2.17976042e+21,\n",
       "         8.10678301e+21, -3.68091500e+22, -7.62318569e+21,  7.62794305e+22,\n",
       "         4.77555841e+21, -3.74274736e+22, -1.68126565e+21, -1.18350201e+21,\n",
       "        -5.29510475e+20,  1.00018211e+21,  1.34127353e+21,  7.44554796e+20,\n",
       "         6.69631590e+19,  4.62375224e+19,  3.37489482e+20, -3.01504013e+21,\n",
       "        -2.47638374e+21,  3.30941061e+21,  5.72273195e+21]),\n",
       " 'alpha': array([-7.59727749e+20, -3.74350552e-49,  4.40998800e+17, -1.67639888e+02,\n",
       "        -2.84648211e-04,  9.91461403e-02, -6.01350320e-03, -6.84418175e-01,\n",
       "         1.10156660e-01,  2.69934217e-01, -1.38507382e-01, -1.26028397e-02,\n",
       "        -8.58496380e-03,  1.06000714e-03, -4.31418995e-03,  1.55814873e-01,\n",
       "        -6.34516657e-07, -4.80567499e+01,  6.46834637e+17,  3.17437610e+01,\n",
       "        -9.10462153e-04, -1.45592239e-01, -1.23216853e-05, -1.70490617e-03,\n",
       "        -4.83152535e-01,  5.80102049e-02,  1.09496178e-01, -1.04493189e-01,\n",
       "        -1.37643653e-02, -3.07734985e-01, -4.98029678e-03, -3.25433896e-01,\n",
       "         1.57062679e-02, -2.67800716e-02, -9.42546410e+00,  2.64655609e+18,\n",
       "         1.60247319e+01, -3.16493638e-03, -8.13305203e-03, -1.45759641e-03,\n",
       "        -4.30546250e-02,  2.67942759e-02,  4.34797188e-03,  2.79276460e-02,\n",
       "         8.93826050e-01,  5.35317966e-01,  1.89485974e-01, -1.75867420e-02,\n",
       "        -7.10941807e-02,  3.27028465e-02,  1.79752617e-02])}"
      ]
     },
     "execution_count": 21,
     "metadata": {},
     "output_type": "execute_result"
    }
   ],
   "source": [
    "data"
   ]
  },
  {
   "cell_type": "code",
   "execution_count": 22,
   "id": "77a6dac6",
   "metadata": {},
   "outputs": [],
   "source": [
    "from scipy.optimize import curve_fit\n"
   ]
  },
  {
   "cell_type": "code",
   "execution_count": 23,
   "id": "49b30168",
   "metadata": {},
   "outputs": [],
   "source": [
    "def Cz_model(z, a, n, b,):\n",
    "    return(a*z**n + b)"
   ]
  },
  {
   "cell_type": "code",
   "execution_count": 24,
   "id": "87212141",
   "metadata": {},
   "outputs": [
    {
     "data": {
      "text/plain": [
       "dict_keys(['8_2_2021\\\\0309-VariedNuni_8_2_2021-0000 (1)\\\\', '8_2_2021\\\\0311-VariedNuni_8_2_2021-0001 (1)\\\\', '8_2_2021\\\\0313-VariedNuni_8_2_2021-0002 (1)\\\\'])"
      ]
     },
     "execution_count": 24,
     "metadata": {},
     "output_type": "execute_result"
    }
   ],
   "source": [
    "all_data.keys()"
   ]
  },
  {
   "cell_type": "code",
   "execution_count": 25,
   "id": "74215bd0",
   "metadata": {},
   "outputs": [
    {
     "ename": "KeyError",
     "evalue": "'capsol-calc\\\\0001-capsol\\\\'",
     "output_type": "error",
     "traceback": [
      "\u001b[1;31m---------------------------------------------------------------------------\u001b[0m",
      "\u001b[1;31mKeyError\u001b[0m                                  Traceback (most recent call last)",
      "\u001b[1;32m<ipython-input-25-23a180486cb5>\u001b[0m in \u001b[0;36m<module>\u001b[1;34m\u001b[0m\n\u001b[1;32m----> 1\u001b[1;33m \u001b[0mdata\u001b[0m\u001b[1;33m=\u001b[0m \u001b[0mall_data\u001b[0m\u001b[1;33m[\u001b[0m\u001b[1;34m'capsol-calc\\\\0001-capsol\\\\'\u001b[0m\u001b[1;33m]\u001b[0m\u001b[1;33m\u001b[0m\u001b[1;33m\u001b[0m\u001b[0m\n\u001b[0m\u001b[0;32m      2\u001b[0m \u001b[0mz\u001b[0m\u001b[1;33m=\u001b[0m \u001b[0mdata\u001b[0m\u001b[1;33m[\u001b[0m\u001b[1;34m'z'\u001b[0m\u001b[1;33m]\u001b[0m\u001b[1;33m[\u001b[0m\u001b[1;36m1\u001b[0m\u001b[1;33m:\u001b[0m\u001b[1;33m-\u001b[0m\u001b[1;36m1\u001b[0m\u001b[1;33m]\u001b[0m\u001b[1;33m\u001b[0m\u001b[1;33m\u001b[0m\u001b[0m\n\u001b[0;32m      3\u001b[0m \u001b[0mcz\u001b[0m\u001b[1;33m=\u001b[0m \u001b[0mdata\u001b[0m\u001b[1;33m[\u001b[0m\u001b[1;34m'cz'\u001b[0m\u001b[1;33m]\u001b[0m\u001b[1;33m[\u001b[0m\u001b[1;36m1\u001b[0m\u001b[1;33m:\u001b[0m\u001b[1;33m-\u001b[0m\u001b[1;36m1\u001b[0m\u001b[1;33m]\u001b[0m\u001b[1;33m\u001b[0m\u001b[1;33m\u001b[0m\u001b[0m\n",
      "\u001b[1;31mKeyError\u001b[0m: 'capsol-calc\\\\0001-capsol\\\\'"
     ]
    }
   ],
   "source": [
    "data= all_data['capsol-calc\\\\0001-capsol\\\\']\n",
    "z= data['z'][1:-1]\n",
    "cz= data['cz'][1:-1]"
   ]
  },
  {
   "cell_type": "code",
   "execution_count": null,
   "id": "8ff0827e",
   "metadata": {},
   "outputs": [],
   "source": [
    "popt, pcov= curve_fit(Cz_model, z, cz, p0=[cz[0]*z[0], -1, 0])\n",
    "a=popt[0]\n",
    "n=popt[1]\n",
    "b=popt[2]\n",
    "std_devs= np.sqrt(pcov.diagonal())\n",
    "sigma_a = std_devs[0]\n",
    "sigma_n = std_devs[1]\n",
    "model_output= Cz_model(z, a, n, b)\n",
    "rmse= np.sqrt(np.mean((cz - model_output)**2))\n"
   ]
  },
  {
   "cell_type": "code",
   "execution_count": null,
   "id": "42e9d139",
   "metadata": {},
   "outputs": [],
   "source": [
    "f\"a= {a} ± {sigma_a}\""
   ]
  },
  {
   "cell_type": "code",
   "execution_count": null,
   "id": "05e99973",
   "metadata": {},
   "outputs": [],
   "source": [
    "f\"n= {n}± {sigma_n}\""
   ]
  },
  {
   "cell_type": "code",
   "execution_count": null,
   "id": "e495fee8",
   "metadata": {},
   "outputs": [],
   "source": [
    "model_output"
   ]
  },
  {
   "cell_type": "code",
   "execution_count": null,
   "id": "dbd0d394",
   "metadata": {},
   "outputs": [],
   "source": [
    "\"Root Mean Square Error\""
   ]
  },
  {
   "cell_type": "code",
   "execution_count": null,
   "id": "b351ff7e",
   "metadata": {},
   "outputs": [],
   "source": [
    "rmse/np.mean(-cz)"
   ]
  },
  {
   "cell_type": "code",
   "execution_count": null,
   "id": "86949536",
   "metadata": {},
   "outputs": [],
   "source": []
  }
 ],
 "metadata": {
  "kernelspec": {
   "display_name": "Python 3",
   "language": "python",
   "name": "python3"
  },
  "language_info": {
   "codemirror_mode": {
    "name": "ipython",
    "version": 3
   },
   "file_extension": ".py",
   "mimetype": "text/x-python",
   "name": "python",
   "nbconvert_exporter": "python",
   "pygments_lexer": "ipython3",
   "version": "3.8.8"
  }
 },
 "nbformat": 4,
 "nbformat_minor": 5
}
