{
 "cells": [
  {
   "cell_type": "markdown",
   "id": "7909fa0a",
   "metadata": {},
   "source": [
    "##Tirmzi Analysis\n",
    "n=1000 m+=1000 nm-=120 istep= 4 min=150 max=700"
   ]
  },
  {
   "cell_type": "code",
   "execution_count": 1,
   "id": "63afb62c",
   "metadata": {},
   "outputs": [],
   "source": [
    "import sys\n",
    "sys.path\n",
    "import matplotlib.pyplot as plt\n",
    "import numpy as np\n",
    "import os\n",
    "from scipy import signal"
   ]
  },
  {
   "cell_type": "code",
   "execution_count": 2,
   "id": "8bec0f1d",
   "metadata": {
    "scrolled": true
   },
   "outputs": [
    {
     "name": "stdout",
     "output_type": "stream",
     "text": [
      " Volume in drive C is Local Disk\n",
      " Volume Serial Number is AA1B-997A\n",
      "\n",
      " Directory of C:\\Users\\emaro\\OneDrive - University of Mount Union\\XSEDE Summer 2021\\xsede-spm\\data\n",
      "\n",
      "08/05/2021  10:31 AM    <DIR>          .\n",
      "08/05/2021  10:31 AM    <DIR>          ..\n",
      "08/05/2021  10:24 AM    <DIR>          .ipynb_checkpoints\n",
      "08/02/2021  02:01 PM    <DIR>          0309-VariedNuni_8_2_2021-0000\n",
      "08/02/2021  02:15 PM    <DIR>          8_2_2021\n",
      "08/02/2021  03:39 PM           161,361 8_2_2021_FortranErequals1.ipynb\n",
      "08/03/2021  01:17 PM           130,779 8_2_2021_PythonErequals1.ipynb\n",
      "08/02/2021  02:58 PM           130,726 8_2_2021_PythonVariedNuni.ipynb\n",
      "08/04/2021  02:42 PM           130,779 8_2_2021_PythonVariedNuni-Copy3.ipynb\n",
      "08/02/2021  02:52 PM    <DIR>          8_2_2021P\n",
      "08/03/2021  03:01 PM           225,696 8_3_2021_SphereTest_Python.ipynb\n",
      "08/05/2021  10:30 AM            93,725 852021_FDefaultCapsol.ipynb\n",
      "08/05/2021  10:31 AM            49,227 852021_PDefaultCapsol.ipynb\n",
      "08/05/2021  10:31 AM             5,672 Alpha v. Z for varying sample thickness, 06-28-2021.png\n",
      "08/05/2021  10:31 AM             6,163 C' v. Z for 1nm thick sample 06-28-2021.png\n",
      "08/02/2021  02:15 PM             6,179 C' v. Z for varying sample thickness, 06-28-2021.png\n",
      "08/05/2021  10:31 AM             5,568 Cz v. Z for varying sample thickness, 06-28-2021.png\n",
      "08/05/2021  10:31 AM             5,676 Czz v. Z for varying sample thickness, 06-28-2021.png\n",
      "08/02/2021  03:35 PM    <DIR>          erequals1_F\n",
      "08/03/2021  01:05 PM    <DIR>          erequals1_P\n",
      "08/05/2021  10:29 AM    <DIR>          Fortran\n",
      "08/03/2021  01:22 PM           153,589 Fortran m_minus.ipynb\n",
      "08/03/2021  01:20 PM           148,540 Fortran Sphere Test.ipynb\n",
      "08/02/2021  03:35 PM    <DIR>          FortranOutputTest\n",
      "08/03/2021  01:14 PM    <DIR>          m_minue_P\n",
      "08/03/2021  01:16 PM    <DIR>          m_minus_F\n",
      "08/05/2021  10:11 AM    <DIR>          Original Tirmizi\n",
      "08/05/2021  10:11 AM    <DIR>          Original Tirmzi F\n",
      "08/05/2021  10:30 AM    <DIR>          Python\n",
      "08/03/2021  01:05 PM    <DIR>          PythonOutputTest\n",
      "08/03/2021  01:13 PM    <DIR>          SphereTest_F\n",
      "08/03/2021  01:13 PM    <DIR>          SphereTest_P\n",
      "08/05/2021  10:10 AM    <DIR>          SSN Tirmzi\n",
      "08/05/2021  10:11 AM    <DIR>          SSN Tirmzi F\n",
      "07/28/2021  11:49 AM            57,907 Tirmzi_istep4.ipynb\n",
      "07/28/2021  11:43 AM           113,265 Tirmzi_istep4-Copy2.ipynb\n",
      "              16 File(s)      1,424,852 bytes\n",
      "              20 Dir(s)  146,623,000,576 bytes free\n"
     ]
    }
   ],
   "source": [
    "ls"
   ]
  },
  {
   "cell_type": "code",
   "execution_count": 3,
   "id": "b2bdd91e",
   "metadata": {},
   "outputs": [],
   "source": [
    "import capsol.newanalyzecapsol as ac"
   ]
  },
  {
   "cell_type": "code",
   "execution_count": 4,
   "id": "74d01467",
   "metadata": {},
   "outputs": [
    {
     "data": {
      "text/plain": [
       "<function capsol.newanalyzecapsol.get_gridparameters(f_name)>"
      ]
     },
     "execution_count": 4,
     "metadata": {},
     "output_type": "execute_result"
    }
   ],
   "source": [
    "ac.get_gridparameters"
   ]
  },
  {
   "cell_type": "code",
   "execution_count": 5,
   "id": "234f74d8",
   "metadata": {},
   "outputs": [],
   "source": [
    "import glob"
   ]
  },
  {
   "cell_type": "code",
   "execution_count": 6,
   "id": "5766fac7",
   "metadata": {},
   "outputs": [
    {
     "data": {
      "text/plain": [
       "['Python\\\\PDefaultCapsol\\\\']"
      ]
     },
     "execution_count": 6,
     "metadata": {},
     "output_type": "execute_result"
    }
   ],
   "source": [
    "folders = glob.glob(\"Python/*/\")\n",
    "folders\n"
   ]
  },
  {
   "cell_type": "code",
   "execution_count": 7,
   "id": "0f240774",
   "metadata": {
    "scrolled": false
   },
   "outputs": [],
   "source": [
    "all_data= dict() \n",
    "for folder in folders:\n",
    "    params = ac.get_gridparameters(folder + 'capsol.in')\n",
    "    data = ac.np.loadtxt(folder + 'C-Z.dat')\n",
    "    process_data = ac.process_data(params, data, smoothing=False, std=5*10**-9, fortran=False)\n",
    "    all_data[folder]= (process_data)\n",
    "all_params= dict()\n",
    "for folder in folders:\n",
    "    params=ac.get_gridparameters(folder + 'capsol.in')\n",
    "    all_params[folder]= (params)"
   ]
  },
  {
   "cell_type": "code",
   "execution_count": 8,
   "id": "a27efec2",
   "metadata": {},
   "outputs": [
    {
     "data": {
      "text/plain": [
       "{'Python\\\\PDefaultCapsol\\\\': {'z': array([ 2.,  3.,  4.,  5.,  6.,  7.,  8.,  9., 10., 11., 12., 13., 14.,\n",
       "         15., 16., 17., 18., 19.]),\n",
       "  'c': array([6.12709975e-15, 6.12650800e-15, 6.12599413e-15, 6.12552765e-15,\n",
       "         6.12509304e-15, 6.12468134e-15, 6.12428689e-15, 6.12390594e-15,\n",
       "         6.12353582e-15, 6.12317462e-15, 6.12282088e-15, 6.12247348e-15,\n",
       "         6.12213156e-15, 6.12179442e-15, 6.12146148e-15, 6.12113227e-15,\n",
       "         6.12080641e-15, 6.12048357e-15]),\n",
       "  'cz': array([-5.91755075e-10, -5.52813804e-10, -4.90174627e-10, -4.50542014e-10,\n",
       "         -4.23156118e-10, -4.03073835e-10, -3.87698932e-10, -3.75535462e-10,\n",
       "         -3.65660425e-10, -3.57473442e-10, -3.50567176e-10, -3.44655573e-10,\n",
       "         -3.39531895e-10, -3.35043034e-10, -3.31073204e-10, -3.27533235e-10,\n",
       "         -3.24353343e-10, -3.22845723e-10]),\n",
       "  'czz': array([0.03894127, 0.05079022, 0.0511359 , 0.03350925, 0.02373409,\n",
       "         0.01772859, 0.01376919, 0.01101925, 0.00903101, 0.00754662,\n",
       "         0.00640893, 0.00551764, 0.00480627, 0.00422935, 0.0037549 ,\n",
       "         0.00335993, 0.00234376, 0.00150762]),\n",
       "  'alpha': array([0.00293528, 0.00196424, 0.00153401, 0.00197785, 0.00246346,\n",
       "         0.00299255, 0.00356497, 0.00417976, 0.00483557, 0.0055308 ,\n",
       "         0.00626376, 0.00703267, 0.00783575, 0.0086712 , 0.00953728,\n",
       "         0.01043227, 0.01466715, 0.02259136])}}"
      ]
     },
     "execution_count": 8,
     "metadata": {},
     "output_type": "execute_result"
    }
   ],
   "source": [
    "all_data"
   ]
  },
  {
   "cell_type": "code",
   "execution_count": 9,
   "id": "bdf1f5d3",
   "metadata": {
    "scrolled": true
   },
   "outputs": [
    {
     "data": {
      "text/plain": [
       "dict_keys(['Python\\\\PDefaultCapsol\\\\'])"
      ]
     },
     "execution_count": 9,
     "metadata": {},
     "output_type": "execute_result"
    }
   ],
   "source": [
    "all_data.keys()"
   ]
  },
  {
   "cell_type": "code",
   "execution_count": null,
   "id": "59fe3797",
   "metadata": {},
   "outputs": [],
   "source": []
  },
  {
   "cell_type": "code",
   "execution_count": 10,
   "id": "c6cac644",
   "metadata": {
    "scrolled": true
   },
   "outputs": [
    {
     "data": {
      "image/png": "[encoded data removed]",
      "text/plain": [
       "<Figure size 432x288 with 1 Axes>"
      ]
     },
     "metadata": {
      "needs_background": "light"
     },
     "output_type": "display_data"
    }
   ],
   "source": [
    "for key in {key: params for key, params in all_params.items() if params['Thickness_sample'] == .5}:\n",
    "    data=all_data[key]\n",
    "    thickness =all_params[key]['Thickness_sample']\n",
    "    rtip= all_params[key]['Rtip']\n",
    "    er=all_params[key]['eps_r']\n",
    "    Nuni=all_params[key]['Nuni']\n",
    "    plt.plot(data['z'], data['c'], label= f'{rtip} nm, {er}, {thickness} nm,  {Nuni}')\n",
    "    \n",
    "    \n",
    "plt.title('C v. Z for 1nm thick sample')    \n",
    "plt.ylabel(\"C(m)\")\n",
    "plt.xlabel(\"Z(m)\")\n",
    "plt.legend()\n",
    "plt.savefig(\"C' v. Z for 1nm thick sample 06-28-2021.png\")"
   ]
  },
  {
   "cell_type": "markdown",
   "id": "0981ee97",
   "metadata": {},
   "source": [
    "cut off last experiment because capacitance was off the scale"
   ]
  },
  {
   "cell_type": "code",
   "execution_count": 11,
   "id": "ad6bf37e",
   "metadata": {},
   "outputs": [
    {
     "data": {
      "image/png": "[encoded data removed]",
      "text/plain": [
       "<Figure size 432x288 with 1 Axes>"
      ]
     },
     "metadata": {
      "needs_background": "light"
     },
     "output_type": "display_data"
    }
   ],
   "source": [
    "for key in {key: params for key, params in all_params.items() if params['Thickness_sample'] == .5}:\n",
    "    data=all_data[key]\n",
    "    thickness=all_params[key]['Thickness_sample']\n",
    "    rtip= all_params[key]['Rtip']\n",
    "    er=all_params[key]['eps_r']\n",
    "    s=slice(4,-3)\n",
    "    plt.plot(data['z'][s], data['cz'][s], label=f'{rtip} nm, {er}, {thickness} nm' )\n",
    "    \n",
    "plt.title('Cz vs. Z for 1.0nm')    \n",
    "plt.ylabel(\"Cz\")\n",
    "plt.xlabel(\"Z(m)\")\n",
    "plt.legend()\n",
    "plt.savefig(\"Cz v. Z for varying sample thickness, 06-28-2021.png\")"
   ]
  },
  {
   "cell_type": "code",
   "execution_count": 12,
   "id": "8f02b5cc",
   "metadata": {},
   "outputs": [
    {
     "data": {
      "image/png": "[encoded data removed]",
      "text/plain": [
       "<Figure size 432x288 with 1 Axes>"
      ]
     },
     "metadata": {
      "needs_background": "light"
     },
     "output_type": "display_data"
    }
   ],
   "source": [
    "for key in {key: params for key, params in all_params.items() if params['Thickness_sample'] == .5}:\n",
    "    data=all_data[key]\n",
    "    thickness=all_params[key]['Thickness_sample']\n",
    "    rtip= all_params[key]['Rtip']\n",
    "    er=all_params[key]['eps_r']\n",
    "    s=slice(5,-5)\n",
    "    plt.plot(data['z'][s], data['czz'][s], label=f'{rtip} nm, {er}, {thickness} nm' )\n",
    "    \n",
    "plt.title('Czz vs. Z for 1.0nm')    \n",
    "plt.ylabel(\"Czz\")\n",
    "plt.xlabel(\"Z(m)\")\n",
    "plt.legend()\n",
    "plt.savefig(\"Czz v. Z for varying sample thickness, 06-28-2021.png\")"
   ]
  },
  {
   "cell_type": "code",
   "execution_count": 13,
   "id": "eed081f0",
   "metadata": {},
   "outputs": [
    {
     "data": {
      "text/plain": [
       "{'n': 500,\n",
       " 'm+': 500,\n",
       " 'm-': 10,\n",
       " 'h0': 0.5,\n",
       " 'rho_max': 1000000.0,\n",
       " 'z_max': 1000000.0,\n",
       " 'min': 2.0,\n",
       " 'max': 20.0,\n",
       " 'istep': 2.0,\n",
       " 'Rtip': 20.0,\n",
       " 'half-angle': 15.0,\n",
       " 'HCone': 15000.0,\n",
       " 'RCantilever': 40000.0,\n",
       " 'thickness_Cantilever': 500.0,\n",
       " 'eps_r': 3.0,\n",
       " 'Thickness_sample': 0.5,\n",
       " 'Solving Method': 'LAPACK',\n",
       " 'Test': 0,\n",
       " 'Verbosity': 0,\n",
       " 'Nuni': 1,\n",
       " 'Equally spaced': False}"
      ]
     },
     "execution_count": 13,
     "metadata": {},
     "output_type": "execute_result"
    }
   ],
   "source": [
    "params"
   ]
  },
  {
   "cell_type": "code",
   "execution_count": 14,
   "id": "dfdd7fe8",
   "metadata": {},
   "outputs": [
    {
     "data": {
      "image/png": "[encoded data removed]",
      "text/plain": [
       "<Figure size 432x288 with 1 Axes>"
      ]
     },
     "metadata": {
      "needs_background": "light"
     },
     "output_type": "display_data"
    }
   ],
   "source": [
    "for key in {key: params for key, params in all_params.items() if params['Thickness_sample'] == .5}:\n",
    "    data=all_data[key]\n",
    "    thickness=all_params[key]['Thickness_sample']\n",
    "    rtip= all_params[key]['Rtip']\n",
    "    er=all_params[key]['eps_r']\n",
    "    s=slice(8,-8)\n",
    "    plt.plot(data['z'][s], data['alpha'][s], label=f'{rtip} nm, {er}, {thickness} nm' )\n",
    "    \n",
    "plt.title('alpha vs. Z for 1.0nm')    \n",
    "plt.ylabel(\"$\\\\alpha$\")\n",
    "plt.xlabel(\"Z(m)\")\n",
    "plt.legend()\n",
    "plt.savefig(\"Alpha v. Z for varying sample thickness, 06-28-2021.png\")"
   ]
  },
  {
   "cell_type": "code",
   "execution_count": 15,
   "id": "09a2ae9a",
   "metadata": {},
   "outputs": [
    {
     "data": {
      "text/plain": [
       "{'z': array([ 2.,  3.,  4.,  5.,  6.,  7.,  8.,  9., 10., 11., 12., 13., 14.,\n",
       "        15., 16., 17., 18., 19.]),\n",
       " 'c': array([6.12709975e-15, 6.12650800e-15, 6.12599413e-15, 6.12552765e-15,\n",
       "        6.12509304e-15, 6.12468134e-15, 6.12428689e-15, 6.12390594e-15,\n",
       "        6.12353582e-15, 6.12317462e-15, 6.12282088e-15, 6.12247348e-15,\n",
       "        6.12213156e-15, 6.12179442e-15, 6.12146148e-15, 6.12113227e-15,\n",
       "        6.12080641e-15, 6.12048357e-15]),\n",
       " 'cz': array([-5.91755075e-10, -5.52813804e-10, -4.90174627e-10, -4.50542014e-10,\n",
       "        -4.23156118e-10, -4.03073835e-10, -3.87698932e-10, -3.75535462e-10,\n",
       "        -3.65660425e-10, -3.57473442e-10, -3.50567176e-10, -3.44655573e-10,\n",
       "        -3.39531895e-10, -3.35043034e-10, -3.31073204e-10, -3.27533235e-10,\n",
       "        -3.24353343e-10, -3.22845723e-10]),\n",
       " 'czz': array([0.03894127, 0.05079022, 0.0511359 , 0.03350925, 0.02373409,\n",
       "        0.01772859, 0.01376919, 0.01101925, 0.00903101, 0.00754662,\n",
       "        0.00640893, 0.00551764, 0.00480627, 0.00422935, 0.0037549 ,\n",
       "        0.00335993, 0.00234376, 0.00150762]),\n",
       " 'alpha': array([0.00293528, 0.00196424, 0.00153401, 0.00197785, 0.00246346,\n",
       "        0.00299255, 0.00356497, 0.00417976, 0.00483557, 0.0055308 ,\n",
       "        0.00626376, 0.00703267, 0.00783575, 0.0086712 , 0.00953728,\n",
       "        0.01043227, 0.01466715, 0.02259136])}"
      ]
     },
     "execution_count": 15,
     "metadata": {},
     "output_type": "execute_result"
    }
   ],
   "source": [
    "data"
   ]
  },
  {
   "cell_type": "code",
   "execution_count": 16,
   "id": "77a6dac6",
   "metadata": {},
   "outputs": [],
   "source": [
    "from scipy.optimize import curve_fit\n"
   ]
  },
  {
   "cell_type": "code",
   "execution_count": 17,
   "id": "49b30168",
   "metadata": {},
   "outputs": [],
   "source": [
    "def Cz_model(z, a, n, b,):\n",
    "    return(a*z**n + b)"
   ]
  },
  {
   "cell_type": "code",
   "execution_count": 18,
   "id": "87212141",
   "metadata": {},
   "outputs": [
    {
     "data": {
      "text/plain": [
       "dict_keys(['Python\\\\PDefaultCapsol\\\\'])"
      ]
     },
     "execution_count": 18,
     "metadata": {},
     "output_type": "execute_result"
    }
   ],
   "source": [
    "all_data.keys()"
   ]
  },
  {
   "cell_type": "code",
   "execution_count": 19,
   "id": "74215bd0",
   "metadata": {},
   "outputs": [
    {
     "ename": "KeyError",
     "evalue": "'capsol-calc\\\\0001-capsol\\\\'",
     "output_type": "error",
     "traceback": [
      "\u001b[1;31m---------------------------------------------------------------------------\u001b[0m",
      "\u001b[1;31mKeyError\u001b[0m                                  Traceback (most recent call last)",
      "\u001b[1;32m<ipython-input-19-23a180486cb5>\u001b[0m in \u001b[0;36m<module>\u001b[1;34m\u001b[0m\n\u001b[1;32m----> 1\u001b[1;33m \u001b[0mdata\u001b[0m\u001b[1;33m=\u001b[0m \u001b[0mall_data\u001b[0m\u001b[1;33m[\u001b[0m\u001b[1;34m'capsol-calc\\\\0001-capsol\\\\'\u001b[0m\u001b[1;33m]\u001b[0m\u001b[1;33m\u001b[0m\u001b[1;33m\u001b[0m\u001b[0m\n\u001b[0m\u001b[0;32m      2\u001b[0m \u001b[0mz\u001b[0m\u001b[1;33m=\u001b[0m \u001b[0mdata\u001b[0m\u001b[1;33m[\u001b[0m\u001b[1;34m'z'\u001b[0m\u001b[1;33m]\u001b[0m\u001b[1;33m[\u001b[0m\u001b[1;36m1\u001b[0m\u001b[1;33m:\u001b[0m\u001b[1;33m-\u001b[0m\u001b[1;36m1\u001b[0m\u001b[1;33m]\u001b[0m\u001b[1;33m\u001b[0m\u001b[1;33m\u001b[0m\u001b[0m\n\u001b[0;32m      3\u001b[0m \u001b[0mcz\u001b[0m\u001b[1;33m=\u001b[0m \u001b[0mdata\u001b[0m\u001b[1;33m[\u001b[0m\u001b[1;34m'cz'\u001b[0m\u001b[1;33m]\u001b[0m\u001b[1;33m[\u001b[0m\u001b[1;36m1\u001b[0m\u001b[1;33m:\u001b[0m\u001b[1;33m-\u001b[0m\u001b[1;36m1\u001b[0m\u001b[1;33m]\u001b[0m\u001b[1;33m\u001b[0m\u001b[1;33m\u001b[0m\u001b[0m\n",
      "\u001b[1;31mKeyError\u001b[0m: 'capsol-calc\\\\0001-capsol\\\\'"
     ]
    }
   ],
   "source": [
    "data= all_data['capsol-calc\\\\0001-capsol\\\\']\n",
    "z= data['z'][1:-1]\n",
    "cz= data['cz'][1:-1]"
   ]
  },
  {
   "cell_type": "code",
   "execution_count": null,
   "id": "8ff0827e",
   "metadata": {},
   "outputs": [],
   "source": [
    "popt, pcov= curve_fit(Cz_model, z, cz, p0=[cz[0]*z[0], -1, 0])\n",
    "a=popt[0]\n",
    "n=popt[1]\n",
    "b=popt[2]\n",
    "std_devs= np.sqrt(pcov.diagonal())\n",
    "sigma_a = std_devs[0]\n",
    "sigma_n = std_devs[1]\n",
    "model_output= Cz_model(z, a, n, b)\n",
    "rmse= np.sqrt(np.mean((cz - model_output)**2))\n"
   ]
  },
  {
   "cell_type": "code",
   "execution_count": null,
   "id": "42e9d139",
   "metadata": {},
   "outputs": [],
   "source": [
    "f\"a= {a} ± {sigma_a}\""
   ]
  },
  {
   "cell_type": "code",
   "execution_count": null,
   "id": "05e99973",
   "metadata": {},
   "outputs": [],
   "source": [
    "f\"n= {n}± {sigma_n}\""
   ]
  },
  {
   "cell_type": "code",
   "execution_count": null,
   "id": "e495fee8",
   "metadata": {},
   "outputs": [],
   "source": [
    "model_output"
   ]
  },
  {
   "cell_type": "code",
   "execution_count": null,
   "id": "dbd0d394",
   "metadata": {},
   "outputs": [],
   "source": [
    "\"Root Mean Square Error\""
   ]
  },
  {
   "cell_type": "code",
   "execution_count": null,
   "id": "b351ff7e",
   "metadata": {},
   "outputs": [],
   "source": [
    "rmse/np.mean(-cz)"
   ]
  },
  {
   "cell_type": "code",
   "execution_count": null,
   "id": "86949536",
   "metadata": {},
   "outputs": [],
   "source": []
  }
 ],
 "metadata": {
  "kernelspec": {
   "display_name": "Python 3",
   "language": "python",
   "name": "python3"
  },
  "language_info": {
   "codemirror_mode": {
    "name": "ipython",
    "version": 3
   },
   "file_extension": ".py",
   "mimetype": "text/x-python",
   "name": "python",
   "nbconvert_exporter": "python",
   "pygments_lexer": "ipython3",
   "version": "3.8.8"
  }
 },
 "nbformat": 4,
 "nbformat_minor": 5
}
