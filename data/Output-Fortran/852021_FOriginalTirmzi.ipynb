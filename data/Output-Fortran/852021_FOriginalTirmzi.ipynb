{
 "cells": [
  {
   "cell_type": "markdown",
   "id": "7909fa0a",
   "metadata": {},
   "source": [
    "##Tirmzi Analysis\n",
    "n=1000 m+=1000 nm-=120 istep= 4 min=150 max=700"
   ]
  },
  {
   "cell_type": "code",
   "execution_count": 1,
   "id": "63afb62c",
   "metadata": {},
   "outputs": [],
   "source": [
    "import sys\n",
    "sys.path\n",
    "import matplotlib.pyplot as plt\n",
    "import numpy as np\n",
    "import os\n",
    "from scipy import signal"
   ]
  },
  {
   "cell_type": "code",
   "execution_count": 2,
   "id": "8bec0f1d",
   "metadata": {
    "scrolled": true
   },
   "outputs": [
    {
     "name": "stdout",
     "output_type": "stream",
     "text": [
      " Volume in drive C is Local Disk\n",
      " Volume Serial Number is AA1B-997A\n",
      "\n",
      " Directory of C:\\Users\\emaro\\OneDrive - University of Mount Union\\XSEDE Summer 2021\\xsede-spm\\data\n",
      "\n",
      "08/05/2021  10:33 AM    <DIR>          .\n",
      "08/05/2021  10:33 AM    <DIR>          ..\n",
      "08/05/2021  10:33 AM    <DIR>          .ipynb_checkpoints\n",
      "08/02/2021  02:01 PM    <DIR>          0309-VariedNuni_8_2_2021-0000\n",
      "08/02/2021  02:15 PM    <DIR>          8_2_2021\n",
      "08/02/2021  03:39 PM           161,361 8_2_2021_FortranErequals1.ipynb\n",
      "08/03/2021  01:17 PM           130,779 8_2_2021_PythonErequals1.ipynb\n",
      "08/02/2021  02:58 PM           130,726 8_2_2021_PythonVariedNuni.ipynb\n",
      "08/04/2021  02:42 PM           130,779 8_2_2021_PythonVariedNuni-Copy3.ipynb\n",
      "08/02/2021  02:52 PM    <DIR>          8_2_2021P\n",
      "08/03/2021  03:01 PM           225,696 8_3_2021_SphereTest_Python.ipynb\n",
      "08/05/2021  10:30 AM            93,725 852021_FDefaultCapsol.ipynb\n",
      "08/05/2021  10:32 AM            93,725 852021_FOriginalTirmzi.ipynb\n",
      "08/05/2021  10:33 AM            89,554 852021_PDefaultCapsol.ipynb\n",
      "08/05/2021  10:31 AM            13,709 Alpha v. Z for varying sample thickness, 06-28-2021.png\n",
      "08/05/2021  10:31 AM            14,805 C' v. Z for 1nm thick sample 06-28-2021.png\n",
      "08/02/2021  02:15 PM             6,179 C' v. Z for varying sample thickness, 06-28-2021.png\n",
      "08/05/2021  10:31 AM            12,046 Cz v. Z for varying sample thickness, 06-28-2021.png\n",
      "08/05/2021  10:31 AM            13,091 Czz v. Z for varying sample thickness, 06-28-2021.png\n",
      "08/02/2021  03:35 PM    <DIR>          erequals1_F\n",
      "08/03/2021  01:05 PM    <DIR>          erequals1_P\n",
      "08/05/2021  10:29 AM    <DIR>          Fortran\n",
      "08/03/2021  01:22 PM           153,589 Fortran m_minus.ipynb\n",
      "08/03/2021  01:20 PM           148,540 Fortran Sphere Test.ipynb\n",
      "08/02/2021  03:35 PM    <DIR>          FortranOutputTest\n",
      "08/03/2021  01:14 PM    <DIR>          m_minue_P\n",
      "08/03/2021  01:16 PM    <DIR>          m_minus_F\n",
      "08/05/2021  10:11 AM    <DIR>          Original Tirmizi\n",
      "08/05/2021  10:11 AM    <DIR>          Original Tirmzi F\n",
      "08/05/2021  10:30 AM    <DIR>          Python\n",
      "08/03/2021  01:05 PM    <DIR>          PythonOutputTest\n",
      "08/03/2021  01:13 PM    <DIR>          SphereTest_F\n",
      "08/03/2021  01:13 PM    <DIR>          SphereTest_P\n",
      "08/05/2021  10:10 AM    <DIR>          SSN Tirmzi\n",
      "08/05/2021  10:11 AM    <DIR>          SSN Tirmzi F\n",
      "07/28/2021  11:49 AM            57,907 Tirmzi_istep4.ipynb\n",
      "07/28/2021  11:43 AM           113,265 Tirmzi_istep4-Copy2.ipynb\n",
      "              17 File(s)      1,589,476 bytes\n",
      "              20 Dir(s)  146,608,361,472 bytes free\n"
     ]
    }
   ],
   "source": [
    "ls"
   ]
  },
  {
   "cell_type": "code",
   "execution_count": 3,
   "id": "b2bdd91e",
   "metadata": {},
   "outputs": [],
   "source": [
    "import capsol.newanalyzecapsol as ac"
   ]
  },
  {
   "cell_type": "code",
   "execution_count": 4,
   "id": "74d01467",
   "metadata": {},
   "outputs": [
    {
     "data": {
      "text/plain": [
       "<function capsol.newanalyzecapsol.get_gridparameters(f_name)>"
      ]
     },
     "execution_count": 4,
     "metadata": {},
     "output_type": "execute_result"
    }
   ],
   "source": [
    "ac.get_gridparameters"
   ]
  },
  {
   "cell_type": "code",
   "execution_count": 5,
   "id": "234f74d8",
   "metadata": {},
   "outputs": [],
   "source": [
    "import glob"
   ]
  },
  {
   "cell_type": "code",
   "execution_count": 6,
   "id": "5766fac7",
   "metadata": {},
   "outputs": [
    {
     "data": {
      "text/plain": [
       "['Original Tirmzi F\\\\0335-RR_originalTirmzi-0002\\\\',\n",
       " 'Original Tirmzi F\\\\0337-RR_originalTirmzi-0001\\\\',\n",
       " 'Original Tirmzi F\\\\0339-RR_originalTirmzi-0003\\\\',\n",
       " 'Original Tirmzi F\\\\0341-RR_originalTirmzi-0000\\\\']"
      ]
     },
     "execution_count": 6,
     "metadata": {},
     "output_type": "execute_result"
    }
   ],
   "source": [
    "folders = glob.glob(\"Original Tirmzi F/*/\")\n",
    "folders\n"
   ]
  },
  {
   "cell_type": "code",
   "execution_count": 7,
   "id": "0f240774",
   "metadata": {
    "scrolled": false
   },
   "outputs": [
    {
     "name": "stderr",
     "output_type": "stream",
     "text": [
      "<ipython-input-7-1898c4883aa2>:4: UserWarning: loadtxt: Empty input file: \"Original Tirmzi F\\0335-RR_originalTirmzi-0002\\Z-U.dat\"\n",
      "  data = ac.np.loadtxt(folder + 'Z-U.dat')\n"
     ]
    },
    {
     "ename": "IndexError",
     "evalue": "too many indices for array: array is 1-dimensional, but 2 were indexed",
     "output_type": "error",
     "traceback": [
      "\u001b[1;31m---------------------------------------------------------------------------\u001b[0m",
      "\u001b[1;31mIndexError\u001b[0m                                Traceback (most recent call last)",
      "\u001b[1;32m<ipython-input-7-1898c4883aa2>\u001b[0m in \u001b[0;36m<module>\u001b[1;34m\u001b[0m\n\u001b[0;32m      3\u001b[0m     \u001b[0mparams\u001b[0m \u001b[1;33m=\u001b[0m \u001b[0mac\u001b[0m\u001b[1;33m.\u001b[0m\u001b[0mget_gridparameters\u001b[0m\u001b[1;33m(\u001b[0m\u001b[0mfolder\u001b[0m \u001b[1;33m+\u001b[0m \u001b[1;34m'capsol.in'\u001b[0m\u001b[1;33m)\u001b[0m\u001b[1;33m\u001b[0m\u001b[1;33m\u001b[0m\u001b[0m\n\u001b[0;32m      4\u001b[0m     \u001b[0mdata\u001b[0m \u001b[1;33m=\u001b[0m \u001b[0mac\u001b[0m\u001b[1;33m.\u001b[0m\u001b[0mnp\u001b[0m\u001b[1;33m.\u001b[0m\u001b[0mloadtxt\u001b[0m\u001b[1;33m(\u001b[0m\u001b[0mfolder\u001b[0m \u001b[1;33m+\u001b[0m \u001b[1;34m'Z-U.dat'\u001b[0m\u001b[1;33m)\u001b[0m\u001b[1;33m\u001b[0m\u001b[1;33m\u001b[0m\u001b[0m\n\u001b[1;32m----> 5\u001b[1;33m     \u001b[0mprocess_data\u001b[0m \u001b[1;33m=\u001b[0m \u001b[0mac\u001b[0m\u001b[1;33m.\u001b[0m\u001b[0mprocess_data\u001b[0m\u001b[1;33m(\u001b[0m\u001b[0mparams\u001b[0m\u001b[1;33m,\u001b[0m \u001b[0mdata\u001b[0m\u001b[1;33m,\u001b[0m \u001b[0msmoothing\u001b[0m\u001b[1;33m=\u001b[0m\u001b[1;32mFalse\u001b[0m\u001b[1;33m,\u001b[0m \u001b[0mstd\u001b[0m\u001b[1;33m=\u001b[0m\u001b[1;36m5\u001b[0m\u001b[1;33m*\u001b[0m\u001b[1;36m10\u001b[0m\u001b[1;33m**\u001b[0m\u001b[1;33m-\u001b[0m\u001b[1;36m9\u001b[0m\u001b[1;33m)\u001b[0m\u001b[1;33m\u001b[0m\u001b[1;33m\u001b[0m\u001b[0m\n\u001b[0m\u001b[0;32m      6\u001b[0m     \u001b[0mall_data\u001b[0m\u001b[1;33m[\u001b[0m\u001b[0mfolder\u001b[0m\u001b[1;33m]\u001b[0m\u001b[1;33m=\u001b[0m \u001b[1;33m(\u001b[0m\u001b[0mprocess_data\u001b[0m\u001b[1;33m)\u001b[0m\u001b[1;33m\u001b[0m\u001b[1;33m\u001b[0m\u001b[0m\n\u001b[0;32m      7\u001b[0m \u001b[0mall_params\u001b[0m\u001b[1;33m=\u001b[0m \u001b[0mdict\u001b[0m\u001b[1;33m(\u001b[0m\u001b[1;33m)\u001b[0m\u001b[1;33m\u001b[0m\u001b[1;33m\u001b[0m\u001b[0m\n",
      "\u001b[1;32mc:\\users\\emaro\\onedrive - university of mount union\\xsede summer 2021\\xsede-spm\\capsol\\newanalyzecapsol.py\u001b[0m in \u001b[0;36mprocess_data\u001b[1;34m(params, data, smoothing, std, fortran)\u001b[0m\n\u001b[0;32m     77\u001b[0m \u001b[1;32mdef\u001b[0m \u001b[0mprocess_data\u001b[0m\u001b[1;33m(\u001b[0m\u001b[0mparams\u001b[0m\u001b[1;33m,\u001b[0m \u001b[0mdata\u001b[0m\u001b[1;33m,\u001b[0m \u001b[0msmoothing\u001b[0m\u001b[1;33m=\u001b[0m \u001b[1;32mFalse\u001b[0m\u001b[1;33m,\u001b[0m \u001b[0mstd\u001b[0m\u001b[1;33m=\u001b[0m\u001b[1;36m5\u001b[0m\u001b[1;33m*\u001b[0m\u001b[1;36m10\u001b[0m\u001b[1;33m**\u001b[0m\u001b[1;33m-\u001b[0m\u001b[1;36m9\u001b[0m\u001b[1;33m,\u001b[0m \u001b[0mfortran\u001b[0m\u001b[1;33m=\u001b[0m\u001b[1;32mTrue\u001b[0m\u001b[1;33m)\u001b[0m\u001b[1;33m:\u001b[0m\u001b[1;33m\u001b[0m\u001b[1;33m\u001b[0m\u001b[0m\n\u001b[0;32m     78\u001b[0m     \u001b[1;32mif\u001b[0m \u001b[0mfortran\u001b[0m\u001b[1;33m:\u001b[0m\u001b[1;33m\u001b[0m\u001b[1;33m\u001b[0m\u001b[0m\n\u001b[1;32m---> 79\u001b[1;33m         \u001b[0mz_over_r\u001b[0m\u001b[1;33m=\u001b[0m \u001b[0mdata\u001b[0m\u001b[1;33m[\u001b[0m\u001b[1;33m:\u001b[0m \u001b[1;33m,\u001b[0m \u001b[1;36m0\u001b[0m\u001b[1;33m]\u001b[0m\u001b[1;33m\u001b[0m\u001b[1;33m\u001b[0m\u001b[0m\n\u001b[0m\u001b[0;32m     80\u001b[0m         \u001b[0mr\u001b[0m\u001b[1;33m=\u001b[0m \u001b[0mparams\u001b[0m\u001b[1;33m[\u001b[0m\u001b[1;34m'Rtip'\u001b[0m\u001b[1;33m]\u001b[0m\u001b[1;33m\u001b[0m\u001b[1;33m\u001b[0m\u001b[0m\n\u001b[0;32m     81\u001b[0m         \u001b[0mz\u001b[0m\u001b[1;33m=\u001b[0m \u001b[1;33m(\u001b[0m\u001b[0mz_over_r\u001b[0m\u001b[1;33m*\u001b[0m\u001b[0mr\u001b[0m\u001b[1;33m)\u001b[0m\u001b[1;33m\u001b[0m\u001b[1;33m\u001b[0m\u001b[0m\n",
      "\u001b[1;31mIndexError\u001b[0m: too many indices for array: array is 1-dimensional, but 2 were indexed"
     ]
    }
   ],
   "source": [
    "all_data= dict() \n",
    "for folder in folders:\n",
    "    params = ac.get_gridparameters(folder + 'capsol.in')\n",
    "    data = ac.np.loadtxt(folder + 'Z-U.dat')\n",
    "    process_data = ac.process_data(params, data, smoothing=False, std=5*10**-9)\n",
    "    all_data[folder]= (process_data)\n",
    "all_params= dict()\n",
    "for folder in folders:\n",
    "    params=ac.get_gridparameters(folder + 'capsol.in')\n",
    "    all_params[folder]= (params)"
   ]
  },
  {
   "cell_type": "code",
   "execution_count": null,
   "id": "a27efec2",
   "metadata": {},
   "outputs": [],
   "source": [
    "all_data"
   ]
  },
  {
   "cell_type": "code",
   "execution_count": null,
   "id": "bdf1f5d3",
   "metadata": {
    "scrolled": true
   },
   "outputs": [],
   "source": [
    "all_data.keys()"
   ]
  },
  {
   "cell_type": "code",
   "execution_count": null,
   "id": "59fe3797",
   "metadata": {},
   "outputs": [],
   "source": []
  },
  {
   "cell_type": "code",
   "execution_count": null,
   "id": "c6cac644",
   "metadata": {
    "scrolled": true
   },
   "outputs": [],
   "source": [
    "for key in {key: params for key, params in all_params.items() if params['Thickness_sample'] == .5}:\n",
    "    data=all_data[key]\n",
    "    thickness =all_params[key]['Thickness_sample']\n",
    "    rtip= all_params[key]['Rtip']\n",
    "    er=all_params[key]['eps_r']\n",
    "    plt.plot(data['z'], data['c'], label= f'{rtip} nm, {er}, {thickness} nm')\n",
    "    \n",
    "    \n",
    "plt.title('C v. Z for 1nm thick sample')    \n",
    "plt.ylabel(\"C(m)\")\n",
    "plt.xlabel(\"Z(m)\")\n",
    "plt.legend()\n",
    "plt.savefig(\"C' v. Z for 1nm thick sample 06-28-2021.png\")"
   ]
  },
  {
   "cell_type": "markdown",
   "id": "0981ee97",
   "metadata": {},
   "source": [
    "cut off last experiment because capacitance was off the scale"
   ]
  },
  {
   "cell_type": "code",
   "execution_count": null,
   "id": "ad6bf37e",
   "metadata": {},
   "outputs": [],
   "source": [
    "for key in {key: params for key, params in all_params.items() if params['Thickness_sample'] == .5}:\n",
    "    data=all_data[key]\n",
    "    thickness=all_params[key]['Thickness_sample']\n",
    "    rtip= all_params[key]['Rtip']\n",
    "    er=all_params[key]['eps_r']\n",
    "    s=slice(4,-3)\n",
    "    plt.plot(data['z'][s], data['cz'][s], label=f'{rtip} nm, {er}, {thickness} nm' )\n",
    "    \n",
    "plt.title('Cz vs. Z for 1.0nm')    \n",
    "plt.ylabel(\"Cz\")\n",
    "plt.xlabel(\"Z(m)\")\n",
    "plt.legend()\n",
    "plt.savefig(\"Cz v. Z for varying sample thickness, 06-28-2021.png\")"
   ]
  },
  {
   "cell_type": "code",
   "execution_count": null,
   "id": "8f02b5cc",
   "metadata": {},
   "outputs": [],
   "source": [
    "for key in {key: params for key, params in all_params.items() if params['Thickness_sample'] == .5}:\n",
    "    data=all_data[key]\n",
    "    thickness=all_params[key]['Thickness_sample']\n",
    "    rtip= all_params[key]['Rtip']\n",
    "    er=all_params[key]['eps_r']\n",
    "    s=slice(5,-5)\n",
    "    plt.plot(data['z'][s], data['czz'][s], label=f'{rtip} nm, {er}, {thickness} nm' )\n",
    "    \n",
    "plt.title('Czz vs. Z for 1.0nm')    \n",
    "plt.ylabel(\"Czz\")\n",
    "plt.xlabel(\"Z(m)\")\n",
    "plt.legend()\n",
    "plt.savefig(\"Czz v. Z for varying sample thickness, 06-28-2021.png\")"
   ]
  },
  {
   "cell_type": "code",
   "execution_count": null,
   "id": "eed081f0",
   "metadata": {},
   "outputs": [],
   "source": [
    "params"
   ]
  },
  {
   "cell_type": "code",
   "execution_count": null,
   "id": "dfdd7fe8",
   "metadata": {},
   "outputs": [],
   "source": [
    "for key in {key: params for key, params in all_params.items() if params['Thickness_sample'] == .5}:\n",
    "    data=all_data[key]\n",
    "    thickness=all_params[key]['Thickness_sample']\n",
    "    rtip= all_params[key]['Rtip']\n",
    "    er=all_params[key]['eps_r']\n",
    "    s=slice(8,-8)\n",
    "    plt.plot(data['z'][s], data['alpha'][s], label=f'{rtip} nm, {er}, {thickness} nm' )\n",
    "    \n",
    "plt.title('alpha vs. Z for 1.0nm')    \n",
    "plt.ylabel(\"$\\\\alpha$\")\n",
    "plt.xlabel(\"Z(m)\")\n",
    "plt.legend()\n",
    "plt.savefig(\"Alpha v. Z for varying sample thickness, 06-28-2021.png\")"
   ]
  },
  {
   "cell_type": "code",
   "execution_count": null,
   "id": "09a2ae9a",
   "metadata": {},
   "outputs": [],
   "source": [
    "data"
   ]
  },
  {
   "cell_type": "code",
   "execution_count": null,
   "id": "77a6dac6",
   "metadata": {},
   "outputs": [],
   "source": [
    "from scipy.optimize import curve_fit\n"
   ]
  },
  {
   "cell_type": "code",
   "execution_count": null,
   "id": "49b30168",
   "metadata": {},
   "outputs": [],
   "source": [
    "def Cz_model(z, a, n, b,):\n",
    "    return(a*z**n + b)"
   ]
  },
  {
   "cell_type": "code",
   "execution_count": null,
   "id": "87212141",
   "metadata": {},
   "outputs": [],
   "source": [
    "all_data.keys()"
   ]
  },
  {
   "cell_type": "code",
   "execution_count": null,
   "id": "74215bd0",
   "metadata": {},
   "outputs": [],
   "source": [
    "data= all_data['capsol-calc\\\\0001-capsol\\\\']\n",
    "z= data['z'][1:-1]\n",
    "cz= data['cz'][1:-1]"
   ]
  },
  {
   "cell_type": "code",
   "execution_count": null,
   "id": "8ff0827e",
   "metadata": {},
   "outputs": [],
   "source": [
    "popt, pcov= curve_fit(Cz_model, z, cz, p0=[cz[0]*z[0], -1, 0])\n",
    "a=popt[0]\n",
    "n=popt[1]\n",
    "b=popt[2]\n",
    "std_devs= np.sqrt(pcov.diagonal())\n",
    "sigma_a = std_devs[0]\n",
    "sigma_n = std_devs[1]\n",
    "model_output= Cz_model(z, a, n, b)\n",
    "rmse= np.sqrt(np.mean((cz - model_output)**2))\n"
   ]
  },
  {
   "cell_type": "code",
   "execution_count": null,
   "id": "42e9d139",
   "metadata": {},
   "outputs": [],
   "source": [
    "f\"a= {a} ± {sigma_a}\""
   ]
  },
  {
   "cell_type": "code",
   "execution_count": null,
   "id": "05e99973",
   "metadata": {},
   "outputs": [],
   "source": [
    "f\"n= {n}± {sigma_n}\""
   ]
  },
  {
   "cell_type": "code",
   "execution_count": null,
   "id": "e495fee8",
   "metadata": {},
   "outputs": [],
   "source": [
    "model_output"
   ]
  },
  {
   "cell_type": "code",
   "execution_count": null,
   "id": "dbd0d394",
   "metadata": {},
   "outputs": [],
   "source": [
    "\"Root Mean Square Error\""
   ]
  },
  {
   "cell_type": "code",
   "execution_count": null,
   "id": "b351ff7e",
   "metadata": {},
   "outputs": [],
   "source": [
    "rmse/np.mean(-cz)"
   ]
  },
  {
   "cell_type": "code",
   "execution_count": null,
   "id": "86949536",
   "metadata": {},
   "outputs": [],
   "source": []
  }
 ],
 "metadata": {
  "kernelspec": {
   "display_name": "Python 3",
   "language": "python",
   "name": "python3"
  },
  "language_info": {
   "codemirror_mode": {
    "name": "ipython",
    "version": 3
   },
   "file_extension": ".py",
   "mimetype": "text/x-python",
   "name": "python",
   "nbconvert_exporter": "python",
   "pygments_lexer": "ipython3",
   "version": "3.8.8"
  }
 },
 "nbformat": 4,
 "nbformat_minor": 5
}
