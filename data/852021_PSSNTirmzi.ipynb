{
 "cells": [
  {
   "cell_type": "markdown",
   "id": "7909fa0a",
   "metadata": {},
   "source": [
    "##Tirmzi Analysis\n",
    "n=1000 m+=1000 nm-=120 istep= 4 min=150 max=700"
   ]
  },
  {
   "cell_type": "code",
   "execution_count": 1,
   "id": "63afb62c",
   "metadata": {},
   "outputs": [],
   "source": [
    "import sys\n",
    "sys.path\n",
    "import matplotlib.pyplot as plt\n",
    "import numpy as np\n",
    "import os\n",
    "from scipy import signal"
   ]
  },
  {
   "cell_type": "code",
   "execution_count": 2,
   "id": "8bec0f1d",
   "metadata": {
    "scrolled": true
   },
   "outputs": [
    {
     "name": "stdout",
     "output_type": "stream",
     "text": [
      " Volume in drive C is Local Disk\n",
      " Volume Serial Number is AA1B-997A\n",
      "\n",
      " Directory of C:\\Users\\emaro\\OneDrive - University of Mount Union\\XSEDE Summer 2021\\xsede-spm\\data\n",
      "\n",
      "08/05/2021  10:44 AM    <DIR>          .\n",
      "08/05/2021  10:44 AM    <DIR>          ..\n",
      "08/05/2021  10:40 AM    <DIR>          .ipynb_checkpoints\n",
      "08/02/2021  02:01 PM    <DIR>          0309-VariedNuni_8_2_2021-0000\n",
      "08/02/2021  02:15 PM    <DIR>          8_2_2021\n",
      "08/02/2021  03:39 PM           161,361 8_2_2021_FortranErequals1.ipynb\n",
      "08/03/2021  01:17 PM           130,779 8_2_2021_PythonErequals1.ipynb\n",
      "08/02/2021  02:58 PM           130,726 8_2_2021_PythonVariedNuni.ipynb\n",
      "08/04/2021  02:42 PM           130,779 8_2_2021_PythonVariedNuni-Copy3.ipynb\n",
      "08/02/2021  02:52 PM    <DIR>          8_2_2021P\n",
      "08/03/2021  03:01 PM           225,696 8_3_2021_SphereTest_Python.ipynb\n",
      "08/05/2021  10:30 AM            93,725 852021_FDefaultCapsol.ipynb\n",
      "08/05/2021  10:34 AM            17,002 852021_FOriginalTirmzi.ipynb\n",
      "08/05/2021  10:44 AM           169,492 852021_FSSNlTirmzi.ipynb\n",
      "08/05/2021  10:33 AM            89,554 852021_PDefaultCapsol.ipynb\n",
      "08/05/2021  10:39 AM           130,062 852021_POriginalTirmzi.ipynb\n",
      "08/05/2021  10:44 AM             8,750 852021_PSSNTirmzi.ipynb\n",
      "08/05/2021  10:43 AM            11,897 Alpha v. Z for varying sample thickness, 06-28-2021.png\n",
      "08/05/2021  10:43 AM            28,715 C' v. Z for 1nm thick sample 06-28-2021.png\n",
      "08/02/2021  02:15 PM             6,179 C' v. Z for varying sample thickness, 06-28-2021.png\n",
      "08/05/2021  10:43 AM            26,631 Cz v. Z for varying sample thickness, 06-28-2021.png\n",
      "08/05/2021  10:43 AM            30,641 Czz v. Z for varying sample thickness, 06-28-2021.png\n",
      "08/02/2021  03:35 PM    <DIR>          erequals1_F\n",
      "08/03/2021  01:05 PM    <DIR>          erequals1_P\n",
      "08/05/2021  10:29 AM    <DIR>          Fortran\n",
      "08/03/2021  01:22 PM           153,589 Fortran m_minus.ipynb\n",
      "08/03/2021  01:20 PM           148,540 Fortran Sphere Test.ipynb\n",
      "08/02/2021  03:35 PM    <DIR>          FortranOutputTest\n",
      "08/03/2021  01:14 PM    <DIR>          m_minue_P\n",
      "08/03/2021  01:16 PM    <DIR>          m_minus_F\n",
      "08/05/2021  10:11 AM    <DIR>          Original Tirmzi\n",
      "08/05/2021  10:11 AM    <DIR>          Original Tirmzi F\n",
      "08/05/2021  10:30 AM    <DIR>          Python\n",
      "08/03/2021  01:05 PM    <DIR>          PythonOutputTest\n",
      "08/03/2021  01:13 PM    <DIR>          SphereTest_F\n",
      "08/03/2021  01:13 PM    <DIR>          SphereTest_P\n",
      "08/05/2021  10:10 AM    <DIR>          SSN Tirmzi\n",
      "08/05/2021  10:11 AM    <DIR>          SSN Tirmzi F\n",
      "07/28/2021  11:49 AM            57,907 Tirmzi_istep4.ipynb\n",
      "07/28/2021  11:43 AM           113,265 Tirmzi_istep4-Copy2.ipynb\n",
      "              20 File(s)      1,865,290 bytes\n",
      "              20 Dir(s)  146,364,522,496 bytes free\n"
     ]
    }
   ],
   "source": [
    "ls"
   ]
  },
  {
   "cell_type": "code",
   "execution_count": 3,
   "id": "b2bdd91e",
   "metadata": {},
   "outputs": [],
   "source": [
    "import capsol.newanalyzecapsol as ac"
   ]
  },
  {
   "cell_type": "code",
   "execution_count": 4,
   "id": "74d01467",
   "metadata": {},
   "outputs": [
    {
     "data": {
      "text/plain": [
       "<function capsol.newanalyzecapsol.get_gridparameters(f_name)>"
      ]
     },
     "execution_count": 4,
     "metadata": {},
     "output_type": "execute_result"
    }
   ],
   "source": [
    "ac.get_gridparameters"
   ]
  },
  {
   "cell_type": "code",
   "execution_count": 5,
   "id": "234f74d8",
   "metadata": {},
   "outputs": [],
   "source": [
    "import glob"
   ]
  },
  {
   "cell_type": "code",
   "execution_count": 6,
   "id": "5766fac7",
   "metadata": {},
   "outputs": [
    {
     "data": {
      "text/plain": [
       "['SSN Tirmzi\\\\0344-RR_SSNTirmzi-0000\\\\',\n",
       " 'SSN Tirmzi\\\\0346-RR_SSNTirmzi-0001\\\\']"
      ]
     },
     "execution_count": 6,
     "metadata": {},
     "output_type": "execute_result"
    }
   ],
   "source": [
    "folders = glob.glob(\"SSN Tirmzi/*/\")\n",
    "folders\n"
   ]
  },
  {
   "cell_type": "code",
   "execution_count": 7,
   "id": "0f240774",
   "metadata": {
    "scrolled": false
   },
   "outputs": [],
   "source": [
    "all_data= dict() \n",
    "for folder in folders:\n",
    "    params = ac.get_gridparameters(folder + 'capsol.in')\n",
    "    data = ac.np.loadtxt(folder + 'C-Z.dat')\n",
    "    process_data = ac.process_data(params, data, smoothing=False, std=5*10**-9, fortran=False)\n",
    "    all_data[folder]= (process_data)\n",
    "all_params= dict()\n",
    "for folder in folders:\n",
    "    params=ac.get_gridparameters(folder + 'capsol.in')\n",
    "    all_params[folder]= (params)"
   ]
  },
  {
   "cell_type": "code",
   "execution_count": 8,
   "id": "a27efec2",
   "metadata": {},
   "outputs": [
    {
     "data": {
      "text/plain": [
       "{'SSN Tirmzi\\\\0344-RR_SSNTirmzi-0000\\\\': {'z': array([150., 156., 162., 168., 174., 180., 186., 192., 198., 204., 210.,\n",
       "         216., 222., 228., 234., 240., 246., 252., 258., 264., 270., 276.,\n",
       "         282., 288., 294., 300., 306., 312., 318., 324., 330., 336., 342.,\n",
       "         348., 354., 360., 366., 372., 378., 384., 390., 396., 402., 408.,\n",
       "         414., 420., 426., 432., 438., 444., 450., 456., 462., 468., 474.,\n",
       "         480., 486., 492., 498., 504., 510., 516., 522., 528., 534., 540.,\n",
       "         546., 552., 558., 564., 570., 576., 582., 588., 594., 600., 606.,\n",
       "         612., 618., 624., 630., 636., 642., 648.]),\n",
       "  'c': array([6.13904698e-15, 6.13744634e-15, 6.13585105e-15, 6.13426091e-15,\n",
       "         6.13267570e-15, 6.13109526e-15, 6.12951940e-15, 6.12794799e-15,\n",
       "         6.12638087e-15, 6.12481792e-15, 6.12325902e-15, 6.12170404e-15,\n",
       "         6.12015289e-15, 6.11860547e-15, 6.11706168e-15, 6.11552143e-15,\n",
       "         6.11398465e-15, 6.11245125e-15, 6.11092117e-15, 6.10939433e-15,\n",
       "         6.10787066e-15, 6.10635012e-15, 6.10483263e-15, 6.10331814e-15,\n",
       "         6.10180660e-15, 6.10029796e-15, 6.09879216e-15, 6.09728917e-15,\n",
       "         6.09578893e-15, 6.09429141e-15, 6.09279656e-15, 6.09130435e-15,\n",
       "         6.08981473e-15, 6.08832768e-15, 6.08684316e-15, 6.08536112e-15,\n",
       "         6.08388155e-15, 6.08240442e-15, 6.08092968e-15, 6.07945731e-15,\n",
       "         6.07798729e-15, 6.07651959e-15, 6.07505418e-15, 6.07359103e-15,\n",
       "         6.07213013e-15, 6.07067144e-15, 6.06921496e-15, 6.06776064e-15,\n",
       "         6.06630848e-15, 6.06485845e-15, 6.06341053e-15, 6.06196471e-15,\n",
       "         6.06052095e-15, 6.05907925e-15, 6.05763959e-15, 6.05620195e-15,\n",
       "         6.05476630e-15, 6.05333264e-15, 6.05190095e-15, 6.05047122e-15,\n",
       "         6.04904341e-15, 6.04761754e-15, 6.04619357e-15, 6.04477149e-15,\n",
       "         6.04335129e-15, 6.04193296e-15, 6.04051648e-15, 6.03910183e-15,\n",
       "         6.03768902e-15, 6.03627802e-15, 6.03486881e-15, 6.03346140e-15,\n",
       "         6.03205577e-15, 6.03065190e-15, 6.02924979e-15, 6.02784942e-15,\n",
       "         6.02645079e-15, 6.02505388e-15, 6.02365868e-15, 6.02226518e-15,\n",
       "         6.02087338e-15, 6.01948326e-15, 6.01809481e-15, 6.01670803e-15]),\n",
       "  'cz': array([-2.66773243e-10, -2.66326933e-10, -2.65452426e-10, -2.64612540e-10,\n",
       "         -2.63804270e-10, -2.63024975e-10, -2.62272325e-10, -2.61544256e-10,\n",
       "         -2.60838927e-10, -2.60154695e-10, -2.59490087e-10, -2.58843772e-10,\n",
       "         -2.58214553e-10, -2.57601343e-10, -2.57003153e-10, -2.56419084e-10,\n",
       "         -2.55848314e-10, -2.55290089e-10, -2.54743718e-10, -2.54208566e-10,\n",
       "         -2.53684044e-10, -2.53169613e-10, -2.52664769e-10, -2.52169049e-10,\n",
       "         -2.51682019e-10, -2.51203277e-10, -2.50732450e-10, -2.50269186e-10,\n",
       "         -2.49813160e-10, -2.49364065e-10, -2.48921613e-10, -2.48485536e-10,\n",
       "         -2.48055580e-10, -2.47631507e-10, -2.47213093e-10, -2.46800125e-10,\n",
       "         -2.46392405e-10, -2.45989744e-10, -2.45591962e-10, -2.45198891e-10,\n",
       "         -2.44810370e-10, -2.44426247e-10, -2.44046377e-10, -2.43670624e-10,\n",
       "         -2.43298857e-10, -2.42930951e-10, -2.42566788e-10, -2.42206256e-10,\n",
       "         -2.41849246e-10, -2.41495655e-10, -2.41145386e-10, -2.40798345e-10,\n",
       "         -2.40454442e-10, -2.40113590e-10, -2.39775707e-10, -2.39440715e-10,\n",
       "         -2.39108538e-10, -2.38779103e-10, -2.38452340e-10, -2.38128183e-10,\n",
       "         -2.37806567e-10, -2.37487430e-10, -2.37170713e-10, -2.36856358e-10,\n",
       "         -2.36544310e-10, -2.36234516e-10, -2.35926925e-10, -2.35621488e-10,\n",
       "         -2.35318156e-10, -2.35016883e-10, -2.34717626e-10, -2.34420342e-10,\n",
       "         -2.34124989e-10, -2.33831526e-10, -2.33539916e-10, -2.33250120e-10,\n",
       "         -2.32962103e-10, -2.32675829e-10, -2.32391264e-10, -2.32108376e-10,\n",
       "         -2.31827133e-10, -2.31547503e-10, -2.31269456e-10, -2.31130825e-10]),\n",
       "  'czz': array([7.43849235e-05, 1.10068056e-04, 1.42866063e-04, 1.37346333e-04,\n",
       "         1.32297124e-04, 1.27662067e-04, 1.23393283e-04, 1.19449866e-04,\n",
       "         1.15796672e-04, 1.12403358e-04, 1.09243594e-04, 1.06294434e-04,\n",
       "         1.03535793e-04, 1.00950021e-04, 9.85215504e-05, 9.62365995e-05,\n",
       "         9.40829275e-05, 9.20496272e-05, 9.01269503e-05, 8.83061594e-05,\n",
       "         8.65794007e-05, 8.49395975e-05, 8.33803566e-05, 8.18958887e-05,\n",
       "         8.04809396e-05, 7.91307302e-05, 7.78409046e-05, 7.66074848e-05,\n",
       "         7.54268308e-05, 7.42956056e-05, 7.32107452e-05, 7.21694311e-05,\n",
       "         7.11690659e-05, 7.02072533e-05, 6.92817785e-05, 6.83905915e-05,\n",
       "         6.75317922e-05, 6.67036172e-05, 6.59044278e-05, 6.51326990e-05,\n",
       "         6.43870103e-05, 6.36660366e-05, 6.29685405e-05, 6.22933653e-05,\n",
       "         6.16394285e-05, 6.10057160e-05, 6.03912767e-05, 5.97952179e-05,\n",
       "         5.92167010e-05, 5.86549371e-05, 5.81091837e-05, 5.75787413e-05,\n",
       "         5.70629504e-05, 5.65611886e-05, 5.60728679e-05, 5.55974328e-05,\n",
       "         5.51343579e-05, 5.46831456e-05, 5.42433246e-05, 5.38144482e-05,\n",
       "         5.33960927e-05, 5.29878560e-05, 5.25893558e-05, 5.22002292e-05,\n",
       "         5.18201308e-05, 5.14487319e-05, 5.10857197e-05, 5.07307961e-05,\n",
       "         5.03836768e-05, 5.00440909e-05, 4.97117797e-05, 4.93864961e-05,\n",
       "         4.90680043e-05, 4.87560789e-05, 4.84505042e-05, 4.81510738e-05,\n",
       "         4.78575903e-05, 4.75698647e-05, 4.72877159e-05, 4.70109702e-05,\n",
       "         4.67394609e-05, 4.64730287e-05, 3.47231128e-05, 2.31051633e-05]),\n",
       "  'alpha': array([0.31169415, 0.20999607, 0.16076796, 0.1662155 , 0.17155099,\n",
       "         0.1767763 , 0.18189342, 0.18690445, 0.19181154, 0.19661691,\n",
       "         0.20132278, 0.20593141, 0.21044502, 0.21486584, 0.21919609,\n",
       "         0.22343794, 0.22759355, 0.23166502, 0.23565443, 0.2395638 ,\n",
       "         0.24339514, 0.24715036, 0.25083138, 0.25444004, 0.25797813,\n",
       "         0.26144743, 0.26484963, 0.26818641, 0.27145937, 0.2746701 ,\n",
       "         0.27782013, 0.28091093, 0.28394397, 0.28692064, 0.28984232,\n",
       "         0.29271032, 0.29552594, 0.29829043, 0.30100501, 0.30367085,\n",
       "         0.30628912, 0.30886092, 0.31138733, 0.31386942, 0.31630821,\n",
       "         0.31870468, 0.32105981, 0.32337453, 0.32564977, 0.32788639,\n",
       "         0.33008528, 0.33224727, 0.33437317, 0.33646378, 0.33851986,\n",
       "         0.34054218, 0.34253145, 0.3444884 , 0.3464137 , 0.34830804,\n",
       "         0.35017207, 0.35200642, 0.35381172, 0.35558857, 0.35733756,\n",
       "         0.35905925, 0.36075422, 0.362423  , 0.36406612, 0.3656841 ,\n",
       "         0.36727745, 0.36884664, 0.37039216, 0.37191448, 0.37341405,\n",
       "         0.37489131, 0.3763467 , 0.37778063, 0.37919351, 0.38058576,\n",
       "         0.38195775, 0.38330988, 0.51190442, 0.76855996])},\n",
       " 'SSN Tirmzi\\\\0346-RR_SSNTirmzi-0001\\\\': {'z': array([150., 156., 162., 168., 174., 180., 186., 192., 198., 204., 210.,\n",
       "         216., 222., 228., 234., 240., 246., 252., 258., 264., 270., 276.,\n",
       "         282., 288., 294., 300., 306., 312., 318., 324., 330., 336., 342.,\n",
       "         348., 354., 360., 366., 372., 378., 384., 390., 396., 402., 408.,\n",
       "         414., 420., 426., 432., 438., 444., 450., 456., 462., 468., 474.,\n",
       "         480., 486., 492., 498., 504., 510., 516., 522., 528., 534., 540.,\n",
       "         546., 552., 558., 564., 570., 576., 582., 588., 594., 600., 606.,\n",
       "         612., 618., 624., 630., 636., 642., 648.]),\n",
       "  'c': array([6.14059370e-15, 6.13898001e-15, 6.13737221e-15, 6.13577002e-15,\n",
       "         6.13417321e-15, 6.13258158e-15, 6.13099493e-15, 6.12941308e-15,\n",
       "         6.12783585e-15, 6.12626312e-15, 6.12469472e-15, 6.12313053e-15,\n",
       "         6.12157042e-15, 6.12001430e-15, 6.11846203e-15, 6.11691354e-15,\n",
       "         6.11536872e-15, 6.11382749e-15, 6.11228976e-15, 6.11075545e-15,\n",
       "         6.10922450e-15, 6.10769682e-15, 6.10617237e-15, 6.10465106e-15,\n",
       "         6.10313284e-15, 6.10161767e-15, 6.10010547e-15, 6.09859620e-15,\n",
       "         6.09708981e-15, 6.09558625e-15, 6.09408548e-15, 6.09258746e-15,\n",
       "         6.09109214e-15, 6.08959948e-15, 6.08810945e-15, 6.08662200e-15,\n",
       "         6.08513711e-15, 6.08365473e-15, 6.08217485e-15, 6.08069742e-15,\n",
       "         6.07922241e-15, 6.07774980e-15, 6.07627955e-15, 6.07481165e-15,\n",
       "         6.07334606e-15, 6.07188275e-15, 6.07042171e-15, 6.06896291e-15,\n",
       "         6.06750632e-15, 6.06605192e-15, 6.06459970e-15, 6.06314962e-15,\n",
       "         6.06170168e-15, 6.06025584e-15, 6.05881210e-15, 6.05737042e-15,\n",
       "         6.05593080e-15, 6.05449321e-15, 6.05305763e-15, 6.05162406e-15,\n",
       "         6.05019247e-15, 6.04876285e-15, 6.04733518e-15, 6.04590944e-15,\n",
       "         6.04448563e-15, 6.04306372e-15, 6.04164371e-15, 6.04022557e-15,\n",
       "         6.03880930e-15, 6.03739488e-15, 6.03598229e-15, 6.03457154e-15,\n",
       "         6.03316259e-15, 6.03175545e-15, 6.03035009e-15, 6.02894651e-15,\n",
       "         6.02754470e-15, 6.02614465e-15, 6.02474633e-15, 6.02334975e-15,\n",
       "         6.02195489e-15, 6.02056175e-15, 6.01917030e-15, 6.01778055e-15]),\n",
       "  'cz': array([-2.68947505e-10, -2.68457774e-10, -2.67499762e-10, -2.66582680e-10,\n",
       "         -2.65702834e-10, -2.64856995e-10, -2.64042321e-10, -2.63256302e-10,\n",
       "         -2.62496712e-10, -2.61761566e-10, -2.61049089e-10, -2.60357687e-10,\n",
       "         -2.59685927e-10, -2.59032510e-10, -2.58396263e-10, -2.57776118e-10,\n",
       "         -2.57171101e-10, -2.56580323e-10, -2.56002970e-10, -2.55438295e-10,\n",
       "         -2.54885611e-10, -2.54344282e-10, -2.53813725e-10, -2.53293397e-10,\n",
       "         -2.52782796e-10, -2.52281455e-10, -2.51788942e-10, -2.51304851e-10,\n",
       "         -2.50828805e-10, -2.50360452e-10, -2.49899462e-10, -2.49445526e-10,\n",
       "         -2.48998354e-10, -2.48557673e-10, -2.48123228e-10, -2.47694776e-10,\n",
       "         -2.47272091e-10, -2.46854958e-10, -2.46443175e-10, -2.46036548e-10,\n",
       "         -2.45634897e-10, -2.45238050e-10, -2.44845844e-10, -2.44458124e-10,\n",
       "         -2.44074743e-10, -2.43695562e-10, -2.43320446e-10, -2.42949270e-10,\n",
       "         -2.42581913e-10, -2.42218260e-10, -2.41858201e-10, -2.41501631e-10,\n",
       "         -2.41148450e-10, -2.40798561e-10, -2.40451875e-10, -2.40108301e-10,\n",
       "         -2.39767758e-10, -2.39430163e-10, -2.39095439e-10, -2.38763513e-10,\n",
       "         -2.38434313e-10, -2.38107770e-10, -2.37783820e-10, -2.37462397e-10,\n",
       "         -2.37143443e-10, -2.36826897e-10, -2.36512704e-10, -2.36200809e-10,\n",
       "         -2.35891160e-10, -2.35583707e-10, -2.35278400e-10, -2.34975193e-10,\n",
       "         -2.34674039e-10, -2.34374896e-10, -2.34077721e-10, -2.33782472e-10,\n",
       "         -2.33489111e-10, -2.33197599e-10, -2.32907898e-10, -2.32619973e-10,\n",
       "         -2.32333790e-10, -2.32049313e-10, -2.31766512e-10, -2.31625525e-10]),\n",
       "  'czz': array([8.16218439e-05, 1.20645234e-04, 1.56257855e-04, 1.49744011e-04,\n",
       "         1.43807080e-04, 1.38376107e-04, 1.33391033e-04, 1.28800717e-04,\n",
       "         1.24561368e-04, 1.20635294e-04, 1.16989893e-04, 1.13596837e-04,\n",
       "         1.10431403e-04, 1.07471930e-04, 1.04699362e-04, 1.02096877e-04,\n",
       "         9.96495743e-05, 9.73442099e-05, 9.51689766e-05, 9.31133174e-05,\n",
       "         9.11677663e-05, 8.93238134e-05, 8.75737881e-05, 8.59107598e-05,\n",
       "         8.43284523e-05, 8.28211689e-05, 8.13837277e-05, 8.00114064e-05,\n",
       "         7.86998921e-05, 7.74452387e-05, 7.62438296e-05, 7.50923438e-05,\n",
       "         7.39877270e-05, 7.29271658e-05, 7.19080645e-05, 7.09280242e-05,\n",
       "         6.99848257e-05, 6.90764123e-05, 6.82008761e-05, 6.73564440e-05,\n",
       "         6.65414668e-05, 6.57544086e-05, 6.49938374e-05, 6.42584159e-05,\n",
       "         6.35468948e-05, 6.28581050e-05, 6.21909520e-05, 6.15444095e-05,\n",
       "         6.09175142e-05, 6.03093619e-05, 5.97191022e-05, 5.91459348e-05,\n",
       "         5.85891061e-05, 5.80479061e-05, 5.75216644e-05, 5.70097486e-05,\n",
       "         5.65115609e-05, 5.60265361e-05, 5.55541393e-05, 5.50938642e-05,\n",
       "         5.46452309e-05, 5.42077843e-05, 5.37810925e-05, 5.33647457e-05,\n",
       "         5.29583541e-05, 5.25615473e-05, 5.21739733e-05, 5.17952966e-05,\n",
       "         5.14251976e-05, 5.10633722e-05, 5.07095303e-05, 5.03633947e-05,\n",
       "         5.00247015e-05, 4.96931982e-05, 4.93686437e-05, 4.90508076e-05,\n",
       "         4.87394694e-05, 4.84344182e-05, 4.81354522e-05, 4.78423778e-05,\n",
       "         4.75550100e-05, 4.72731709e-05, 3.53156539e-05, 2.34976959e-05]),\n",
       "  'alpha': array([0.28863452, 0.19461467, 0.14922874, 0.15469466, 0.1600612 ,\n",
       "         0.16532877, 0.17049808, 0.17557003, 0.18054574, 0.18542647,\n",
       "         0.1902136 , 0.19490862, 0.19951308, 0.20402861, 0.20845684,\n",
       "         0.21279948, 0.21705822, 0.22123477, 0.22533086, 0.22934818,\n",
       "         0.23328845, 0.23715333, 0.24094449, 0.24466358, 0.24831221,\n",
       "         0.25189196, 0.2554044 , 0.25885106, 0.26223345, 0.26555302,\n",
       "         0.26881122, 0.27200946, 0.2751491 , 0.27823149, 0.28125794,\n",
       "         0.28422973, 0.2871481 , 0.29001427, 0.29282944, 0.29559474,\n",
       "         0.29831132, 0.30098026, 0.30360264, 0.3061795 , 0.30871186,\n",
       "         0.31120071, 0.313647  , 0.31605168, 0.31841566, 0.32073983,\n",
       "         0.32302506, 0.3252722 , 0.32748206, 0.32965545, 0.33179314,\n",
       "         0.3338959 , 0.33596447, 0.33799957, 0.3400019 , 0.34197215,\n",
       "         0.34391099, 0.34581905, 0.34769699, 0.34954541, 0.35136493,\n",
       "         0.35315611, 0.35491955, 0.35665579, 0.35836538, 0.36004885,\n",
       "         0.36170671, 0.36333948, 0.36494764, 0.36653167, 0.36809205,\n",
       "         0.36962922, 0.37114364, 0.37263574, 0.37410594, 0.37555466,\n",
       "         0.37698231, 0.37838928, 0.50539097, 0.75882426])}}"
      ]
     },
     "execution_count": 8,
     "metadata": {},
     "output_type": "execute_result"
    }
   ],
   "source": [
    "all_data"
   ]
  },
  {
   "cell_type": "code",
   "execution_count": 9,
   "id": "bdf1f5d3",
   "metadata": {
    "scrolled": true
   },
   "outputs": [
    {
     "data": {
      "text/plain": [
       "dict_keys(['SSN Tirmzi\\\\0344-RR_SSNTirmzi-0000\\\\', 'SSN Tirmzi\\\\0346-RR_SSNTirmzi-0001\\\\'])"
      ]
     },
     "execution_count": 9,
     "metadata": {},
     "output_type": "execute_result"
    }
   ],
   "source": [
    "all_data.keys()"
   ]
  },
  {
   "cell_type": "code",
   "execution_count": null,
   "id": "59fe3797",
   "metadata": {},
   "outputs": [],
   "source": []
  },
  {
   "cell_type": "code",
   "execution_count": 10,
   "id": "c6cac644",
   "metadata": {
    "scrolled": true
   },
   "outputs": [
    {
     "data": {
      "image/png": "[encoded data removed]",
      "text/plain": [
       "<Figure size 432x288 with 1 Axes>"
      ]
     },
     "metadata": {
      "needs_background": "light"
     },
     "output_type": "display_data"
    }
   ],
   "source": [
    "for key in {key: params for key, params in all_params.items() if params['Thickness_sample'] == 1}:\n",
    "    data=all_data[key]\n",
    "    thickness =all_params[key]['Thickness_sample']\n",
    "    rtip= all_params[key]['Rtip']\n",
    "    er=all_params[key]['eps_r']\n",
    "    Nuni=all_params[key]['Nuni']\n",
    "    plt.plot(data['z'], data['c'], label= f'{rtip} nm, {er}, {thickness} nm,  {Nuni}')\n",
    "    \n",
    "    \n",
    "plt.title('C v. Z for 1nm thick sample')    \n",
    "plt.ylabel(\"C(m)\")\n",
    "plt.xlabel(\"Z(m)\")\n",
    "plt.legend()\n",
    "plt.savefig(\"C' v. Z for 1nm thick sample 06-28-2021.png\")"
   ]
  },
  {
   "cell_type": "markdown",
   "id": "0981ee97",
   "metadata": {},
   "source": [
    "cut off last experiment because capacitance was off the scale"
   ]
  },
  {
   "cell_type": "code",
   "execution_count": 11,
   "id": "ad6bf37e",
   "metadata": {},
   "outputs": [
    {
     "data": {
      "image/png": "[encoded data removed]",
      "text/plain": [
       "<Figure size 432x288 with 1 Axes>"
      ]
     },
     "metadata": {
      "needs_background": "light"
     },
     "output_type": "display_data"
    }
   ],
   "source": [
    "for key in {key: params for key, params in all_params.items() if params['Thickness_sample'] == 1}:\n",
    "    data=all_data[key]\n",
    "    thickness=all_params[key]['Thickness_sample']\n",
    "    rtip= all_params[key]['Rtip']\n",
    "    er=all_params[key]['eps_r']\n",
    "    s=slice(4,-3)\n",
    "    plt.plot(data['z'][s], data['cz'][s], label=f'{rtip} nm, {er}, {thickness} nm' )\n",
    "    \n",
    "plt.title('Cz vs. Z for 1.0nm')    \n",
    "plt.ylabel(\"Cz\")\n",
    "plt.xlabel(\"Z(m)\")\n",
    "plt.legend()\n",
    "plt.savefig(\"Cz v. Z for varying sample thickness, 06-28-2021.png\")"
   ]
  },
  {
   "cell_type": "code",
   "execution_count": 12,
   "id": "8f02b5cc",
   "metadata": {},
   "outputs": [
    {
     "data": {
      "image/png": "[encoded data removed]",
      "text/plain": [
       "<Figure size 432x288 with 1 Axes>"
      ]
     },
     "metadata": {
      "needs_background": "light"
     },
     "output_type": "display_data"
    }
   ],
   "source": [
    "for key in {key: params for key, params in all_params.items() if params['Thickness_sample'] == 1}:\n",
    "    data=all_data[key]\n",
    "    thickness=all_params[key]['Thickness_sample']\n",
    "    rtip= all_params[key]['Rtip']\n",
    "    er=all_params[key]['eps_r']\n",
    "    s=slice(5,-5)\n",
    "    plt.plot(data['z'][s], data['czz'][s], label=f'{rtip} nm, {er}, {thickness} nm' )\n",
    "    \n",
    "plt.title('Czz vs. Z for 1.0nm')    \n",
    "plt.ylabel(\"Czz\")\n",
    "plt.xlabel(\"Z(m)\")\n",
    "plt.legend()\n",
    "plt.savefig(\"Czz v. Z for varying sample thickness, 06-28-2021.png\")"
   ]
  },
  {
   "cell_type": "code",
   "execution_count": 13,
   "id": "eed081f0",
   "metadata": {},
   "outputs": [
    {
     "data": {
      "text/plain": [
       "{'n': 750,\n",
       " 'm+': 750,\n",
       " 'm-': 88,\n",
       " 'h0': 0.5,\n",
       " 'rho_max': 1000000.0,\n",
       " 'z_max': 1000000.0,\n",
       " 'min': 150.0,\n",
       " 'max': 650.0,\n",
       " 'istep': 12.0,\n",
       " 'Rtip': 40.0,\n",
       " 'half-angle': 15.0,\n",
       " 'HCone': 15000.0,\n",
       " 'RCantilever': 40000.0,\n",
       " 'thickness_Cantilever': 500.0,\n",
       " 'eps_r': 1.0,\n",
       " 'Thickness_sample': 1.0,\n",
       " 'Solving Method': 'LAPACK',\n",
       " 'Test': 0,\n",
       " 'Verbosity': 0,\n",
       " 'Nuni': 1,\n",
       " 'Equally spaced': False}"
      ]
     },
     "execution_count": 13,
     "metadata": {},
     "output_type": "execute_result"
    }
   ],
   "source": [
    "params"
   ]
  },
  {
   "cell_type": "code",
   "execution_count": 14,
   "id": "dfdd7fe8",
   "metadata": {},
   "outputs": [
    {
     "data": {
      "image/png": "[encoded data removed]",
      "text/plain": [
       "<Figure size 432x288 with 1 Axes>"
      ]
     },
     "metadata": {
      "needs_background": "light"
     },
     "output_type": "display_data"
    }
   ],
   "source": [
    "for key in {key: params for key, params in all_params.items() if params['Thickness_sample'] == 1}:\n",
    "    data=all_data[key]\n",
    "    thickness=all_params[key]['Thickness_sample']\n",
    "    rtip= all_params[key]['Rtip']\n",
    "    er=all_params[key]['eps_r']\n",
    "    s=slice(8,-8)\n",
    "    plt.plot(data['z'][s], data['alpha'][s], label=f'{rtip} nm, {er}, {thickness} nm' )\n",
    "    \n",
    "plt.title('alpha vs. Z for 1.0nm')    \n",
    "plt.ylabel(\"$\\\\alpha$\")\n",
    "plt.xlabel(\"Z(m)\")\n",
    "plt.legend()\n",
    "plt.savefig(\"Alpha v. Z for varying sample thickness, 06-28-2021.png\")"
   ]
  },
  {
   "cell_type": "code",
   "execution_count": 15,
   "id": "09a2ae9a",
   "metadata": {},
   "outputs": [
    {
     "data": {
      "text/plain": [
       "{'z': array([150., 156., 162., 168., 174., 180., 186., 192., 198., 204., 210.,\n",
       "        216., 222., 228., 234., 240., 246., 252., 258., 264., 270., 276.,\n",
       "        282., 288., 294., 300., 306., 312., 318., 324., 330., 336., 342.,\n",
       "        348., 354., 360., 366., 372., 378., 384., 390., 396., 402., 408.,\n",
       "        414., 420., 426., 432., 438., 444., 450., 456., 462., 468., 474.,\n",
       "        480., 486., 492., 498., 504., 510., 516., 522., 528., 534., 540.,\n",
       "        546., 552., 558., 564., 570., 576., 582., 588., 594., 600., 606.,\n",
       "        612., 618., 624., 630., 636., 642., 648.]),\n",
       " 'c': array([6.14059370e-15, 6.13898001e-15, 6.13737221e-15, 6.13577002e-15,\n",
       "        6.13417321e-15, 6.13258158e-15, 6.13099493e-15, 6.12941308e-15,\n",
       "        6.12783585e-15, 6.12626312e-15, 6.12469472e-15, 6.12313053e-15,\n",
       "        6.12157042e-15, 6.12001430e-15, 6.11846203e-15, 6.11691354e-15,\n",
       "        6.11536872e-15, 6.11382749e-15, 6.11228976e-15, 6.11075545e-15,\n",
       "        6.10922450e-15, 6.10769682e-15, 6.10617237e-15, 6.10465106e-15,\n",
       "        6.10313284e-15, 6.10161767e-15, 6.10010547e-15, 6.09859620e-15,\n",
       "        6.09708981e-15, 6.09558625e-15, 6.09408548e-15, 6.09258746e-15,\n",
       "        6.09109214e-15, 6.08959948e-15, 6.08810945e-15, 6.08662200e-15,\n",
       "        6.08513711e-15, 6.08365473e-15, 6.08217485e-15, 6.08069742e-15,\n",
       "        6.07922241e-15, 6.07774980e-15, 6.07627955e-15, 6.07481165e-15,\n",
       "        6.07334606e-15, 6.07188275e-15, 6.07042171e-15, 6.06896291e-15,\n",
       "        6.06750632e-15, 6.06605192e-15, 6.06459970e-15, 6.06314962e-15,\n",
       "        6.06170168e-15, 6.06025584e-15, 6.05881210e-15, 6.05737042e-15,\n",
       "        6.05593080e-15, 6.05449321e-15, 6.05305763e-15, 6.05162406e-15,\n",
       "        6.05019247e-15, 6.04876285e-15, 6.04733518e-15, 6.04590944e-15,\n",
       "        6.04448563e-15, 6.04306372e-15, 6.04164371e-15, 6.04022557e-15,\n",
       "        6.03880930e-15, 6.03739488e-15, 6.03598229e-15, 6.03457154e-15,\n",
       "        6.03316259e-15, 6.03175545e-15, 6.03035009e-15, 6.02894651e-15,\n",
       "        6.02754470e-15, 6.02614465e-15, 6.02474633e-15, 6.02334975e-15,\n",
       "        6.02195489e-15, 6.02056175e-15, 6.01917030e-15, 6.01778055e-15]),\n",
       " 'cz': array([-2.68947505e-10, -2.68457774e-10, -2.67499762e-10, -2.66582680e-10,\n",
       "        -2.65702834e-10, -2.64856995e-10, -2.64042321e-10, -2.63256302e-10,\n",
       "        -2.62496712e-10, -2.61761566e-10, -2.61049089e-10, -2.60357687e-10,\n",
       "        -2.59685927e-10, -2.59032510e-10, -2.58396263e-10, -2.57776118e-10,\n",
       "        -2.57171101e-10, -2.56580323e-10, -2.56002970e-10, -2.55438295e-10,\n",
       "        -2.54885611e-10, -2.54344282e-10, -2.53813725e-10, -2.53293397e-10,\n",
       "        -2.52782796e-10, -2.52281455e-10, -2.51788942e-10, -2.51304851e-10,\n",
       "        -2.50828805e-10, -2.50360452e-10, -2.49899462e-10, -2.49445526e-10,\n",
       "        -2.48998354e-10, -2.48557673e-10, -2.48123228e-10, -2.47694776e-10,\n",
       "        -2.47272091e-10, -2.46854958e-10, -2.46443175e-10, -2.46036548e-10,\n",
       "        -2.45634897e-10, -2.45238050e-10, -2.44845844e-10, -2.44458124e-10,\n",
       "        -2.44074743e-10, -2.43695562e-10, -2.43320446e-10, -2.42949270e-10,\n",
       "        -2.42581913e-10, -2.42218260e-10, -2.41858201e-10, -2.41501631e-10,\n",
       "        -2.41148450e-10, -2.40798561e-10, -2.40451875e-10, -2.40108301e-10,\n",
       "        -2.39767758e-10, -2.39430163e-10, -2.39095439e-10, -2.38763513e-10,\n",
       "        -2.38434313e-10, -2.38107770e-10, -2.37783820e-10, -2.37462397e-10,\n",
       "        -2.37143443e-10, -2.36826897e-10, -2.36512704e-10, -2.36200809e-10,\n",
       "        -2.35891160e-10, -2.35583707e-10, -2.35278400e-10, -2.34975193e-10,\n",
       "        -2.34674039e-10, -2.34374896e-10, -2.34077721e-10, -2.33782472e-10,\n",
       "        -2.33489111e-10, -2.33197599e-10, -2.32907898e-10, -2.32619973e-10,\n",
       "        -2.32333790e-10, -2.32049313e-10, -2.31766512e-10, -2.31625525e-10]),\n",
       " 'czz': array([8.16218439e-05, 1.20645234e-04, 1.56257855e-04, 1.49744011e-04,\n",
       "        1.43807080e-04, 1.38376107e-04, 1.33391033e-04, 1.28800717e-04,\n",
       "        1.24561368e-04, 1.20635294e-04, 1.16989893e-04, 1.13596837e-04,\n",
       "        1.10431403e-04, 1.07471930e-04, 1.04699362e-04, 1.02096877e-04,\n",
       "        9.96495743e-05, 9.73442099e-05, 9.51689766e-05, 9.31133174e-05,\n",
       "        9.11677663e-05, 8.93238134e-05, 8.75737881e-05, 8.59107598e-05,\n",
       "        8.43284523e-05, 8.28211689e-05, 8.13837277e-05, 8.00114064e-05,\n",
       "        7.86998921e-05, 7.74452387e-05, 7.62438296e-05, 7.50923438e-05,\n",
       "        7.39877270e-05, 7.29271658e-05, 7.19080645e-05, 7.09280242e-05,\n",
       "        6.99848257e-05, 6.90764123e-05, 6.82008761e-05, 6.73564440e-05,\n",
       "        6.65414668e-05, 6.57544086e-05, 6.49938374e-05, 6.42584159e-05,\n",
       "        6.35468948e-05, 6.28581050e-05, 6.21909520e-05, 6.15444095e-05,\n",
       "        6.09175142e-05, 6.03093619e-05, 5.97191022e-05, 5.91459348e-05,\n",
       "        5.85891061e-05, 5.80479061e-05, 5.75216644e-05, 5.70097486e-05,\n",
       "        5.65115609e-05, 5.60265361e-05, 5.55541393e-05, 5.50938642e-05,\n",
       "        5.46452309e-05, 5.42077843e-05, 5.37810925e-05, 5.33647457e-05,\n",
       "        5.29583541e-05, 5.25615473e-05, 5.21739733e-05, 5.17952966e-05,\n",
       "        5.14251976e-05, 5.10633722e-05, 5.07095303e-05, 5.03633947e-05,\n",
       "        5.00247015e-05, 4.96931982e-05, 4.93686437e-05, 4.90508076e-05,\n",
       "        4.87394694e-05, 4.84344182e-05, 4.81354522e-05, 4.78423778e-05,\n",
       "        4.75550100e-05, 4.72731709e-05, 3.53156539e-05, 2.34976959e-05]),\n",
       " 'alpha': array([0.28863452, 0.19461467, 0.14922874, 0.15469466, 0.1600612 ,\n",
       "        0.16532877, 0.17049808, 0.17557003, 0.18054574, 0.18542647,\n",
       "        0.1902136 , 0.19490862, 0.19951308, 0.20402861, 0.20845684,\n",
       "        0.21279948, 0.21705822, 0.22123477, 0.22533086, 0.22934818,\n",
       "        0.23328845, 0.23715333, 0.24094449, 0.24466358, 0.24831221,\n",
       "        0.25189196, 0.2554044 , 0.25885106, 0.26223345, 0.26555302,\n",
       "        0.26881122, 0.27200946, 0.2751491 , 0.27823149, 0.28125794,\n",
       "        0.28422973, 0.2871481 , 0.29001427, 0.29282944, 0.29559474,\n",
       "        0.29831132, 0.30098026, 0.30360264, 0.3061795 , 0.30871186,\n",
       "        0.31120071, 0.313647  , 0.31605168, 0.31841566, 0.32073983,\n",
       "        0.32302506, 0.3252722 , 0.32748206, 0.32965545, 0.33179314,\n",
       "        0.3338959 , 0.33596447, 0.33799957, 0.3400019 , 0.34197215,\n",
       "        0.34391099, 0.34581905, 0.34769699, 0.34954541, 0.35136493,\n",
       "        0.35315611, 0.35491955, 0.35665579, 0.35836538, 0.36004885,\n",
       "        0.36170671, 0.36333948, 0.36494764, 0.36653167, 0.36809205,\n",
       "        0.36962922, 0.37114364, 0.37263574, 0.37410594, 0.37555466,\n",
       "        0.37698231, 0.37838928, 0.50539097, 0.75882426])}"
      ]
     },
     "execution_count": 15,
     "metadata": {},
     "output_type": "execute_result"
    }
   ],
   "source": [
    "data"
   ]
  },
  {
   "cell_type": "code",
   "execution_count": 16,
   "id": "77a6dac6",
   "metadata": {},
   "outputs": [],
   "source": [
    "from scipy.optimize import curve_fit\n"
   ]
  },
  {
   "cell_type": "code",
   "execution_count": 17,
   "id": "49b30168",
   "metadata": {},
   "outputs": [],
   "source": [
    "def Cz_model(z, a, n, b,):\n",
    "    return(a*z**n + b)"
   ]
  },
  {
   "cell_type": "code",
   "execution_count": 18,
   "id": "87212141",
   "metadata": {},
   "outputs": [
    {
     "data": {
      "text/plain": [
       "dict_keys(['SSN Tirmzi\\\\0344-RR_SSNTirmzi-0000\\\\', 'SSN Tirmzi\\\\0346-RR_SSNTirmzi-0001\\\\'])"
      ]
     },
     "execution_count": 18,
     "metadata": {},
     "output_type": "execute_result"
    }
   ],
   "source": [
    "all_data.keys()"
   ]
  },
  {
   "cell_type": "code",
   "execution_count": 19,
   "id": "74215bd0",
   "metadata": {},
   "outputs": [
    {
     "ename": "KeyError",
     "evalue": "'capsol-calc\\\\0001-capsol\\\\'",
     "output_type": "error",
     "traceback": [
      "\u001b[1;31m---------------------------------------------------------------------------\u001b[0m",
      "\u001b[1;31mKeyError\u001b[0m                                  Traceback (most recent call last)",
      "\u001b[1;32m<ipython-input-19-23a180486cb5>\u001b[0m in \u001b[0;36m<module>\u001b[1;34m\u001b[0m\n\u001b[1;32m----> 1\u001b[1;33m \u001b[0mdata\u001b[0m\u001b[1;33m=\u001b[0m \u001b[0mall_data\u001b[0m\u001b[1;33m[\u001b[0m\u001b[1;34m'capsol-calc\\\\0001-capsol\\\\'\u001b[0m\u001b[1;33m]\u001b[0m\u001b[1;33m\u001b[0m\u001b[1;33m\u001b[0m\u001b[0m\n\u001b[0m\u001b[0;32m      2\u001b[0m \u001b[0mz\u001b[0m\u001b[1;33m=\u001b[0m \u001b[0mdata\u001b[0m\u001b[1;33m[\u001b[0m\u001b[1;34m'z'\u001b[0m\u001b[1;33m]\u001b[0m\u001b[1;33m[\u001b[0m\u001b[1;36m1\u001b[0m\u001b[1;33m:\u001b[0m\u001b[1;33m-\u001b[0m\u001b[1;36m1\u001b[0m\u001b[1;33m]\u001b[0m\u001b[1;33m\u001b[0m\u001b[1;33m\u001b[0m\u001b[0m\n\u001b[0;32m      3\u001b[0m \u001b[0mcz\u001b[0m\u001b[1;33m=\u001b[0m \u001b[0mdata\u001b[0m\u001b[1;33m[\u001b[0m\u001b[1;34m'cz'\u001b[0m\u001b[1;33m]\u001b[0m\u001b[1;33m[\u001b[0m\u001b[1;36m1\u001b[0m\u001b[1;33m:\u001b[0m\u001b[1;33m-\u001b[0m\u001b[1;36m1\u001b[0m\u001b[1;33m]\u001b[0m\u001b[1;33m\u001b[0m\u001b[1;33m\u001b[0m\u001b[0m\n",
      "\u001b[1;31mKeyError\u001b[0m: 'capsol-calc\\\\0001-capsol\\\\'"
     ]
    }
   ],
   "source": [
    "data= all_data['capsol-calc\\\\0001-capsol\\\\']\n",
    "z= data['z'][1:-1]\n",
    "cz= data['cz'][1:-1]"
   ]
  },
  {
   "cell_type": "code",
   "execution_count": null,
   "id": "8ff0827e",
   "metadata": {},
   "outputs": [],
   "source": [
    "popt, pcov= curve_fit(Cz_model, z, cz, p0=[cz[0]*z[0], -1, 0])\n",
    "a=popt[0]\n",
    "n=popt[1]\n",
    "b=popt[2]\n",
    "std_devs= np.sqrt(pcov.diagonal())\n",
    "sigma_a = std_devs[0]\n",
    "sigma_n = std_devs[1]\n",
    "model_output= Cz_model(z, a, n, b)\n",
    "rmse= np.sqrt(np.mean((cz - model_output)**2))\n"
   ]
  },
  {
   "cell_type": "code",
   "execution_count": null,
   "id": "42e9d139",
   "metadata": {},
   "outputs": [],
   "source": [
    "f\"a= {a} ± {sigma_a}\""
   ]
  },
  {
   "cell_type": "code",
   "execution_count": null,
   "id": "05e99973",
   "metadata": {},
   "outputs": [],
   "source": [
    "f\"n= {n}± {sigma_n}\""
   ]
  },
  {
   "cell_type": "code",
   "execution_count": null,
   "id": "e495fee8",
   "metadata": {},
   "outputs": [],
   "source": [
    "model_output"
   ]
  },
  {
   "cell_type": "code",
   "execution_count": null,
   "id": "dbd0d394",
   "metadata": {},
   "outputs": [],
   "source": [
    "\"Root Mean Square Error\""
   ]
  },
  {
   "cell_type": "code",
   "execution_count": null,
   "id": "b351ff7e",
   "metadata": {},
   "outputs": [],
   "source": [
    "rmse/np.mean(-cz)"
   ]
  },
  {
   "cell_type": "code",
   "execution_count": null,
   "id": "86949536",
   "metadata": {},
   "outputs": [],
   "source": []
  }
 ],
 "metadata": {
  "kernelspec": {
   "display_name": "Python 3",
   "language": "python",
   "name": "python3"
  },
  "language_info": {
   "codemirror_mode": {
    "name": "ipython",
    "version": 3
   },
   "file_extension": ".py",
   "mimetype": "text/x-python",
   "name": "python",
   "nbconvert_exporter": "python",
   "pygments_lexer": "ipython3",
   "version": "3.8.8"
  }
 },
 "nbformat": 4,
 "nbformat_minor": 5
}
